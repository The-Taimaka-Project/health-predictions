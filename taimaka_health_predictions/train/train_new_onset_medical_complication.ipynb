{
 "cells": [
  {
   "cell_type": "code",
   "execution_count": 1,
   "metadata": {
    "id": "kavykNVizFgC"
   },
   "outputs": [],
   "source": [
    "# !pip install boto3 --quiet\n",
    "# !pip install autogluon --quiet"
   ]
  },
  {
   "cell_type": "code",
   "execution_count": 2,
   "metadata": {
    "id": "D4eTxUBL0O1a"
   },
   "outputs": [],
   "source": [
    "# !apt-get install python3.12"
   ]
  },
  {
   "cell_type": "code",
   "execution_count": 3,
   "metadata": {
    "id": "8kuWS1QB0RWv"
   },
   "outputs": [],
   "source": [
    "# !python3.12 --version"
   ]
  },
  {
   "cell_type": "code",
   "execution_count": 4,
   "metadata": {
    "id": "OKMg98dSylxb"
   },
   "outputs": [],
   "source": [
    "# # prompt: use python version 3.12\n",
    "\n",
    "# !sudo update-alternatives --install /usr/bin/python3 python3 /usr/bin/python3.11 13\n",
    "# !sudo update-alternatives --install /usr/bin/python3 python3 /usr/bin/python3.12 11\n",
    "\n",
    "# !sudo update-alternatives --config python3\n",
    "\n",
    "# # Verify the Python version\n",
    "# import sys\n",
    "# sys.version"
   ]
  },
  {
   "cell_type": "code",
   "execution_count": 5,
   "metadata": {
    "id": "fADgGqIOzX09"
   },
   "outputs": [],
   "source": [
    "# !python --version"
   ]
  },
  {
   "cell_type": "code",
   "execution_count": 6,
   "metadata": {
    "id": "yaIa1qSEkAWL"
   },
   "outputs": [],
   "source": [
    "# #!git clone -b brian-etl-code https://github.com/The-Taimaka-Project/health-predictions.git\n",
    "# !git clone https://github.com/The-Taimaka-Project/health-predictions.git"
   ]
  },
  {
   "cell_type": "code",
   "execution_count": 7,
   "metadata": {
    "id": "wHXjOB_drqs6"
   },
   "outputs": [],
   "source": [
    "# import sys\n",
    "# sys.path.append('/content/health-predictions')"
   ]
  },
  {
   "cell_type": "code",
   "execution_count": 8,
   "metadata": {},
   "outputs": [],
   "source": [
    "%load_ext jupyter_black"
   ]
  },
  {
   "cell_type": "code",
   "execution_count": 9,
   "metadata": {
    "id": "wHXjOB_drqs6"
   },
   "outputs": [],
   "source": [
    "import os\n",
    "from warnings import simplefilter\n",
    "\n",
    "import matplotlib.pyplot as plt\n",
    "import numpy as np\n",
    "import pandas as pd\n",
    "from autogluon.features.generators import AutoMLPipelineFeatureGenerator\n",
    "from autogluon.tabular import TabularDataset, TabularPredictor\n",
    "\n",
    "# from google.colab import userdata\n",
    "\n",
    "from sklearn.metrics import confusion_matrix, f1_score\n",
    "from sklearn.model_selection import train_test_split\n",
    "from taimaka_health_predictions.inference.util import (\n",
    "    DetnReaderWriter,\n",
    "    ag_feature_generator,\n",
    "    drop_feature_columns,\n",
    "    lightgbm_train,\n",
    "    select_features,\n",
    "    split_detn_new_onset_medical_complication,\n",
    "    strip_column_names,\n",
    ")\n",
    "from taimaka_health_predictions.utils.digitalocean import DigitalOceanStorage\n",
    "from taimaka_health_predictions.utils.globals import ETL_DIR, MODEL_DIR, logger"
   ]
  },
  {
   "cell_type": "code",
   "execution_count": 10,
   "metadata": {
    "id": "NxVY_gL4ooJ3"
   },
   "outputs": [],
   "source": [
    "# os.environ[\"TAIMAKA_DO_ACCESS_KEY\"] = userdata.get('TAIMAKA_DO_ACCESS_KEY')\n",
    "# os.environ[\"TAIMAKA_DO_SECRET_KEY\"] = userdata.get('TAIMAKA_DO_SECRET_KEY')\n",
    "\n",
    "do_storage = DigitalOceanStorage()"
   ]
  },
  {
   "cell_type": "code",
   "execution_count": 11,
   "metadata": {
    "id": "x89Mho71l1n1"
   },
   "outputs": [],
   "source": [
    "simplefilter(action=\"ignore\", category=pd.errors.PerformanceWarning)\n",
    "simplefilter(action=\"ignore\", category=pd.errors.SettingWithCopyWarning)\n",
    "simplefilter(action=\"ignore\", category=RuntimeWarning)"
   ]
  },
  {
   "cell_type": "markdown",
   "metadata": {
    "id": "2OS7dmhE9Kl9"
   },
   "source": [
    "# get the data"
   ]
  },
  {
   "cell_type": "code",
   "execution_count": 12,
   "metadata": {
    "id": "0d6M-ZeSppDz"
   },
   "outputs": [
    {
     "name": "stdout",
     "output_type": "stream",
     "text": [
      "[0.76207775]\n",
      "[0.65541519]\n"
     ]
    },
    {
     "name": "stderr",
     "output_type": "stream",
     "text": [
      "/Users/hunter.merrill/dev/repos/health-predictions/.venv/lib/python3.12/site-packages/taimaka_health_predictions/inference/util.py:87: FutureWarning: A value is trying to be set on a copy of a DataFrame or Series through chained assignment using an inplace method.\n",
      "The behavior will change in pandas 3.0. This inplace method will never work because the intermediate object on which we are setting values always behaves as a copy.\n",
      "\n",
      "For example, when doing 'df[col].method(value, inplace=True)', try using 'df.method({col: value}, inplace=True)' or df[col] = df[col].method(value) instead, to perform the operation inplace on the original object.\n",
      "\n",
      "\n",
      "  detn['wk1_calc_los'].fillna(0,inplace=True)\n"
     ]
    }
   ],
   "source": [
    "detn_reader = DetnReaderWriter()\n",
    "detn, label = detn_reader.read_new_onset_medical_complication()"
   ]
  },
  {
   "cell_type": "code",
   "execution_count": 13,
   "metadata": {
    "id": "aFNEwdWjuA66"
   },
   "outputs": [
    {
     "name": "stdout",
     "output_type": "stream",
     "text": [
      "(433, 550) (424, 1450) (421, 1897) (954, 2344)\n"
     ]
    }
   ],
   "source": [
    "detn_admit_only, _, _, _ = split_detn_new_onset_medical_complication(detn, label)\n",
    "pid_not_in_admit = detn[~detn[\"pid\"].isin(detn_admit_only[\"pid\"])][\"pid\"]\n",
    "\n",
    "# Get rows from detn where 'pid' is in pid_not_in_admit\n",
    "detn_filtered = detn[detn[\"pid\"].isin(pid_not_in_admit)].copy()"
   ]
  },
  {
   "cell_type": "code",
   "execution_count": 14,
   "metadata": {
    "id": "waSllr3CU-wf"
   },
   "outputs": [
    {
     "name": "stdout",
     "output_type": "stream",
     "text": [
      "(1799, 2344)\n",
      "(1799, 1724)\n"
     ]
    }
   ],
   "source": [
    "columns_to_keep = {\n",
    "    \"b_referred_emergency\",\n",
    "    \"b_wast_admit\",\n",
    "    \"cg_age\",\n",
    "    \"enr_age\",\n",
    "    \"wk1_age\",\n",
    "    \"wk1_b_wast\",\n",
    "}\n",
    "print(detn_filtered.shape)\n",
    "detn_filtered = drop_feature_columns(\n",
    "    detn_filtered,\n",
    "    label,\n",
    "    drop_muac=False,\n",
    "    drop_weight=False,\n",
    "    drop_height=False,\n",
    "    columns_to_keep=columns_to_keep,\n",
    ")\n",
    "print(detn_filtered.shape)"
   ]
  },
  {
   "cell_type": "code",
   "execution_count": 15,
   "metadata": {
    "id": "5DB8flk45-K4"
   },
   "outputs": [],
   "source": [
    "y_cat1_cols = [col for col in detn.columns if col.startswith(\"y_\")]\n",
    "y_cols = y_cat1_cols.copy()\n",
    "y_cols.append(label)"
   ]
  },
  {
   "cell_type": "markdown",
   "metadata": {
    "id": "40qbJvWg9VSX"
   },
   "source": [
    "# LightGBM iteration for feature selection"
   ]
  },
  {
   "cell_type": "code",
   "execution_count": 16,
   "metadata": {
    "id": "KFP4SyqU5pok"
   },
   "outputs": [
    {
     "name": "stdout",
     "output_type": "stream",
     "text": [
      "(1439, 1709) (360, 1709) (1439,) (360,)\n"
     ]
    }
   ],
   "source": [
    "# prompt: train test split admit_raw using column y_detn_ever as y\n",
    "# Separate features (X) and target (y)\n",
    "\n",
    "# X = detn_admit_only.drop(columns=y_cols)\n",
    "# y = detn_admit_only[label]\n",
    "\n",
    "X = detn_filtered.drop(columns=y_cols)\n",
    "y = detn_filtered[label]\n",
    "\n",
    "\n",
    "# Perform train-test split\n",
    "X_train, X_test, y_train, y_test = train_test_split(\n",
    "    X, y, test_size=0.2, random_state=42\n",
    ")  # Adjust test_size and random_state as needed\n",
    "\n",
    "print(X_train.shape, X_test.shape, y_train.shape, y_test.shape)"
   ]
  },
  {
   "cell_type": "code",
   "execution_count": 17,
   "metadata": {
    "id": "Sz-5Kucw6Ifr"
   },
   "outputs": [],
   "source": [
    "X_train_transformed, X_test_transformed = ag_feature_generator(X_train, X_test)"
   ]
  },
  {
   "cell_type": "code",
   "execution_count": 18,
   "metadata": {
    "id": "p56LhtV36m3U"
   },
   "outputs": [
    {
     "name": "stdout",
     "output_type": "stream",
     "text": [
      "813 0.9141104294478528\n",
      "282 0.9158878504672897\n"
     ]
    }
   ],
   "source": [
    "gbm, f1_scored, aic, top_features = lightgbm_train(\n",
    "    X_train_transformed, X_test_transformed, y_train, y_test\n",
    ")\n",
    "print(len(gbm.feature_name_), f1_scored)\n",
    "\n",
    "X_train_transformed_top = X_train_transformed[top_features].copy()\n",
    "X_test_transformed_top = X_test_transformed[top_features].copy()\n",
    "gbm, f1_scored, aic, top_features = lightgbm_train(\n",
    "    X_train_transformed_top, X_test_transformed_top, y_train, y_test\n",
    ")\n",
    "print(len(gbm.feature_name_), f1_scored)\n",
    "\n",
    "best_gbm, best_features, results_df, best_aic, features = select_features(\n",
    "    gbm, X_train_transformed_top, X_test_transformed_top, y_train, y_test, 30, 0, -1\n",
    ")\n",
    "\n",
    "# 808 0.9034267912772586\n",
    "# 268 0.9192546583850931"
   ]
  },
  {
   "cell_type": "code",
   "execution_count": 19,
   "metadata": {
    "id": "F4kg_sqn6_nz"
   },
   "outputs": [
    {
     "name": "stdout",
     "output_type": "stream",
     "text": [
      "213.02219459176052 \n",
      " ['wfh_rsquared' 'cg_weight' 'wk1_pt_weight_weekly' 'hl_trend' 'wk2_wfhz'\n",
      " 'wk2_wfaz' 'household_adults_slept_living_children_z' 'wfh_trend'\n",
      " 'wfhz_admit' 'admit_cat1_complications' 'wk3_wfa_diff_rate'\n",
      " 'wk1_resp_rate_weekly' 'wk3_temperature_weekly' 'wk1_muac' 'weight_trend'\n",
      " 'wk1_rainy_season_weekly' 'hfa_rsquared' 'temperature'] 18\n"
     ]
    },
    {
     "data": {
      "text/html": [
       "<div>\n",
       "<style scoped>\n",
       "    .dataframe tbody tr th:only-of-type {\n",
       "        vertical-align: middle;\n",
       "    }\n",
       "\n",
       "    .dataframe tbody tr th {\n",
       "        vertical-align: top;\n",
       "    }\n",
       "\n",
       "    .dataframe thead th {\n",
       "        text-align: right;\n",
       "    }\n",
       "</style>\n",
       "<table border=\"1\" class=\"dataframe\">\n",
       "  <thead>\n",
       "    <tr style=\"text-align: right;\">\n",
       "      <th></th>\n",
       "      <th>f1_score</th>\n",
       "      <th>AIC</th>\n",
       "      <th>num_features</th>\n",
       "    </tr>\n",
       "  </thead>\n",
       "  <tbody>\n",
       "    <tr>\n",
       "      <th>12</th>\n",
       "      <td>0.906907</td>\n",
       "      <td>213.022195</td>\n",
       "      <td>18</td>\n",
       "    </tr>\n",
       "    <tr>\n",
       "      <th>10</th>\n",
       "      <td>0.888889</td>\n",
       "      <td>218.329994</td>\n",
       "      <td>20</td>\n",
       "    </tr>\n",
       "    <tr>\n",
       "      <th>2</th>\n",
       "      <td>0.897833</td>\n",
       "      <td>221.300345</td>\n",
       "      <td>28</td>\n",
       "    </tr>\n",
       "    <tr>\n",
       "      <th>5</th>\n",
       "      <td>0.899083</td>\n",
       "      <td>223.451882</td>\n",
       "      <td>25</td>\n",
       "    </tr>\n",
       "    <tr>\n",
       "      <th>9</th>\n",
       "      <td>0.892966</td>\n",
       "      <td>224.237253</td>\n",
       "      <td>21</td>\n",
       "    </tr>\n",
       "    <tr>\n",
       "      <th>1</th>\n",
       "      <td>0.887500</td>\n",
       "      <td>226.390772</td>\n",
       "      <td>29</td>\n",
       "    </tr>\n",
       "    <tr>\n",
       "      <th>0</th>\n",
       "      <td>0.902821</td>\n",
       "      <td>226.930761</td>\n",
       "      <td>30</td>\n",
       "    </tr>\n",
       "    <tr>\n",
       "      <th>4</th>\n",
       "      <td>0.894410</td>\n",
       "      <td>228.354280</td>\n",
       "      <td>26</td>\n",
       "    </tr>\n",
       "    <tr>\n",
       "      <th>11</th>\n",
       "      <td>0.905199</td>\n",
       "      <td>228.615949</td>\n",
       "      <td>19</td>\n",
       "    </tr>\n",
       "    <tr>\n",
       "      <th>3</th>\n",
       "      <td>0.898462</td>\n",
       "      <td>228.882254</td>\n",
       "      <td>27</td>\n",
       "    </tr>\n",
       "    <tr>\n",
       "      <th>7</th>\n",
       "      <td>0.882716</td>\n",
       "      <td>230.036455</td>\n",
       "      <td>23</td>\n",
       "    </tr>\n",
       "    <tr>\n",
       "      <th>8</th>\n",
       "      <td>0.885449</td>\n",
       "      <td>236.111043</td>\n",
       "      <td>22</td>\n",
       "    </tr>\n",
       "    <tr>\n",
       "      <th>6</th>\n",
       "      <td>0.904615</td>\n",
       "      <td>236.554141</td>\n",
       "      <td>24</td>\n",
       "    </tr>\n",
       "    <tr>\n",
       "      <th>15</th>\n",
       "      <td>0.856250</td>\n",
       "      <td>282.476615</td>\n",
       "      <td>15</td>\n",
       "    </tr>\n",
       "    <tr>\n",
       "      <th>14</th>\n",
       "      <td>0.853659</td>\n",
       "      <td>282.799443</td>\n",
       "      <td>16</td>\n",
       "    </tr>\n",
       "    <tr>\n",
       "      <th>13</th>\n",
       "      <td>0.842424</td>\n",
       "      <td>292.743507</td>\n",
       "      <td>17</td>\n",
       "    </tr>\n",
       "    <tr>\n",
       "      <th>18</th>\n",
       "      <td>0.826923</td>\n",
       "      <td>305.284803</td>\n",
       "      <td>12</td>\n",
       "    </tr>\n",
       "    <tr>\n",
       "      <th>17</th>\n",
       "      <td>0.838095</td>\n",
       "      <td>306.982043</td>\n",
       "      <td>13</td>\n",
       "    </tr>\n",
       "    <tr>\n",
       "      <th>16</th>\n",
       "      <td>0.844444</td>\n",
       "      <td>309.581104</td>\n",
       "      <td>14</td>\n",
       "    </tr>\n",
       "    <tr>\n",
       "      <th>19</th>\n",
       "      <td>0.802589</td>\n",
       "      <td>315.268668</td>\n",
       "      <td>11</td>\n",
       "    </tr>\n",
       "    <tr>\n",
       "      <th>22</th>\n",
       "      <td>0.770270</td>\n",
       "      <td>325.693153</td>\n",
       "      <td>8</td>\n",
       "    </tr>\n",
       "    <tr>\n",
       "      <th>20</th>\n",
       "      <td>0.785714</td>\n",
       "      <td>337.780181</td>\n",
       "      <td>10</td>\n",
       "    </tr>\n",
       "    <tr>\n",
       "      <th>21</th>\n",
       "      <td>0.752475</td>\n",
       "      <td>344.256035</td>\n",
       "      <td>9</td>\n",
       "    </tr>\n",
       "    <tr>\n",
       "      <th>25</th>\n",
       "      <td>0.749206</td>\n",
       "      <td>395.157265</td>\n",
       "      <td>5</td>\n",
       "    </tr>\n",
       "    <tr>\n",
       "      <th>24</th>\n",
       "      <td>0.720257</td>\n",
       "      <td>396.887063</td>\n",
       "      <td>6</td>\n",
       "    </tr>\n",
       "    <tr>\n",
       "      <th>23</th>\n",
       "      <td>0.714754</td>\n",
       "      <td>414.546377</td>\n",
       "      <td>7</td>\n",
       "    </tr>\n",
       "    <tr>\n",
       "      <th>28</th>\n",
       "      <td>0.629870</td>\n",
       "      <td>463.065152</td>\n",
       "      <td>2</td>\n",
       "    </tr>\n",
       "    <tr>\n",
       "      <th>27</th>\n",
       "      <td>0.592357</td>\n",
       "      <td>494.578840</td>\n",
       "      <td>3</td>\n",
       "    </tr>\n",
       "    <tr>\n",
       "      <th>26</th>\n",
       "      <td>0.580000</td>\n",
       "      <td>514.701545</td>\n",
       "      <td>4</td>\n",
       "    </tr>\n",
       "    <tr>\n",
       "      <th>29</th>\n",
       "      <td>0.337349</td>\n",
       "      <td>517.427592</td>\n",
       "      <td>1</td>\n",
       "    </tr>\n",
       "  </tbody>\n",
       "</table>\n",
       "</div>"
      ],
      "text/plain": [
       "    f1_score         AIC  num_features\n",
       "12  0.906907  213.022195            18\n",
       "10  0.888889  218.329994            20\n",
       "2   0.897833  221.300345            28\n",
       "5   0.899083  223.451882            25\n",
       "9   0.892966  224.237253            21\n",
       "1   0.887500  226.390772            29\n",
       "0   0.902821  226.930761            30\n",
       "4   0.894410  228.354280            26\n",
       "11  0.905199  228.615949            19\n",
       "3   0.898462  228.882254            27\n",
       "7   0.882716  230.036455            23\n",
       "8   0.885449  236.111043            22\n",
       "6   0.904615  236.554141            24\n",
       "15  0.856250  282.476615            15\n",
       "14  0.853659  282.799443            16\n",
       "13  0.842424  292.743507            17\n",
       "18  0.826923  305.284803            12\n",
       "17  0.838095  306.982043            13\n",
       "16  0.844444  309.581104            14\n",
       "19  0.802589  315.268668            11\n",
       "22  0.770270  325.693153             8\n",
       "20  0.785714  337.780181            10\n",
       "21  0.752475  344.256035             9\n",
       "25  0.749206  395.157265             5\n",
       "24  0.720257  396.887063             6\n",
       "23  0.714754  414.546377             7\n",
       "28  0.629870  463.065152             2\n",
       "27  0.592357  494.578840             3\n",
       "26  0.580000  514.701545             4\n",
       "29  0.337349  517.427592             1"
      ]
     },
     "execution_count": 19,
     "metadata": {},
     "output_type": "execute_result"
    }
   ],
   "source": [
    "print(best_aic, \"\\n\", best_features, len(best_features))\n",
    "results_df.sort_values(by=\"AIC\", ascending=True)\n",
    "\n",
    "# f1 .899\n",
    "#  ['wfh_rsquared' 'cg_weight' 'wfh_trend' 'hl_trend' 'weekly_avg_muac'\n",
    "# 'admit_cat1_complications' 'wk2_wfaz' 'wfhz_admit' 'wk3_wfhz'\n",
    "# 'wk1_resp_rate_weekly' 'weight_rsquared' 'hfa_trend' 'wk3_hfa_diff_rate'\n",
    "# 'household_adults_slept_living_children_z' 'weight_trend' 'wk2_wfhz'\n",
    "# 'wk1_rainy_season_weekly' 'hfa_rsquared' 'temperature']"
   ]
  },
  {
   "cell_type": "code",
   "execution_count": 20,
   "metadata": {
    "id": "2b2YLJ977osX"
   },
   "outputs": [
    {
     "name": "stdout",
     "output_type": "stream",
     "text": [
      "13 ['hl_trend' 'wfh_rsquared' 'household_adults_slept_living_children_z'\n",
      " 'wk1_resp_rate_weekly' 'wk2_wfhz' 'cg_weight' 'wfh_trend' 'weight_trend'\n",
      " 'wk1_pt_weight_weekly' 'wk2_wfaz' 'wk3_wfa_diff_rate' 'wfhz_admit'\n",
      " 'wk1_muac']\n"
     ]
    }
   ],
   "source": [
    "N_FEATURES = 13\n",
    "print(N_FEATURES, features[N_FEATURES])\n",
    "\n",
    "\n",
    "top_features = [\n",
    "    col for col in strip_column_names(features[N_FEATURES]) if col in detn.columns\n",
    "]"
   ]
  },
  {
   "cell_type": "code",
   "execution_count": 21,
   "metadata": {
    "id": "UZ1sNaiE8X4N"
   },
   "outputs": [],
   "source": [
    "top_features = [\n",
    "    \"hl_trend\",\n",
    "    \"weekly_avg_muac\",\n",
    "    \"wk2_muac\",\n",
    "    \"estdist_home\",\n",
    "    \"wk1_rainy_season_weekly\",\n",
    "    \"resp_rate\",\n",
    "    \"muac_trend\",\n",
    "    \"cat1_complications_weekly\",\n",
    "    \"household_adults_slept_living_children_z\",\n",
    "    \"muac_diff_ratio_z\",\n",
    "    \"muac_rsquared\",\n",
    "    \"muac_diff_ratio_rate\",\n",
    "    \"wk1_weight_diff_rate\",\n",
    "    \"wk1_resp_rate_weekly\",\n",
    "]"
   ]
  },
  {
   "cell_type": "markdown",
   "metadata": {
    "id": "W--uI-CF8rPs"
   },
   "source": [
    "# AutoGluon Training"
   ]
  },
  {
   "cell_type": "code",
   "execution_count": 22,
   "metadata": {
    "id": "_8sOTLJ68dl8"
   },
   "outputs": [
    {
     "name": "stdout",
     "output_type": "stream",
     "text": [
      "(1349, 14) (450, 14) (1349,) (450,)\n"
     ]
    }
   ],
   "source": [
    "# prompt: train test split admit_raw using column y_detn_ever as y\n",
    "\n",
    "# Separate features (X) and target (y)\n",
    "\n",
    "# X = detn_admit_only[top_features]\n",
    "# y = detn_admit_only[label]\n",
    "\n",
    "X = detn_filtered[top_features]\n",
    "y = detn_filtered[label]\n",
    "# Perform train-test split\n",
    "X_train, X_test, y_train, y_test = train_test_split(\n",
    "    X, y, test_size=0.25, random_state=43\n",
    ")  # Adjust test_size and random_state as needed\n",
    "\n",
    "print(X_train.shape, X_test.shape, y_train.shape, y_test.shape)"
   ]
  },
  {
   "cell_type": "code",
   "execution_count": 23,
   "metadata": {
    "id": "MdJOwrtP82sA"
   },
   "outputs": [
    {
     "name": "stderr",
     "output_type": "stream",
     "text": [
      "Verbosity: 2 (Standard Logging)\n",
      "=================== System Info ===================\n",
      "AutoGluon Version:  1.3.1\n",
      "Python Version:     3.12.11\n",
      "Operating System:   Darwin\n",
      "Platform Machine:   arm64\n",
      "Platform Version:   Darwin Kernel Version 24.5.0: Tue Apr 22 19:54:26 PDT 2025; root:xnu-11417.121.6~2/RELEASE_ARM64_T8112\n",
      "CPU Count:          8\n",
      "Memory Avail:       1.49 GB / 8.00 GB (18.6%)\n",
      "Disk Space Avail:   145.78 GB / 228.27 GB (63.9%)\n",
      "===================================================\n",
      "Presets specified: ['medium_quality']\n",
      "/Users/hunter.merrill/dev/repos/health-predictions/.venv/lib/python3.12/site-packages/autogluon/common/utils/utils.py:97: UserWarning: pkg_resources is deprecated as an API. See https://setuptools.pypa.io/en/latest/pkg_resources.html. The pkg_resources package is slated for removal as early as 2025-11-30. Refrain from using this package or pin to Setuptools<81.\n",
      "  import pkg_resources\n",
      "Beginning AutoGluon training ... Time limit = 300s\n",
      "AutoGluon will save models to \"/Users/hunter.merrill/dev/repos/health-predictions/taimaka_health_predictions/train/AutogluonModels/new_onset_medical_complication\"\n",
      "Train Data Rows:    1349\n",
      "Train Data Columns: 14\n",
      "Label Column:       new_onset_medical_complication\n",
      "AutoGluon infers your prediction problem is: 'binary' (because only two unique label-values observed).\n",
      "\t2 unique label values:  [np.int64(1), np.int64(0)]\n",
      "\tIf 'binary' is not the correct problem_type, please manually specify the problem_type parameter during Predictor init (You may specify problem_type as one of: ['binary', 'multiclass', 'regression', 'quantile'])\n",
      "Problem Type:       binary\n",
      "Preprocessing data ...\n",
      "Selected class <--> label mapping:  class 1 = 1, class 0 = 0\n",
      "Using Feature Generators to preprocess the data ...\n",
      "Fitting AutoMLPipelineFeatureGenerator...\n",
      "\tAvailable Memory:                    1467.53 MB\n",
      "\tTrain Data (Original)  Memory Usage: 0.14 MB (0.0% of available memory)\n",
      "\tInferring data type of each feature based on column values. Set feature_metadata_in to manually specify special dtypes of the features.\n",
      "\tStage 1 Generators:\n",
      "\t\tFitting AsTypeFeatureGenerator...\n",
      "\t\t\tNote: Converting 1 features to boolean dtype as they only contain 2 unique values.\n",
      "\tStage 2 Generators:\n",
      "\t\tFitting FillNaFeatureGenerator...\n",
      "\tStage 3 Generators:\n",
      "\t\tFitting IdentityFeatureGenerator...\n",
      "\tStage 4 Generators:\n",
      "\t\tFitting DropUniqueFeatureGenerator...\n",
      "\tStage 5 Generators:\n",
      "\t\tFitting DropDuplicatesFeatureGenerator...\n",
      "\tTypes of features in original data (raw dtype, special dtypes):\n",
      "\t\t('float', []) : 13 | ['hl_trend', 'weekly_avg_muac', 'wk2_muac', 'estdist_home', 'resp_rate', ...]\n",
      "\t\t('int', [])   :  1 | ['wk1_rainy_season_weekly']\n",
      "\tTypes of features in processed data (raw dtype, special dtypes):\n",
      "\t\t('float', [])     : 13 | ['hl_trend', 'weekly_avg_muac', 'wk2_muac', 'estdist_home', 'resp_rate', ...]\n",
      "\t\t('int', ['bool']) :  1 | ['wk1_rainy_season_weekly']\n",
      "\t0.0s = Fit runtime\n",
      "\t14 features in original data used to generate 14 features in processed data.\n",
      "\tTrain Data (Processed) Memory Usage: 0.14 MB (0.0% of available memory)\n",
      "Data preprocessing and feature engineering runtime = 0.07s ...\n",
      "AutoGluon will gauge predictive performance using evaluation metric: 'f1'\n",
      "\tTo change this, specify the eval_metric parameter of Predictor()\n",
      "Automatically generating train/validation split with holdout_frac=0.2, Train Rows: 1079, Val Rows: 270\n",
      "User-specified model hyperparameters to be fit:\n",
      "{\n",
      "\t'NN_TORCH': [{}],\n",
      "\t'GBM': [{'extra_trees': True, 'ag_args': {'name_suffix': 'XT'}}, {}, {'learning_rate': 0.03, 'num_leaves': 128, 'feature_fraction': 0.9, 'min_data_in_leaf': 3, 'ag_args': {'name_suffix': 'Large', 'priority': 0, 'hyperparameter_tune_kwargs': None}}],\n",
      "\t'CAT': [{}],\n",
      "\t'XGB': [{}],\n",
      "\t'FASTAI': [{}],\n",
      "\t'RF': [{'criterion': 'gini', 'ag_args': {'name_suffix': 'Gini', 'problem_types': ['binary', 'multiclass']}}, {'criterion': 'entropy', 'ag_args': {'name_suffix': 'Entr', 'problem_types': ['binary', 'multiclass']}}, {'criterion': 'squared_error', 'ag_args': {'name_suffix': 'MSE', 'problem_types': ['regression', 'quantile']}}],\n",
      "\t'XT': [{'criterion': 'gini', 'ag_args': {'name_suffix': 'Gini', 'problem_types': ['binary', 'multiclass']}}, {'criterion': 'entropy', 'ag_args': {'name_suffix': 'Entr', 'problem_types': ['binary', 'multiclass']}}, {'criterion': 'squared_error', 'ag_args': {'name_suffix': 'MSE', 'problem_types': ['regression', 'quantile']}}],\n",
      "\t'KNN': [{'weights': 'uniform', 'ag_args': {'name_suffix': 'Unif'}}, {'weights': 'distance', 'ag_args': {'name_suffix': 'Dist'}}],\n",
      "}\n",
      "Fitting 13 L1 models, fit_strategy=\"sequential\" ...\n",
      "Fitting model: KNeighborsUnif ... Training model for up to 299.93s of the 299.93s of remaining time.\n",
      "\t0.6502\t = Validation score   (f1)\n",
      "\t0.01s\t = Training   runtime\n",
      "\t0.03s\t = Validation runtime\n",
      "Fitting model: KNeighborsDist ... Training model for up to 299.89s of the 299.88s of remaining time.\n",
      "\t0.6556\t = Validation score   (f1)\n",
      "\t0.01s\t = Training   runtime\n",
      "\t0.01s\t = Validation runtime\n",
      "Fitting model: LightGBMXT ... Training model for up to 299.86s of the 299.86s of remaining time.\n",
      "\t0.8017\t = Validation score   (f1)\n",
      "\t1.55s\t = Training   runtime\n",
      "\t0.0s\t = Validation runtime\n",
      "Fitting model: LightGBM ... Training model for up to 298.30s of the 298.30s of remaining time.\n",
      "\t0.8285\t = Validation score   (f1)\n",
      "\t1.18s\t = Training   runtime\n",
      "\t0.0s\t = Validation runtime\n",
      "Fitting model: RandomForestGini ... Training model for up to 297.12s of the 297.12s of remaining time.\n",
      "\t0.8099\t = Validation score   (f1)\n",
      "\t2.09s\t = Training   runtime\n",
      "\t0.02s\t = Validation runtime\n",
      "Fitting model: RandomForestEntr ... Training model for up to 294.99s of the 294.99s of remaining time.\n",
      "\t0.8117\t = Validation score   (f1)\n",
      "\t0.24s\t = Training   runtime\n",
      "\t0.02s\t = Validation runtime\n",
      "Fitting model: CatBoost ... Training model for up to 294.73s of the 294.72s of remaining time.\n",
      "\tWarning: Exception caused CatBoost to fail during training (ImportError)... Skipping this model.\n",
      "\t\t`import catboost` failed. A quick tip is to install via `pip install autogluon.tabular[catboost]==1.3.1`.\n",
      "Fitting model: ExtraTreesGini ... Training model for up to 294.65s of the 294.65s of remaining time.\n",
      "\t0.8083\t = Validation score   (f1)\n",
      "\t0.22s\t = Training   runtime\n",
      "\t0.02s\t = Validation runtime\n",
      "Fitting model: ExtraTreesEntr ... Training model for up to 294.40s of the 294.40s of remaining time.\n",
      "\t0.8117\t = Validation score   (f1)\n",
      "\t0.22s\t = Training   runtime\n",
      "\t0.02s\t = Validation runtime\n",
      "Fitting model: NeuralNetFastAI ... Training model for up to 294.15s of the 294.15s of remaining time.\n",
      "\tWarning: Exception caused NeuralNetFastAI to fail during training (ImportError)... Skipping this model.\n",
      "\t\tImport fastai failed. A quick tip is to install via `pip install autogluon.tabular[fastai]==1.3.1`. \n",
      "Fitting model: XGBoost ... Training model for up to 294.07s of the 294.07s of remaining time.\n",
      "\tWarning: Exception caused XGBoost to fail during training (ImportError)... Skipping this model.\n",
      "\t\t`import xgboost` failed. A quick tip is to install via `pip install autogluon.tabular[xgboost]==1.3.1`.\n",
      "Fitting model: NeuralNetTorch ... Training model for up to 294.00s of the 293.99s of remaining time.\n",
      "\tWarning: Exception caused NeuralNetTorch to fail during training (ImportError)... Skipping this model.\n",
      "\t\tUnable to import dependency torch\n",
      "A quick tip is to install via `pip install torch`.\n",
      "The minimum torch version is currently 2.2.\n",
      "Fitting model: LightGBMLarge ... Training model for up to 293.92s of the 293.92s of remaining time.\n",
      "\t0.8167\t = Validation score   (f1)\n",
      "\t4.9s\t = Training   runtime\n",
      "\t0.0s\t = Validation runtime\n",
      "Fitting model: WeightedEnsemble_L2 ... Training model for up to 299.93s of the 288.99s of remaining time.\n",
      "\tEnsemble Weights: {'LightGBM': 0.5, 'RandomForestEntr': 0.5}\n",
      "\t0.8319\t = Validation score   (f1)\n",
      "\t0.06s\t = Training   runtime\n",
      "\t0.0s\t = Validation runtime\n",
      "AutoGluon training complete, total runtime = 11.09s ... Best model: WeightedEnsemble_L2 | Estimated inference throughput: 12337.8 rows/s (270 batch size)\n",
      "Enabling decision threshold calibration (calibrate_decision_threshold='auto', metric is valid, problem_type is 'binary')\n",
      "Calibrating decision threshold to optimize metric f1 | Checking 51 thresholds...\n",
      "Calibrating decision threshold via fine-grained search | Checking 38 thresholds...\n",
      "\tBase Threshold: 0.500\t| val: 0.8319\n",
      "\tBest Threshold: 0.477\t| val: 0.8395\n",
      "Updating predictor.decision_threshold from 0.5 -> 0.47700000000000004\n",
      "\tThis will impact how prediction probabilities are converted to predictions in binary classification.\n",
      "\tPrediction probabilities of the positive class >0.47700000000000004 will be predicted as the positive class (1). This can significantly impact metric scores.\n",
      "\tYou can update this value via `predictor.set_decision_threshold`.\n",
      "\tYou can calculate an optimal decision threshold on the validation data via `predictor.calibrate_decision_threshold()`.\n",
      "TabularPredictor saved. To load, use: predictor = TabularPredictor.load(\"/Users/hunter.merrill/dev/repos/health-predictions/taimaka_health_predictions/train/AutogluonModels/new_onset_medical_complication\")\n"
     ]
    }
   ],
   "source": [
    "AG_PATH = f\"AutogluonModels/{label}\"\n",
    "train_data = TabularDataset(X_train.join(y_train))\n",
    "predictor = TabularPredictor(label=label, eval_metric=\"f1\", path=AG_PATH).fit(\n",
    "    train_data, time_limit=300, presets=\"medium_quality\"\n",
    ")\n",
    "# predictor = TabularPredictor(label=label,eval_metric='f1',path=AG_PATH).fit(train_data,time_limit=600,presets='good_quality')"
   ]
  },
  {
   "cell_type": "markdown",
   "metadata": {
    "id": "gTGofoba91K3"
   },
   "source": [
    "## evaluate AG model on holdout (i.e., test) data"
   ]
  },
  {
   "cell_type": "code",
   "execution_count": 24,
   "metadata": {
    "id": "7qchia-w99Tn"
   },
   "outputs": [
    {
     "name": "stderr",
     "output_type": "stream",
     "text": [
      "Calibrating decision threshold to optimize metric f1 | Checking 51 thresholds...\n",
      "Calibrating decision threshold via fine-grained search | Checking 38 thresholds...\n",
      "\tBase Threshold: 0.500\t| val: 0.8319\n",
      "\tBest Threshold: 0.477\t| val: 0.8395\n"
     ]
    },
    {
     "name": "stdout",
     "output_type": "stream",
     "text": [
      "{'f1': 0.8919540229885058, 'accuracy': 0.8955555555555555, 'balanced_accuracy': np.float64(0.8977247910421092), 'mcc': np.float64(0.7934436587915757), 'roc_auc': np.float64(0.9505052710992873), 'precision': 0.8584070796460177, 'recall': 0.9282296650717703}\n",
      "Confusion Matrix:\n",
      "[[209  32]\n",
      " [ 15 194]]\n",
      "0.8919540229885058\n"
     ]
    }
   ],
   "source": [
    "test_data2 = TabularDataset(X_test.join(y_test))\n",
    "predictor.calibrate_decision_threshold()\n",
    "y_pred = predictor.predict(test_data2.drop(columns=[label]))\n",
    "print(predictor.evaluate(test_data2, silent=True))\n",
    "cm = confusion_matrix(y_test, y_pred)\n",
    "print(\"Confusion Matrix:\")\n",
    "print(cm)\n",
    "print(f1_score(y_test, y_pred))\n",
    "# 0.1.0 is 0.8758782201405152"
   ]
  },
  {
   "cell_type": "markdown",
   "metadata": {
    "id": "ieu2ZGB9AEDk"
   },
   "source": [
    "## feature importance"
   ]
  },
  {
   "cell_type": "code",
   "execution_count": 25,
   "metadata": {
    "id": "Ia3c3HKlAIyU"
   },
   "outputs": [
    {
     "name": "stderr",
     "output_type": "stream",
     "text": [
      "Computing feature importance via permutation shuffling for 14 features using 450 rows with 10 shuffle sets... Time limit: 400s...\n",
      "\t4.4s\t= Expected runtime (0.44s per shuffle set)\n",
      "\t0.5s\t= Actual runtime (Completed 10 of 10 shuffle sets)\n"
     ]
    },
    {
     "data": {
      "image/png": "[encoded data removed]",
      "text/plain": [
       "<Figure size 1000x600 with 2 Axes>"
      ]
     },
     "metadata": {},
     "output_type": "display_data"
    }
   ],
   "source": [
    "autogluon_feature_importance = predictor.feature_importance(\n",
    "    test_data2, subsample_size=1000, time_limit=400\n",
    ")\n",
    "autogluon_feature_importance[\"cumsum\"] = (\n",
    "    autogluon_feature_importance[\"importance\"].cumsum()\n",
    "    / autogluon_feature_importance[\"importance\"].sum()\n",
    ")\n",
    "autogluon_feature_importance[\"importance_ratio\"] = (\n",
    "    autogluon_feature_importance[\"importance\"]\n",
    "    / autogluon_feature_importance[\"importance\"].sum()\n",
    ")\n",
    "autogluon_feature_importance[[\"cumsum\", \"importance_ratio\"]]\n",
    "\n",
    "fig, ax1 = plt.subplots(figsize=(10, 6))\n",
    "\n",
    "# Bar plot on the primary y-axis\n",
    "autogluon_feature_importance_filtered = autogluon_feature_importance[\n",
    "    autogluon_feature_importance[\"importance\"] > 0\n",
    "]\n",
    "ax1.barh(\n",
    "    autogluon_feature_importance_filtered.index,\n",
    "    autogluon_feature_importance_filtered[\"importance_ratio\"],\n",
    "    label=\"Importance Ratio\",\n",
    ")\n",
    "ax1.set_xlabel(\"Importance\")\n",
    "ax1.set_ylabel(\"Features\")\n",
    "ax1.set_title(\"Feature Importance with Cumulative Sum\")\n",
    "ax1.legend(loc=\"upper left\")  # specify location for the first legend\n",
    "ax1.grid(True, axis=\"x\")  # gridlines only on the x-axis for the bar plot\n",
    "ax1.invert_yaxis()\n",
    "\n",
    "# Create a secondary y-axis\n",
    "ax2 = ax1.twiny()\n",
    "\n",
    "# Line plot on the secondary y-axis\n",
    "ax2.plot(\n",
    "    autogluon_feature_importance_filtered[\"cumsum\"],\n",
    "    autogluon_feature_importance_filtered.index,\n",
    "    marker=\"o\",\n",
    "    linestyle=\"-\",\n",
    "    color=\"red\",\n",
    "    label=\"Cumulative Sum\",\n",
    ")\n",
    "ax2.set_xlabel(\"Cumulative Sum\")\n",
    "ax2.legend(loc=\"upper right\")  # specify location for the second legend\n",
    "\n",
    "# Improve layout\n",
    "fig.tight_layout()\n",
    "plt.show()"
   ]
  },
  {
   "cell_type": "markdown",
   "metadata": {
    "id": "031xStAFbV86"
   },
   "source": [
    "0.1.0 ![image.png](data:image/png;base64,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)"
   ]
  },
  {
   "cell_type": "markdown",
   "metadata": {
    "id": "-7h3pMq09eLL"
   },
   "source": [
    "## export the AG model"
   ]
  },
  {
   "cell_type": "code",
   "execution_count": 26,
   "metadata": {
    "id": "wh0cHz38_YBV"
   },
   "outputs": [
    {
     "name": "stderr",
     "output_type": "stream",
     "text": [
      "TabularPredictor saved. To load, use: predictor = TabularPredictor.load(\"/Users/hunter.merrill/dev/repos/health-predictions/taimaka_health_predictions/train/AutogluonModels/new_onset_medical_complication\")\n"
     ]
    }
   ],
   "source": [
    "VERSION = \"0.1.0\"\n",
    "\n",
    "metadata = {\n",
    "    \"version\": VERSION,\n",
    "    \"inputs\": autogluon_feature_importance.sort_values(\n",
    "        by=\"importance\", ascending=False\n",
    "    ).index.tolist(),\n",
    "    \"outputs\": \"chance of new onset medical complication, referral to inpatient treatment with a cat1 medical severity\",\n",
    "    \"description\": (\n",
    "        \"Predicts chance of new onset medical complication health complication  given the latest 3 weeks of patient weekly (raw and processed) data plus their admission data.  Medical complication is defined as a 'cat1' complication (see vars in raw ODK data with cat1_ prefix)\"\n",
    "    ),\n",
    "    \"feature_engineering\": (\n",
    "        \"<household_adults_slept_living_children_z> is a one-dimension PCA reduction of the normalized values of ['household_adults','household_slept','living_children'] <muac_diff_ratio_z> is a similar reduction of ['muac_diff_ratio','muac'] which are muac change per day over the patient's treatment ((latest muac - first muac)/days in program) and their admittance muac\"\n",
    "    ),\n",
    "    \"contact\": \"Brian Chaplin\",\n",
    "}\n",
    "\n",
    "path = f\"{MODEL_DIR}{label}not1/{VERSION}/model.tar.gz\"\n",
    "\n",
    "do_storage.to_autogluon_tarball(predictor, model_metadata=metadata, path=path)"
   ]
  }
 ],
 "metadata": {
  "colab": {
   "provenance": []
  },
  "kernelspec": {
   "display_name": "Python 3 (ipykernel)",
   "language": "python",
   "name": "python3"
  },
  "language_info": {
   "codemirror_mode": {
    "name": "ipython",
    "version": 3
   },
   "file_extension": ".py",
   "mimetype": "text/x-python",
   "name": "python",
   "nbconvert_exporter": "python",
   "pygments_lexer": "ipython3",
   "version": "3.12.11"
  }
 },
 "nbformat": 4,
 "nbformat_minor": 4
}
