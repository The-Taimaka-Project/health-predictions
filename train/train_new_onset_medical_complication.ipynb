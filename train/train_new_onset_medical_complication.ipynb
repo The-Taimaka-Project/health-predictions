{
  "nbformat": 4,
  "nbformat_minor": 0,
  "metadata": {
    "colab": {
      "provenance": []
    },
    "kernelspec": {
      "name": "python3",
      "display_name": "Python 3"
    },
    "language_info": {
      "name": "python"
    }
  },
  "cells": [
    {
      "cell_type": "code",
      "execution_count": 1,
      "metadata": {
        "colab": {
          "base_uri": "https://localhost:8080/"
        },
        "id": "yaIa1qSEkAWL",
        "outputId": "85dc1f94-39f5-43bf-c357-41c2f2c4f788"
      },
      "outputs": [
        {
          "output_type": "stream",
          "name": "stdout",
          "text": [
            "Cloning into 'health-predictions'...\n",
            "remote: Enumerating objects: 728, done.\u001b[K\n",
            "remote: Counting objects: 100% (107/107), done.\u001b[K\n",
            "remote: Compressing objects: 100% (61/61), done.\u001b[K\n",
            "remote: Total 728 (delta 86), reused 43 (delta 43), pack-reused 621 (from 1)\u001b[K\n",
            "Receiving objects: 100% (728/728), 8.56 MiB | 6.24 MiB/s, done.\n",
            "Resolving deltas: 100% (297/297), done.\n"
          ]
        }
      ],
      "source": [
        "!git clone -b brian-etl-code https://github.com/The-Taimaka-Project/health-predictions.git\n",
        "#!git clone https://github.com/The-Taimaka-Project/health-predictions.git"
      ]
    },
    {
      "cell_type": "code",
      "source": [
        "!pip install boto3 --quiet\n",
        "!pip install autogluon --quiet"
      ],
      "metadata": {
        "colab": {
          "base_uri": "https://localhost:8080/"
        },
        "id": "kavykNVizFgC",
        "outputId": "9578f010-66bd-416b-8ae5-4edf0b0225c9"
      },
      "execution_count": 9,
      "outputs": [
        {
          "output_type": "stream",
          "name": "stdout",
          "text": [
            "\u001b[2K     \u001b[90m━━━━━━━━━━━━━━━━━━━━━━━━━━━━━━━━━━━━━━━━\u001b[0m \u001b[32m44.0/44.0 kB\u001b[0m \u001b[31m3.8 MB/s\u001b[0m eta \u001b[36m0:00:00\u001b[0m\n",
            "\u001b[2K     \u001b[90m━━━━━━━━━━━━━━━━━━━━━━━━━━━━━━━━━━━━━━━━\u001b[0m \u001b[32m43.6/43.6 kB\u001b[0m \u001b[31m3.9 MB/s\u001b[0m eta \u001b[36m0:00:00\u001b[0m\n",
            "\u001b[?25h  Preparing metadata (setup.py) ... \u001b[?25l\u001b[?25hdone\n",
            "\u001b[2K     \u001b[90m━━━━━━━━━━━━━━━━━━━━━━━━━━━━━━━━━━━━━━━━\u001b[0m \u001b[32m43.6/43.6 kB\u001b[0m \u001b[31m3.5 MB/s\u001b[0m eta \u001b[36m0:00:00\u001b[0m\n",
            "\u001b[?25h  Preparing metadata (setup.py) ... \u001b[?25l\u001b[?25hdone\n",
            "\u001b[2K     \u001b[90m━━━━━━━━━━━━━━━━━━━━━━━━━━━━━━━━━━━━━━\u001b[0m \u001b[32m259.5/259.5 kB\u001b[0m \u001b[31m19.2 MB/s\u001b[0m eta \u001b[36m0:00:00\u001b[0m\n",
            "\u001b[?25h  Preparing metadata (setup.py) ... \u001b[?25l\u001b[?25hdone\n",
            "\u001b[2K   \u001b[90m━━━━━━━━━━━━━━━━━━━━━━━━━━━━━━━━━━━━━━━━\u001b[0m \u001b[32m222.7/222.7 kB\u001b[0m \u001b[31m18.4 MB/s\u001b[0m eta \u001b[36m0:00:00\u001b[0m\n",
            "\u001b[2K   \u001b[90m━━━━━━━━━━━━━━━━━━━━━━━━━━━━━━━━━━━━━━━━\u001b[0m \u001b[32m64.2/64.2 kB\u001b[0m \u001b[31m6.0 MB/s\u001b[0m eta \u001b[36m0:00:00\u001b[0m\n",
            "\u001b[2K   \u001b[90m━━━━━━━━━━━━━━━━━━━━━━━━━━━━━━━━━━━━━━━━\u001b[0m \u001b[32m454.5/454.5 kB\u001b[0m \u001b[31m30.8 MB/s\u001b[0m eta \u001b[36m0:00:00\u001b[0m\n",
            "\u001b[2K   \u001b[90m━━━━━━━━━━━━━━━━━━━━━━━━━━━━━━━━━━━━━━━━\u001b[0m \u001b[32m382.4/382.4 kB\u001b[0m \u001b[31m29.3 MB/s\u001b[0m eta \u001b[36m0:00:00\u001b[0m\n",
            "\u001b[2K   \u001b[90m━━━━━━━━━━━━━━━━━━━━━━━━━━━━━━━━━━━━━━━━\u001b[0m \u001b[32m181.3/181.3 kB\u001b[0m \u001b[31m15.2 MB/s\u001b[0m eta \u001b[36m0:00:00\u001b[0m\n",
            "\u001b[2K   \u001b[90m━━━━━━━━━━━━━━━━━━━━━━━━━━━━━━━━━━━━━━━━\u001b[0m \u001b[32m69.1/69.1 kB\u001b[0m \u001b[31m6.0 MB/s\u001b[0m eta \u001b[36m0:00:00\u001b[0m\n",
            "\u001b[2K   \u001b[90m━━━━━━━━━━━━━━━━━━━━━━━━━━━━━━━━━━━━━━━━\u001b[0m \u001b[32m99.2/99.2 MB\u001b[0m \u001b[31m7.8 MB/s\u001b[0m eta \u001b[36m0:00:00\u001b[0m\n",
            "\u001b[2K   \u001b[90m━━━━━━━━━━━━━━━━━━━━━━━━━━━━━━━━━━━━━━━━\u001b[0m \u001b[32m275.8/275.8 kB\u001b[0m \u001b[31m21.6 MB/s\u001b[0m eta \u001b[36m0:00:00\u001b[0m\n",
            "\u001b[2K   \u001b[90m━━━━━━━━━━━━━━━━━━━━━━━━━━━━━━━━━━━━━━━━\u001b[0m \u001b[32m84.0/84.0 kB\u001b[0m \u001b[31m7.3 MB/s\u001b[0m eta \u001b[36m0:00:00\u001b[0m\n",
            "\u001b[2K   \u001b[90m━━━━━━━━━━━━━━━━━━━━━━━━━━━━━━━━━━━━━━━━\u001b[0m \u001b[32m278.2/278.2 kB\u001b[0m \u001b[31m23.8 MB/s\u001b[0m eta \u001b[36m0:00:00\u001b[0m\n",
            "\u001b[2K   \u001b[90m━━━━━━━━━━━━━━━━━━━━━━━━━━━━━━━━━━━━━━━━\u001b[0m \u001b[32m1.5/1.5 MB\u001b[0m \u001b[31m61.5 MB/s\u001b[0m eta \u001b[36m0:00:00\u001b[0m\n",
            "\u001b[2K   \u001b[90m━━━━━━━━━━━━━━━━━━━━━━━━━━━━━━━━━━━━━━━━\u001b[0m \u001b[32m88.5/88.5 kB\u001b[0m \u001b[31m7.4 MB/s\u001b[0m eta \u001b[36m0:00:00\u001b[0m\n",
            "\u001b[2K   \u001b[90m━━━━━━━━━━━━━━━━━━━━━━━━━━━━━━━━━━━━━━━━\u001b[0m \u001b[32m819.0/819.0 kB\u001b[0m \u001b[31m46.4 MB/s\u001b[0m eta \u001b[36m0:00:00\u001b[0m\n",
            "\u001b[2K   \u001b[90m━━━━━━━━━━━━━━━━━━━━━━━━━━━━━━━━━━━━━━━━\u001b[0m \u001b[32m71.4/71.4 kB\u001b[0m \u001b[31m6.3 MB/s\u001b[0m eta \u001b[36m0:00:00\u001b[0m\n",
            "\u001b[2K   \u001b[90m━━━━━━━━━━━━━━━━━━━━━━━━━━━━━━━━━━━━━━━━\u001b[0m \u001b[32m410.5/410.5 kB\u001b[0m \u001b[31m28.9 MB/s\u001b[0m eta \u001b[36m0:00:00\u001b[0m\n",
            "\u001b[2K   \u001b[90m━━━━━━━━━━━━━━━━━━━━━━━━━━━━━━━━━━━━━━━━\u001b[0m \u001b[32m1.5/1.5 MB\u001b[0m \u001b[31m62.3 MB/s\u001b[0m eta \u001b[36m0:00:00\u001b[0m\n",
            "\u001b[2K   \u001b[90m━━━━━━━━━━━━━━━━━━━━━━━━━━━━━━━━━━━━━━━━\u001b[0m \u001b[32m52.7/52.7 kB\u001b[0m \u001b[31m4.1 MB/s\u001b[0m eta \u001b[36m0:00:00\u001b[0m\n",
            "\u001b[2K   \u001b[90m━━━━━━━━━━━━━━━━━━━━━━━━━━━━━━━━━━━━━━━━\u001b[0m \u001b[32m125.9/125.9 kB\u001b[0m \u001b[31m11.1 MB/s\u001b[0m eta \u001b[36m0:00:00\u001b[0m\n",
            "\u001b[2K   \u001b[90m━━━━━━━━━━━━━━━━━━━━━━━━━━━━━━━━━━━━━━━━\u001b[0m \u001b[32m68.1/68.1 MB\u001b[0m \u001b[31m11.8 MB/s\u001b[0m eta \u001b[36m0:00:00\u001b[0m\n",
            "\u001b[2K   \u001b[90m━━━━━━━━━━━━━━━━━━━━━━━━━━━━━━━━━━━━━━━━\u001b[0m \u001b[32m354.4/354.4 kB\u001b[0m \u001b[31m24.4 MB/s\u001b[0m eta \u001b[36m0:00:00\u001b[0m\n",
            "\u001b[2K   \u001b[90m━━━━━━━━━━━━━━━━━━━━━━━━━━━━━━━━━━━━━━━━\u001b[0m \u001b[32m2.3/2.3 MB\u001b[0m \u001b[31m53.6 MB/s\u001b[0m eta \u001b[36m0:00:00\u001b[0m\n",
            "\u001b[2K   \u001b[90m━━━━━━━━━━━━━━━━━━━━━━━━━━━━━━━━━━━━━━━━\u001b[0m \u001b[32m363.4/363.4 MB\u001b[0m \u001b[31m4.4 MB/s\u001b[0m eta \u001b[36m0:00:00\u001b[0m\n",
            "\u001b[2K   \u001b[90m━━━━━━━━━━━━━━━━━━━━━━━━━━━━━━━━━━━━━━━━\u001b[0m \u001b[32m13.8/13.8 MB\u001b[0m \u001b[31m76.5 MB/s\u001b[0m eta \u001b[36m0:00:00\u001b[0m\n",
            "\u001b[2K   \u001b[90m━━━━━━━━━━━━━━━━━━━━━━━━━━━━━━━━━━━━━━━━\u001b[0m \u001b[32m24.6/24.6 MB\u001b[0m \u001b[31m62.3 MB/s\u001b[0m eta \u001b[36m0:00:00\u001b[0m\n",
            "\u001b[2K   \u001b[90m━━━━━━━━━━━━━━━━━━━━━━━━━━━━━━━━━━━━━━━━\u001b[0m \u001b[32m883.7/883.7 kB\u001b[0m \u001b[31m46.5 MB/s\u001b[0m eta \u001b[36m0:00:00\u001b[0m\n",
            "\u001b[2K   \u001b[90m━━━━━━━━━━━━━━━━━━━━━━━━━━━━━━━━━━━━━━━━\u001b[0m \u001b[32m664.8/664.8 MB\u001b[0m \u001b[31m2.1 MB/s\u001b[0m eta \u001b[36m0:00:00\u001b[0m\n",
            "\u001b[2K   \u001b[90m━━━━━━━━━━━━━━━━━━━━━━━━━━━━━━━━━━━━━━━━\u001b[0m \u001b[32m211.5/211.5 MB\u001b[0m \u001b[31m5.6 MB/s\u001b[0m eta \u001b[36m0:00:00\u001b[0m\n",
            "\u001b[2K   \u001b[90m━━━━━━━━━━━━━━━━━━━━━━━━━━━━━━━━━━━━━━━━\u001b[0m \u001b[32m56.3/56.3 MB\u001b[0m \u001b[31m12.9 MB/s\u001b[0m eta \u001b[36m0:00:00\u001b[0m\n",
            "\u001b[2K   \u001b[90m━━━━━━━━━━━━━━━━━━━━━━━━━━━━━━━━━━━━━━━━\u001b[0m \u001b[32m127.9/127.9 MB\u001b[0m \u001b[31m7.5 MB/s\u001b[0m eta \u001b[36m0:00:00\u001b[0m\n",
            "\u001b[2K   \u001b[90m━━━━━━━━━━━━━━━━━━━━━━━━━━━━━━━━━━━━━━━━\u001b[0m \u001b[32m207.5/207.5 MB\u001b[0m \u001b[31m5.9 MB/s\u001b[0m eta \u001b[36m0:00:00\u001b[0m\n",
            "\u001b[2K   \u001b[90m━━━━━━━━━━━━━━━━━━━━━━━━━━━━━━━━━━━━━━━━\u001b[0m \u001b[32m21.1/21.1 MB\u001b[0m \u001b[31m23.3 MB/s\u001b[0m eta \u001b[36m0:00:00\u001b[0m\n",
            "\u001b[2K   \u001b[90m━━━━━━━━━━━━━━━━━━━━━━━━━━━━━━━━━━━━━━━━\u001b[0m \u001b[32m962.6/962.6 kB\u001b[0m \u001b[31m46.1 MB/s\u001b[0m eta \u001b[36m0:00:00\u001b[0m\n",
            "\u001b[2K   \u001b[90m━━━━━━━━━━━━━━━━━━━━━━━━━━━━━━━━━━━━━━━━\u001b[0m \u001b[32m10.0/10.0 MB\u001b[0m \u001b[31m85.2 MB/s\u001b[0m eta \u001b[36m0:00:00\u001b[0m\n",
            "\u001b[2K   \u001b[90m━━━━━━━━━━━━━━━━━━━━━━━━━━━━━━━━━━━━━━━━\u001b[0m \u001b[32m41.7/41.7 kB\u001b[0m \u001b[31m3.9 MB/s\u001b[0m eta \u001b[36m0:00:00\u001b[0m\n",
            "\u001b[2K   \u001b[90m━━━━━━━━━━━━━━━━━━━━━━━━━━━━━━━━━━━━━━━━\u001b[0m \u001b[32m823.1/823.1 kB\u001b[0m \u001b[31m44.4 MB/s\u001b[0m eta \u001b[36m0:00:00\u001b[0m\n",
            "\u001b[2K   \u001b[90m━━━━━━━━━━━━━━━━━━━━━━━━━━━━━━━━━━━━━━━━\u001b[0m \u001b[32m2.7/2.7 MB\u001b[0m \u001b[31m69.9 MB/s\u001b[0m eta \u001b[36m0:00:00\u001b[0m\n",
            "\u001b[2K   \u001b[90m━━━━━━━━━━━━━━━━━━━━━━━━━━━━━━━━━━━━━━━━\u001b[0m \u001b[32m87.2/87.2 kB\u001b[0m \u001b[31m6.9 MB/s\u001b[0m eta \u001b[36m0:00:00\u001b[0m\n",
            "\u001b[2K   \u001b[90m━━━━━━━━━━━━━━━━━━━━━━━━━━━━━━━━━━━━━━━━\u001b[0m \u001b[32m62.3/62.3 kB\u001b[0m \u001b[31m5.5 MB/s\u001b[0m eta \u001b[36m0:00:00\u001b[0m\n",
            "\u001b[2K   \u001b[90m━━━━━━━━━━━━━━━━━━━━━━━━━━━━━━━━━━━━━━━━\u001b[0m \u001b[32m6.1/6.1 MB\u001b[0m \u001b[31m78.5 MB/s\u001b[0m eta \u001b[36m0:00:00\u001b[0m\n",
            "\u001b[2K   \u001b[90m━━━━━━━━━━━━━━━━━━━━━━━━━━━━━━━━━━━━━━━━\u001b[0m \u001b[32m201.4/201.4 kB\u001b[0m \u001b[31m19.1 MB/s\u001b[0m eta \u001b[36m0:00:00\u001b[0m\n",
            "\u001b[2K   \u001b[90m━━━━━━━━━━━━━━━━━━━━━━━━━━━━━━━━━━━━━━━━\u001b[0m \u001b[32m128.2/128.2 kB\u001b[0m \u001b[31m12.0 MB/s\u001b[0m eta \u001b[36m0:00:00\u001b[0m\n",
            "\u001b[2K   \u001b[90m━━━━━━━━━━━━━━━━━━━━━━━━━━━━━━━━━━━━━━━━\u001b[0m \u001b[32m395.9/395.9 kB\u001b[0m \u001b[31m27.2 MB/s\u001b[0m eta \u001b[36m0:00:00\u001b[0m\n",
            "\u001b[2K   \u001b[90m━━━━━━━━━━━━━━━━━━━━━━━━━━━━━━━━━━━━━━━━\u001b[0m \u001b[32m242.7/242.7 kB\u001b[0m \u001b[31m19.1 MB/s\u001b[0m eta \u001b[36m0:00:00\u001b[0m\n",
            "\u001b[2K   \u001b[90m━━━━━━━━━━━━━━━━━━━━━━━━━━━━━━━━━━━━━━━━\u001b[0m \u001b[32m469.0/469.0 kB\u001b[0m \u001b[31m27.5 MB/s\u001b[0m eta \u001b[36m0:00:00\u001b[0m\n",
            "\u001b[2K   \u001b[90m━━━━━━━━━━━━━━━━━━━━━━━━━━━━━━━━━━━━━━━━\u001b[0m \u001b[32m135.3/135.3 kB\u001b[0m \u001b[31m13.7 MB/s\u001b[0m eta \u001b[36m0:00:00\u001b[0m\n",
            "\u001b[2K   \u001b[90m━━━━━━━━━━━━━━━━━━━━━━━━━━━━━━━━━━━━━━━━\u001b[0m \u001b[32m55.3/55.3 kB\u001b[0m \u001b[31m4.3 MB/s\u001b[0m eta \u001b[36m0:00:00\u001b[0m\n",
            "\u001b[2K   \u001b[90m━━━━━━━━━━━━━━━━━━━━━━━━━━━━━━━━━━━━━━━━\u001b[0m \u001b[32m2.3/2.3 MB\u001b[0m \u001b[31m39.8 MB/s\u001b[0m eta \u001b[36m0:00:00\u001b[0m\n",
            "\u001b[?25h  Building wheel for nvidia-ml-py3 (setup.py) ... \u001b[?25l\u001b[?25hdone\n",
            "  Building wheel for seqeval (setup.py) ... \u001b[?25l\u001b[?25hdone\n",
            "\u001b[31mERROR: pip's dependency resolver does not currently take into account all the packages that are installed. This behaviour is the source of the following dependency conflicts.\n",
            "textblob 0.19.0 requires nltk>=3.9, but you have nltk 3.8.1 which is incompatible.\u001b[0m\u001b[31m\n",
            "\u001b[0m"
          ]
        }
      ]
    },
    {
      "cell_type": "code",
      "source": [
        "import sys\n",
        "sys.path.append('/content/health-predictions/packages/inference/run')\n",
        "#import util\n",
        "#import globals\n",
        "#import digitalocean"
      ],
      "metadata": {
        "id": "0Z-w8XpRkSrw"
      },
      "execution_count": 10,
      "outputs": []
    },
    {
      "cell_type": "code",
      "source": [
        "from globals import logger,MODEL_DIR, ETL_DIR\n",
        "from sklearn.metrics import confusion_matrix,f1_score\n",
        "from sklearn.model_selection import train_test_split\n",
        "from util import strip_column_names,DetnReaderWriter,split_detn_new_onset_medical_complication,drop_result_columns,drop_recent_columns,drop_columns_muac\n",
        "from util import ag_feature_generator,lightgbm_train,select_features\n",
        "import matplotlib.pyplot as plt\n",
        "from warnings import simplefilter\n",
        "import pandas as pd\n",
        "import numpy as np\n",
        "from autogluon.tabular import TabularDataset, TabularPredictor\n",
        "from autogluon.features.generators import AutoMLPipelineFeatureGenerator\n",
        "from digitalocean import DigitalOceanStorage\n"
      ],
      "metadata": {
        "id": "wHXjOB_drqs6"
      },
      "execution_count": null,
      "outputs": []
    },
    {
      "cell_type": "code",
      "source": [
        "import os\n",
        "from google.colab import userdata\n",
        "os.environ[\"TAIMAKA_DO_ACCESS_KEY\"] = userdata.get('TAIMAKA_DO_ACCESS_KEY')\n",
        "os.environ[\"TAIMAKA_DO_SECRET_KEY\"] = userdata.get('TAIMAKA_DO_SECRET_KEY')\n",
        "\n",
        "do_storage = DigitalOceanStorage()"
      ],
      "metadata": {
        "id": "NxVY_gL4ooJ3"
      },
      "execution_count": 11,
      "outputs": []
    },
    {
      "cell_type": "code",
      "source": [
        "simplefilter(action=\"ignore\", category=pd.errors.PerformanceWarning)\n",
        "simplefilter(action=\"ignore\", category=pd.errors.SettingWithCopyWarning)\n",
        "simplefilter(action=\"ignore\", category=RuntimeWarning)"
      ],
      "metadata": {
        "id": "x89Mho71l1n1"
      },
      "execution_count": 15,
      "outputs": []
    },
    {
      "cell_type": "markdown",
      "source": [
        "# get the data"
      ],
      "metadata": {
        "id": "2OS7dmhE9Kl9"
      }
    },
    {
      "cell_type": "code",
      "source": [
        "detn_reader = DetnReaderWriter()\n",
        "detn,label = detn_reader.read_new_onset_medical_complication()\n"
      ],
      "metadata": {
        "colab": {
          "base_uri": "https://localhost:8080/"
        },
        "id": "0d6M-ZeSppDz",
        "outputId": "c1d358ac-3239-47e2-c2d8-fd887aec8902"
      },
      "execution_count": 25,
      "outputs": [
        {
          "output_type": "stream",
          "name": "stdout",
          "text": [
            "[0.76207775]\n",
            "[0.65541519]\n"
          ]
        },
        {
          "output_type": "stream",
          "name": "stderr",
          "text": [
            "/content/health-predictions/packages/inference/run/util.py:85: FutureWarning: A value is trying to be set on a copy of a DataFrame or Series through chained assignment using an inplace method.\n",
            "The behavior will change in pandas 3.0. This inplace method will never work because the intermediate object on which we are setting values always behaves as a copy.\n",
            "\n",
            "For example, when doing 'df[col].method(value, inplace=True)', try using 'df.method({col: value}, inplace=True)' or df[col] = df[col].method(value) instead, to perform the operation inplace on the original object.\n",
            "\n",
            "\n",
            "  detn['wk1_calc_los'].fillna(0,inplace=True)\n"
          ]
        }
      ]
    },
    {
      "cell_type": "code",
      "source": [
        "detn_admit_only,_,_,_ = split_detn_new_onset_medical_complication(detn,label)\n",
        "pid_not_in_admit = detn[~detn['pid'].isin(detn_admit_only['pid'])]['pid']\n",
        "\n",
        "# Get rows from detn where 'pid' is in pid_not_in_admit\n",
        "detn_filtered = detn[detn['pid'].isin(pid_not_in_admit)].copy()\n"
      ],
      "metadata": {
        "colab": {
          "base_uri": "https://localhost:8080/"
        },
        "id": "aFNEwdWjuA66",
        "outputId": "6e4d3400-66c1-48a4-ef41-d3aec85d233c"
      },
      "execution_count": 27,
      "outputs": [
        {
          "output_type": "stream",
          "name": "stdout",
          "text": [
            "(433, 550) (424, 1450) (421, 1897) (954, 2344)\n"
          ]
        }
      ]
    },
    {
      "cell_type": "code",
      "source": [
        "def drop_features(detn_filtered,label):\n",
        "  all_columns = set(detn_filtered.columns)\n",
        "  print(detn_filtered[label].mean(),detn_filtered[label].sum(),detn_filtered.shape)\n",
        "  detn_filtered = drop_result_columns(detn_filtered,label)\n",
        "  print(detn_filtered[label].mean(),detn_filtered[label].sum(),detn_filtered.shape)\n",
        "  result_columns = all_columns - set(detn_filtered.columns)\n",
        "\n",
        "  all_columns = set(detn_filtered.columns)\n",
        "  drop_recent_columns(detn_filtered)\n",
        "  print(detn_filtered[label].mean(),detn_filtered[label].sum(),detn_filtered.shape)\n",
        "  recent_columns = all_columns - set(detn_filtered.columns)\n",
        "\n",
        "  all_columns = set(detn_filtered.columns)\n",
        "  drop_columns_muac(detn_filtered,drop_muac=False,drop_weight=False,drop_height=False)\n",
        "  print(detn_filtered[label].mean(),detn_filtered[label].sum(),detn_filtered.shape)\n",
        "  reverse_causal_columns = all_columns - set(detn_filtered.columns)\n",
        "\n",
        "\n",
        "  return detn_filtered,result_columns,recent_columns,reverse_causal_columns\n",
        "\n"
      ],
      "metadata": {
        "id": "eOzyY-cW24gH"
      },
      "execution_count": 48,
      "outputs": []
    },
    {
      "cell_type": "code",
      "source": [
        "detn_admit_only,result_columns,recent_columns,reverse_causal_columns = drop_features(detn_admit_only,label)\n",
        "\n",
        "detn_filtered,result_columns,recent_columns,reverse_causal_columns = drop_features(detn_filtered,label)"
      ],
      "metadata": {
        "colab": {
          "base_uri": "https://localhost:8080/"
        },
        "id": "NsJpbuah3NSY",
        "outputId": "41818f8f-5ea9-4a64-cfba-ef32c3797d53"
      },
      "execution_count": 49,
      "outputs": [
        {
          "output_type": "stream",
          "name": "stdout",
          "text": [
            "0.6096997690531177 264 (433, 511)\n",
            "0.6096997690531177 264 (433, 511)\n",
            "0.6096997690531177 264 (433, 511)\n",
            "0.6096997690531177 264 (433, 425)\n",
            "0.43746525847693163 787 (1799, 1998)\n",
            "0.43746525847693163 787 (1799, 1998)\n",
            "0.43746525847693163 787 (1799, 1998)\n",
            "0.43746525847693163 787 (1799, 1718)\n"
          ]
        }
      ]
    },
    {
      "cell_type": "code",
      "source": [
        "\n",
        "y_cat1_cols = [col for col in detn.columns if col.startswith('y_')]\n",
        "y_cols = y_cat1_cols.copy()\n",
        "y_cols.append(label)\n"
      ],
      "metadata": {
        "id": "5DB8flk45-K4"
      },
      "execution_count": 50,
      "outputs": []
    },
    {
      "cell_type": "markdown",
      "source": [
        "# LightGBM iteration for feature selection"
      ],
      "metadata": {
        "id": "40qbJvWg9VSX"
      }
    },
    {
      "cell_type": "code",
      "source": [
        "# prompt: train test split admit_raw using column y_detn_ever as y\n",
        "# Separate features (X) and target (y)\n",
        "\n",
        "#X = detn_admit_only.drop(columns=y_cols)\n",
        "#y = detn_admit_only[label]\n",
        "\n",
        "#X = detn.drop(columns=y_cols)\n",
        "X = detn_filtered.drop(columns=y_cols)\n",
        "y = detn_filtered[label]\n",
        "\n",
        "\n",
        "# Perform train-test split\n",
        "X_train, X_test, y_train, y_test = train_test_split(X, y, test_size=0.2, random_state=42) # Adjust test_size and random_state as needed\n",
        "\n",
        "print(X_train.shape, X_test.shape, y_train.shape, y_test.shape)\n",
        "\n"
      ],
      "metadata": {
        "colab": {
          "base_uri": "https://localhost:8080/"
        },
        "id": "KFP4SyqU5pok",
        "outputId": "7532e060-c157-4de5-b2d5-54cdaf29398f"
      },
      "execution_count": 52,
      "outputs": [
        {
          "output_type": "stream",
          "name": "stdout",
          "text": [
            "(1439, 1703) (360, 1703) (1439,) (360,)\n"
          ]
        }
      ]
    },
    {
      "cell_type": "code",
      "source": [
        "X_train_transformed,X_test_transformed = ag_feature_generator(X_train,X_test)\n",
        "transformed = pd.concat([X_train_transformed.join(y_train),X_test_transformed.join(y_test)],axis=0)"
      ],
      "metadata": {
        "id": "Sz-5Kucw6Ifr"
      },
      "execution_count": 55,
      "outputs": []
    },
    {
      "cell_type": "code",
      "source": [
        "gbm,f1_scored,aic,top_features = lightgbm_train(X_train_transformed, X_test_transformed, y_train, y_test)\n",
        "#gbm,f1_scored,aic,top_features = lightgbm_train(X_train, X_test, y_train, y_test)\n",
        "print(len(gbm.feature_name_),f1_scored)\n",
        "\n",
        "X_train_transformed_top = X_train_transformed[top_features].copy()\n",
        "#X_train_transformed_top = X_train[top_features].copy()\n",
        "X_test_transformed_top = X_test_transformed[top_features].copy()\n",
        "#X_test_transformed_top = X_test[top_features].copy()\n",
        "gbm,f1_scored,aic,top_features = lightgbm_train(X_train_transformed_top, X_test_transformed_top, y_train, y_test)\n",
        "print(len(gbm.feature_name_),f1_scored)\n",
        "\n",
        "best_gbm,best_features,results_df,best_aic,features = select_features(gbm,X_train_transformed_top,X_test_transformed_top, y_train, y_test,30,0,-1)"
      ],
      "metadata": {
        "colab": {
          "base_uri": "https://localhost:8080/"
        },
        "id": "p56LhtV36m3U",
        "outputId": "e9053700-6c89-4f0e-a5c1-a138a32e432c"
      },
      "execution_count": 57,
      "outputs": [
        {
          "output_type": "stream",
          "name": "stdout",
          "text": [
            "808 0.9034267912772586\n",
            "268 0.9192546583850931\n"
          ]
        }
      ]
    },
    {
      "cell_type": "code",
      "source": [
        "print(best_aic,'\\n',best_features,len(best_features))\n",
        "results_df.sort_values(by='AIC',ascending=True)"
      ],
      "metadata": {
        "colab": {
          "base_uri": "https://localhost:8080/",
          "height": 800
        },
        "id": "F4kg_sqn6_nz",
        "outputId": "44a29834-0224-494f-feca-ac8cf1b34815"
      },
      "execution_count": 58,
      "outputs": [
        {
          "output_type": "stream",
          "name": "stdout",
          "text": [
            "217.28072959503265 \n",
            " ['wfh_rsquared' 'cg_weight' 'wfh_trend' 'hl_trend' 'weekly_avg_muac'\n",
            " 'admit_cat1_complications' 'wk2_wfaz' 'wfhz_admit' 'wk3_wfhz'\n",
            " 'wk1_resp_rate_weekly' 'weight_rsquared' 'hfa_trend' 'wk3_hfa_diff_rate'\n",
            " 'household_adults_slept_living_children_z' 'weight_trend' 'wk2_wfhz'\n",
            " 'wk1_rainy_season_weekly' 'hfa_rsquared' 'temperature'] 19\n"
          ]
        },
        {
          "output_type": "execute_result",
          "data": {
            "text/plain": [
              "    f1_score         AIC  num_features\n",
              "11  0.899083  217.280730            19\n",
              "9   0.894410  217.537068            21\n",
              "6   0.891641  220.016880            24\n",
              "7   0.901840  222.123507            23\n",
              "10  0.882716  226.055112            20\n",
              "8   0.886154  226.241301            22\n",
              "3   0.903427  228.812482            27\n",
              "2   0.893750  229.160299            28\n",
              "5   0.896552  233.023180            25\n",
              "4   0.881988  238.225133            26\n",
              "0   0.897833  241.367477            30\n",
              "1   0.885449  252.591282            29\n",
              "12  0.842767  286.281377            18\n",
              "14  0.839117  289.309494            16\n",
              "13  0.839117  299.275609            17\n",
              "15  0.825000  302.082749            15\n",
              "16  0.798722  314.931870            14\n",
              "17  0.787097  324.816785            13\n",
              "18  0.793443  325.963279            12\n",
              "21  0.764706  332.418449             9\n",
              "19  0.809061  333.611607            11\n",
              "20  0.769231  345.088950            10\n",
              "22  0.766773  361.215337             8\n",
              "23  0.764331  370.191256             7\n",
              "25  0.748428  391.647362             5\n",
              "26  0.725552  393.950619             4\n",
              "24  0.709677  435.245159             6\n",
              "29  0.560000  482.763694             1\n",
              "28  0.591640  488.381557             2\n",
              "27  0.614887  502.725842             3"
            ],
            "text/html": [
              "\n",
              "  <div id=\"df-b02ae545-71fa-4823-8d48-815134e09fb0\" class=\"colab-df-container\">\n",
              "    <div>\n",
              "<style scoped>\n",
              "    .dataframe tbody tr th:only-of-type {\n",
              "        vertical-align: middle;\n",
              "    }\n",
              "\n",
              "    .dataframe tbody tr th {\n",
              "        vertical-align: top;\n",
              "    }\n",
              "\n",
              "    .dataframe thead th {\n",
              "        text-align: right;\n",
              "    }\n",
              "</style>\n",
              "<table border=\"1\" class=\"dataframe\">\n",
              "  <thead>\n",
              "    <tr style=\"text-align: right;\">\n",
              "      <th></th>\n",
              "      <th>f1_score</th>\n",
              "      <th>AIC</th>\n",
              "      <th>num_features</th>\n",
              "    </tr>\n",
              "  </thead>\n",
              "  <tbody>\n",
              "    <tr>\n",
              "      <th>11</th>\n",
              "      <td>0.899083</td>\n",
              "      <td>217.280730</td>\n",
              "      <td>19</td>\n",
              "    </tr>\n",
              "    <tr>\n",
              "      <th>9</th>\n",
              "      <td>0.894410</td>\n",
              "      <td>217.537068</td>\n",
              "      <td>21</td>\n",
              "    </tr>\n",
              "    <tr>\n",
              "      <th>6</th>\n",
              "      <td>0.891641</td>\n",
              "      <td>220.016880</td>\n",
              "      <td>24</td>\n",
              "    </tr>\n",
              "    <tr>\n",
              "      <th>7</th>\n",
              "      <td>0.901840</td>\n",
              "      <td>222.123507</td>\n",
              "      <td>23</td>\n",
              "    </tr>\n",
              "    <tr>\n",
              "      <th>10</th>\n",
              "      <td>0.882716</td>\n",
              "      <td>226.055112</td>\n",
              "      <td>20</td>\n",
              "    </tr>\n",
              "    <tr>\n",
              "      <th>8</th>\n",
              "      <td>0.886154</td>\n",
              "      <td>226.241301</td>\n",
              "      <td>22</td>\n",
              "    </tr>\n",
              "    <tr>\n",
              "      <th>3</th>\n",
              "      <td>0.903427</td>\n",
              "      <td>228.812482</td>\n",
              "      <td>27</td>\n",
              "    </tr>\n",
              "    <tr>\n",
              "      <th>2</th>\n",
              "      <td>0.893750</td>\n",
              "      <td>229.160299</td>\n",
              "      <td>28</td>\n",
              "    </tr>\n",
              "    <tr>\n",
              "      <th>5</th>\n",
              "      <td>0.896552</td>\n",
              "      <td>233.023180</td>\n",
              "      <td>25</td>\n",
              "    </tr>\n",
              "    <tr>\n",
              "      <th>4</th>\n",
              "      <td>0.881988</td>\n",
              "      <td>238.225133</td>\n",
              "      <td>26</td>\n",
              "    </tr>\n",
              "    <tr>\n",
              "      <th>0</th>\n",
              "      <td>0.897833</td>\n",
              "      <td>241.367477</td>\n",
              "      <td>30</td>\n",
              "    </tr>\n",
              "    <tr>\n",
              "      <th>1</th>\n",
              "      <td>0.885449</td>\n",
              "      <td>252.591282</td>\n",
              "      <td>29</td>\n",
              "    </tr>\n",
              "    <tr>\n",
              "      <th>12</th>\n",
              "      <td>0.842767</td>\n",
              "      <td>286.281377</td>\n",
              "      <td>18</td>\n",
              "    </tr>\n",
              "    <tr>\n",
              "      <th>14</th>\n",
              "      <td>0.839117</td>\n",
              "      <td>289.309494</td>\n",
              "      <td>16</td>\n",
              "    </tr>\n",
              "    <tr>\n",
              "      <th>13</th>\n",
              "      <td>0.839117</td>\n",
              "      <td>299.275609</td>\n",
              "      <td>17</td>\n",
              "    </tr>\n",
              "    <tr>\n",
              "      <th>15</th>\n",
              "      <td>0.825000</td>\n",
              "      <td>302.082749</td>\n",
              "      <td>15</td>\n",
              "    </tr>\n",
              "    <tr>\n",
              "      <th>16</th>\n",
              "      <td>0.798722</td>\n",
              "      <td>314.931870</td>\n",
              "      <td>14</td>\n",
              "    </tr>\n",
              "    <tr>\n",
              "      <th>17</th>\n",
              "      <td>0.787097</td>\n",
              "      <td>324.816785</td>\n",
              "      <td>13</td>\n",
              "    </tr>\n",
              "    <tr>\n",
              "      <th>18</th>\n",
              "      <td>0.793443</td>\n",
              "      <td>325.963279</td>\n",
              "      <td>12</td>\n",
              "    </tr>\n",
              "    <tr>\n",
              "      <th>21</th>\n",
              "      <td>0.764706</td>\n",
              "      <td>332.418449</td>\n",
              "      <td>9</td>\n",
              "    </tr>\n",
              "    <tr>\n",
              "      <th>19</th>\n",
              "      <td>0.809061</td>\n",
              "      <td>333.611607</td>\n",
              "      <td>11</td>\n",
              "    </tr>\n",
              "    <tr>\n",
              "      <th>20</th>\n",
              "      <td>0.769231</td>\n",
              "      <td>345.088950</td>\n",
              "      <td>10</td>\n",
              "    </tr>\n",
              "    <tr>\n",
              "      <th>22</th>\n",
              "      <td>0.766773</td>\n",
              "      <td>361.215337</td>\n",
              "      <td>8</td>\n",
              "    </tr>\n",
              "    <tr>\n",
              "      <th>23</th>\n",
              "      <td>0.764331</td>\n",
              "      <td>370.191256</td>\n",
              "      <td>7</td>\n",
              "    </tr>\n",
              "    <tr>\n",
              "      <th>25</th>\n",
              "      <td>0.748428</td>\n",
              "      <td>391.647362</td>\n",
              "      <td>5</td>\n",
              "    </tr>\n",
              "    <tr>\n",
              "      <th>26</th>\n",
              "      <td>0.725552</td>\n",
              "      <td>393.950619</td>\n",
              "      <td>4</td>\n",
              "    </tr>\n",
              "    <tr>\n",
              "      <th>24</th>\n",
              "      <td>0.709677</td>\n",
              "      <td>435.245159</td>\n",
              "      <td>6</td>\n",
              "    </tr>\n",
              "    <tr>\n",
              "      <th>29</th>\n",
              "      <td>0.560000</td>\n",
              "      <td>482.763694</td>\n",
              "      <td>1</td>\n",
              "    </tr>\n",
              "    <tr>\n",
              "      <th>28</th>\n",
              "      <td>0.591640</td>\n",
              "      <td>488.381557</td>\n",
              "      <td>2</td>\n",
              "    </tr>\n",
              "    <tr>\n",
              "      <th>27</th>\n",
              "      <td>0.614887</td>\n",
              "      <td>502.725842</td>\n",
              "      <td>3</td>\n",
              "    </tr>\n",
              "  </tbody>\n",
              "</table>\n",
              "</div>\n",
              "    <div class=\"colab-df-buttons\">\n",
              "\n",
              "  <div class=\"colab-df-container\">\n",
              "    <button class=\"colab-df-convert\" onclick=\"convertToInteractive('df-b02ae545-71fa-4823-8d48-815134e09fb0')\"\n",
              "            title=\"Convert this dataframe to an interactive table.\"\n",
              "            style=\"display:none;\">\n",
              "\n",
              "  <svg xmlns=\"http://www.w3.org/2000/svg\" height=\"24px\" viewBox=\"0 -960 960 960\">\n",
              "    <path d=\"M120-120v-720h720v720H120Zm60-500h600v-160H180v160Zm220 220h160v-160H400v160Zm0 220h160v-160H400v160ZM180-400h160v-160H180v160Zm440 0h160v-160H620v160ZM180-180h160v-160H180v160Zm440 0h160v-160H620v160Z\"/>\n",
              "  </svg>\n",
              "    </button>\n",
              "\n",
              "  <style>\n",
              "    .colab-df-container {\n",
              "      display:flex;\n",
              "      gap: 12px;\n",
              "    }\n",
              "\n",
              "    .colab-df-convert {\n",
              "      background-color: #E8F0FE;\n",
              "      border: none;\n",
              "      border-radius: 50%;\n",
              "      cursor: pointer;\n",
              "      display: none;\n",
              "      fill: #1967D2;\n",
              "      height: 32px;\n",
              "      padding: 0 0 0 0;\n",
              "      width: 32px;\n",
              "    }\n",
              "\n",
              "    .colab-df-convert:hover {\n",
              "      background-color: #E2EBFA;\n",
              "      box-shadow: 0px 1px 2px rgba(60, 64, 67, 0.3), 0px 1px 3px 1px rgba(60, 64, 67, 0.15);\n",
              "      fill: #174EA6;\n",
              "    }\n",
              "\n",
              "    .colab-df-buttons div {\n",
              "      margin-bottom: 4px;\n",
              "    }\n",
              "\n",
              "    [theme=dark] .colab-df-convert {\n",
              "      background-color: #3B4455;\n",
              "      fill: #D2E3FC;\n",
              "    }\n",
              "\n",
              "    [theme=dark] .colab-df-convert:hover {\n",
              "      background-color: #434B5C;\n",
              "      box-shadow: 0px 1px 3px 1px rgba(0, 0, 0, 0.15);\n",
              "      filter: drop-shadow(0px 1px 2px rgba(0, 0, 0, 0.3));\n",
              "      fill: #FFFFFF;\n",
              "    }\n",
              "  </style>\n",
              "\n",
              "    <script>\n",
              "      const buttonEl =\n",
              "        document.querySelector('#df-b02ae545-71fa-4823-8d48-815134e09fb0 button.colab-df-convert');\n",
              "      buttonEl.style.display =\n",
              "        google.colab.kernel.accessAllowed ? 'block' : 'none';\n",
              "\n",
              "      async function convertToInteractive(key) {\n",
              "        const element = document.querySelector('#df-b02ae545-71fa-4823-8d48-815134e09fb0');\n",
              "        const dataTable =\n",
              "          await google.colab.kernel.invokeFunction('convertToInteractive',\n",
              "                                                    [key], {});\n",
              "        if (!dataTable) return;\n",
              "\n",
              "        const docLinkHtml = 'Like what you see? Visit the ' +\n",
              "          '<a target=\"_blank\" href=https://colab.research.google.com/notebooks/data_table.ipynb>data table notebook</a>'\n",
              "          + ' to learn more about interactive tables.';\n",
              "        element.innerHTML = '';\n",
              "        dataTable['output_type'] = 'display_data';\n",
              "        await google.colab.output.renderOutput(dataTable, element);\n",
              "        const docLink = document.createElement('div');\n",
              "        docLink.innerHTML = docLinkHtml;\n",
              "        element.appendChild(docLink);\n",
              "      }\n",
              "    </script>\n",
              "  </div>\n",
              "\n",
              "\n",
              "    <div id=\"df-38f3e343-6902-47bf-b056-e1e1d875b51f\">\n",
              "      <button class=\"colab-df-quickchart\" onclick=\"quickchart('df-38f3e343-6902-47bf-b056-e1e1d875b51f')\"\n",
              "                title=\"Suggest charts\"\n",
              "                style=\"display:none;\">\n",
              "\n",
              "<svg xmlns=\"http://www.w3.org/2000/svg\" height=\"24px\"viewBox=\"0 0 24 24\"\n",
              "     width=\"24px\">\n",
              "    <g>\n",
              "        <path d=\"M19 3H5c-1.1 0-2 .9-2 2v14c0 1.1.9 2 2 2h14c1.1 0 2-.9 2-2V5c0-1.1-.9-2-2-2zM9 17H7v-7h2v7zm4 0h-2V7h2v10zm4 0h-2v-4h2v4z\"/>\n",
              "    </g>\n",
              "</svg>\n",
              "      </button>\n",
              "\n",
              "<style>\n",
              "  .colab-df-quickchart {\n",
              "      --bg-color: #E8F0FE;\n",
              "      --fill-color: #1967D2;\n",
              "      --hover-bg-color: #E2EBFA;\n",
              "      --hover-fill-color: #174EA6;\n",
              "      --disabled-fill-color: #AAA;\n",
              "      --disabled-bg-color: #DDD;\n",
              "  }\n",
              "\n",
              "  [theme=dark] .colab-df-quickchart {\n",
              "      --bg-color: #3B4455;\n",
              "      --fill-color: #D2E3FC;\n",
              "      --hover-bg-color: #434B5C;\n",
              "      --hover-fill-color: #FFFFFF;\n",
              "      --disabled-bg-color: #3B4455;\n",
              "      --disabled-fill-color: #666;\n",
              "  }\n",
              "\n",
              "  .colab-df-quickchart {\n",
              "    background-color: var(--bg-color);\n",
              "    border: none;\n",
              "    border-radius: 50%;\n",
              "    cursor: pointer;\n",
              "    display: none;\n",
              "    fill: var(--fill-color);\n",
              "    height: 32px;\n",
              "    padding: 0;\n",
              "    width: 32px;\n",
              "  }\n",
              "\n",
              "  .colab-df-quickchart:hover {\n",
              "    background-color: var(--hover-bg-color);\n",
              "    box-shadow: 0 1px 2px rgba(60, 64, 67, 0.3), 0 1px 3px 1px rgba(60, 64, 67, 0.15);\n",
              "    fill: var(--button-hover-fill-color);\n",
              "  }\n",
              "\n",
              "  .colab-df-quickchart-complete:disabled,\n",
              "  .colab-df-quickchart-complete:disabled:hover {\n",
              "    background-color: var(--disabled-bg-color);\n",
              "    fill: var(--disabled-fill-color);\n",
              "    box-shadow: none;\n",
              "  }\n",
              "\n",
              "  .colab-df-spinner {\n",
              "    border: 2px solid var(--fill-color);\n",
              "    border-color: transparent;\n",
              "    border-bottom-color: var(--fill-color);\n",
              "    animation:\n",
              "      spin 1s steps(1) infinite;\n",
              "  }\n",
              "\n",
              "  @keyframes spin {\n",
              "    0% {\n",
              "      border-color: transparent;\n",
              "      border-bottom-color: var(--fill-color);\n",
              "      border-left-color: var(--fill-color);\n",
              "    }\n",
              "    20% {\n",
              "      border-color: transparent;\n",
              "      border-left-color: var(--fill-color);\n",
              "      border-top-color: var(--fill-color);\n",
              "    }\n",
              "    30% {\n",
              "      border-color: transparent;\n",
              "      border-left-color: var(--fill-color);\n",
              "      border-top-color: var(--fill-color);\n",
              "      border-right-color: var(--fill-color);\n",
              "    }\n",
              "    40% {\n",
              "      border-color: transparent;\n",
              "      border-right-color: var(--fill-color);\n",
              "      border-top-color: var(--fill-color);\n",
              "    }\n",
              "    60% {\n",
              "      border-color: transparent;\n",
              "      border-right-color: var(--fill-color);\n",
              "    }\n",
              "    80% {\n",
              "      border-color: transparent;\n",
              "      border-right-color: var(--fill-color);\n",
              "      border-bottom-color: var(--fill-color);\n",
              "    }\n",
              "    90% {\n",
              "      border-color: transparent;\n",
              "      border-bottom-color: var(--fill-color);\n",
              "    }\n",
              "  }\n",
              "</style>\n",
              "\n",
              "      <script>\n",
              "        async function quickchart(key) {\n",
              "          const quickchartButtonEl =\n",
              "            document.querySelector('#' + key + ' button');\n",
              "          quickchartButtonEl.disabled = true;  // To prevent multiple clicks.\n",
              "          quickchartButtonEl.classList.add('colab-df-spinner');\n",
              "          try {\n",
              "            const charts = await google.colab.kernel.invokeFunction(\n",
              "                'suggestCharts', [key], {});\n",
              "          } catch (error) {\n",
              "            console.error('Error during call to suggestCharts:', error);\n",
              "          }\n",
              "          quickchartButtonEl.classList.remove('colab-df-spinner');\n",
              "          quickchartButtonEl.classList.add('colab-df-quickchart-complete');\n",
              "        }\n",
              "        (() => {\n",
              "          let quickchartButtonEl =\n",
              "            document.querySelector('#df-38f3e343-6902-47bf-b056-e1e1d875b51f button');\n",
              "          quickchartButtonEl.style.display =\n",
              "            google.colab.kernel.accessAllowed ? 'block' : 'none';\n",
              "        })();\n",
              "      </script>\n",
              "    </div>\n",
              "\n",
              "    </div>\n",
              "  </div>\n"
            ],
            "application/vnd.google.colaboratory.intrinsic+json": {
              "type": "dataframe",
              "summary": "{\n  \"name\": \"results_df\",\n  \"rows\": 30,\n  \"fields\": [\n    {\n      \"column\": \"f1_score\",\n      \"properties\": {\n        \"dtype\": \"number\",\n        \"std\": 0.09538580114488567,\n        \"min\": 0.56,\n        \"max\": 0.9034267912772586,\n        \"num_unique_values\": 29,\n        \"samples\": [\n          0.5916398713826366,\n          0.7870967741935484,\n          0.8427672955974843\n        ],\n        \"semantic_type\": \"\",\n        \"description\": \"\"\n      }\n    },\n    {\n      \"column\": \"AIC\",\n      \"properties\": {\n        \"dtype\": \"number\",\n        \"std\": 86.62600473518516,\n        \"min\": 217.28072959503265,\n        \"max\": 502.7258420020246,\n        \"num_unique_values\": 30,\n        \"samples\": [\n          482.7636938530784,\n          302.08274888364815,\n          370.1912557332491\n        ],\n        \"semantic_type\": \"\",\n        \"description\": \"\"\n      }\n    },\n    {\n      \"column\": \"num_features\",\n      \"properties\": {\n        \"dtype\": \"number\",\n        \"std\": 8,\n        \"min\": 1,\n        \"max\": 30,\n        \"num_unique_values\": 30,\n        \"samples\": [\n          1,\n          15,\n          7\n        ],\n        \"semantic_type\": \"\",\n        \"description\": \"\"\n      }\n    }\n  ]\n}"
            }
          },
          "metadata": {},
          "execution_count": 58
        }
      ]
    },
    {
      "cell_type": "code",
      "source": [
        "N_FEATURES = 13\n",
        "print(N_FEATURES,features[N_FEATURES])\n",
        "\n",
        "\n",
        "top_features = [col for col in strip_column_names(features[N_FEATURES]) if col in detn.columns]\n"
      ],
      "metadata": {
        "colab": {
          "base_uri": "https://localhost:8080/"
        },
        "id": "2b2YLJ977osX",
        "outputId": "082f5b4e-72ea-4d3a-c33b-c46e66901df0"
      },
      "execution_count": 60,
      "outputs": [
        {
          "output_type": "stream",
          "name": "stdout",
          "text": [
            "13 ['wfh_rsquared' 'hl_trend' 'household_adults_slept_living_children_z'\n",
            " 'wk1_resp_rate_weekly' 'wk3_wfhz' 'cg_weight' 'wk2_wfhz' 'wk2_wfaz'\n",
            " 'wfh_trend' 'weight_trend' 'wfhz_admit' 'hfa_rsquared' 'weekly_avg_muac']\n"
          ]
        }
      ]
    },
    {
      "cell_type": "code",
      "source": [
        "top_features = ['hl_trend', 'weekly_avg_muac', 'wk2_muac', 'estdist_home', 'wk1_rainy_season_weekly', 'resp_rate', 'muac_trend', 'cat1_complications_weekly', 'household_adults_slept_living_children_z', 'muac_diff_ratio_z', 'muac_rsquared', 'muac_diff_ratio_rate', 'wk1_weight_diff_rate', 'wk1_resp_rate_weekly']"
      ],
      "metadata": {
        "id": "UZ1sNaiE8X4N"
      },
      "execution_count": 62,
      "outputs": []
    },
    {
      "cell_type": "markdown",
      "source": [
        "# AutoGluon Training"
      ],
      "metadata": {
        "id": "W--uI-CF8rPs"
      }
    },
    {
      "cell_type": "code",
      "source": [
        "# prompt: train test split admit_raw using column y_detn_ever as y\n",
        "\n",
        "# Separate features (X) and target (y)\n",
        "\n",
        "#X = detn_admit_only[top_features]\n",
        "#y = detn_admit_only[label]\n",
        "\n",
        "X = detn_filtered[top_features]\n",
        "y = detn_filtered[label]\n",
        "# Perform train-test split\n",
        "X_train, X_test, y_train, y_test = train_test_split(X, y, test_size=0.25, random_state=43) # Adjust test_size and random_state as needed\n",
        "\n",
        "print(X_train.shape, X_test.shape, y_train.shape, y_test.shape)"
      ],
      "metadata": {
        "colab": {
          "base_uri": "https://localhost:8080/"
        },
        "id": "_8sOTLJ68dl8",
        "outputId": "28a7a47b-eccd-4327-f973-1fe0166257d8"
      },
      "execution_count": 63,
      "outputs": [
        {
          "output_type": "stream",
          "name": "stdout",
          "text": [
            "(1349, 14) (450, 14) (1349,) (450,)\n"
          ]
        }
      ]
    },
    {
      "cell_type": "code",
      "source": [
        "AG_PATH = f'AutogluonModels/{label}'\n",
        "train_data = TabularDataset(X_train.join(y_train))\n",
        "predictor = TabularPredictor(label=label,eval_metric='f1',path=AG_PATH).fit(train_data,time_limit=300,presets='medium_quality')\n"
      ],
      "metadata": {
        "colab": {
          "base_uri": "https://localhost:8080/"
        },
        "id": "MdJOwrtP82sA",
        "outputId": "cea40335-281d-424c-888e-98a0e0914c0e"
      },
      "execution_count": 64,
      "outputs": [
        {
          "output_type": "stream",
          "name": "stderr",
          "text": [
            "Verbosity: 2 (Standard Logging)\n",
            "=================== System Info ===================\n",
            "AutoGluon Version:  1.3.1\n",
            "Python Version:     3.11.13\n",
            "Operating System:   Linux\n",
            "Platform Machine:   x86_64\n",
            "Platform Version:   #1 SMP PREEMPT_DYNAMIC Sun Mar 30 16:01:29 UTC 2025\n",
            "CPU Count:          2\n",
            "Memory Avail:       10.86 GB / 12.67 GB (85.7%)\n",
            "Disk Space Avail:   65.16 GB / 107.72 GB (60.5%)\n",
            "===================================================\n",
            "Presets specified: ['medium_quality']\n",
            "Beginning AutoGluon training ... Time limit = 300s\n",
            "AutoGluon will save models to \"/content/AutogluonModels/new_onset_medical_complication\"\n",
            "Train Data Rows:    1349\n",
            "Train Data Columns: 14\n",
            "Label Column:       new_onset_medical_complication\n",
            "AutoGluon infers your prediction problem is: 'binary' (because only two unique label-values observed).\n",
            "\t2 unique label values:  [np.int64(1), np.int64(0)]\n",
            "\tIf 'binary' is not the correct problem_type, please manually specify the problem_type parameter during Predictor init (You may specify problem_type as one of: ['binary', 'multiclass', 'regression', 'quantile'])\n",
            "Problem Type:       binary\n",
            "Preprocessing data ...\n",
            "Selected class <--> label mapping:  class 1 = 1, class 0 = 0\n",
            "Using Feature Generators to preprocess the data ...\n",
            "Fitting AutoMLPipelineFeatureGenerator...\n",
            "\tAvailable Memory:                    11123.43 MB\n",
            "\tTrain Data (Original)  Memory Usage: 0.14 MB (0.0% of available memory)\n",
            "\tInferring data type of each feature based on column values. Set feature_metadata_in to manually specify special dtypes of the features.\n",
            "\tStage 1 Generators:\n",
            "\t\tFitting AsTypeFeatureGenerator...\n",
            "\t\t\tNote: Converting 1 features to boolean dtype as they only contain 2 unique values.\n",
            "\tStage 2 Generators:\n",
            "\t\tFitting FillNaFeatureGenerator...\n",
            "\tStage 3 Generators:\n",
            "\t\tFitting IdentityFeatureGenerator...\n",
            "\tStage 4 Generators:\n",
            "\t\tFitting DropUniqueFeatureGenerator...\n",
            "\tStage 5 Generators:\n",
            "\t\tFitting DropDuplicatesFeatureGenerator...\n",
            "\tTypes of features in original data (raw dtype, special dtypes):\n",
            "\t\t('float', []) : 13 | ['hl_trend', 'weekly_avg_muac', 'wk2_muac', 'estdist_home', 'resp_rate', ...]\n",
            "\t\t('int', [])   :  1 | ['wk1_rainy_season_weekly']\n",
            "\tTypes of features in processed data (raw dtype, special dtypes):\n",
            "\t\t('float', [])     : 13 | ['hl_trend', 'weekly_avg_muac', 'wk2_muac', 'estdist_home', 'resp_rate', ...]\n",
            "\t\t('int', ['bool']) :  1 | ['wk1_rainy_season_weekly']\n",
            "\t0.1s = Fit runtime\n",
            "\t14 features in original data used to generate 14 features in processed data.\n",
            "\tTrain Data (Processed) Memory Usage: 0.14 MB (0.0% of available memory)\n",
            "Data preprocessing and feature engineering runtime = 0.09s ...\n",
            "AutoGluon will gauge predictive performance using evaluation metric: 'f1'\n",
            "\tTo change this, specify the eval_metric parameter of Predictor()\n",
            "Automatically generating train/validation split with holdout_frac=0.2, Train Rows: 1079, Val Rows: 270\n",
            "User-specified model hyperparameters to be fit:\n",
            "{\n",
            "\t'NN_TORCH': [{}],\n",
            "\t'GBM': [{'extra_trees': True, 'ag_args': {'name_suffix': 'XT'}}, {}, {'learning_rate': 0.03, 'num_leaves': 128, 'feature_fraction': 0.9, 'min_data_in_leaf': 3, 'ag_args': {'name_suffix': 'Large', 'priority': 0, 'hyperparameter_tune_kwargs': None}}],\n",
            "\t'CAT': [{}],\n",
            "\t'XGB': [{}],\n",
            "\t'FASTAI': [{}],\n",
            "\t'RF': [{'criterion': 'gini', 'ag_args': {'name_suffix': 'Gini', 'problem_types': ['binary', 'multiclass']}}, {'criterion': 'entropy', 'ag_args': {'name_suffix': 'Entr', 'problem_types': ['binary', 'multiclass']}}, {'criterion': 'squared_error', 'ag_args': {'name_suffix': 'MSE', 'problem_types': ['regression', 'quantile']}}],\n",
            "\t'XT': [{'criterion': 'gini', 'ag_args': {'name_suffix': 'Gini', 'problem_types': ['binary', 'multiclass']}}, {'criterion': 'entropy', 'ag_args': {'name_suffix': 'Entr', 'problem_types': ['binary', 'multiclass']}}, {'criterion': 'squared_error', 'ag_args': {'name_suffix': 'MSE', 'problem_types': ['regression', 'quantile']}}],\n",
            "\t'KNN': [{'weights': 'uniform', 'ag_args': {'name_suffix': 'Unif'}}, {'weights': 'distance', 'ag_args': {'name_suffix': 'Dist'}}],\n",
            "}\n",
            "Fitting 13 L1 models, fit_strategy=\"sequential\" ...\n",
            "Fitting model: KNeighborsUnif ... Training model for up to 299.91s of the 299.91s of remaining time.\n",
            "\t0.6502\t = Validation score   (f1)\n",
            "\t5.16s\t = Training   runtime\n",
            "\t0.02s\t = Validation runtime\n",
            "Fitting model: KNeighborsDist ... Training model for up to 294.72s of the 294.72s of remaining time.\n",
            "\t0.6556\t = Validation score   (f1)\n",
            "\t0.01s\t = Training   runtime\n",
            "\t0.01s\t = Validation runtime\n",
            "Fitting model: LightGBMXT ... Training model for up to 294.69s of the 294.68s of remaining time.\n",
            "\t0.8017\t = Validation score   (f1)\n",
            "\t2.71s\t = Training   runtime\n",
            "\t0.0s\t = Validation runtime\n",
            "Fitting model: LightGBM ... Training model for up to 291.95s of the 291.95s of remaining time.\n",
            "\t0.8285\t = Validation score   (f1)\n",
            "\t1.48s\t = Training   runtime\n",
            "\t0.0s\t = Validation runtime\n",
            "Fitting model: RandomForestGini ... Training model for up to 290.46s of the 290.45s of remaining time.\n",
            "\t0.7967\t = Validation score   (f1)\n",
            "\t1.09s\t = Training   runtime\n",
            "\t0.1s\t = Validation runtime\n",
            "Fitting model: RandomForestEntr ... Training model for up to 289.24s of the 289.23s of remaining time.\n",
            "\t0.8117\t = Validation score   (f1)\n",
            "\t0.98s\t = Training   runtime\n",
            "\t0.1s\t = Validation runtime\n",
            "Fitting model: CatBoost ... Training model for up to 288.13s of the 288.13s of remaining time.\n",
            "\t0.8083\t = Validation score   (f1)\n",
            "\t2.28s\t = Training   runtime\n",
            "\t0.0s\t = Validation runtime\n",
            "Fitting model: ExtraTreesGini ... Training model for up to 285.84s of the 285.84s of remaining time.\n",
            "\t0.8067\t = Validation score   (f1)\n",
            "\t0.78s\t = Training   runtime\n",
            "\t0.1s\t = Validation runtime\n",
            "Fitting model: ExtraTreesEntr ... Training model for up to 284.92s of the 284.92s of remaining time.\n",
            "\t0.8051\t = Validation score   (f1)\n",
            "\t0.8s\t = Training   runtime\n",
            "\t0.1s\t = Validation runtime\n",
            "Fitting model: NeuralNetFastAI ... Training model for up to 283.99s of the 283.99s of remaining time.\n",
            "\t0.7424\t = Validation score   (f1)\n",
            "\t2.9s\t = Training   runtime\n",
            "\t0.04s\t = Validation runtime\n",
            "Fitting model: XGBoost ... Training model for up to 281.03s of the 281.02s of remaining time.\n",
            "\t0.8101\t = Validation score   (f1)\n",
            "\t1.98s\t = Training   runtime\n",
            "\t0.01s\t = Validation runtime\n",
            "Fitting model: NeuralNetTorch ... Training model for up to 279.02s of the 279.02s of remaining time.\n",
            "\tWarning: Exception caused NeuralNetTorch to fail during training... Skipping this model.\n",
            "\t\t(slice(None, None, None), [0, 1, 2, 3, 4, 5, 6, 7, 8, 9, 10, 11, 12, 13])\n",
            "Detailed Traceback:\n",
            "Traceback (most recent call last):\n",
            "  File \"/usr/local/lib/python3.11/dist-packages/pandas/core/indexes/base.py\", line 3805, in get_loc\n",
            "    return self._engine.get_loc(casted_key)\n",
            "           ^^^^^^^^^^^^^^^^^^^^^^^^^^^^^^^^\n",
            "  File \"index.pyx\", line 167, in pandas._libs.index.IndexEngine.get_loc\n",
            "  File \"index.pyx\", line 173, in pandas._libs.index.IndexEngine.get_loc\n",
            "TypeError: '(slice(None, None, None), [0, 1, 2, 3, 4, 5, 6, 7, 8, 9, 10, 11, 12, 13])' is an invalid key\n",
            "\n",
            "During handling of the above exception, another exception occurred:\n",
            "\n",
            "Traceback (most recent call last):\n",
            "  File \"/usr/local/lib/python3.11/dist-packages/autogluon/tabular/trainer/abstract_trainer.py\", line 2169, in _train_and_save\n",
            "    model = self._train_single(**model_fit_kwargs)\n",
            "            ^^^^^^^^^^^^^^^^^^^^^^^^^^^^^^^^^^^^^^\n",
            "  File \"/usr/local/lib/python3.11/dist-packages/autogluon/tabular/trainer/abstract_trainer.py\", line 2055, in _train_single\n",
            "    model = model.fit(X=X, y=y, X_val=X_val, y_val=y_val, X_test=X_test, y_test=y_test, total_resources=total_resources, **model_fit_kwargs)\n",
            "            ^^^^^^^^^^^^^^^^^^^^^^^^^^^^^^^^^^^^^^^^^^^^^^^^^^^^^^^^^^^^^^^^^^^^^^^^^^^^^^^^^^^^^^^^^^^^^^^^^^^^^^^^^^^^^^^^^^^^^^^^^^^^^^^^\n",
            "  File \"/usr/local/lib/python3.11/dist-packages/autogluon/core/models/abstract/abstract_model.py\", line 1051, in fit\n",
            "    out = self._fit(**kwargs)\n",
            "          ^^^^^^^^^^^^^^^^^^^\n",
            "  File \"/usr/local/lib/python3.11/dist-packages/autogluon/tabular/models/tabular_nn/torch/tabular_nn_torch.py\", line 209, in _fit\n",
            "    train_dataset = self._generate_dataset(X=X, y=y, train_params=processor_kwargs, is_train=True)\n",
            "                    ^^^^^^^^^^^^^^^^^^^^^^^^^^^^^^^^^^^^^^^^^^^^^^^^^^^^^^^^^^^^^^^^^^^^^^^^^^^^^^\n",
            "  File \"/usr/local/lib/python3.11/dist-packages/autogluon/tabular/models/tabular_nn/torch/tabular_nn_torch.py\", line 687, in _generate_dataset\n",
            "    dataset = self._process_train_data(\n",
            "              ^^^^^^^^^^^^^^^^^^^^^^^^^\n",
            "  File \"/usr/local/lib/python3.11/dist-packages/autogluon/tabular/models/tabular_nn/torch/tabular_nn_torch.py\", line 770, in _process_train_data\n",
            "    return TabularTorchDataset(df, self.feature_arraycol_map, self.feature_type_map, self.problem_type, labels)\n",
            "           ^^^^^^^^^^^^^^^^^^^^^^^^^^^^^^^^^^^^^^^^^^^^^^^^^^^^^^^^^^^^^^^^^^^^^^^^^^^^^^^^^^^^^^^^^^^^^^^^^^^^\n",
            "  File \"/usr/local/lib/python3.11/dist-packages/autogluon/tabular/models/tabular_nn/torch/tabular_torch_dataset.py\", line 94, in __init__\n",
            "    self.data_list.append(processed_array[:, vector_inds].astype(\"float32\"))\n",
            "                          ~~~~~~~~~~~~~~~^^^^^^^^^^^^^^^^\n",
            "  File \"/usr/local/lib/python3.11/dist-packages/pandas/core/frame.py\", line 4102, in __getitem__\n",
            "    indexer = self.columns.get_loc(key)\n",
            "              ^^^^^^^^^^^^^^^^^^^^^^^^^\n",
            "  File \"/usr/local/lib/python3.11/dist-packages/pandas/core/indexes/base.py\", line 3817, in get_loc\n",
            "    self._check_indexing_error(key)\n",
            "  File \"/usr/local/lib/python3.11/dist-packages/pandas/core/indexes/base.py\", line 6059, in _check_indexing_error\n",
            "    raise InvalidIndexError(key)\n",
            "pandas.errors.InvalidIndexError: (slice(None, None, None), [0, 1, 2, 3, 4, 5, 6, 7, 8, 9, 10, 11, 12, 13])\n",
            "Fitting model: LightGBMLarge ... Training model for up to 278.47s of the 278.46s of remaining time.\n",
            "\t0.8167\t = Validation score   (f1)\n",
            "\t4.73s\t = Training   runtime\n",
            "\t0.01s\t = Validation runtime\n",
            "Fitting model: WeightedEnsemble_L2 ... Training model for up to 299.91s of the 273.57s of remaining time.\n",
            "\tEnsemble Weights: {'LightGBM': 0.833, 'KNeighborsDist': 0.167}\n",
            "\t0.8333\t = Validation score   (f1)\n",
            "\t0.38s\t = Training   runtime\n",
            "\t0.0s\t = Validation runtime\n",
            "AutoGluon training complete, total runtime = 26.84s ... Best model: WeightedEnsemble_L2 | Estimated inference throughput: 14588.3 rows/s (270 batch size)\n",
            "Enabling decision threshold calibration (calibrate_decision_threshold='auto', metric is valid, problem_type is 'binary')\n",
            "Calibrating decision threshold to optimize metric f1 | Checking 51 thresholds...\n",
            "Calibrating decision threshold via fine-grained search | Checking 38 thresholds...\n",
            "\tBase Threshold: 0.500\t| val: 0.8333\n",
            "\tBest Threshold: 0.491\t| val: 0.8347\n",
            "Updating predictor.decision_threshold from 0.5 -> 0.491\n",
            "\tThis will impact how prediction probabilities are converted to predictions in binary classification.\n",
            "\tPrediction probabilities of the positive class >0.491 will be predicted as the positive class (1). This can significantly impact metric scores.\n",
            "\tYou can update this value via `predictor.set_decision_threshold`.\n",
            "\tYou can calculate an optimal decision threshold on the validation data via `predictor.calibrate_decision_threshold()`.\n",
            "TabularPredictor saved. To load, use: predictor = TabularPredictor.load(\"/content/AutogluonModels/new_onset_medical_complication\")\n"
          ]
        }
      ]
    },
    {
      "cell_type": "markdown",
      "source": [
        "## evaluate AG model on holdout (i.e., test) data"
      ],
      "metadata": {
        "id": "gTGofoba91K3"
      }
    },
    {
      "cell_type": "code",
      "source": [
        "test_data2 = TabularDataset(X_test.join(y_test))\n",
        "predictor.calibrate_decision_threshold()\n",
        "y_pred = predictor.predict(test_data2.drop(columns=[label]))\n",
        "print(predictor.evaluate(test_data2, silent=True))\n",
        "cm = confusion_matrix(y_test, y_pred)\n",
        "print(\"Confusion Matrix:\")\n",
        "print(cm)\n",
        "print(f1_score(y_test,y_pred))\n"
      ],
      "metadata": {
        "colab": {
          "base_uri": "https://localhost:8080/"
        },
        "id": "7qchia-w99Tn",
        "outputId": "39c821dc-fe29-46cf-c184-a8d4adebd1f9"
      },
      "execution_count": 66,
      "outputs": [
        {
          "output_type": "stream",
          "name": "stderr",
          "text": [
            "Calibrating decision threshold to optimize metric f1 | Checking 51 thresholds...\n",
            "Calibrating decision threshold via fine-grained search | Checking 38 thresholds...\n",
            "\tBase Threshold: 0.500\t| val: 0.8333\n",
            "\tBest Threshold: 0.491\t| val: 0.8347\n"
          ]
        },
        {
          "output_type": "stream",
          "name": "stdout",
          "text": [
            "{'f1': 0.8758782201405152, 'accuracy': 0.8822222222222222, 'balanced_accuracy': np.float64(0.8830530683555362), 'mcc': np.float64(0.7645367503585571), 'roc_auc': np.float64(0.944529373225595), 'precision': 0.8577981651376146, 'recall': 0.8947368421052632}\n",
            "Confusion Matrix:\n",
            "[[210  31]\n",
            " [ 22 187]]\n",
            "0.8758782201405152\n"
          ]
        }
      ]
    },
    {
      "cell_type": "markdown",
      "source": [
        "## feature importance"
      ],
      "metadata": {
        "id": "ieu2ZGB9AEDk"
      }
    },
    {
      "cell_type": "code",
      "source": [
        "autogluon_feature_importance = predictor.feature_importance(test_data2,subsample_size=1000,time_limit=400)\n",
        "autogluon_feature_importance['cumsum'] = autogluon_feature_importance['importance'].cumsum()/autogluon_feature_importance['importance'].sum()\n",
        "autogluon_feature_importance['importance_ratio'] = autogluon_feature_importance['importance']/autogluon_feature_importance['importance'].sum()\n",
        "autogluon_feature_importance[['cumsum','importance_ratio']]\n",
        "\n",
        "fig, ax1 = plt.subplots(figsize=(10, 6))\n",
        "\n",
        "# Bar plot on the primary y-axis\n",
        "autogluon_feature_importance_filtered = autogluon_feature_importance[autogluon_feature_importance['importance']>0]\n",
        "ax1.barh(autogluon_feature_importance_filtered.index, autogluon_feature_importance_filtered['importance_ratio'], label='Importance Ratio')\n",
        "ax1.set_xlabel('Importance')\n",
        "ax1.set_ylabel('Features')\n",
        "ax1.set_title('Feature Importance with Cumulative Sum')\n",
        "ax1.legend(loc='upper left') # specify location for the first legend\n",
        "ax1.grid(True, axis='x') # gridlines only on the x-axis for the bar plot\n",
        "ax1.invert_yaxis()\n",
        "\n",
        "# Create a secondary y-axis\n",
        "ax2 = ax1.twiny()\n",
        "\n",
        "# Line plot on the secondary y-axis\n",
        "ax2.plot(autogluon_feature_importance_filtered['cumsum'], autogluon_feature_importance_filtered.index, marker='o', linestyle='-', color='red', label='Cumulative Sum')\n",
        "ax2.set_xlabel('Cumulative Sum')\n",
        "ax2.legend(loc='upper right') # specify location for the second legend\n",
        "\n",
        "# Improve layout\n",
        "fig.tight_layout()\n",
        "plt.show()\n"
      ],
      "metadata": {
        "colab": {
          "base_uri": "https://localhost:8080/",
          "height": 658
        },
        "id": "Ia3c3HKlAIyU",
        "outputId": "cdac6038-e265-49bf-91bc-77414c2c77b5"
      },
      "execution_count": 72,
      "outputs": [
        {
          "output_type": "stream",
          "name": "stderr",
          "text": [
            "Computing feature importance via permutation shuffling for 14 features using 450 rows with 10 shuffle sets... Time limit: 400s...\n",
            "\t5.22s\t= Expected runtime (0.52s per shuffle set)\n",
            "\t1.75s\t= Actual runtime (Completed 10 of 10 shuffle sets)\n"
          ]
        },
        {
          "output_type": "display_data",
          "data": {
            "text/plain": [
              "<Figure size 1000x600 with 2 Axes>"
            ],
            "image/png": "[encoded data removed]"
          },
          "metadata": {}
        }
      ]
    },
    {
      "cell_type": "code",
      "source": [
        "# prompt: get index values of autogluon_feature_importance.sort_values(by='importance',ascending=False)\n",
        "\n",
        "autogluon_feature_importance.sort_values(by='importance',ascending=False).index.tolist()"
      ],
      "metadata": {
        "colab": {
          "base_uri": "https://localhost:8080/"
        },
        "id": "pXvnB1MHBW5W",
        "outputId": "a1da6d78-eff7-4036-feef-3a12c6f3a8f5"
      },
      "execution_count": 74,
      "outputs": [
        {
          "output_type": "execute_result",
          "data": {
            "text/plain": [
              "['wk1_rainy_season_weekly',\n",
              " 'cat1_complications_weekly',\n",
              " 'wk1_resp_rate_weekly',\n",
              " 'estdist_home',\n",
              " 'hl_trend',\n",
              " 'resp_rate',\n",
              " 'household_adults_slept_living_children_z',\n",
              " 'muac_diff_ratio_z',\n",
              " 'muac_trend',\n",
              " 'muac_rsquared',\n",
              " 'muac_diff_ratio_rate',\n",
              " 'weekly_avg_muac',\n",
              " 'wk1_weight_diff_rate',\n",
              " 'wk2_muac']"
            ]
          },
          "metadata": {},
          "execution_count": 74
        }
      ]
    },
    {
      "cell_type": "markdown",
      "source": [
        "## export the AG model"
      ],
      "metadata": {
        "id": "-7h3pMq09eLL"
      }
    },
    {
      "cell_type": "code",
      "source": [
        "VERSION = \"0.1.0\"\n",
        "\n",
        "metadata = {\n",
        "    \"version\": VERSION,\n",
        "    \"inputs\": autogluon_feature_importance.sort_values(by='importance',ascending=False).index.tolist(),\n",
        "    \"outputs\": \"chance of new onset medical complication, referral to inpatient treatment with a cat1 medical severity\",\n",
        "    \"description\": (\n",
        "        \"Predicts chance of new onset medical complication health complication  given the latest 3 weeks of patient weekly (raw and processed) data plus their admission data.  Medical complication is defined as a 'cat1' complication (see vars in raw ODK data with cat1_ prefix)\"\n",
        "    ),\n",
        "    \"feature_engineering\": (\n",
        "        \"<household_adults_slept_living_children_z> is a one-dimension PCA reduction of the normalized values of ['household_adults','household_slept','living_children'] <muac_diff_ratio_z> is a similar reduction of ['muac_diff_ratio','muac'] which are muac change per day over the patient's treatment ((latest muac - first muac)/days in program) and their admittance muac\"\n",
        "    ),\n",
        "    \"contact\": \"Brian Chaplin\",\n",
        "}\n",
        "\n",
        "path = f\"{MODEL_DIR}{label}not1/{VERSION}/model.tar.gz\"\n",
        "\n",
        "do_storage.to_autogluon_tarball(predictor, model_metadata=metadata, path=path)\n",
        "\n"
      ],
      "metadata": {
        "colab": {
          "base_uri": "https://localhost:8080/"
        },
        "id": "wh0cHz38_YBV",
        "outputId": "d10743c2-570e-4034-df9c-edad4201f7f3"
      },
      "execution_count": 89,
      "outputs": [
        {
          "output_type": "stream",
          "name": "stderr",
          "text": [
            "TabularPredictor saved. To load, use: predictor = TabularPredictor.load(\"/content/AutogluonModels/new_onset_medical_complication\")\n"
          ]
        }
      ]
    }
  ]
}