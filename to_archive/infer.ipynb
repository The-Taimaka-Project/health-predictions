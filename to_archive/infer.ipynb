{
  "cells": [
    {
      "cell_type": "markdown",
      "metadata": {
        "id": "68FuV9DJ_FLn"
      },
      "source": [
        "# summary"
      ]
    },
    {
      "cell_type": "markdown",
      "metadata": {
        "id": "E5eX6c0Npw_e"
      },
      "source": [
        "visualize model importance features and specific patients' model predictions and why.  Plot anthropometrics by visit and plot cat2/cat1 events on the timeline."
      ]
    },
    {
      "cell_type": "markdown",
      "metadata": {
        "id": "QOqGxsFd-9pM"
      },
      "source": [
        "# setup"
      ]
    },
    {
      "cell_type": "markdown",
      "metadata": {
        "id": "OZKne8CArZmm"
      },
      "source": [
        "run\n",
        "\n",
        "1.   etl\n",
        "2.   etl_derioration\n",
        "\n",
        "to get the dataframes that this notebook depends on\n",
        "\n"
      ]
    },
    {
      "cell_type": "code",
      "execution_count": 1,
      "metadata": {
        "id": "gw1aLeDippO3"
      },
      "outputs": [],
      "source": [
        "# TODO change to digital ocean\n",
        "MODEL_PATH = \"/content/drive/My Drive/[PBA] Code/model\"\n",
        "# above which percentile should shap values be computed (as it's resource intensive)\n",
        "TOP_PCT = 0.50\n",
        "# export SHAP waterfall plot values (adds to runtime)\n",
        "EXPORT_SHAP_WATERFALL = True"
      ]
    },
    {
      "cell_type": "code",
      "execution_count": 2,
      "metadata": {
        "colab": {
          "base_uri": "https://localhost:8080/"
        },
        "id": "GzTz802nrvbC",
        "outputId": "986b05fe-dfd0-44b1-8b73-866c7d4e714a"
      },
      "outputs": [
        {
          "name": "stdout",
          "output_type": "stream",
          "text": [
            "\u001b[?25l   \u001b[90m━━━━━━━━━━━━━━━━━━━━━━━━━━━━━━━━━━━━━━━━\u001b[0m \u001b[32m0.0/1.6 MB\u001b[0m \u001b[31m?\u001b[0m eta \u001b[36m-:--:--\u001b[0m\r\u001b[2K   \u001b[91m━━━━━━━━━━━━━━\u001b[0m\u001b[91m╸\u001b[0m\u001b[90m━━━━━━━━━━━━━━━━━━━━━━━━━\u001b[0m \u001b[32m0.6/1.6 MB\u001b[0m \u001b[31m16.3 MB/s\u001b[0m eta \u001b[36m0:00:01\u001b[0m\r\u001b[2K   \u001b[91m━━━━━━━━━━━━━━━━━━━━━━━━━━━━━━━━━━━━━━━\u001b[0m\u001b[91m╸\u001b[0m \u001b[32m1.6/1.6 MB\u001b[0m \u001b[31m27.9 MB/s\u001b[0m eta \u001b[36m0:00:01\u001b[0m\r\u001b[2K   \u001b[90m━━━━━━━━━━━━━━━━━━━━━━━━━━━━━━━━━━━━━━━━\u001b[0m \u001b[32m1.6/1.6 MB\u001b[0m \u001b[31m16.7 MB/s\u001b[0m eta \u001b[36m0:00:00\u001b[0m\n",
            "\u001b[?25h  Preparing metadata (setup.py) ... \u001b[?25l\u001b[?25hdone\n",
            "\u001b[2K   \u001b[90m━━━━━━━━━━━━━━━━━━━━━━━━━━━━━━━━━━━━━━━━\u001b[0m \u001b[32m349.3/349.3 kB\u001b[0m \u001b[31m6.9 MB/s\u001b[0m eta \u001b[36m0:00:00\u001b[0m\n",
            "\u001b[2K   \u001b[90m━━━━━━━━━━━━━━━━━━━━━━━━━━━━━━━━━━━━━━━━\u001b[0m \u001b[32m115.7/115.7 kB\u001b[0m \u001b[31m7.6 MB/s\u001b[0m eta \u001b[36m0:00:00\u001b[0m\n",
            "\u001b[?25h  Building wheel for autograd-gamma (setup.py) ... \u001b[?25l\u001b[?25hdone\n"
          ]
        }
      ],
      "source": [
        "\n",
        "!pip install import_ipynb --quiet\n",
        "\n",
        "# shapley explanation of models\n",
        "!pip install shap --quiet\n",
        "# survival analysis\n",
        "!pip install lifelines --quiet"
      ]
    },
    {
      "cell_type": "code",
      "execution_count": null,
      "metadata": {
        "colab": {
          "base_uri": "https://localhost:8080/"
        },
        "id": "phIkLSr8jZcQ",
        "outputId": "6e53d7da-8413-48a2-abfe-bb85cc11b785"
      },
      "outputs": [
        {
          "name": "stdout",
          "output_type": "stream",
          "text": [
            "Cloning into 'health-predictions'...\n",
            "remote: Enumerating objects: 305, done.\u001b[K\n",
            "remote: Counting objects: 100% (169/169), done.\u001b[K\n",
            "remote: Compressing objects: 100% (126/126), done.\u001b[K\n",
            "remote: Total 305 (delta 79), reused 57 (delta 24), pack-reused 136 (from 1)\u001b[K\n",
            "Receiving objects: 100% (305/305), 8.48 MiB | 8.74 MiB/s, done.\n",
            "Resolving deltas: 100% (110/110), done.\n",
            "/content/health-predictions/packages/inference/run\n",
            "/content\n"
          ]
        }
      ],
      "source": [
        "!git clone -b brian-etl-code https://github.com/The-Taimaka-Project/health-predictions.git\n",
        "#!git clone https://github.com/The-Taimaka-Project/health-predictions.git\n",
        "\n",
        "# Change directory to the repository\n",
        "%cd health-predictions/taimaka_health_predictions/inference\n",
        "%pwd\n",
        "#TODO move util here\n",
        "\n",
        "%cd /content"
      ]
    },
    {
      "cell_type": "code",
      "execution_count": 4,
      "metadata": {
        "colab": {
          "base_uri": "https://localhost:8080/"
        },
        "id": "R4eITM1FtRdR",
        "outputId": "c0f3bdea-de1b-49a9-9c5a-ad6cde2795fa"
      },
      "outputs": [
        {
          "name": "stdout",
          "output_type": "stream",
          "text": [
            "Mounted at /content/drive\n"
          ]
        }
      ],
      "source": [
        "import pandas as pd\n",
        "\n",
        "# Set global output format to Pandas\n",
        "from sklearn import set_config\n",
        "set_config(transform_output=\"pandas\")\n",
        "\n",
        "# Set global output format to Pandas\n",
        "import datetime\n",
        "import numpy as np\n",
        "import pickle\n",
        "import os\n",
        "import re\n",
        "import json\n",
        "\n",
        "#import shap\n",
        "import import_ipynb\n",
        "from warnings import simplefilter,filterwarnings\n",
        "\n",
        "from lifelines import WeibullAFTFitter\n",
        "\n",
        "\n",
        "\n",
        "from google.colab import drive\n",
        "drive.mount('/content/drive')\n",
        "\n",
        "\n",
        "os.chdir(\"/content/drive/My Drive/[PBA] Code\")\n",
        "\n",
        "#from util import days_since_min,make_populated_column,logistic_regression,AutogluonWrapper,explain_prediction,plot_anthros,check_cols,plot_corr,drop_result_columns\n",
        "#from util import decision_tree,print_tree,explain_tree_sample,print_patient_probabilities,impute_missing_values,select_logistic_features,get_best_lin_model,explain_logreg\n",
        "#from util import get_best_tree_model,decision_tree_f1,logistic_train,plot_corr_jitter,lightgbm_train,select_features,make_dummy_columns,split_detn_new_onset_medical_complication,ag_model_load\n",
        "#from util import label_test,make_test,label_test_tree,label_test_lin,plot_survival,plot_survival3\n",
        "#from util import ag_feature_generator,label_test_gbm,explain_prediction_gbm,log_odds_to_probability,merge_probabilities,ag_regress_model_load,ag_model_load_suffix\n",
        "from util import reduce_dimensionality,split_detn_new_onset_medical_complication\n",
        "\n",
        "\n",
        "\n",
        "os.chdir(\"/content\")\n",
        "\n",
        "# prompt: read google shared drive file\n",
        "\n",
        "\n",
        "dir = \"/content/drive/My Drive/[PBA] Data/analysis/\"\n",
        "MODEL_PATH = \"/content/drive/My Drive/[PBA] Code/model\"\n",
        "\n"
      ]
    },
    {
      "cell_type": "code",
      "execution_count": 5,
      "metadata": {
        "colab": {
          "base_uri": "https://localhost:8080/"
        },
        "id": "2HyW25kGBt7G",
        "outputId": "dc9ee4a2-a309-4a0f-e03f-e2137e01c2cc"
      },
      "outputs": [
        {
          "name": "stdout",
          "output_type": "stream",
          "text": [
            "\u001b[2K     \u001b[90m━━━━━━━━━━━━━━━━━━━━━━━━━━━━━━━━━━━━━━━━\u001b[0m \u001b[32m44.0/44.0 kB\u001b[0m \u001b[31m3.0 MB/s\u001b[0m eta \u001b[36m0:00:00\u001b[0m\n",
            "\u001b[2K     \u001b[90m━━━━━━━━━━━━━━━━━━━━━━━━━━━━━━━━━━━━━━━━\u001b[0m \u001b[32m43.6/43.6 kB\u001b[0m \u001b[31m2.7 MB/s\u001b[0m eta \u001b[36m0:00:00\u001b[0m\n",
            "\u001b[?25h  Preparing metadata (setup.py) ... \u001b[?25l\u001b[?25hdone\n",
            "\u001b[2K     \u001b[90m━━━━━━━━━━━━━━━━━━━━━━━━━━━━━━━━━━━━━━━━\u001b[0m \u001b[32m43.6/43.6 kB\u001b[0m \u001b[31m3.0 MB/s\u001b[0m eta \u001b[36m0:00:00\u001b[0m\n",
            "\u001b[?25h  Preparing metadata (setup.py) ... \u001b[?25l\u001b[?25hdone\n",
            "\u001b[2K     \u001b[90m━━━━━━━━━━━━━━━━━━━━━━━━━━━━━━━━━━━━━━━\u001b[0m \u001b[32m259.5/259.5 kB\u001b[0m \u001b[31m9.7 MB/s\u001b[0m eta \u001b[36m0:00:00\u001b[0m\n",
            "\u001b[?25h  Preparing metadata (setup.py) ... \u001b[?25l\u001b[?25hdone\n",
            "\u001b[2K   \u001b[90m━━━━━━━━━━━━━━━━━━━━━━━━━━━━━━━━━━━━━━━━\u001b[0m \u001b[32m222.7/222.7 kB\u001b[0m \u001b[31m13.6 MB/s\u001b[0m eta \u001b[36m0:00:00\u001b[0m\n",
            "\u001b[2K   \u001b[90m━━━━━━━━━━━━━━━━━━━━━━━━━━━━━━━━━━━━━━━━\u001b[0m \u001b[32m64.2/64.2 kB\u001b[0m \u001b[31m4.5 MB/s\u001b[0m eta \u001b[36m0:00:00\u001b[0m\n",
            "\u001b[2K   \u001b[90m━━━━━━━━━━━━━━━━━━━━━━━━━━━━━━━━━━━━━━━━\u001b[0m \u001b[32m454.5/454.5 kB\u001b[0m \u001b[31m19.6 MB/s\u001b[0m eta \u001b[36m0:00:00\u001b[0m\n",
            "\u001b[2K   \u001b[90m━━━━━━━━━━━━━━━━━━━━━━━━━━━━━━━━━━━━━━━━\u001b[0m \u001b[32m382.4/382.4 kB\u001b[0m \u001b[31m22.6 MB/s\u001b[0m eta \u001b[36m0:00:00\u001b[0m\n",
            "\u001b[2K   \u001b[90m━━━━━━━━━━━━━━━━━━━━━━━━━━━━━━━━━━━━━━━━\u001b[0m \u001b[32m181.3/181.3 kB\u001b[0m \u001b[31m11.7 MB/s\u001b[0m eta \u001b[36m0:00:00\u001b[0m\n",
            "\u001b[2K   \u001b[90m━━━━━━━━━━━━━━━━━━━━━━━━━━━━━━━━━━━━━━━━\u001b[0m \u001b[32m69.1/69.1 kB\u001b[0m \u001b[31m4.6 MB/s\u001b[0m eta \u001b[36m0:00:00\u001b[0m\n",
            "\u001b[2K   \u001b[90m━━━━━━━━━━━━━━━━━━━━━━━━━━━━━━━━━━━━━━━━\u001b[0m \u001b[32m139.9/139.9 kB\u001b[0m \u001b[31m8.3 MB/s\u001b[0m eta \u001b[36m0:00:00\u001b[0m\n",
            "\u001b[2K   \u001b[90m━━━━━━━━━━━━━━━━━━━━━━━━━━━━━━━━━━━━━━━━\u001b[0m \u001b[32m99.2/99.2 MB\u001b[0m \u001b[31m8.6 MB/s\u001b[0m eta \u001b[36m0:00:00\u001b[0m\n",
            "\u001b[2K   \u001b[90m━━━━━━━━━━━━━━━━━━━━━━━━━━━━━━━━━━━━━━━━\u001b[0m \u001b[32m275.8/275.8 kB\u001b[0m \u001b[31m15.2 MB/s\u001b[0m eta \u001b[36m0:00:00\u001b[0m\n",
            "\u001b[2K   \u001b[90m━━━━━━━━━━━━━━━━━━━━━━━━━━━━━━━━━━━━━━━━\u001b[0m \u001b[32m84.0/84.0 kB\u001b[0m \u001b[31m5.7 MB/s\u001b[0m eta \u001b[36m0:00:00\u001b[0m\n",
            "\u001b[2K   \u001b[90m━━━━━━━━━━━━━━━━━━━━━━━━━━━━━━━━━━━━━━━━\u001b[0m \u001b[32m278.2/278.2 kB\u001b[0m \u001b[31m18.8 MB/s\u001b[0m eta \u001b[36m0:00:00\u001b[0m\n",
            "\u001b[2K   \u001b[90m━━━━━━━━━━━━━━━━━━━━━━━━━━━━━━━━━━━━━━━━\u001b[0m \u001b[32m1.5/1.5 MB\u001b[0m \u001b[31m62.1 MB/s\u001b[0m eta \u001b[36m0:00:00\u001b[0m\n",
            "\u001b[2K   \u001b[90m━━━━━━━━━━━━━━━━━━━━━━━━━━━━━━━━━━━━━━━━\u001b[0m \u001b[32m88.5/88.5 kB\u001b[0m \u001b[31m7.0 MB/s\u001b[0m eta \u001b[36m0:00:00\u001b[0m\n",
            "\u001b[2K   \u001b[90m━━━━━━━━━━━━━━━━━━━━━━━━━━━━━━━━━━━━━━━━\u001b[0m \u001b[32m819.0/819.0 kB\u001b[0m \u001b[31m41.8 MB/s\u001b[0m eta \u001b[36m0:00:00\u001b[0m\n",
            "\u001b[2K   \u001b[90m━━━━━━━━━━━━━━━━━━━━━━━━━━━━━━━━━━━━━━━━\u001b[0m \u001b[32m71.4/71.4 kB\u001b[0m \u001b[31m4.6 MB/s\u001b[0m eta \u001b[36m0:00:00\u001b[0m\n",
            "\u001b[2K   \u001b[90m━━━━━━━━━━━━━━━━━━━━━━━━━━━━━━━━━━━━━━━━\u001b[0m \u001b[32m410.5/410.5 kB\u001b[0m \u001b[31m22.1 MB/s\u001b[0m eta \u001b[36m0:00:00\u001b[0m\n",
            "\u001b[2K   \u001b[90m━━━━━━━━━━━━━━━━━━━━━━━━━━━━━━━━━━━━━━━━\u001b[0m \u001b[32m1.5/1.5 MB\u001b[0m \u001b[31m53.9 MB/s\u001b[0m eta \u001b[36m0:00:00\u001b[0m\n",
            "\u001b[2K   \u001b[90m━━━━━━━━━━━━━━━━━━━━━━━━━━━━━━━━━━━━━━━━\u001b[0m \u001b[32m52.7/52.7 kB\u001b[0m \u001b[31m3.1 MB/s\u001b[0m eta \u001b[36m0:00:00\u001b[0m\n",
            "\u001b[2K   \u001b[90m━━━━━━━━━━━━━━━━━━━━━━━━━━━━━━━━━━━━━━━━\u001b[0m \u001b[32m125.9/125.9 kB\u001b[0m \u001b[31m8.6 MB/s\u001b[0m eta \u001b[36m0:00:00\u001b[0m\n",
            "\u001b[2K   \u001b[90m━━━━━━━━━━━━━━━━━━━━━━━━━━━━━━━━━━━━━━━━\u001b[0m \u001b[32m68.1/68.1 MB\u001b[0m \u001b[31m12.0 MB/s\u001b[0m eta \u001b[36m0:00:00\u001b[0m\n",
            "\u001b[2K   \u001b[90m━━━━━━━━━━━━━━━━━━━━━━━━━━━━━━━━━━━━━━━━\u001b[0m \u001b[32m354.4/354.4 kB\u001b[0m \u001b[31m21.7 MB/s\u001b[0m eta \u001b[36m0:00:00\u001b[0m\n",
            "\u001b[2K   \u001b[90m━━━━━━━━━━━━━━━━━━━━━━━━━━━━━━━━━━━━━━━━\u001b[0m \u001b[32m2.3/2.3 MB\u001b[0m \u001b[31m76.0 MB/s\u001b[0m eta \u001b[36m0:00:00\u001b[0m\n",
            "\u001b[2K   \u001b[90m━━━━━━━━━━━━━━━━━━━━━━━━━━━━━━━━━━━━━━━━\u001b[0m \u001b[32m363.4/363.4 MB\u001b[0m \u001b[31m4.6 MB/s\u001b[0m eta \u001b[36m0:00:00\u001b[0m\n",
            "\u001b[2K   \u001b[90m━━━━━━━━━━━━━━━━━━━━━━━━━━━━━━━━━━━━━━━━\u001b[0m \u001b[32m13.8/13.8 MB\u001b[0m \u001b[31m97.8 MB/s\u001b[0m eta \u001b[36m0:00:00\u001b[0m\n",
            "\u001b[2K   \u001b[90m━━━━━━━━━━━━━━━━━━━━━━━━━━━━━━━━━━━━━━━━\u001b[0m \u001b[32m24.6/24.6 MB\u001b[0m \u001b[31m50.3 MB/s\u001b[0m eta \u001b[36m0:00:00\u001b[0m\n",
            "\u001b[2K   \u001b[90m━━━━━━━━━━━━━━━━━━━━━━━━━━━━━━━━━━━━━━━━\u001b[0m \u001b[32m883.7/883.7 kB\u001b[0m \u001b[31m36.3 MB/s\u001b[0m eta \u001b[36m0:00:00\u001b[0m\n",
            "\u001b[2K   \u001b[90m━━━━━━━━━━━━━━━━━━━━━━━━━━━━━━━━━━━━━━━━\u001b[0m \u001b[32m664.8/664.8 MB\u001b[0m \u001b[31m2.7 MB/s\u001b[0m eta \u001b[36m0:00:00\u001b[0m\n",
            "\u001b[2K   \u001b[90m━━━━━━━━━━━━━━━━━━━━━━━━━━━━━━━━━━━━━━━━\u001b[0m \u001b[32m211.5/211.5 MB\u001b[0m \u001b[31m5.5 MB/s\u001b[0m eta \u001b[36m0:00:00\u001b[0m\n",
            "\u001b[2K   \u001b[90m━━━━━━━━━━━━━━━━━━━━━━━━━━━━━━━━━━━━━━━━\u001b[0m \u001b[32m56.3/56.3 MB\u001b[0m \u001b[31m13.3 MB/s\u001b[0m eta \u001b[36m0:00:00\u001b[0m\n",
            "\u001b[2K   \u001b[90m━━━━━━━━━━━━━━━━━━━━━━━━━━━━━━━━━━━━━━━━\u001b[0m \u001b[32m127.9/127.9 MB\u001b[0m \u001b[31m7.4 MB/s\u001b[0m eta \u001b[36m0:00:00\u001b[0m\n",
            "\u001b[2K   \u001b[90m━━━━━━━━━━━━━━━━━━━━━━━━━━━━━━━━━━━━━━━━\u001b[0m \u001b[32m207.5/207.5 MB\u001b[0m \u001b[31m6.1 MB/s\u001b[0m eta \u001b[36m0:00:00\u001b[0m\n",
            "\u001b[2K   \u001b[90m━━━━━━━━━━━━━━━━━━━━━━━━━━━━━━━━━━━━━━━━\u001b[0m \u001b[32m21.1/21.1 MB\u001b[0m \u001b[31m76.3 MB/s\u001b[0m eta \u001b[36m0:00:00\u001b[0m\n",
            "\u001b[2K   \u001b[90m━━━━━━━━━━━━━━━━━━━━━━━━━━━━━━━━━━━━━━━━\u001b[0m \u001b[32m962.6/962.6 kB\u001b[0m \u001b[31m47.1 MB/s\u001b[0m eta \u001b[36m0:00:00\u001b[0m\n",
            "\u001b[2K   \u001b[90m━━━━━━━━━━━━━━━━━━━━━━━━━━━━━━━━━━━━━━━━\u001b[0m \u001b[32m10.0/10.0 MB\u001b[0m \u001b[31m99.2 MB/s\u001b[0m eta \u001b[36m0:00:00\u001b[0m\n",
            "\u001b[2K   \u001b[90m━━━━━━━━━━━━━━━━━━━━━━━━━━━━━━━━━━━━━━━━\u001b[0m \u001b[32m41.7/41.7 kB\u001b[0m \u001b[31m2.8 MB/s\u001b[0m eta \u001b[36m0:00:00\u001b[0m\n",
            "\u001b[2K   \u001b[90m━━━━━━━━━━━━━━━━━━━━━━━━━━━━━━━━━━━━━━━━\u001b[0m \u001b[32m823.1/823.1 kB\u001b[0m \u001b[31m43.1 MB/s\u001b[0m eta \u001b[36m0:00:00\u001b[0m\n",
            "\u001b[2K   \u001b[90m━━━━━━━━━━━━━━━━━━━━━━━━━━━━━━━━━━━━━━━━\u001b[0m \u001b[32m13.6/13.6 MB\u001b[0m \u001b[31m97.7 MB/s\u001b[0m eta \u001b[36m0:00:00\u001b[0m\n",
            "\u001b[2K   \u001b[90m━━━━━━━━━━━━━━━━━━━━━━━━━━━━━━━━━━━━━━━━\u001b[0m \u001b[32m2.7/2.7 MB\u001b[0m \u001b[31m75.1 MB/s\u001b[0m eta \u001b[36m0:00:00\u001b[0m\n",
            "\u001b[2K   \u001b[90m━━━━━━━━━━━━━━━━━━━━━━━━━━━━━━━━━━━━━━━━\u001b[0m \u001b[32m85.2/85.2 kB\u001b[0m \u001b[31m6.4 MB/s\u001b[0m eta \u001b[36m0:00:00\u001b[0m\n",
            "\u001b[2K   \u001b[90m━━━━━━━━━━━━━━━━━━━━━━━━━━━━━━━━━━━━━━━━\u001b[0m \u001b[32m87.2/87.2 kB\u001b[0m \u001b[31m6.3 MB/s\u001b[0m eta \u001b[36m0:00:00\u001b[0m\n",
            "\u001b[2K   \u001b[90m━━━━━━━━━━━━━━━━━━━━━━━━━━━━━━━━━━━━━━━━\u001b[0m \u001b[32m62.3/62.3 kB\u001b[0m \u001b[31m3.7 MB/s\u001b[0m eta \u001b[36m0:00:00\u001b[0m\n",
            "\u001b[2K   \u001b[90m━━━━━━━━━━━━━━━━━━━━━━━━━━━━━━━━━━━━━━━━\u001b[0m \u001b[32m6.1/6.1 MB\u001b[0m \u001b[31m81.8 MB/s\u001b[0m eta \u001b[36m0:00:00\u001b[0m\n",
            "\u001b[2K   \u001b[90m━━━━━━━━━━━━━━━━━━━━━━━━━━━━━━━━━━━━━━━━\u001b[0m \u001b[32m201.4/201.4 kB\u001b[0m \u001b[31m13.4 MB/s\u001b[0m eta \u001b[36m0:00:00\u001b[0m\n",
            "\u001b[2K   \u001b[90m━━━━━━━━━━━━━━━━━━━━━━━━━━━━━━━━━━━━━━━━\u001b[0m \u001b[32m128.2/128.2 kB\u001b[0m \u001b[31m9.7 MB/s\u001b[0m eta \u001b[36m0:00:00\u001b[0m\n",
            "\u001b[2K   \u001b[90m━━━━━━━━━━━━━━━━━━━━━━━━━━━━━━━━━━━━━━━━\u001b[0m \u001b[32m386.6/386.6 kB\u001b[0m \u001b[31m22.4 MB/s\u001b[0m eta \u001b[36m0:00:00\u001b[0m\n",
            "\u001b[2K   \u001b[90m━━━━━━━━━━━━━━━━━━━━━━━━━━━━━━━━━━━━━━━━\u001b[0m \u001b[32m242.5/242.5 kB\u001b[0m \u001b[31m16.7 MB/s\u001b[0m eta \u001b[36m0:00:00\u001b[0m\n",
            "\u001b[2K   \u001b[90m━━━━━━━━━━━━━━━━━━━━━━━━━━━━━━━━━━━━━━━━\u001b[0m \u001b[32m469.0/469.0 kB\u001b[0m \u001b[31m26.6 MB/s\u001b[0m eta \u001b[36m0:00:00\u001b[0m\n",
            "\u001b[2K   \u001b[90m━━━━━━━━━━━━━━━━━━━━━━━━━━━━━━━━━━━━━━━━\u001b[0m \u001b[32m135.3/135.3 kB\u001b[0m \u001b[31m8.3 MB/s\u001b[0m eta \u001b[36m0:00:00\u001b[0m\n",
            "\u001b[2K   \u001b[90m━━━━━━━━━━━━━━━━━━━━━━━━━━━━━━━━━━━━━━━━\u001b[0m \u001b[32m55.3/55.3 kB\u001b[0m \u001b[31m3.3 MB/s\u001b[0m eta \u001b[36m0:00:00\u001b[0m\n",
            "\u001b[2K   \u001b[90m━━━━━━━━━━━━━━━━━━━━━━━━━━━━━━━━━━━━━━━━\u001b[0m \u001b[32m2.3/2.3 MB\u001b[0m \u001b[31m69.4 MB/s\u001b[0m eta \u001b[36m0:00:00\u001b[0m\n",
            "\u001b[?25h  Building wheel for nvidia-ml-py3 (setup.py) ... \u001b[?25l\u001b[?25hdone\n",
            "  Building wheel for seqeval (setup.py) ... \u001b[?25l\u001b[?25hdone\n",
            "\u001b[31mERROR: pip's dependency resolver does not currently take into account all the packages that are installed. This behaviour is the source of the following dependency conflicts.\n",
            "textblob 0.19.0 requires nltk>=3.9, but you have nltk 3.8.1 which is incompatible.\u001b[0m\u001b[31m\n",
            "\u001b[0m"
          ]
        }
      ],
      "source": [
        "# use auto ML (autogluon) to predict the 5 deterioration events\n",
        "!pip install autogluon --quiet"
      ]
    },
    {
      "cell_type": "code",
      "execution_count": 6,
      "metadata": {
        "id": "zL3On98kBu0L"
      },
      "outputs": [],
      "source": [
        "from autogluon.features.generators import AutoMLPipelineFeatureGenerator\n",
        "from autogluon.tabular import TabularDataset, TabularPredictor\n"
      ]
    },
    {
      "cell_type": "code",
      "execution_count": 7,
      "metadata": {
        "id": "w7hEhi0FmlIt"
      },
      "outputs": [],
      "source": [
        "import logging\n",
        "# Create a logger# Create a logger\n",
        "logger = logging.getLogger('my_logger')\n",
        "logger.setLevel(logging.DEBUG) # Set the minimum logging level\n",
        "\n",
        "# Create a handler to output logs to the console\n",
        "console_handler = logging.StreamHandler()\n",
        "\n",
        "file_handler = logging.FileHandler('my_log.log')\n",
        "file_handler.setLevel(logging.INFO) # Set the logging level for the handler\n",
        "\n",
        "\n",
        "# Create a formatter to specify the log message format\n",
        "formatter = logging.Formatter('%(asctime)s - %(levelname)s - %(lineno)d - %(funcName)s - %(message)s')\n",
        "\n",
        "# Add the formatter to the handler\n",
        "\n",
        "file_handler.setFormatter(formatter)\n",
        "\n",
        "# Add the handler to the logger\n",
        "logger.addHandler(file_handler)\n"
      ]
    },
    {
      "cell_type": "code",
      "execution_count": 8,
      "metadata": {
        "id": "4b7Zr55vEQxg"
      },
      "outputs": [],
      "source": [
        "# TODO replace with csv\n",
        "with open(dir + 'admit_weekly.pkl', 'rb') as f:\n",
        "  admit_weekly = pickle.load(f)\n",
        "with open(dir + 'admit_current.pkl', 'rb') as f:\n",
        "  admit_current = pickle.load(f)"
      ]
    },
    {
      "cell_type": "code",
      "execution_count": 9,
      "metadata": {
        "id": "i2KCOOjotX-U"
      },
      "outputs": [],
      "source": [
        "simplefilter(action=\"ignore\", category=pd.errors.PerformanceWarning)\n",
        "simplefilter(action=\"ignore\", category=FutureWarning)"
      ]
    },
    {
      "cell_type": "code",
      "execution_count": 10,
      "metadata": {
        "colab": {
          "base_uri": "https://localhost:8080/"
        },
        "id": "KYEKswjk48Fn",
        "outputId": "eeede781-da19-48fe-fec6-986ec4f23537"
      },
      "outputs": [
        {
          "name": "stderr",
          "output_type": "stream",
          "text": [
            "DEBUG:my_logger:(10322, 3)\n"
          ]
        }
      ],
      "source": [
        "pid_probabilities = admit_current[['pid','status','site_current']].copy()\n",
        "active_pids = pid_probabilities[pid_probabilities['status']=='active']['pid'].unique()\n",
        "logger.debug(pid_probabilities.shape)"
      ]
    },
    {
      "cell_type": "code",
      "execution_count": 11,
      "metadata": {
        "id": "8SMIT_jTzGCJ"
      },
      "outputs": [],
      "source": [
        "def read_detn(label):\n",
        "  with open(dir + f'{label}.pkl', 'rb') as f:\n",
        "    detn = pickle.load(f)\n",
        "  return detn\n"
      ]
    },
    {
      "cell_type": "markdown",
      "metadata": {
        "id": "PnPPB-pUqPC5"
      },
      "source": [
        "# new onset medical complication"
      ]
    },
    {
      "cell_type": "markdown",
      "metadata": {
        "id": "rPsa-RniLj2M"
      },
      "source": [
        "New onset medical complication - 'cat1' complication (see vars in raw ODK data with cat1_ prefix)"
      ]
    },
    {
      "cell_type": "code",
      "execution_count": 12,
      "metadata": {
        "colab": {
          "base_uri": "https://localhost:8080/"
        },
        "id": "FHBzZJgrtl7X",
        "outputId": "3d602128-5a34-427e-a219-194dee0faccf"
      },
      "outputs": [
        {
          "name": "stderr",
          "output_type": "stream",
          "text": [
            "DEBUG:my_logger:((10322, 2345), np.int64(1136)),0.11005619066072467\n",
            "DEBUG:my_logger:(9747, 2328)\n",
            "DEBUG:my_logger:((9747, 2328), np.int64(1136)),0.11654868164563456,(9747, 2328)\n",
            "DEBUG:my_logger:1051,0.47087813620071683,(2232, 2330)\n"
          ]
        }
      ],
      "source": [
        "# prompt: use pickle to read deterioration dataframe\n",
        "label = 'new_onset_medical_complication'\n",
        "\n",
        "#detn = read_detn(label)\n",
        "\n",
        "with open(dir + f'{label}.pkl', 'rb') as f:\n",
        "  detn = pickle.load(f)\n",
        "logger.debug(f'{detn.shape,detn[label].sum()},{detn[label].mean()}')\n",
        "# (5215, 1786) 512 0.09817833173537871 version 1, 11/15\n",
        "# (5215, 1831) 524 0.10047938638542665 version 2\n",
        "# (5215, 1615)\n",
        "#detn = drop_result_columns(detn,label)\n",
        "#detn.drop(columns=[f'{label}_date'],inplace=True)\n",
        "detn = detn[detn['weekly_last_admit'].notnull()].copy()\n",
        "\n",
        "detn.drop(columns='c_admission_other',inplace=True) # causes duplicate column if get_dummies invoked\n",
        "detn.drop(columns='phone_owner_other',inplace=True) # messes up get_dummies\n",
        "detn.drop(columns='calc_dayssincevita',inplace=True) # incorrectly calculated for non-active, messes up detn_wk1_only models\n",
        "\n",
        "y_cat1_cols = [col for col in detn.columns if col.startswith('y_cat1')]\n",
        "detn.drop(columns=y_cat1_cols,inplace=True) # only looking at label new_onset_medical_complication, not the actual categories\n",
        "\n",
        "logger.debug(detn.shape)\n",
        "\n",
        "#detn['glbsite'] = detn['glbsite'].str.lower()\n",
        "#detn['wk1_autosite'] = detn['wk1_autosite'].str.lower()\n",
        "detn['wk1_calc_los'] = round(detn['wk1_calc_los'],0)\n",
        "detn['weekly_last_muac'] = round(detn['weekly_last_muac'],1)\n",
        "\n",
        "detn['wk1_calc_los'].fillna(0,inplace=True)\n",
        "LOS_CUTOFF = 12\n",
        "MUAC_CUTOFF = 12.5\n",
        "logger.debug(f'{detn.shape,detn[label].sum()},{detn[label].mean()},{detn.shape}')\n",
        "\n",
        "\n",
        "detn = detn[(detn['weekly_last_muac']< MUAC_CUTOFF) & (detn['wk1_calc_los']< LOS_CUTOFF) ].copy()\n",
        "\n",
        "detn = reduce_dimensionality(detn,['muac_diff_ratio','muac'],'muac_diff_ratio_z')\n",
        "detn = reduce_dimensionality(detn,['household_adults','household_slept','living_children'],'household_adults_slept_living_children_z')\n",
        "\n",
        "logger.debug(f'{detn[label].sum()},{detn[label].mean()},{detn.shape}')\n"
      ]
    },
    {
      "cell_type": "markdown",
      "metadata": {
        "id": "OMrHUhTrDhkg"
      },
      "source": [
        "## predictive model importances"
      ]
    },
    {
      "cell_type": "markdown",
      "metadata": {
        "id": "oh11aDEA7R3c"
      },
      "source": [
        "### AutoGluon"
      ]
    },
    {
      "cell_type": "markdown",
      "metadata": {
        "id": "helwRMuv_c7o"
      },
      "source": [
        "#### stratified models by length of service"
      ]
    },
    {
      "cell_type": "code",
      "execution_count": 13,
      "metadata": {
        "id": "ESnmeXuBqsU5"
      },
      "outputs": [],
      "source": [
        "def run_ag_model(label,detn,suffix):\n",
        "  from autogluon.tabular import TabularDataset, TabularPredictor\n",
        "  from util import AutogluonWrapper\n",
        "  import shap\n",
        "\n",
        "\n",
        "  model_path = f\"{MODEL_PATH}/{label}{suffix}/\"\n",
        "  predictor = TabularPredictor.load(model_path,require_py_version_match=False,require_version_match=False)\n",
        "\n",
        "  ag_features = predictor.features()\n",
        "  logger.debug(f'ag features:, {len(ag_features)}, {ag_features}')\n",
        "\n",
        "\n",
        "  y_pred_proba_all = predictor.predict_proba(detn[ag_features])\n",
        "\n",
        "  target_class = 1  # can be any possible value of the label column\n",
        "  negative_class = 0\n",
        "  baseline = detn[ag_features][detn[label]==negative_class].sample(20, random_state=0)\n",
        "  ag_wrapper = AutogluonWrapper(predictor, ag_features, target_class)\n",
        "  explainer = shap.KernelExplainer(ag_wrapper.predict_proba, baseline)\n",
        "\n",
        "\n",
        "  return y_pred_proba_all,explainer,ag_features"
      ]
    },
    {
      "cell_type": "code",
      "execution_count": 14,
      "metadata": {
        "id": "LgmbX80A05rY"
      },
      "outputs": [],
      "source": [
        "def export_waterfall_shap_values(explainer2,detn,features):\n",
        "  import shap\n",
        "\n",
        "  shap_values_all = explainer2.shap_values(detn[features]) # Calculate SHAP values\n",
        "\n",
        "  exp_all = shap.Explanation(shap_values_all,\n",
        "                       explainer2.expected_value,\n",
        "                       data=detn[features].values,\n",
        "                       feature_names=features)\n",
        "\n",
        "\n",
        "  # prompt: create a json object combining each array occurrence of exp_all.values with the corresponding array occurence of exp_all.data\n",
        "\n",
        "  json_objects = []\n",
        "  for shap_values_array, feature_values_array in zip(exp_all.values, exp_all.data):\n",
        "      # Create a dictionary for the current instance\n",
        "      data_dict = {\n",
        "          'base_probability': exp_all.base_values,\n",
        "          'shap_values': shap_values_array.tolist(),\n",
        "          'feature_values': feature_values_array.tolist(),\n",
        "          'feature_names': exp_all.feature_names\n",
        "      }\n",
        "      json_objects.append(data_dict)\n",
        "\n",
        "  # prompt: zip detn['pid'] and json_objects into a dict keyed by detn['pid']\n",
        "\n",
        "  json_dict = dict(zip(detn['pid'], json_objects))\n",
        "\n",
        "\n",
        "  # Example: Create a Series from the json_dict where the index is the pid\n",
        "  json_series = pd.Series(json_dict)\n",
        "  return json_series\n",
        "\n"
      ]
    },
    {
      "cell_type": "code",
      "execution_count": 15,
      "metadata": {
        "colab": {
          "base_uri": "https://localhost:8080/"
        },
        "id": "3u20lJD0_ycg",
        "outputId": "7cfae028-79df-4a9d-a4bd-d0ce01f73b52"
      },
      "outputs": [
        {
          "name": "stdout",
          "output_type": "stream",
          "text": [
            "(433, 536) (424, 1436) (421, 1883) (954, 2330)\n"
          ]
        }
      ],
      "source": [
        "detn_admit_only,_,_,_ = split_detn_new_onset_medical_complication(detn,label)\n",
        "\n",
        "#detn_admit_only = make_dummy_columns(detn_admit_only)\n",
        "pid_not_in_admit = detn[~detn['pid'].isin(detn_admit_only['pid'])]['pid']\n",
        "detn_filtered = detn[detn['pid'].isin(pid_not_in_admit)].copy()\n",
        "\n"
      ]
    },
    {
      "cell_type": "code",
      "execution_count": 16,
      "metadata": {
        "colab": {
          "base_uri": "https://localhost:8080/"
        },
        "id": "jW8DNGUzBrV8",
        "outputId": "d7622ccc-939e-4a67-8570-ccbdd05962b8"
      },
      "outputs": [
        {
          "name": "stderr",
          "output_type": "stream",
          "text": [
            "Found 1 mismatches between original and current metadata:\n",
            "\tINFO: AutoGluon Python micro version mismatch (original=3.11.12, current=3.11.13)\n",
            "DEBUG:my_logger:ag features:, 7, ['admit_cat1_complications', 'estdist_home', 'household_adults_slept_living_children_z', 'age_takefamily', 'rainy_season_admit', 'temperature', 'resp_rate']\n",
            "Found 1 mismatches between original and current metadata:\n",
            "\tINFO: AutoGluon Python micro version mismatch (original=3.11.12, current=3.11.13)\n",
            "DEBUG:my_logger:ag features:, 14, ['hl_trend', 'weekly_avg_muac', 'wk2_muac', 'estdist_home', 'wk1_rainy_season_weekly', 'resp_rate', 'muac_trend', 'cat1_complications_weekly', 'household_adults_slept_living_children_z', 'muac_diff_ratio_z', 'muac_rsquared', 'muac_diff_ratio_rate', 'wk1_weight_diff_rate', 'wk1_resp_rate_weekly']\n"
          ]
        }
      ],
      "source": [
        "y_pred_proba_all1,explainer1,ag_features1 = run_ag_model(label,detn_admit_only,'1')\n",
        "y_pred_proba_all2,explainer2,ag_features2 = run_ag_model(label,detn_filtered,'not1')\n"
      ]
    },
    {
      "cell_type": "code",
      "execution_count": 17,
      "metadata": {
        "id": "GD4UFxSuHOui"
      },
      "outputs": [],
      "source": [
        "#y_pred_proba_all_stratified = pd.concat([y_pred_proba_all1,y_pred_proba_all2,y_pred_proba_all3,y_pred_proba_all4],axis=0)\n",
        "y_pred_proba_all_stratified = pd.concat([y_pred_proba_all1,y_pred_proba_all2],axis=0)\n",
        "y_pred_proba_all_stratified_series = y_pred_proba_all_stratified[1].rename(f'probability_{label}_stratified')\n",
        "pid_probabilities = pid_probabilities.join(y_pred_proba_all_stratified_series)"
      ]
    },
    {
      "cell_type": "code",
      "execution_count": 18,
      "metadata": {
        "id": "aUW134Enzyzp"
      },
      "outputs": [],
      "source": [
        "pid_probabilities[f'percentrank_{label}_stratified'] = pid_probabilities[f'probability_{label}_stratified'].rank(pct=True)\n",
        "top_pct_pids = pid_probabilities[pid_probabilities[f'percentrank_{label}_stratified'] > TOP_PCT]['pid'].unique()\n"
      ]
    },
    {
      "cell_type": "code",
      "execution_count": 19,
      "metadata": {
        "colab": {
          "base_uri": "https://localhost:8080/",
          "height": 81,
          "referenced_widgets": [
            "b4405eda602a46d0bdabac79e97eaaf1",
            "e1ebc20b75c7418c9cebb6eb555ade52",
            "97ceac4d4994483eb3afbdddc2497c7e",
            "538c17cfacc24b91b9a4cd8ba27a7122",
            "d167686c20d842b395fa4357887cfbb1",
            "525efe37e51e4ba2902bb5e2b281abce",
            "c8cf699c630e46c480442f31a12469b1",
            "09bc2252ef4943b2ac23dfc610ae8400",
            "3df345c50c974cb4ac501d080c568a66",
            "7da23728c4c24133926cce02a7121641",
            "91ad322ec28142ab9bc997056dba7712",
            "3fb78f032e444d668ed52521597ea1f9",
            "3428ba9d9d2147b48ec538c96742f096",
            "43fb132a294843c6b8be0a26a1c85448",
            "496b4524cb5843f08fe6ce4ab146933a",
            "365322e410fd4c81bedf967439da117f",
            "1006a18f44c8483793fe3ba50ce3dc85",
            "7f74d9d5738244c8a73055eb6c9cf6bc",
            "d3ad248ded9f4a3485e65dbed90403a1",
            "178a418d270d4aca8289e20993029ee6",
            "d1cf41ab7f414929afe2df5fd9c31003",
            "5aae14b83b244f4f99faff993ee92dbe"
          ]
        },
        "id": "WinypWsX0koW",
        "outputId": "486380c0-d07c-4604-d6ab-9da5066054a1"
      },
      "outputs": [
        {
          "data": {
            "application/vnd.jupyter.widget-view+json": {
              "model_id": "b4405eda602a46d0bdabac79e97eaaf1",
              "version_major": 2,
              "version_minor": 0
            },
            "text/plain": [
              "  0%|          | 0/25 [00:00<?, ?it/s]"
            ]
          },
          "metadata": {},
          "output_type": "display_data"
        },
        {
          "data": {
            "application/vnd.jupyter.widget-view+json": {
              "model_id": "3fb78f032e444d668ed52521597ea1f9",
              "version_major": 2,
              "version_minor": 0
            },
            "text/plain": [
              "  0%|          | 0/13 [00:00<?, ?it/s]"
            ]
          },
          "metadata": {},
          "output_type": "display_data"
        }
      ],
      "source": [
        "if EXPORT_SHAP_WATERFALL:\n",
        "  json_series = export_waterfall_shap_values(explainer1,detn_admit_only[(detn_admit_only['pid'].isin(active_pids)) & (detn_admit_only['pid'].isin(top_pct_pids)) & (detn_admit_only[label]== 0)],ag_features1)\n",
        "  json_series2 = export_waterfall_shap_values(explainer2,detn_filtered[(detn_filtered['pid'].isin(active_pids)) & (detn_filtered['pid'].isin(top_pct_pids)) & (detn_filtered[label]== 0)],ag_features2)\n",
        "  pid_probabilities = pd.merge(pid_probabilities, pd.concat([json_series, json_series2]).rename(f'{label}_shap_data'), left_on='pid', right_index=True, how='left')\n"
      ]
    },
    {
      "cell_type": "markdown",
      "metadata": {
        "id": "at01KKWcEYvM"
      },
      "source": [
        "#### all los in single model"
      ]
    },
    {
      "cell_type": "markdown",
      "metadata": {
        "id": "CaHB8bRIlwJW"
      },
      "source": [
        "### Light Gradient-Boosting Machine (GBM) classifier"
      ]
    },
    {
      "cell_type": "markdown",
      "metadata": {
        "id": "TARnSunWsZuM"
      },
      "source": [
        "### explain via Decision Tree Classifier"
      ]
    },
    {
      "cell_type": "markdown",
      "metadata": {
        "id": "N9l1TCBRMFVS"
      },
      "source": [
        "### explain via logistic linear regression"
      ]
    },
    {
      "cell_type": "markdown",
      "metadata": {
        "id": "gZp5g2v7J4Z1"
      },
      "source": [
        "## survival"
      ]
    },
    {
      "cell_type": "code",
      "execution_count": 20,
      "metadata": {
        "colab": {
          "base_uri": "https://localhost:8080/"
        },
        "id": "O56rhvJEJ_Sj",
        "outputId": "41bdc518-5410-478e-ee06-fd7fac9f8106"
      },
      "outputs": [
        {
          "name": "stderr",
          "output_type": "stream",
          "text": [
            "DEBUG:my_logger:1051,(2232, 2330)\n",
            "DEBUG:my_logger:1051,(2232, 2332)\n",
            "DEBUG:my_logger:1051,(2063, 2332)\n"
          ]
        }
      ],
      "source": [
        "# survival\n",
        "logger.debug(f'{detn[label].sum()},{detn.shape}')\n",
        "detn = pd.merge(detn, admit_current[['pid','status','status_date']], on='pid', how='inner')\n",
        "logger.debug(f'{detn[label].sum()},{detn.shape}')\n",
        "\n",
        "label_date = f'{label}_date'\n",
        "\n",
        "detn.loc[detn[label] == 0, label_date] = None\n",
        "\n",
        "# prompt: filter detn for label_date not null or wk1_calcdate_weekly not null\n",
        "\n",
        "# drop those w/o a visit, hence no lifetime to be plotted)\n",
        "detn = detn[(detn[label_date].notnull()) | (detn['wk1_calcdate_weekly'].notnull())].copy()\n",
        "logger.debug(f'{detn[label].sum()},{detn.shape}')\n",
        "\n"
      ]
    },
    {
      "cell_type": "code",
      "execution_count": 21,
      "metadata": {
        "colab": {
          "base_uri": "https://localhost:8080/"
        },
        "id": "mFV_TWpNLo7V",
        "outputId": "0073abce-6bb4-4de4-b796-8ea6038ac08b"
      },
      "outputs": [
        {
          "name": "stderr",
          "output_type": "stream",
          "text": [
            "DEBUG:my_logger:1051\n"
          ]
        }
      ],
      "source": [
        "# prompt: create column in detn called final_date which is status_date or wk1_calcdate_weekly whichever is greater\n",
        "# Create 'final_date' column, choosing the later date between 'status_date' and 'wk1_calcdate_weekly'\n",
        "detn['final_date'] = detn[['status_date', 'wk1_calcdate_weekly']].max(axis=1)\n",
        "\n",
        "# Fill NaN (active patients w/o a visit) values in 'final_date' with today's date\n",
        "detn['final_date'] = detn['final_date'].fillna(datetime.date.today())\n",
        "detn['final_date'] = pd.to_datetime(detn['final_date'])\n",
        "detn['duration_days'] = detn['final_date'] - detn['calcdate']\n",
        "detn['duration_days'] = detn['duration_days'].dt.days\n",
        "\n",
        "logger.debug(detn[label_date].notnull().sum())\n"
      ]
    },
    {
      "cell_type": "code",
      "execution_count": 22,
      "metadata": {
        "id": "Fi4fn4GCMHBj"
      },
      "outputs": [],
      "source": [
        "# prompt: for rows in detn where label==1 set duration_days to label_date - calcdate\n",
        "\n",
        "# Calculate duration_days only for rows where label == 1\n",
        "detn.loc[detn[label] == 1, 'duration_days'] = (detn.loc[detn[label] == 1, label_date] - detn.loc[detn[label] == 1, 'calcdate']).dt.days\n"
      ]
    },
    {
      "cell_type": "code",
      "execution_count": 23,
      "metadata": {
        "id": "hEj9kdgIP0z7"
      },
      "outputs": [],
      "source": [
        "# prompt: clip detn['duration_days'] to 0.1\n",
        "\n",
        "detn['duration_days'] = detn['duration_days'].clip(lower=0.1)\n"
      ]
    },
    {
      "cell_type": "markdown",
      "metadata": {
        "id": "IwlVAl0-Fdjg"
      },
      "source": [
        "### AFT survival regression"
      ]
    },
    {
      "cell_type": "code",
      "execution_count": 24,
      "metadata": {
        "id": "G9rBSd4mRbYR"
      },
      "outputs": [],
      "source": [
        "# AFT survival regression\n",
        "selected_columns = ['muac_diff','wk1_muac','muac_diff_ratio_rate']\n",
        "\n",
        "X = detn[selected_columns].copy()\n",
        "\n",
        "data_y = detn[[label,'duration_days']].copy()\n",
        "data_x_numeric = X.copy()\n",
        "data_y = detn[[label,'duration_days']].copy()\n",
        "\n",
        "regression_dataset=data_x_numeric.join(data_y)"
      ]
    },
    {
      "cell_type": "code",
      "execution_count": 25,
      "metadata": {
        "colab": {
          "base_uri": "https://localhost:8080/",
          "height": 680
        },
        "id": "NcF0HzrBVocK",
        "outputId": "71779d82-450a-4496-884f-786639c2374c"
      },
      "outputs": [
        {
          "data": {
            "text/html": [
              "<div>\n",
              "<style scoped>\n",
              "    .dataframe tbody tr th:only-of-type {\n",
              "        vertical-align: middle;\n",
              "    }\n",
              "\n",
              "    .dataframe tbody tr th {\n",
              "        vertical-align: top;\n",
              "    }\n",
              "\n",
              "    .dataframe thead th {\n",
              "        text-align: right;\n",
              "    }\n",
              "</style>\n",
              "<table border=\"1\" class=\"dataframe\">\n",
              "  <tbody>\n",
              "    <tr>\n",
              "      <th>model</th>\n",
              "      <td>lifelines.WeibullAFTFitter</td>\n",
              "    </tr>\n",
              "    <tr>\n",
              "      <th>duration col</th>\n",
              "      <td>'duration_days'</td>\n",
              "    </tr>\n",
              "    <tr>\n",
              "      <th>event col</th>\n",
              "      <td>'new_onset_medical_complication'</td>\n",
              "    </tr>\n",
              "    <tr>\n",
              "      <th>number of observations</th>\n",
              "      <td>1799</td>\n",
              "    </tr>\n",
              "    <tr>\n",
              "      <th>number of events observed</th>\n",
              "      <td>787</td>\n",
              "    </tr>\n",
              "    <tr>\n",
              "      <th>log-likelihood</th>\n",
              "      <td>-3585.08</td>\n",
              "    </tr>\n",
              "    <tr>\n",
              "      <th>time fit was run</th>\n",
              "      <td>2025-06-14 22:54:20 UTC</td>\n",
              "    </tr>\n",
              "  </tbody>\n",
              "</table>\n",
              "</div><table border=\"1\" class=\"dataframe\">\n",
              "  <thead>\n",
              "    <tr style=\"text-align: right;\">\n",
              "      <th style=\"min-width: 12px;\"></th>\n",
              "      <th style=\"min-width: 12px;\"></th>\n",
              "      <th style=\"min-width: 12px;\">coef</th>\n",
              "      <th style=\"min-width: 12px;\">exp(coef)</th>\n",
              "      <th style=\"min-width: 12px;\">se(coef)</th>\n",
              "      <th style=\"min-width: 12px;\">coef lower 95%</th>\n",
              "      <th style=\"min-width: 12px;\">coef upper 95%</th>\n",
              "      <th style=\"min-width: 12px;\">exp(coef) lower 95%</th>\n",
              "      <th style=\"min-width: 12px;\">exp(coef) upper 95%</th>\n",
              "      <th style=\"min-width: 12px;\">cmp to</th>\n",
              "      <th style=\"min-width: 12px;\">z</th>\n",
              "      <th style=\"min-width: 12px;\">p</th>\n",
              "      <th style=\"min-width: 12px;\">-log2(p)</th>\n",
              "    </tr>\n",
              "  </thead>\n",
              "  <tbody>\n",
              "    <tr>\n",
              "      <th rowspan=\"4\" valign=\"top\">lambda_</th>\n",
              "      <th>Intercept</th>\n",
              "      <td>4.21</td>\n",
              "      <td>67.02</td>\n",
              "      <td>0.20</td>\n",
              "      <td>3.81</td>\n",
              "      <td>4.60</td>\n",
              "      <td>44.96</td>\n",
              "      <td>99.90</td>\n",
              "      <td>0.00</td>\n",
              "      <td>20.65</td>\n",
              "      <td>&lt;0.005</td>\n",
              "      <td>312.23</td>\n",
              "    </tr>\n",
              "    <tr>\n",
              "      <th>wk1_muac</th>\n",
              "      <td>-0.04</td>\n",
              "      <td>0.96</td>\n",
              "      <td>0.02</td>\n",
              "      <td>-0.07</td>\n",
              "      <td>-0.00</td>\n",
              "      <td>0.93</td>\n",
              "      <td>1.00</td>\n",
              "      <td>0.00</td>\n",
              "      <td>-2.01</td>\n",
              "      <td>0.04</td>\n",
              "      <td>4.50</td>\n",
              "    </tr>\n",
              "    <tr>\n",
              "      <th>muac_diff</th>\n",
              "      <td>0.52</td>\n",
              "      <td>1.69</td>\n",
              "      <td>0.02</td>\n",
              "      <td>0.48</td>\n",
              "      <td>0.57</td>\n",
              "      <td>1.61</td>\n",
              "      <td>1.77</td>\n",
              "      <td>0.00</td>\n",
              "      <td>21.35</td>\n",
              "      <td>&lt;0.005</td>\n",
              "      <td>333.43</td>\n",
              "    </tr>\n",
              "    <tr>\n",
              "      <th>muac_diff_ratio_rate</th>\n",
              "      <td>-66.79</td>\n",
              "      <td>0.00</td>\n",
              "      <td>2.99</td>\n",
              "      <td>-72.64</td>\n",
              "      <td>-60.94</td>\n",
              "      <td>0.00</td>\n",
              "      <td>0.00</td>\n",
              "      <td>0.00</td>\n",
              "      <td>-22.37</td>\n",
              "      <td>&lt;0.005</td>\n",
              "      <td>365.90</td>\n",
              "    </tr>\n",
              "    <tr>\n",
              "      <th rowspan=\"4\" valign=\"top\">rho_</th>\n",
              "      <th>Intercept</th>\n",
              "      <td>-0.84</td>\n",
              "      <td>0.43</td>\n",
              "      <td>0.29</td>\n",
              "      <td>-1.40</td>\n",
              "      <td>-0.27</td>\n",
              "      <td>0.25</td>\n",
              "      <td>0.76</td>\n",
              "      <td>0.00</td>\n",
              "      <td>-2.91</td>\n",
              "      <td>&lt;0.005</td>\n",
              "      <td>8.11</td>\n",
              "    </tr>\n",
              "    <tr>\n",
              "      <th>wk1_muac</th>\n",
              "      <td>0.14</td>\n",
              "      <td>1.15</td>\n",
              "      <td>0.03</td>\n",
              "      <td>0.09</td>\n",
              "      <td>0.19</td>\n",
              "      <td>1.09</td>\n",
              "      <td>1.21</td>\n",
              "      <td>0.00</td>\n",
              "      <td>5.41</td>\n",
              "      <td>&lt;0.005</td>\n",
              "      <td>23.90</td>\n",
              "    </tr>\n",
              "    <tr>\n",
              "      <th>muac_diff</th>\n",
              "      <td>0.36</td>\n",
              "      <td>1.43</td>\n",
              "      <td>0.04</td>\n",
              "      <td>0.27</td>\n",
              "      <td>0.44</td>\n",
              "      <td>1.31</td>\n",
              "      <td>1.56</td>\n",
              "      <td>0.00</td>\n",
              "      <td>8.06</td>\n",
              "      <td>&lt;0.005</td>\n",
              "      <td>50.23</td>\n",
              "    </tr>\n",
              "    <tr>\n",
              "      <th>muac_diff_ratio_rate</th>\n",
              "      <td>-16.04</td>\n",
              "      <td>0.00</td>\n",
              "      <td>4.10</td>\n",
              "      <td>-24.08</td>\n",
              "      <td>-8.01</td>\n",
              "      <td>0.00</td>\n",
              "      <td>0.00</td>\n",
              "      <td>0.00</td>\n",
              "      <td>-3.91</td>\n",
              "      <td>&lt;0.005</td>\n",
              "      <td>13.42</td>\n",
              "    </tr>\n",
              "  </tbody>\n",
              "</table><br><div>\n",
              "<style scoped>\n",
              "    .dataframe tbody tr th:only-of-type {\n",
              "        vertical-align: middle;\n",
              "    }\n",
              "\n",
              "    .dataframe tbody tr th {\n",
              "        vertical-align: top;\n",
              "    }\n",
              "\n",
              "    .dataframe thead th {\n",
              "        text-align: right;\n",
              "    }\n",
              "</style>\n",
              "<table border=\"1\" class=\"dataframe\">\n",
              "  <tbody>\n",
              "    <tr>\n",
              "      <th>Concordance</th>\n",
              "      <td>0.82</td>\n",
              "    </tr>\n",
              "    <tr>\n",
              "      <th>AIC</th>\n",
              "      <td>7186.15</td>\n",
              "    </tr>\n",
              "    <tr>\n",
              "      <th>log-likelihood ratio test</th>\n",
              "      <td>643.29 on 6 df</td>\n",
              "    </tr>\n",
              "    <tr>\n",
              "      <th>-log2(p) of ll-ratio test</th>\n",
              "      <td>448.37</td>\n",
              "    </tr>\n",
              "  </tbody>\n",
              "</table>\n",
              "</div>"
            ],
            "text/latex": [
              "\\begin{tabular}{llrrrrrrrrrrr}\n",
              " &  & coef & exp(coef) & se(coef) & coef lower 95% & coef upper 95% & exp(coef) lower 95% & exp(coef) upper 95% & cmp to & z & p & -log2(p) \\\\\n",
              "param & covariate &  &  &  &  &  &  &  &  &  &  &  \\\\\n",
              "\\multirow[c]{4}{*}{lambda_} & Intercept & 4.21 & 67.02 & 0.20 & 3.81 & 4.60 & 44.96 & 99.90 & 0.00 & 20.65 & 0.00 & 312.23 \\\\\n",
              " & wk1_muac & -0.04 & 0.96 & 0.02 & -0.07 & -0.00 & 0.93 & 1.00 & 0.00 & -2.01 & 0.04 & 4.50 \\\\\n",
              " & muac_diff & 0.52 & 1.69 & 0.02 & 0.48 & 0.57 & 1.61 & 1.77 & 0.00 & 21.35 & 0.00 & 333.43 \\\\\n",
              " & muac_diff_ratio_rate & -66.79 & 0.00 & 2.99 & -72.64 & -60.94 & 0.00 & 0.00 & 0.00 & -22.37 & 0.00 & 365.90 \\\\\n",
              "\\multirow[c]{4}{*}{rho_} & Intercept & -0.84 & 0.43 & 0.29 & -1.40 & -0.27 & 0.25 & 0.76 & 0.00 & -2.91 & 0.00 & 8.11 \\\\\n",
              " & wk1_muac & 0.14 & 1.15 & 0.03 & 0.09 & 0.19 & 1.09 & 1.21 & 0.00 & 5.41 & 0.00 & 23.90 \\\\\n",
              " & muac_diff & 0.36 & 1.43 & 0.04 & 0.27 & 0.44 & 1.31 & 1.56 & 0.00 & 8.06 & 0.00 & 50.23 \\\\\n",
              " & muac_diff_ratio_rate & -16.04 & 0.00 & 4.10 & -24.08 & -8.01 & 0.00 & 0.00 & 0.00 & -3.91 & 0.00 & 13.42 \\\\\n",
              "\\end{tabular}\n"
            ],
            "text/plain": [
              "<lifelines.WeibullAFTFitter: fitted with 1799 total observations, 1012 right-censored observations>\n",
              "             duration col = 'duration_days'\n",
              "                event col = 'new_onset_medical_complication'\n",
              "   number of observations = 1799\n",
              "number of events observed = 787\n",
              "           log-likelihood = -3585.08\n",
              "         time fit was run = 2025-06-14 22:54:20 UTC\n",
              "\n",
              "---\n",
              "                               coef exp(coef)  se(coef)  coef lower 95%  coef upper 95% exp(coef) lower 95% exp(coef) upper 95%\n",
              "param   covariate                                                                                                              \n",
              "lambda_ Intercept              4.21     67.02      0.20            3.81            4.60               44.96               99.90\n",
              "        wk1_muac              -0.04      0.96      0.02           -0.07           -0.00                0.93                1.00\n",
              "        muac_diff              0.52      1.69      0.02            0.48            0.57                1.61                1.77\n",
              "        muac_diff_ratio_rate -66.79      0.00      2.99          -72.64          -60.94                0.00                0.00\n",
              "rho_    Intercept             -0.84      0.43      0.29           -1.40           -0.27                0.25                0.76\n",
              "        wk1_muac               0.14      1.15      0.03            0.09            0.19                1.09                1.21\n",
              "        muac_diff              0.36      1.43      0.04            0.27            0.44                1.31                1.56\n",
              "        muac_diff_ratio_rate -16.04      0.00      4.10          -24.08           -8.01                0.00                0.00\n",
              "\n",
              "                              cmp to      z      p  -log2(p)\n",
              "param   covariate                                           \n",
              "lambda_ Intercept               0.00  20.65 <0.005    312.23\n",
              "        wk1_muac                0.00  -2.01   0.04      4.50\n",
              "        muac_diff               0.00  21.35 <0.005    333.43\n",
              "        muac_diff_ratio_rate    0.00 -22.37 <0.005    365.90\n",
              "rho_    Intercept               0.00  -2.91 <0.005      8.11\n",
              "        wk1_muac                0.00   5.41 <0.005     23.90\n",
              "        muac_diff               0.00   8.06 <0.005     50.23\n",
              "        muac_diff_ratio_rate    0.00  -3.91 <0.005     13.42\n",
              "---\n",
              "Concordance = 0.82\n",
              "AIC = 7186.15\n",
              "log-likelihood ratio test = 643.29 on 6 df\n",
              "-log2(p) of ll-ratio test = 448.37"
            ]
          },
          "metadata": {},
          "output_type": "display_data"
        },
        {
          "name": "stderr",
          "output_type": "stream",
          "text": [
            "DEBUG:my_logger:None\n"
          ]
        }
      ],
      "source": [
        "regr_cols = ['wk1_muac','muac','muac_diff','muac_diff_ratio_rate',label,'duration_days','pid','status']\n",
        "regression_dataset = detn[regr_cols].copy()\n",
        "regression_dataset['wk1_muac'].fillna(regression_dataset['muac'],inplace=True)\n",
        "regression_dataset.drop(columns=['muac'],inplace=True)\n",
        "regression_dataset.dropna(inplace=True)\n",
        "#regression_dataset['wk1_muac'].fillna(0,inplace=True)\n",
        "\n",
        "\n",
        "regression_dataset['duration_days'] = regression_dataset['duration_days'].clip(lower=.01)\n",
        "aft = WeibullAFTFitter()\n",
        "\n",
        "aft.fit(regression_dataset, duration_col='duration_days', event_col=f'{label}', ancillary=True, formula=' wk1_muac + muac_diff + muac_diff_ratio_rate')\n",
        "\n",
        "logger.debug(aft.print_summary())\n",
        "\n"
      ]
    },
    {
      "cell_type": "markdown",
      "metadata": {
        "id": "PBTujUjDd20Q"
      },
      "source": [
        "column\tdescription\n",
        "1. wk1_muac\tmuac on most recent visit\n",
        "1. muac_diff_ratio_rate\tlatest/last muac minus first muac divided by first muac divided by the number of days in the program.  So muac change per starting muac per day.  Last would the last visit or the last visit up to the appropriate deterioration type.\n",
        "1. muac_diff\tthe difference between the most recent (before deterioration) muac and the first visit's muac\n"
      ]
    },
    {
      "cell_type": "markdown",
      "metadata": {
        "id": "5WTeBfFtUF1x"
      },
      "source": [
        "### censored (i.e., patients w/o complication yet) survival prediction"
      ]
    },
    {
      "cell_type": "code",
      "execution_count": 26,
      "metadata": {
        "id": "tXGGwNrcUjwO"
      },
      "outputs": [],
      "source": [
        "# censored (i.e., patients w/o complication yet) survival prediction\n",
        "\n",
        "regr_cols = ['wk1_muac','muac','muac_diff','muac_diff_ratio_rate',label,'duration_days','pid','status']\n",
        "censored_subjects = detn[regr_cols].copy()\n",
        "censored_subjects['wk1_muac'].fillna(censored_subjects['muac'],inplace=True)\n",
        "censored_subjects.drop(columns=['muac'],inplace=True)\n",
        "\n",
        "regression_dataset[regression_dataset['wk1_muac'].notnull()][['muac_diff','muac_diff_ratio_rate']].isnull().sum()\n",
        "\n",
        "censored_subjects['muac_diff_ratio_rate'].fillna(0,inplace=True)\n",
        "\n",
        "censored_subjects.dropna(inplace=True)\n",
        "\n",
        "censored_subjects = censored_subjects.loc[detn[label]==0].copy()\n",
        "\n",
        "duration_days_col = f'duration_days_{label}'\n",
        "\n",
        "censored_subjects.rename(columns={'duration_days':duration_days_col},inplace=True)\n",
        "\n",
        "censored_subjects_last_obs = censored_subjects[duration_days_col]\n",
        "\n",
        "\n",
        "y_median = aft.predict_median(censored_subjects,conditional_after=censored_subjects_last_obs)\n",
        "y_median.rename(f'median_days_to_{label}',inplace=True)\n",
        "\n",
        "df = pd.merge(censored_subjects[['pid','wk1_muac','muac_diff','muac_diff_ratio_rate',duration_days_col]],y_median,left_index=True,right_index=True)\n",
        "\n",
        "pid_probabilities =pd.merge(pid_probabilities,df,on='pid',how='left')\n",
        "\n",
        "\n"
      ]
    },
    {
      "cell_type": "markdown",
      "metadata": {
        "id": "6OvUKMt-EGYR"
      },
      "source": [
        "## visualize most and least probable patients"
      ]
    },
    {
      "cell_type": "markdown",
      "metadata": {
        "id": "6CKhwbsFKDgi"
      },
      "source": [
        "### most probable"
      ]
    },
    {
      "cell_type": "markdown",
      "metadata": {
        "id": "ASZhxWOcKPNZ"
      },
      "source": [
        "### 2nd most probable"
      ]
    },
    {
      "cell_type": "markdown",
      "metadata": {
        "id": "uibG5FdcADu_"
      },
      "source": [
        "# poor weight gain"
      ]
    },
    {
      "cell_type": "markdown",
      "metadata": {
        "id": "1zi9FdAZ8YQh"
      },
      "source": [
        "* Weight at week 3 is lower than weight at admission\n",
        "* Weight loss for 3 consecutive weeks (not related to loss of oedema)\n",
        "* Static weight or weight loss for 4 consecutive weeks\n",
        "* Poor weight gain (<5 g/kg/day) for 4 consecutive weeks\n"
      ]
    },
    {
      "cell_type": "markdown",
      "metadata": {
        "id": "iU1CqB_i7wGi"
      },
      "source": [
        "The biggest predictors of poor weight gain are ['wk1_muac','wk2_muac','weight_trend','wfh_trend']\n",
        "\n",
        "1.   Most recent visit's MUAC\n",
        "2.   2nd most recent visit's MUAC\n",
        "3. Weight trend\n",
        "4. Weight for height trend\n",
        "\n"
      ]
    },
    {
      "cell_type": "code",
      "execution_count": 27,
      "metadata": {
        "colab": {
          "base_uri": "https://localhost:8080/"
        },
        "id": "A-xZfAaoAmWT",
        "outputId": "57dec289-7d06-46be-c4dc-7438034825f4"
      },
      "outputs": [
        {
          "name": "stderr",
          "output_type": "stream",
          "text": [
            "<ipython-input-11-4214077459>:3: DtypeWarning: Columns (4,5,6,9,27,40,75,77,78,89,91,96,101,103,123,124,135,136,137,138,141,143,144,145,153,159,161,162,164,165,166,167,177,179,224,244,246,247,275,284,288,296,303,309,315,322,324,325,328,335,336,337,338,339,340,342,343,401,411,442,443,444,445,452,475,477,482,487,489,512,521,546,548,568,748,749,750,755,757,871,880,900,909,919,940,941,942,944,949,1012,1013,1015,1016,1017,1018,1019,1030,1031,1035,1036,1037,1042,1043,1066,1084,1085,1086,1087,1089,1092,1093,1094,1099,1102,1103,1104,1105,1108,1111,1117,1118,1120,1121,1124,1126,1127,1128,1130,1132,1133,1134,1135,1140,1160,1164,1165,1168,1199,1213,1214,1216,1218,1219,1220,1221,1222,1227,1228,1231,1232,1233,1234,1235,1238,1240,1241,1242,1244,1245,1246,1247,1248,1254,1255,1256,1257,1258,1259,1261,1262,1265,1266,1267,1268,1269,1270,1271,1272,1273,1274,1275,1276,1278,1279,1280,1282,1286,1287,1288,1289,1290,1291,1292,1293,1294,1295,1302,1303,1305,1306,1312,1313,1314,1316,1317,1318,1319,1320,1321,1322,1323,1324,1325,1326,1328,1344,1345,1346,1348,1350,1351,1352,1355,1370,1371,1372,1374,1375,1379,1381,1382,1383,1385,1390,1453,1454,1456,1457,1458,1459,1460,1471,1472,1476,1477,1478,1484,1507,1526,1527,1528,1530,1533,1534,1535,1540,1543,1544,1545,1546,1549,1552,1559,1561,1562,1563,1565,1567,1568,1569,1570,1571,1575,1576,1581,1601,1605,1606,1609,1640,1654,1655,1657,1659,1660,1661,1662,1663,1668,1669,1672,1673,1674,1675,1676,1679,1681,1682,1683,1685,1686,1687,1688,1689,1695,1696,1697,1698,1699,1700,1702,1703,1706,1707,1708,1709,1710,1711,1712,1713,1714,1715,1716,1717,1719,1720,1721,1723,1727,1728,1729,1730,1731,1732,1733,1734,1735,1736,1743,1744,1746,1747,1753,1754,1755,1757,1758,1759,1760,1761,1762,1763,1764,1765,1766,1767,1769,1785,1786,1787,1789,1791,1792,1793,1796,1811,1813,1815,1816,1820,1822,1823,1824,1826,1831,1894,1895,1897,1898,1899,1900,1901,1912,1913,1917,1918,1919,1925,1948,1967,1968,1969,1971,1974,1975,1976,1981,1984,1985,1986,1987,1990,1993,1999,2000,2001,2002,2003,2004,2006,2007,2008,2009,2010,2012,2015,2016,2017,2022,2042,2046,2047,2050,2081,2095,2096,2098,2100,2101,2102,2103,2104,2109,2110,2113,2114,2115,2116,2117,2120,2122,2123,2124,2126,2127,2128,2129,2130,2136,2137,2138,2139,2141,2143,2144,2147,2148,2149,2150,2151,2152,2153,2154,2155,2156,2157,2158,2160,2161,2162,2164,2168,2169,2170,2171,2172,2173,2174,2175,2176,2177,2184,2185,2187,2188,2194,2195,2196,2198,2199,2200,2201,2202,2203,2204,2205,2206,2207,2208,2210,2226,2227,2228,2230,2232,2233,2234,2237,2252,2254,2256,2257,2261,2329) have mixed types. Specify dtype option on import or set low_memory=False.\n",
            "  detn = pd.read_csv(dir + f\"/{label}.csv\")\n",
            "DEBUG:my_logger:((10322, 2331), np.int64(2152)),0.20848672737841503\n",
            "DEBUG:my_logger:((3303, 2331), np.int64(2001)),0.6058128973660308\n",
            "DEBUG:my_logger:((3303, 2333), np.int64(2001)),0.6058128973660308\n"
          ]
        }
      ],
      "source": [
        "# prompt: use pickle to get the data to train and infer on\n",
        "\n",
        "label = 'detn_weight_loss_ever'\n",
        "\n",
        "#with open(dir + f'{label}.pkl', 'rb') as f:\n",
        "#  detn = pickle.load(f)\n",
        "detn = read_detn(label)\n",
        "\n",
        "logger.debug(f'{detn.shape,detn[label].sum()},{detn[label].mean()}')\n",
        "# (5215, 1786) 1021 0.19578139980824544 for 70% training phase\n",
        "# (8352, 1844) 1660 0.19875478927203066\n",
        "detn['wk1_calc_los'].fillna(0,inplace=True)\n",
        "\n",
        "LOS_CUTOFF = 12\n",
        "MUAC_CUTOFF = 12.7\n",
        "\n",
        "detn = detn[((detn['wk1_b_discharged']==0) & (detn['weekly_last_muac']< MUAC_CUTOFF) & (detn['wk1_calc_los']< LOS_CUTOFF)) ].copy()\n",
        "\n",
        "\n",
        "logger.debug(f'{detn.shape,detn[label].sum()},{detn[label].mean()}')\n",
        "detn = reduce_dimensionality(detn,['household_adults','household_slept','living_children'],'household_adults_slept_living_children_z')\n",
        "detn = reduce_dimensionality(detn,['resp_rate', 'temperature'],'resp_rate_temperature')\n",
        "#detn['phq_score'] = detn['phq_score'].astype(int)\n",
        "\n",
        "logger.debug(f'{detn.shape,detn[label].sum()},{detn[label].mean()}')\n"
      ]
    },
    {
      "cell_type": "markdown",
      "metadata": {
        "id": "oYuQA3h-Bwe7"
      },
      "source": [
        "## predictive model feature importances"
      ]
    },
    {
      "cell_type": "markdown",
      "metadata": {
        "id": "JKFbd7NZ8y6_"
      },
      "source": [
        "### autogluon"
      ]
    },
    {
      "cell_type": "markdown",
      "metadata": {
        "id": "F88PSlkh85aZ"
      },
      "source": [
        "90% of its predictions are right (precision).  It found 87% of the poor weight gain patients (recall).\n",
        "\n"
      ]
    },
    {
      "cell_type": "code",
      "execution_count": 28,
      "metadata": {
        "colab": {
          "base_uri": "https://localhost:8080/"
        },
        "id": "m43BVS-Yjp4K",
        "outputId": "5ee5e754-84ec-4c18-f95f-4ecbda1cb2f2"
      },
      "outputs": [
        {
          "name": "stderr",
          "output_type": "stream",
          "text": [
            "Found 1 mismatches between original and current metadata:\n",
            "\tINFO: AutoGluon Python micro version mismatch (original=3.11.12, current=3.11.13)\n",
            "DEBUG:my_logger:ag features:, 8, ['wk1_weight_diff_rate', 'wk1_calc_los', 'hl_trend', 'hfa_trend', 'wfa_trend', 'weekly_last_muac', 'household_adults_slept_living_children_z', 'weekly_last_wfh']\n"
          ]
        }
      ],
      "source": [
        "# infer\n",
        "y_pred_proba_all,explainer,ag_features = run_ag_model(label,detn,'')"
      ]
    },
    {
      "cell_type": "code",
      "execution_count": 29,
      "metadata": {
        "colab": {
          "base_uri": "https://localhost:8080/"
        },
        "id": "YppJ1WlD-zGg",
        "outputId": "4dda8667-6fdc-46af-b7c7-9584a4cb4f82"
      },
      "outputs": [
        {
          "name": "stderr",
          "output_type": "stream",
          "text": [
            "DEBUG:my_logger:(10322, 12)\n"
          ]
        }
      ],
      "source": [
        "pred_proba_all_series = y_pred_proba_all[1].rename(f'probability_{label}')\n",
        "pid_probabilities = pid_probabilities.join(pred_proba_all_series)\n",
        "logger.debug(pid_probabilities.shape)"
      ]
    },
    {
      "cell_type": "code",
      "execution_count": 30,
      "metadata": {
        "colab": {
          "base_uri": "https://localhost:8080/",
          "height": 49,
          "referenced_widgets": [
            "d7067aefddec4b5483874c233e253342",
            "abc43fbe8c1b4a43863755c16bfc8f8d",
            "731979a64e124537bc1dde0d4157f383",
            "0281776396bc4fa1a96ef71fd5490955",
            "685cedaec2684391974a1875f382859e",
            "089381aa84d14cbc8ab6447adae7df68",
            "8bdfa69aeb52412ebfee18061bc7bc87",
            "4b6f7466139f462c9e673469b6f02e44",
            "7f0e31f18c6542c5b560106945405bff",
            "108054bf642b4a5d9d8b0b86d0ae3ba3",
            "f6f272eb6e294d45b43854b47233ee86"
          ]
        },
        "id": "VKDDsb_W6THV",
        "outputId": "24473ee9-6e8f-44e4-8b7c-081c0105aa16"
      },
      "outputs": [
        {
          "data": {
            "application/vnd.jupyter.widget-view+json": {
              "model_id": "d7067aefddec4b5483874c233e253342",
              "version_major": 2,
              "version_minor": 0
            },
            "text/plain": [
              "  0%|          | 0/7 [00:00<?, ?it/s]"
            ]
          },
          "metadata": {},
          "output_type": "display_data"
        }
      ],
      "source": [
        "pid_probabilities[f'percentrank_{label}'] = pid_probabilities[f'probability_{label}'].rank(pct=True)\n",
        "top_pct_pids = pid_probabilities[pid_probabilities[f'percentrank_{label}'] > TOP_PCT]['pid'].unique()\n",
        "if EXPORT_SHAP_WATERFALL:\n",
        "  json_series = export_waterfall_shap_values(explainer,detn[(detn['pid'].isin(active_pids)) & (detn['pid'].isin(top_pct_pids)) & (detn[label]== 0)],ag_features)\n",
        "  pid_probabilities = pd.merge(pid_probabilities, json_series.rename(f'{label}_shap_data'), left_on='pid', right_index=True, how='left')\n"
      ]
    },
    {
      "cell_type": "markdown",
      "metadata": {
        "id": "YokBCgxHcfK6"
      },
      "source": [
        "## survival"
      ]
    },
    {
      "cell_type": "code",
      "execution_count": 31,
      "metadata": {
        "colab": {
          "base_uri": "https://localhost:8080/"
        },
        "id": "_uQlOyo-cvDS",
        "outputId": "0c7a275b-40a4-4748-f671-b38ccb31495b"
      },
      "outputs": [
        {
          "name": "stderr",
          "output_type": "stream",
          "text": [
            "DEBUG:my_logger:2001,(3303, 2333)\n",
            "DEBUG:my_logger:2001,(3303, 2335)\n",
            "DEBUG:my_logger:2001,(2475, 2335)\n"
          ]
        }
      ],
      "source": [
        "# survival\n",
        "logger.debug(f'{detn[label].sum()},{detn.shape}')\n",
        "detn = pd.merge(detn, admit_current[['pid','status','status_date']], on='pid', how='inner')\n",
        "logger.debug(f'{detn[label].sum()},{detn.shape}')\n",
        "\n",
        "label_date = f'{label}_date'\n",
        "\n",
        "detn.loc[detn[label] == 0, label_date] = None\n",
        "\n",
        "# prompt: filter detn for label_date not null or wk1_calcdate_weekly not null\n",
        "\n",
        "# drop those w/o a visit, hence no lifetime to be plotted)\n",
        "detn = detn[(detn[label_date].notnull()) | (detn['wk1_calcdate_weekly'].notnull())].copy()\n",
        "logger.debug(f'{detn[label].sum()},{detn.shape}')\n",
        "\n"
      ]
    },
    {
      "cell_type": "code",
      "execution_count": 32,
      "metadata": {
        "colab": {
          "base_uri": "https://localhost:8080/"
        },
        "id": "U4TN8-sQc2HY",
        "outputId": "7a456b0e-acf5-4036-de9e-9d62901b33cc"
      },
      "outputs": [
        {
          "name": "stderr",
          "output_type": "stream",
          "text": [
            "DEBUG:my_logger:2001\n"
          ]
        }
      ],
      "source": [
        "# prompt: create column in detn called final_date which is status_date or wk1_calcdate_weekly whichever is greater\n",
        "# Create 'final_date' column, choosing the later date between 'status_date' and 'wk1_calcdate_weekly'\n",
        "detn['final_date'] = detn[['status_date', 'wk1_calcdate_weekly']].max(axis=1)\n",
        "\n",
        "# Fill NaN (active patients w/o a visit) values in 'final_date' with today's date\n",
        "detn['final_date'] = detn['final_date'].fillna(datetime.date.today())\n",
        "detn['final_date'] = pd.to_datetime(detn['final_date'])\n",
        "detn['duration_days'] = detn['final_date'] - detn['calcdate']\n",
        "detn['duration_days'] = detn['duration_days'].dt.days\n",
        "\n",
        "logger.debug(detn[label_date].notnull().sum())\n"
      ]
    },
    {
      "cell_type": "code",
      "execution_count": 33,
      "metadata": {
        "id": "FqqXnzm9c9AV"
      },
      "outputs": [],
      "source": [
        "# prompt: for rows in detn where label==1 set duration_days to label_date - calcdate\n",
        "\n",
        "# Calculate duration_days only for rows where label == 1\n",
        "detn.loc[detn[label] == 1, 'duration_days'] = (detn.loc[detn[label] == 1, label_date] - detn.loc[detn[label] == 1, 'calcdate']).dt.days\n"
      ]
    },
    {
      "cell_type": "markdown",
      "metadata": {
        "id": "uMRPOoAlJrnS"
      },
      "source": [
        "### AFT survival regression"
      ]
    },
    {
      "cell_type": "code",
      "execution_count": 34,
      "metadata": {
        "id": "dkrLLo5_diAq"
      },
      "outputs": [],
      "source": [
        "selected_columns = ['weight_trend','pid']\n",
        "\n",
        "\n",
        "X = detn[selected_columns].copy()\n",
        "\n",
        "data_y = detn[[label,'duration_days']].copy()\n",
        "data_x_numeric = X.copy()\n",
        "data_y = detn[[label,'duration_days']].copy()\n",
        "\n",
        "regression_dataset=data_x_numeric.join(data_y)\n",
        "\n",
        "regression_dataset = regression_dataset.dropna()"
      ]
    },
    {
      "cell_type": "code",
      "execution_count": 35,
      "metadata": {
        "colab": {
          "base_uri": "https://localhost:8080/",
          "height": 555
        },
        "id": "NZ-Baa24e4bW",
        "outputId": "96eef9e9-859a-44cb-fd0c-a030886332fb"
      },
      "outputs": [
        {
          "data": {
            "text/html": [
              "<div>\n",
              "<style scoped>\n",
              "    .dataframe tbody tr th:only-of-type {\n",
              "        vertical-align: middle;\n",
              "    }\n",
              "\n",
              "    .dataframe tbody tr th {\n",
              "        vertical-align: top;\n",
              "    }\n",
              "\n",
              "    .dataframe thead th {\n",
              "        text-align: right;\n",
              "    }\n",
              "</style>\n",
              "<table border=\"1\" class=\"dataframe\">\n",
              "  <tbody>\n",
              "    <tr>\n",
              "      <th>model</th>\n",
              "      <td>lifelines.WeibullAFTFitter</td>\n",
              "    </tr>\n",
              "    <tr>\n",
              "      <th>duration col</th>\n",
              "      <td>'duration_days'</td>\n",
              "    </tr>\n",
              "    <tr>\n",
              "      <th>event col</th>\n",
              "      <td>'detn_weight_loss_ever'</td>\n",
              "    </tr>\n",
              "    <tr>\n",
              "      <th>number of observations</th>\n",
              "      <td>2428</td>\n",
              "    </tr>\n",
              "    <tr>\n",
              "      <th>number of events observed</th>\n",
              "      <td>1961</td>\n",
              "    </tr>\n",
              "    <tr>\n",
              "      <th>log-likelihood</th>\n",
              "      <td>-8644.44</td>\n",
              "    </tr>\n",
              "    <tr>\n",
              "      <th>time fit was run</th>\n",
              "      <td>2025-06-14 22:54:41 UTC</td>\n",
              "    </tr>\n",
              "  </tbody>\n",
              "</table>\n",
              "</div><table border=\"1\" class=\"dataframe\">\n",
              "  <thead>\n",
              "    <tr style=\"text-align: right;\">\n",
              "      <th style=\"min-width: 12px;\"></th>\n",
              "      <th style=\"min-width: 12px;\"></th>\n",
              "      <th style=\"min-width: 12px;\">coef</th>\n",
              "      <th style=\"min-width: 12px;\">exp(coef)</th>\n",
              "      <th style=\"min-width: 12px;\">se(coef)</th>\n",
              "      <th style=\"min-width: 12px;\">coef lower 95%</th>\n",
              "      <th style=\"min-width: 12px;\">coef upper 95%</th>\n",
              "      <th style=\"min-width: 12px;\">exp(coef) lower 95%</th>\n",
              "      <th style=\"min-width: 12px;\">exp(coef) upper 95%</th>\n",
              "      <th style=\"min-width: 12px;\">cmp to</th>\n",
              "      <th style=\"min-width: 12px;\">z</th>\n",
              "      <th style=\"min-width: 12px;\">p</th>\n",
              "      <th style=\"min-width: 12px;\">-log2(p)</th>\n",
              "    </tr>\n",
              "  </thead>\n",
              "  <tbody>\n",
              "    <tr>\n",
              "      <th rowspan=\"2\" valign=\"top\">lambda_</th>\n",
              "      <th>Intercept</th>\n",
              "      <td>3.85</td>\n",
              "      <td>47.08</td>\n",
              "      <td>0.01</td>\n",
              "      <td>3.83</td>\n",
              "      <td>3.87</td>\n",
              "      <td>46.03</td>\n",
              "      <td>48.14</td>\n",
              "      <td>0.00</td>\n",
              "      <td>337.83</td>\n",
              "      <td>&lt;0.005</td>\n",
              "      <td>inf</td>\n",
              "    </tr>\n",
              "    <tr>\n",
              "      <th>weight_trend</th>\n",
              "      <td>6.50</td>\n",
              "      <td>664.77</td>\n",
              "      <td>0.37</td>\n",
              "      <td>5.78</td>\n",
              "      <td>7.22</td>\n",
              "      <td>323.00</td>\n",
              "      <td>1368.18</td>\n",
              "      <td>0.00</td>\n",
              "      <td>17.65</td>\n",
              "      <td>&lt;0.005</td>\n",
              "      <td>229.16</td>\n",
              "    </tr>\n",
              "    <tr>\n",
              "      <th rowspan=\"2\" valign=\"top\">rho_</th>\n",
              "      <th>Intercept</th>\n",
              "      <td>0.91</td>\n",
              "      <td>2.48</td>\n",
              "      <td>0.02</td>\n",
              "      <td>0.87</td>\n",
              "      <td>0.94</td>\n",
              "      <td>2.40</td>\n",
              "      <td>2.56</td>\n",
              "      <td>0.00</td>\n",
              "      <td>52.77</td>\n",
              "      <td>&lt;0.005</td>\n",
              "      <td>inf</td>\n",
              "    </tr>\n",
              "    <tr>\n",
              "      <th>weight_trend</th>\n",
              "      <td>2.64</td>\n",
              "      <td>14.05</td>\n",
              "      <td>0.49</td>\n",
              "      <td>1.69</td>\n",
              "      <td>3.60</td>\n",
              "      <td>5.40</td>\n",
              "      <td>36.57</td>\n",
              "      <td>0.00</td>\n",
              "      <td>5.41</td>\n",
              "      <td>&lt;0.005</td>\n",
              "      <td>23.95</td>\n",
              "    </tr>\n",
              "  </tbody>\n",
              "</table><br><div>\n",
              "<style scoped>\n",
              "    .dataframe tbody tr th:only-of-type {\n",
              "        vertical-align: middle;\n",
              "    }\n",
              "\n",
              "    .dataframe tbody tr th {\n",
              "        vertical-align: top;\n",
              "    }\n",
              "\n",
              "    .dataframe thead th {\n",
              "        text-align: right;\n",
              "    }\n",
              "</style>\n",
              "<table border=\"1\" class=\"dataframe\">\n",
              "  <tbody>\n",
              "    <tr>\n",
              "      <th>Concordance</th>\n",
              "      <td>0.64</td>\n",
              "    </tr>\n",
              "    <tr>\n",
              "      <th>AIC</th>\n",
              "      <td>17296.88</td>\n",
              "    </tr>\n",
              "    <tr>\n",
              "      <th>log-likelihood ratio test</th>\n",
              "      <td>334.85 on 2 df</td>\n",
              "    </tr>\n",
              "    <tr>\n",
              "      <th>-log2(p) of ll-ratio test</th>\n",
              "      <td>241.54</td>\n",
              "    </tr>\n",
              "  </tbody>\n",
              "</table>\n",
              "</div>"
            ],
            "text/latex": [
              "\\begin{tabular}{llrrrrrrrrrrr}\n",
              " &  & coef & exp(coef) & se(coef) & coef lower 95% & coef upper 95% & exp(coef) lower 95% & exp(coef) upper 95% & cmp to & z & p & -log2(p) \\\\\n",
              "param & covariate &  &  &  &  &  &  &  &  &  &  &  \\\\\n",
              "\\multirow[c]{2}{*}{lambda_} & Intercept & 3.85 & 47.08 & 0.01 & 3.83 & 3.87 & 46.03 & 48.14 & 0.00 & 337.83 & 0.00 & inf \\\\\n",
              " & weight_trend & 6.50 & 664.77 & 0.37 & 5.78 & 7.22 & 323.00 & 1368.18 & 0.00 & 17.65 & 0.00 & 229.16 \\\\\n",
              "\\multirow[c]{2}{*}{rho_} & Intercept & 0.91 & 2.48 & 0.02 & 0.87 & 0.94 & 2.40 & 2.56 & 0.00 & 52.77 & 0.00 & inf \\\\\n",
              " & weight_trend & 2.64 & 14.05 & 0.49 & 1.69 & 3.60 & 5.40 & 36.57 & 0.00 & 5.41 & 0.00 & 23.95 \\\\\n",
              "\\end{tabular}\n"
            ],
            "text/plain": [
              "<lifelines.WeibullAFTFitter: fitted with 2428 total observations, 467 right-censored observations>\n",
              "             duration col = 'duration_days'\n",
              "                event col = 'detn_weight_loss_ever'\n",
              "   number of observations = 2428\n",
              "number of events observed = 1961\n",
              "           log-likelihood = -8644.44\n",
              "         time fit was run = 2025-06-14 22:54:41 UTC\n",
              "\n",
              "---\n",
              "                      coef exp(coef)  se(coef)  coef lower 95%  coef upper 95% exp(coef) lower 95% exp(coef) upper 95%\n",
              "param   covariate                                                                                                     \n",
              "lambda_ Intercept     3.85     47.08      0.01            3.83            3.87               46.03               48.14\n",
              "        weight_trend  6.50    664.77      0.37            5.78            7.22              323.00             1368.18\n",
              "rho_    Intercept     0.91      2.48      0.02            0.87            0.94                2.40                2.56\n",
              "        weight_trend  2.64     14.05      0.49            1.69            3.60                5.40               36.57\n",
              "\n",
              "                      cmp to      z      p  -log2(p)\n",
              "param   covariate                                   \n",
              "lambda_ Intercept       0.00 337.83 <0.005       inf\n",
              "        weight_trend    0.00  17.65 <0.005    229.16\n",
              "rho_    Intercept       0.00  52.77 <0.005       inf\n",
              "        weight_trend    0.00   5.41 <0.005     23.95\n",
              "---\n",
              "Concordance = 0.64\n",
              "AIC = 17296.88\n",
              "log-likelihood ratio test = 334.85 on 2 df\n",
              "-log2(p) of ll-ratio test = 241.54"
            ]
          },
          "metadata": {},
          "output_type": "display_data"
        },
        {
          "name": "stderr",
          "output_type": "stream",
          "text": [
            "DEBUG:my_logger:None\n"
          ]
        }
      ],
      "source": [
        "aft = WeibullAFTFitter()\n",
        "\n",
        "aft.fit(regression_dataset, duration_col='duration_days', event_col=f'{label}', ancillary=True,formula='weight_trend')\n",
        "logger.debug(aft.print_summary())\n"
      ]
    },
    {
      "cell_type": "markdown",
      "metadata": {
        "id": "Mm1o0t1EfciT"
      },
      "source": [
        "### censored (i.e., patients w/o weight loss yet) survival prediction"
      ]
    },
    {
      "cell_type": "code",
      "execution_count": 36,
      "metadata": {
        "colab": {
          "base_uri": "https://localhost:8080/"
        },
        "id": "n63jI_Zpfvbd",
        "outputId": "c2ab02df-1bee-47ff-e339-28577dc7e78e"
      },
      "outputs": [
        {
          "name": "stderr",
          "output_type": "stream",
          "text": [
            "DEBUG:my_logger:(10322, 17)\n"
          ]
        }
      ],
      "source": [
        "censored_subjects=data_x_numeric.join(data_y)\n",
        "\n",
        "censored_subjects['weight_trend'].fillna(0,inplace=True)\n",
        "\n",
        "censored_subjects = censored_subjects.loc[censored_subjects[label]==0].copy()\n",
        "\n",
        "duration_days_col = f'duration_days_{label}'\n",
        "\n",
        "censored_subjects.rename(columns={'duration_days':duration_days_col},inplace=True)\n",
        "\n",
        "censored_subjects_last_obs = censored_subjects[duration_days_col]\n",
        "\n",
        "y_median = aft.predict_median(censored_subjects,conditional_after=censored_subjects_last_obs)\n",
        "y_median.rename(f'median_days_to_{label}',inplace=True)\n",
        "\n",
        "df = pd.merge(censored_subjects[['pid','weight_trend',duration_days_col]],y_median,left_index=True,right_index=True)\n",
        "\n",
        "pid_probabilities =pd.merge(pid_probabilities,df,on='pid',how='left')\n",
        "logger.debug(pid_probabilities.shape)\n"
      ]
    },
    {
      "cell_type": "markdown",
      "metadata": {
        "id": "SpX8fM2_D-n7"
      },
      "source": [
        "## visualize most and least probable patients"
      ]
    },
    {
      "cell_type": "markdown",
      "metadata": {
        "id": "ZpjcjMvMYYE4"
      },
      "source": [
        "### most probable"
      ]
    },
    {
      "cell_type": "markdown",
      "metadata": {
        "id": "J8Ej2Y5BgHML"
      },
      "source": [
        "# muac loss 2 weeks consecutive"
      ]
    },
    {
      "cell_type": "markdown",
      "metadata": {
        "id": "ywgGmDxWhwd1"
      },
      "source": [
        "Static MUAC or MUAC loss for 2 consecutive weeks"
      ]
    },
    {
      "cell_type": "markdown",
      "metadata": {
        "id": "Y4dHznmXvn4D"
      },
      "source": [
        "if malnourish status is coded non-healthy (mam in particular) on most recent visit, probability of MUAC loss in the following 2 weeks increases 5x from the baseline 10% to 50%.\n",
        "\n",
        "For the 2.6% with healthy MUAC but cat2_overall diagnosis on their most recent visit their probability increases 20x (from the baseline for healthy MUAC) to 37%. For the 10% with the difference between visit 1 and visit 2 MUAC is less than .5 cm and they have unhealthy MUAC, then their probability increases another 25 points (from the baseline for unhealthy MUAC), to 81%."
      ]
    },
    {
      "cell_type": "code",
      "execution_count": 37,
      "metadata": {
        "colab": {
          "base_uri": "https://localhost:8080/"
        },
        "id": "Y7j0zl3ugPHS",
        "outputId": "9736e2ea-035f-4507-ca36-7b5baf7d084d"
      },
      "outputs": [
        {
          "name": "stderr",
          "output_type": "stream",
          "text": [
            "DEBUG:my_logger:((10322, 2331), np.int64(1229)),0.11906607246657624\n"
          ]
        }
      ],
      "source": [
        "# prompt: use pickle to read deterioration dataframe\n",
        "label = 'muac_loss_2_weeks_consecutive'\n",
        "\n",
        "with open(dir + f'{label}.pkl', 'rb') as f:\n",
        "  detn = pickle.load(f)\n",
        "\n",
        "#detn = read_detn(label)\n",
        "\n",
        "\n",
        "logger.debug(f'{detn.shape,detn[label].sum()},{detn[label].mean()}')\n",
        "# (5215, 1786) 469 0.08993288590604027 first version of data\n",
        "# (8352, 1844) 817 0.09782088122605365"
      ]
    },
    {
      "cell_type": "code",
      "execution_count": 38,
      "metadata": {
        "colab": {
          "base_uri": "https://localhost:8080/"
        },
        "id": "VzKP86foolCW",
        "outputId": "1b83fe23-d7fa-4030-a4b1-7d34a1eff7e8"
      },
      "outputs": [
        {
          "name": "stderr",
          "output_type": "stream",
          "text": [
            "DEBUG:my_logger:((2485, 2331), np.int64(1148)),0.4619718309859155\n",
            "DEBUG:my_logger:((2485, 2334), np.int64(1148)),0.4619718309859155\n"
          ]
        }
      ],
      "source": [
        "detn['wk1_calc_los'].fillna(0,inplace=True)\n",
        "\n",
        "LOS_CUTOFF = 12\n",
        "MUAC_CUTOFF = 12.7\n",
        "# prompt: detn where wk1_muac between 11.5 and 12.6 and wk1_calc_los between 10 and 12\n",
        "#detn = detn[(detn['weekly_last_muac']< MUAC_CUTOFF) & (detn['wk1_calc_los']< LOS_CUTOFF) ].copy()\n",
        "\n",
        "detn = detn[((detn['wk1_b_discharged']==0) & (detn['weekly_last_muac']< MUAC_CUTOFF) & (detn['wk1_calc_los']< LOS_CUTOFF)) ].copy()\n",
        "\n",
        "\n",
        "logger.debug(f'{detn.shape,detn[label].sum()},{detn[label].mean()}')\n",
        "detn = reduce_dimensionality(detn,['household_adults','household_slept','living_children'],'household_adults_slept_living_children_z')\n",
        "\n",
        "\n",
        "\n",
        "detn = reduce_dimensionality(detn,['weekly_avg_muac','weekly_last_wfh',],'muac_wfh_z')\n",
        "\n",
        "detn = reduce_dimensionality(detn,['wk1_muac_diff_rate','muac_diff_ratio_rate','muac_diff_ratio'],'muac_diff_rate_ratio_z')\n",
        "\n",
        "\n",
        "#detn['phq_score'] = detn['phq_score'].astype(int)\n",
        "\n",
        "logger.debug(f'{detn.shape,detn[label].sum()},{detn[label].mean()}')"
      ]
    },
    {
      "cell_type": "markdown",
      "metadata": {
        "id": "mDxZjkcQJfi1"
      },
      "source": [
        "## correlations"
      ]
    },
    {
      "cell_type": "markdown",
      "metadata": {
        "id": "IJiXsDSMBpvQ"
      },
      "source": [
        "## predictive model feature importances"
      ]
    },
    {
      "cell_type": "markdown",
      "metadata": {
        "id": "4POqBZHiMzsP"
      },
      "source": [
        "### Autogluon"
      ]
    },
    {
      "cell_type": "code",
      "execution_count": 39,
      "metadata": {
        "colab": {
          "base_uri": "https://localhost:8080/"
        },
        "id": "88mAEnKXjAao",
        "outputId": "3e4d7415-4e8e-4fa2-94eb-ce515bac5acf"
      },
      "outputs": [
        {
          "name": "stderr",
          "output_type": "stream",
          "text": [
            "Found 1 mismatches between original and current metadata:\n",
            "\tINFO: AutoGluon Python micro version mismatch (original=3.11.12, current=3.11.13)\n",
            "DEBUG:my_logger:ag features:, 13, ['wk2_muac_diff_rate', 'wk1_weight_diff_rate', 'muac_rsquared', 'hfa_trend', 'wfa_trend', 'wk1_muac', 'muac_diff_rate_ratio_z', 'resp_rate', 'hl_trend', 'household_adults_slept_living_children_z', 'wk1_calc_los', 'muac_trend', 'wk2_muac']\n"
          ]
        }
      ],
      "source": [
        "# run inference\n",
        "y_pred_proba_all,explainer,ag_features = run_ag_model(label,detn,'')"
      ]
    },
    {
      "cell_type": "code",
      "execution_count": 40,
      "metadata": {
        "colab": {
          "base_uri": "https://localhost:8080/"
        },
        "id": "BuIfKufE_Pg1",
        "outputId": "43a105d1-412e-4c50-cd9a-51fdfcffcd61"
      },
      "outputs": [
        {
          "name": "stderr",
          "output_type": "stream",
          "text": [
            "DEBUG:my_logger:(10322, 18)\n"
          ]
        }
      ],
      "source": [
        "pred_proba_all_series = y_pred_proba_all[1].rename(f'probability_{label}')\n",
        "pid_probabilities = pid_probabilities.join(pred_proba_all_series)\n",
        "logger.debug(pid_probabilities.shape)"
      ]
    },
    {
      "cell_type": "code",
      "execution_count": 41,
      "metadata": {
        "colab": {
          "base_uri": "https://localhost:8080/",
          "height": 49,
          "referenced_widgets": [
            "f4508ff9ca4a4c1e808e50c0212b0f9b",
            "deec0384b49f4c2cbcc36f5a29b4c812",
            "e490ced4cd844de9aa5eb5e67b5530c3",
            "0219d4b7860e474bb6243d4e938e830d",
            "008665e539e14744861dccdebe7649f1",
            "8481a1b936ce4514b3c85201cfbf4d27",
            "2d566cf58d334d76ba0b7460425c6ef2",
            "b00d59e019944622ae5fe623a12389b4",
            "dc9c12a5f69b43eaba9f6394660f858c",
            "ceb6ce693c954c24a2777b43d2f9b708",
            "bae2573f78e542de96c8afa35b7a4c3e"
          ]
        },
        "id": "_mn1QgCE9Spg",
        "outputId": "bb425ce8-f607-4fbc-f9f6-aed6f9129e40"
      },
      "outputs": [
        {
          "data": {
            "application/vnd.jupyter.widget-view+json": {
              "model_id": "f4508ff9ca4a4c1e808e50c0212b0f9b",
              "version_major": 2,
              "version_minor": 0
            },
            "text/plain": [
              "  0%|          | 0/62 [00:00<?, ?it/s]"
            ]
          },
          "metadata": {},
          "output_type": "display_data"
        }
      ],
      "source": [
        "pid_probabilities[f'percentrank_{label}'] = pid_probabilities[f'probability_{label}'].rank(pct=True)\n",
        "top_pct_pids = pid_probabilities[pid_probabilities[f'percentrank_{label}'] > TOP_PCT]['pid'].unique()\n",
        "if EXPORT_SHAP_WATERFALL:\n",
        "  json_series = export_waterfall_shap_values(explainer,detn[(detn['pid'].isin(active_pids)) & (detn['pid'].isin(top_pct_pids)) & (detn[label]== 0)],ag_features)\n",
        "  pid_probabilities = pd.merge(pid_probabilities, json_series.rename(f'{label}_shap_data'), left_on='pid', right_index=True, how='left')\n"
      ]
    },
    {
      "cell_type": "markdown",
      "metadata": {
        "id": "p3rQGwO3Km8q"
      },
      "source": [
        "## survival"
      ]
    },
    {
      "cell_type": "code",
      "execution_count": 42,
      "metadata": {
        "colab": {
          "base_uri": "https://localhost:8080/"
        },
        "id": "vtye86u1K5UP",
        "outputId": "852d6322-b625-48bb-d849-a3bbee271f27"
      },
      "outputs": [
        {
          "name": "stderr",
          "output_type": "stream",
          "text": [
            "DEBUG:my_logger:((2485, 2334), np.int64(1148)),0.4619718309859155\n",
            "DEBUG:my_logger:((2485, 2336), np.int64(1148))\n",
            "DEBUG:my_logger:((2127, 2336), np.int64(1148))\n"
          ]
        }
      ],
      "source": [
        "# survival\n",
        "logger.debug(f'{detn.shape,detn[label].sum()},{detn[label].mean()}')\n",
        "detn = pd.merge(detn, admit_current[['pid','status','status_date']], on='pid', how='inner')\n",
        "logger.debug(f'{detn.shape,detn[label].sum()}')\n",
        "\n",
        "label_date = f'{label}_date'\n",
        "\n",
        "detn.loc[detn[label] == 0, label_date] = None\n",
        "\n",
        "# prompt: filter detn for label_date not null or wk1_calcdate_weekly not null\n",
        "\n",
        "# drop those w/o a visit, hence no lifetime to be plotted)\n",
        "detn = detn[(detn[label_date].notnull()) | (detn['wk1_calcdate_weekly'].notnull())].copy()\n",
        "logger.debug(f'{detn.shape,detn[label].sum()}')\n",
        "\n"
      ]
    },
    {
      "cell_type": "code",
      "execution_count": 43,
      "metadata": {
        "colab": {
          "base_uri": "https://localhost:8080/"
        },
        "id": "QOKWXxaGLdOu",
        "outputId": "f5f34370-f45c-4317-d9b2-e7bd328213af"
      },
      "outputs": [
        {
          "name": "stderr",
          "output_type": "stream",
          "text": [
            "DEBUG:my_logger:((2127, 2338), np.int64(1148))\n"
          ]
        }
      ],
      "source": [
        "# prompt: create column in detn called final_date which is status_date or wk1_calcdate_weekly whichever is greater\n",
        "# Create 'final_date' column, choosing the later date between 'status_date' and 'wk1_calcdate_weekly'\n",
        "detn['final_date'] = detn[['status_date', 'wk1_calcdate_weekly']].max(axis=1)\n",
        "\n",
        "# Fill NaN (active patients w/o a visit) values in 'final_date' with today's date\n",
        "detn['final_date'] = detn['final_date'].fillna(datetime.date.today())\n",
        "detn['final_date'] = pd.to_datetime(detn['final_date'])\n",
        "detn['duration_days'] = detn['final_date'] - detn['calcdate']\n",
        "detn['duration_days'] = detn['duration_days'].dt.days\n",
        "\n",
        "logger.debug(f'{detn.shape,detn[label].sum()}')\n"
      ]
    },
    {
      "cell_type": "code",
      "execution_count": 44,
      "metadata": {
        "id": "i8z2Kl1_LmzV"
      },
      "outputs": [],
      "source": [
        "# prompt: for rows in detn where label==1 set duration_days to label_date - calcdate\n",
        "\n",
        "# Calculate duration_days only for rows where label == 1\n",
        "detn.loc[detn[label] == 1, 'duration_days'] = (detn.loc[detn[label] == 1, label_date] - detn.loc[detn[label] == 1, 'calcdate']).dt.days\n",
        "\n",
        "detn['duration_days'] = detn['duration_days'].clip(lower=0.1)\n",
        "\n"
      ]
    },
    {
      "cell_type": "markdown",
      "metadata": {
        "id": "FYAkd4NoMgYZ"
      },
      "source": [
        "### Hazard function (rate of deterioration)"
      ]
    },
    {
      "cell_type": "markdown",
      "metadata": {
        "id": "EsxXAagFMsGE"
      },
      "source": [
        "### AFT survival regression"
      ]
    },
    {
      "cell_type": "code",
      "execution_count": 45,
      "metadata": {
        "id": "8TMyKVVyKwrP"
      },
      "outputs": [],
      "source": [
        "selected_columns = ['wfh_trend','pid']\n",
        "\n",
        "#print(detn[selected_columns].dtypes)\n",
        "\n",
        "X = detn[selected_columns].copy()\n",
        "\n",
        "data_y = detn[[label,'duration_days']].copy()\n",
        "data_x_numeric = X.copy()\n",
        "data_y = detn[[label,'duration_days']].copy()\n",
        "\n",
        "regression_dataset=data_x_numeric.join(data_y)\n",
        "\n",
        "regression_dataset = regression_dataset.dropna()"
      ]
    },
    {
      "cell_type": "code",
      "execution_count": 46,
      "metadata": {
        "colab": {
          "base_uri": "https://localhost:8080/",
          "height": 555
        },
        "id": "iroAtEurMOAS",
        "outputId": "ce660c3f-eca5-415a-becd-3a6df8716449"
      },
      "outputs": [
        {
          "data": {
            "text/html": [
              "<div>\n",
              "<style scoped>\n",
              "    .dataframe tbody tr th:only-of-type {\n",
              "        vertical-align: middle;\n",
              "    }\n",
              "\n",
              "    .dataframe tbody tr th {\n",
              "        vertical-align: top;\n",
              "    }\n",
              "\n",
              "    .dataframe thead th {\n",
              "        text-align: right;\n",
              "    }\n",
              "</style>\n",
              "<table border=\"1\" class=\"dataframe\">\n",
              "  <tbody>\n",
              "    <tr>\n",
              "      <th>model</th>\n",
              "      <td>lifelines.WeibullAFTFitter</td>\n",
              "    </tr>\n",
              "    <tr>\n",
              "      <th>duration col</th>\n",
              "      <td>'duration_days'</td>\n",
              "    </tr>\n",
              "    <tr>\n",
              "      <th>event col</th>\n",
              "      <td>'muac_loss_2_weeks_consecutive'</td>\n",
              "    </tr>\n",
              "    <tr>\n",
              "      <th>number of observations</th>\n",
              "      <td>2104</td>\n",
              "    </tr>\n",
              "    <tr>\n",
              "      <th>number of events observed</th>\n",
              "      <td>1132</td>\n",
              "    </tr>\n",
              "    <tr>\n",
              "      <th>log-likelihood</th>\n",
              "      <td>-5373.40</td>\n",
              "    </tr>\n",
              "    <tr>\n",
              "      <th>time fit was run</th>\n",
              "      <td>2025-06-14 23:01:33 UTC</td>\n",
              "    </tr>\n",
              "  </tbody>\n",
              "</table>\n",
              "</div><table border=\"1\" class=\"dataframe\">\n",
              "  <thead>\n",
              "    <tr style=\"text-align: right;\">\n",
              "      <th style=\"min-width: 12px;\"></th>\n",
              "      <th style=\"min-width: 12px;\"></th>\n",
              "      <th style=\"min-width: 12px;\">coef</th>\n",
              "      <th style=\"min-width: 12px;\">exp(coef)</th>\n",
              "      <th style=\"min-width: 12px;\">se(coef)</th>\n",
              "      <th style=\"min-width: 12px;\">coef lower 95%</th>\n",
              "      <th style=\"min-width: 12px;\">coef upper 95%</th>\n",
              "      <th style=\"min-width: 12px;\">exp(coef) lower 95%</th>\n",
              "      <th style=\"min-width: 12px;\">exp(coef) upper 95%</th>\n",
              "      <th style=\"min-width: 12px;\">cmp to</th>\n",
              "      <th style=\"min-width: 12px;\">z</th>\n",
              "      <th style=\"min-width: 12px;\">p</th>\n",
              "      <th style=\"min-width: 12px;\">-log2(p)</th>\n",
              "    </tr>\n",
              "  </thead>\n",
              "  <tbody>\n",
              "    <tr>\n",
              "      <th rowspan=\"2\" valign=\"top\">lambda_</th>\n",
              "      <th>Intercept</th>\n",
              "      <td>4.06</td>\n",
              "      <td>57.84</td>\n",
              "      <td>0.01</td>\n",
              "      <td>4.03</td>\n",
              "      <td>4.09</td>\n",
              "      <td>56.18</td>\n",
              "      <td>59.55</td>\n",
              "      <td>0.00</td>\n",
              "      <td>273.22</td>\n",
              "      <td>&lt;0.005</td>\n",
              "      <td>inf</td>\n",
              "    </tr>\n",
              "    <tr>\n",
              "      <th>wfh_trend</th>\n",
              "      <td>224.52</td>\n",
              "      <td>3.22e+97</td>\n",
              "      <td>35.54</td>\n",
              "      <td>154.87</td>\n",
              "      <td>294.17</td>\n",
              "      <td>1.82e+67</td>\n",
              "      <td>5.70e+127</td>\n",
              "      <td>0.00</td>\n",
              "      <td>6.32</td>\n",
              "      <td>&lt;0.005</td>\n",
              "      <td>31.82</td>\n",
              "    </tr>\n",
              "    <tr>\n",
              "      <th rowspan=\"2\" valign=\"top\">rho_</th>\n",
              "      <th>Intercept</th>\n",
              "      <td>0.86</td>\n",
              "      <td>2.37</td>\n",
              "      <td>0.02</td>\n",
              "      <td>0.82</td>\n",
              "      <td>0.90</td>\n",
              "      <td>2.27</td>\n",
              "      <td>2.47</td>\n",
              "      <td>0.00</td>\n",
              "      <td>40.29</td>\n",
              "      <td>&lt;0.005</td>\n",
              "      <td>inf</td>\n",
              "    </tr>\n",
              "    <tr>\n",
              "      <th>wfh_trend</th>\n",
              "      <td>63.28</td>\n",
              "      <td>3.04e+27</td>\n",
              "      <td>20.15</td>\n",
              "      <td>23.78</td>\n",
              "      <td>102.78</td>\n",
              "      <td>2.14e+10</td>\n",
              "      <td>4.33e+44</td>\n",
              "      <td>0.00</td>\n",
              "      <td>3.14</td>\n",
              "      <td>&lt;0.005</td>\n",
              "      <td>9.21</td>\n",
              "    </tr>\n",
              "  </tbody>\n",
              "</table><br><div>\n",
              "<style scoped>\n",
              "    .dataframe tbody tr th:only-of-type {\n",
              "        vertical-align: middle;\n",
              "    }\n",
              "\n",
              "    .dataframe tbody tr th {\n",
              "        vertical-align: top;\n",
              "    }\n",
              "\n",
              "    .dataframe thead th {\n",
              "        text-align: right;\n",
              "    }\n",
              "</style>\n",
              "<table border=\"1\" class=\"dataframe\">\n",
              "  <tbody>\n",
              "    <tr>\n",
              "      <th>Concordance</th>\n",
              "      <td>0.59</td>\n",
              "    </tr>\n",
              "    <tr>\n",
              "      <th>AIC</th>\n",
              "      <td>10754.80</td>\n",
              "    </tr>\n",
              "    <tr>\n",
              "      <th>log-likelihood ratio test</th>\n",
              "      <td>54.48 on 2 df</td>\n",
              "    </tr>\n",
              "    <tr>\n",
              "      <th>-log2(p) of ll-ratio test</th>\n",
              "      <td>39.30</td>\n",
              "    </tr>\n",
              "  </tbody>\n",
              "</table>\n",
              "</div>"
            ],
            "text/latex": [
              "\\begin{tabular}{llrrrrrrrrrrr}\n",
              " &  & coef & exp(coef) & se(coef) & coef lower 95% & coef upper 95% & exp(coef) lower 95% & exp(coef) upper 95% & cmp to & z & p & -log2(p) \\\\\n",
              "param & covariate &  &  &  &  &  &  &  &  &  &  &  \\\\\n",
              "\\multirow[c]{2}{*}{lambda_} & Intercept & 4.06 & 57.84 & 0.01 & 4.03 & 4.09 & 56.18 & 59.55 & 0.00 & 273.22 & 0.00 & inf \\\\\n",
              " & wfh_trend & 224.52 & 32212904468559104287753285456523621955046430699279292626356944700466805039191033718732870117228544.00 & 35.54 & 154.87 & 294.17 & 18212740072039110641006897127998331304304794513407157779415661805568.00 & 56975019145723560102218638892352706373645801750692123876119698738180630145125162600197455863371648983150038090112285962517086208.00 & 0.00 & 6.32 & 0.00 & 31.82 \\\\\n",
              "\\multirow[c]{2}{*}{rho_} & Intercept & 0.86 & 2.37 & 0.02 & 0.82 & 0.90 & 2.27 & 2.47 & 0.00 & 40.29 & 0.00 & inf \\\\\n",
              " & wfh_trend & 63.28 & 3041027762422399501303021568.00 & 20.15 & 23.78 & 102.78 & 21361550299.76 & 432920350913241231222106870822747438806204416.00 & 0.00 & 3.14 & 0.00 & 9.21 \\\\\n",
              "\\end{tabular}\n"
            ],
            "text/plain": [
              "<lifelines.WeibullAFTFitter: fitted with 2104 total observations, 972 right-censored observations>\n",
              "             duration col = 'duration_days'\n",
              "                event col = 'muac_loss_2_weeks_consecutive'\n",
              "   number of observations = 2104\n",
              "number of events observed = 1132\n",
              "           log-likelihood = -5373.40\n",
              "         time fit was run = 2025-06-14 23:01:33 UTC\n",
              "\n",
              "---\n",
              "                    coef exp(coef)  se(coef)  coef lower 95%  coef upper 95% exp(coef) lower 95% exp(coef) upper 95%\n",
              "param   covariate                                                                                                   \n",
              "lambda_ Intercept   4.06     57.84      0.01            4.03            4.09               56.18               59.55\n",
              "        wfh_trend 224.52  3.22e+97     35.54          154.87          294.17            1.82e+67           5.70e+127\n",
              "rho_    Intercept   0.86      2.37      0.02            0.82            0.90                2.27                2.47\n",
              "        wfh_trend  63.28  3.04e+27     20.15           23.78          102.78            2.14e+10            4.33e+44\n",
              "\n",
              "                   cmp to      z      p  -log2(p)\n",
              "param   covariate                                \n",
              "lambda_ Intercept    0.00 273.22 <0.005       inf\n",
              "        wfh_trend    0.00   6.32 <0.005     31.82\n",
              "rho_    Intercept    0.00  40.29 <0.005       inf\n",
              "        wfh_trend    0.00   3.14 <0.005      9.21\n",
              "---\n",
              "Concordance = 0.59\n",
              "AIC = 10754.80\n",
              "log-likelihood ratio test = 54.48 on 2 df\n",
              "-log2(p) of ll-ratio test = 39.30"
            ]
          },
          "metadata": {},
          "output_type": "display_data"
        },
        {
          "name": "stderr",
          "output_type": "stream",
          "text": [
            "DEBUG:my_logger:None\n"
          ]
        }
      ],
      "source": [
        "aft = WeibullAFTFitter()\n",
        "aft.fit(regression_dataset, duration_col='duration_days', event_col=f'{label}', ancillary=True,formula='wfh_trend')\n",
        "logger.debug(aft.print_summary())\n"
      ]
    },
    {
      "cell_type": "markdown",
      "metadata": {
        "id": "OEWEwTOBMZmG"
      },
      "source": [
        "### censored (i.e., patients w/o consecutive muac loss yet) survival prediction"
      ]
    },
    {
      "cell_type": "code",
      "execution_count": 47,
      "metadata": {
        "colab": {
          "base_uri": "https://localhost:8080/"
        },
        "id": "5D_8wpd2Mnj2",
        "outputId": "547669fe-5b41-4135-ee79-3c2446fe22ca"
      },
      "outputs": [
        {
          "name": "stderr",
          "output_type": "stream",
          "text": [
            "DEBUG:my_logger:(10322, 23)\n"
          ]
        }
      ],
      "source": [
        "censored_subjects=data_x_numeric.join(data_y)\n",
        "\n",
        "censored_subjects['wfh_trend'].fillna(0,inplace=True)\n",
        "\n",
        "censored_subjects = censored_subjects.loc[censored_subjects[label]==0].copy()\n",
        "\n",
        "duration_days_col = f'duration_days_{label}'\n",
        "\n",
        "censored_subjects.rename(columns={'duration_days':duration_days_col},inplace=True)\n",
        "\n",
        "censored_subjects_last_obs = censored_subjects[duration_days_col]\n",
        "\n",
        "y_median = aft.predict_median(censored_subjects,conditional_after=censored_subjects_last_obs)\n",
        "y_median.rename(f'median_days_to_{label}',inplace=True)\n",
        "\n",
        "df = pd.merge(censored_subjects[['pid','wfh_trend',duration_days_col]],y_median,left_index=True,right_index=True)\n",
        "\n",
        "pid_probabilities =pd.merge(pid_probabilities,df,on='pid',how='left')\n",
        "logger.debug(pid_probabilities.shape)\n",
        "\n",
        "\n"
      ]
    },
    {
      "cell_type": "markdown",
      "metadata": {
        "id": "Y-hnhzgADtMP"
      },
      "source": [
        "## visualize most and least probable patients"
      ]
    },
    {
      "cell_type": "markdown",
      "metadata": {
        "id": "nEdz8U6INzVT"
      },
      "source": [
        "### most probable"
      ]
    },
    {
      "cell_type": "markdown",
      "metadata": {
        "id": "LqaDXBS_91Lv"
      },
      "source": [
        "# nonresponse"
      ]
    },
    {
      "cell_type": "markdown",
      "metadata": {
        "id": "em_bLKN8Jzd_"
      },
      "source": [
        "(status == ‘nonresponse’)\n",
        "discharge as not responding to treatment"
      ]
    },
    {
      "cell_type": "code",
      "execution_count": 48,
      "metadata": {
        "colab": {
          "base_uri": "https://localhost:8080/"
        },
        "id": "9TNkR1-S-Hbe",
        "outputId": "1e36b932-8826-4178-9367-0fcdf8a54c1a"
      },
      "outputs": [
        {
          "name": "stderr",
          "output_type": "stream",
          "text": [
            "DEBUG:my_logger:((10322, 2331), np.int64(584)),0.056578182522766904\n"
          ]
        }
      ],
      "source": [
        "# read deterioration file\n",
        "label = 'nonresponse'\n",
        "\n",
        "#detn = read_detn(label)\n",
        "with open(dir + f'{label}.pkl', 'rb') as f:\n",
        "  detn = pickle.load(f)\n",
        "\n",
        "\n",
        "logger.debug(f'{detn.shape,detn[label].sum()},{detn[label].mean()}')\n",
        "# (8352, 1844) 403 0.04825191570881226\n"
      ]
    },
    {
      "cell_type": "code",
      "execution_count": 49,
      "metadata": {
        "colab": {
          "base_uri": "https://localhost:8080/"
        },
        "id": "f1HSL_KxgMcP",
        "outputId": "f436fa6d-14f5-4f48-9350-9301e7f24dc1"
      },
      "outputs": [
        {
          "name": "stderr",
          "output_type": "stream",
          "text": [
            "DEBUG:my_logger:584,(10322, 2333)\n",
            "DEBUG:my_logger:((1766, 2335), np.int64(584)),0.33069082672706684\n"
          ]
        }
      ],
      "source": [
        "# prompt: create column in detn called final_date which is status_date or wk1_calcdate_weekly whichever is greater\n",
        "detn = pd.merge(detn, admit_current[['pid','status','status_date']], on='pid', how='inner')\n",
        "logger.debug(f'{detn[label].sum()},{detn.shape}')\n",
        "\n",
        "\n",
        "# Create 'final_date' column, choosing the later date between 'status_date' and 'wk1_calcdate_weekly'\n",
        "detn['final_date'] = detn[['status_date', 'wk1_calcdate_weekly']].max(axis=1)\n",
        "\n",
        "# Fill NaN (active patients w/o a visit) values in 'final_date' with today's date\n",
        "detn['final_date'] = detn['final_date'].fillna(datetime.date.today())\n",
        "detn['final_date'] = pd.to_datetime(detn['final_date'])\n",
        "detn['duration_days'] = detn['final_date'] - detn['calcdate']\n",
        "detn['duration_days'] = detn['duration_days'].dt.days\n",
        "\n",
        "# prompt: only keep detn rows where duration between label==1 min(duration_days) and max(duration_days)\n",
        "\n",
        "# Assuming 'detn' DataFrame is already loaded as in the provided code.\n",
        "\n",
        "min_duration = detn.groupby(label)['duration_days'].min()[1]\n",
        "max_duration = detn.groupby(label)['duration_days'].max()[1]\n",
        "\n",
        "detn_filtered = detn[\n",
        "    (detn['duration_days'] >= min_duration) &\n",
        "    (detn['duration_days'] <= max_duration)\n",
        "]\n",
        "\n",
        "detn = detn_filtered.copy()\n",
        "logger.debug(f'{detn.shape,detn[label].sum()},{detn[label].mean()}')\n"
      ]
    },
    {
      "cell_type": "code",
      "execution_count": 50,
      "metadata": {
        "colab": {
          "base_uri": "https://localhost:8080/"
        },
        "id": "4bYQZheabLWM",
        "outputId": "e04c124d-a73e-49b0-97fc-e2d14e5cc092"
      },
      "outputs": [
        {
          "name": "stderr",
          "output_type": "stream",
          "text": [
            "DEBUG:my_logger:((1766, 2339), np.int64(584)),0.33069082672706684\n"
          ]
        }
      ],
      "source": [
        "\n",
        "detn = reduce_dimensionality(detn,['household_adults','household_slept','living_children'],'household_adults_slept_living_children_z')\n",
        "\n",
        "detn = reduce_dimensionality(detn,['weekly_avg_muac','weekly_last_wfh',],'muac_wfh')\n",
        "\n",
        "detn['muac_diff_ratio'] = -detn['muac_diff_ratio']\n",
        "detn['muac_diff_ratio_rate'] = -detn['muac_diff_ratio_rate']\n",
        "\n",
        "\n",
        "detn = reduce_dimensionality(detn,['muac_diff_ratio','muac','muac_diff_ratio_rate'],'muac_diff_ratio_rate_z')\n",
        "\n",
        "\n",
        "\n",
        "\n",
        "detn = reduce_dimensionality(detn,['duration_days','wk1_calc_los'],'duration_z')\n",
        "#detn.drop(columns=['duration_days','wk1_calc_los'],inplace=True)\n",
        "logger.debug(f'{detn.shape,detn[label].sum()},{detn[label].mean()}')"
      ]
    },
    {
      "cell_type": "markdown",
      "metadata": {
        "id": "zRJQiN8b_quV"
      },
      "source": [
        "## predictive model feature importances"
      ]
    },
    {
      "cell_type": "markdown",
      "metadata": {
        "id": "xZGJObE-Kqxc"
      },
      "source": [
        "### autogluon"
      ]
    },
    {
      "cell_type": "code",
      "execution_count": 51,
      "metadata": {
        "colab": {
          "base_uri": "https://localhost:8080/"
        },
        "id": "LZ0OQ9iWK5nH",
        "outputId": "8e54e9bf-f761-4a77-97c1-000c08313fdc"
      },
      "outputs": [
        {
          "name": "stderr",
          "output_type": "stream",
          "text": [
            "DEBUG:my_logger:ag features:, 5, ['duration_z', 'wk1_weight_diff_rate', 'wk1_muac', 'muac_diff_ratio_rate_z', 'hl_trend']\n"
          ]
        }
      ],
      "source": [
        "#explainer,predictor,ag_features,y_pred,y_pred_proba,ag_model_f1,X_test_ag,y_test_ag,y_pred_proba_all = ag_model_load(label,.2,detn)\n",
        "\n",
        "y_pred_proba_all,explainer,ag_features = run_ag_model(label,detn,'')"
      ]
    },
    {
      "cell_type": "code",
      "execution_count": 52,
      "metadata": {
        "colab": {
          "base_uri": "https://localhost:8080/"
        },
        "id": "d9atOd4K_yov",
        "outputId": "a3692d2b-e32b-4cf9-8ac0-9c5777ecf6a7"
      },
      "outputs": [
        {
          "name": "stderr",
          "output_type": "stream",
          "text": [
            "DEBUG:my_logger:(10322, 24)\n"
          ]
        }
      ],
      "source": [
        "pred_proba_all_series = y_pred_proba_all[1].rename(f'probability_{label}')\n",
        "pid_probabilities = pid_probabilities.join(pred_proba_all_series)\n",
        "logger.debug(pid_probabilities.shape)"
      ]
    },
    {
      "cell_type": "code",
      "execution_count": 53,
      "metadata": {
        "colab": {
          "base_uri": "https://localhost:8080/",
          "height": 49,
          "referenced_widgets": [
            "e8b0b11be48a4695ae6483b96df1cd8d",
            "4ce945802f7b4a98b62b90b2d744aad3",
            "cfd643faabbc43a6b4dbf569d5cb6a19",
            "0ed2b0e6a02c4fa4a72ff6c2afecbecb",
            "0a81d10aefd44e4aa9828288f347599a",
            "d77dd791f9bd4e4493b97c4ec974caed",
            "b4f0dbbce0b94f64b181b33c73ba94b6",
            "249b086499ed4c01b7ca7a54f3413c35",
            "38b3437bf12147298e473d6ee320eb87",
            "5cc0e80fe4a94b8bb5fac47f6440adc2",
            "568865f15ab24bc9a9acdde76c6f5085"
          ]
        },
        "id": "j1HsNefc9iQJ",
        "outputId": "98d7b802-5f65-4a36-92e0-a14948b11daa"
      },
      "outputs": [
        {
          "data": {
            "application/vnd.jupyter.widget-view+json": {
              "model_id": "e8b0b11be48a4695ae6483b96df1cd8d",
              "version_major": 2,
              "version_minor": 0
            },
            "text/plain": [
              "  0%|          | 0/12 [00:00<?, ?it/s]"
            ]
          },
          "metadata": {},
          "output_type": "display_data"
        }
      ],
      "source": [
        "pid_probabilities[f'percentrank_{label}'] = pid_probabilities[f'probability_{label}'].rank(pct=True)\n",
        "top_pct_pids = pid_probabilities[pid_probabilities[f'percentrank_{label}'] > TOP_PCT]['pid'].unique()\n",
        "if EXPORT_SHAP_WATERFALL:\n",
        "  json_series = export_waterfall_shap_values(explainer,detn[(detn['pid'].isin(active_pids)) & (detn['pid'].isin(top_pct_pids)) & (detn[label]== 0)],ag_features)\n",
        "  pid_probabilities = pd.merge(pid_probabilities, json_series.rename(f'{label}_shap_data'), left_on='pid', right_index=True, how='left')\n"
      ]
    },
    {
      "cell_type": "markdown",
      "metadata": {
        "id": "_tgVq3DhTELp"
      },
      "source": [
        "### survival curves"
      ]
    },
    {
      "cell_type": "markdown",
      "metadata": {
        "id": "jgCZcd3zemPU"
      },
      "source": [
        "# death"
      ]
    },
    {
      "cell_type": "code",
      "execution_count": 54,
      "metadata": {
        "colab": {
          "base_uri": "https://localhost:8080/"
        },
        "id": "AGkwy5jse0fU",
        "outputId": "ee4b4a6e-8266-4e60-ae57-88125d3afc09"
      },
      "outputs": [
        {
          "name": "stderr",
          "output_type": "stream",
          "text": [
            "DEBUG:my_logger:((10322, 2331), np.int64(253)),0.024510753729897305\n"
          ]
        }
      ],
      "source": [
        "label = 'status_dead'\n",
        "\n",
        "\n",
        "#detn = read_detn(label)\n",
        "with open(dir + f'{label}.pkl', 'rb') as f:\n",
        "  detn = pickle.load(f)\n",
        "\n",
        "logger.debug(f'{detn.shape,detn[label].sum()},{detn[label].mean()}')\n",
        "# (8352, 1844) 233 0.02789750957854406"
      ]
    },
    {
      "cell_type": "code",
      "execution_count": 55,
      "metadata": {
        "colab": {
          "base_uri": "https://localhost:8080/"
        },
        "id": "SGm_132vNyaD",
        "outputId": "d374d606-d228-42e0-9d18-cb7ea8314891"
      },
      "outputs": [
        {
          "name": "stderr",
          "output_type": "stream",
          "text": [
            "DEBUG:my_logger:((10322, 2333), np.int64(253)),0.024510753729897305\n"
          ]
        }
      ],
      "source": [
        "# TODO move this to etl_deterioration\n",
        "detn = pd.merge(detn, admit_current[['pid','status','status_date']], on='pid', how='inner')\n",
        "logger.debug(f'{detn.shape,detn[label].sum()},{detn[label].mean()}')\n",
        "# prompt: create column in detn called final_date which is status_date or wk1_calcdate_weekly whichever is greater\n",
        "\n",
        "# Create 'final_date' column, choosing the later date between 'status_date' and 'wk1_calcdate_weekly'\n",
        "detn['final_date'] = detn[['status_date', 'wk1_calcdate_weekly']].max(axis=1)\n",
        "\n",
        "# Fill NaN (active patients w/o a visit) values in 'final_date' with today's date\n",
        "detn['final_date'] = detn['final_date'].fillna(datetime.date.today())\n",
        "detn['final_date'] = pd.to_datetime(detn['final_date'])\n",
        "detn['duration_days'] = detn['final_date'] - detn['calcdate']\n",
        "detn['duration_days'] = detn['duration_days'].dt.days\n",
        "\n",
        "#detn['wk1_calc_los'].fillna(detn['duration_days']/7,inplace=True)\n",
        "\n"
      ]
    },
    {
      "cell_type": "code",
      "execution_count": 56,
      "metadata": {
        "id": "PXPjGlzje337"
      },
      "outputs": [],
      "source": [
        "\n",
        "label_date = f'{label}_date'\n",
        "# for the majority that are missing label_date\n",
        "detn['duration_days'] = detn['calcdate'].max() - detn['calcdate']\n",
        "\n",
        "# overwrite only for those with non-null label_date\n",
        "detn.loc[detn[label_date].notnull(), 'duration_days'] = detn.loc[detn[label_date].notnull(), label_date] - detn.loc[detn[label_date].notnull(), 'calcdate']\n",
        "\n",
        "detn['duration_days'] = detn['duration_days'].dt.days"
      ]
    },
    {
      "cell_type": "code",
      "execution_count": 57,
      "metadata": {
        "colab": {
          "base_uri": "https://localhost:8080/"
        },
        "id": "4FlakeweeQqR",
        "outputId": "e48136a0-6929-4e1c-abe2-d3205b215af1"
      },
      "outputs": [
        {
          "name": "stderr",
          "output_type": "stream",
          "text": [
            "DEBUG:my_logger:((10322, 2335), np.int64(253)),0.024510753729897305\n",
            "DEBUG:my_logger:((1503, 2335), np.int64(242)),0.16101131071190952\n"
          ]
        }
      ],
      "source": [
        "detn['wk1_calc_los'].fillna(0,inplace=True)\n",
        "\n",
        "LOS_CUTOFF = 11\n",
        "MUAC_CUTOFF = 12.1\n",
        "NULL_MUAC_LOS_CUTOFF = 4\n",
        "DURATION_DAYS_CUTOFF = 101\n",
        "\n",
        "logger.debug(f'{detn.shape,detn[label].sum()},{detn[label].mean()}')\n",
        "\n",
        "detn = detn[(((detn['weekly_last_muac'].isnull()) & (detn['wk1_calc_los'] < NULL_MUAC_LOS_CUTOFF)) & (detn['duration_days'] < DURATION_DAYS_CUTOFF) | ((detn['weekly_last_muac'] < MUAC_CUTOFF) & (detn['wk1_calc_los'] < LOS_CUTOFF)))]\n",
        "\n",
        "logger.debug(f'{detn.shape,detn[label].sum()},{detn[label].mean()}')\n"
      ]
    },
    {
      "cell_type": "code",
      "execution_count": 58,
      "metadata": {
        "colab": {
          "base_uri": "https://localhost:8080/"
        },
        "id": "sKje3H4zfctC",
        "outputId": "f9caf1ae-169b-4187-8020-a37e39caaf69"
      },
      "outputs": [
        {
          "name": "stderr",
          "output_type": "stream",
          "text": [
            "DEBUG:my_logger:((1503, 2339), np.int64(242)),0.16101131071190952\n"
          ]
        }
      ],
      "source": [
        "\n",
        "detn = reduce_dimensionality(detn,['household_adults','household_slept','living_children'],'household_adults_slept_living_children_z')\n",
        "\n",
        "detn = reduce_dimensionality(detn,['resp_rate', 'temperature'],'resp_rate_temperature_z')\n",
        "\n",
        "\n",
        "detn = reduce_dimensionality(detn,['weekly_avg_muac','weekly_last_wfh',],'muac_wfh')\n",
        "\n",
        "detn['muac_diff_ratio'] = -detn['muac_diff_ratio']\n",
        "\n",
        "detn = reduce_dimensionality(detn,['muac_diff_ratio','muac'],'muac_diff_ratio_z')\n",
        "\n",
        "\n",
        "logger.debug(f'{detn.shape,detn[label].sum()},{detn[label].mean()}')\n",
        "\n",
        "detn = reduce_dimensionality(detn,['wfa_trend','hfa_trend'],'wfa_hfa_trend_z')\n",
        "\n",
        "detn = reduce_dimensionality(detn,['cat1_complications_weekly','admit_cat1_complications'],'cat1_complications_z')\n",
        "\n",
        "detn = reduce_dimensionality(detn,['wk1_rainy_season_weekly','lean_season_admit'],'season_z')\n",
        "\n",
        "detn = reduce_dimensionality(detn,['wfh_rsquared','wfh_trend'],'wfh_trend_z')\n",
        "\n"
      ]
    },
    {
      "cell_type": "code",
      "execution_count": 59,
      "metadata": {
        "id": "w_tk_ZJbfnxE"
      },
      "outputs": [],
      "source": [
        "# prompt: clip lower boundary of detn['duration_days'] to 0\n",
        "\n",
        "detn['duration_days'] = detn['duration_days'].clip(lower=0)\n"
      ]
    },
    {
      "cell_type": "code",
      "execution_count": 60,
      "metadata": {
        "colab": {
          "base_uri": "https://localhost:8080/"
        },
        "id": "hCdAQDC2fz4j",
        "outputId": "867bdab2-13b4-44a0-cfb7-9c91faa580df"
      },
      "outputs": [
        {
          "name": "stderr",
          "output_type": "stream",
          "text": [
            "DEBUG:my_logger:((383, 508), np.int64(154)),0.402088772845953\n"
          ]
        },
        {
          "name": "stdout",
          "output_type": "stream",
          "text": [
            "(383, 508) (219, 1449) (213, 1896) (688, 2343)\n"
          ]
        }
      ],
      "source": [
        "detn_admit_only,_,_,_ = split_detn_new_onset_medical_complication(detn,label)\n",
        "logger.debug(f'{detn_admit_only.shape,detn_admit_only[label].sum()},{detn_admit_only[label].mean()}')"
      ]
    },
    {
      "cell_type": "code",
      "execution_count": 61,
      "metadata": {
        "id": "m8QtbbW8f4N4"
      },
      "outputs": [],
      "source": [
        "# Find 'pid' values in detn that are NOT in detn_admit_only\n",
        "pid_not_in_admit = detn[~detn['pid'].isin(detn_admit_only['pid'])]['pid']\n",
        "\n",
        "# Get rows from detn where 'pid' is in pid_not_in_admit\n",
        "detn_filtered = detn[detn['pid'].isin(pid_not_in_admit)].copy()\n",
        "detn_filtered.replace([np.inf, -np.inf], np.nan, inplace=True)\n",
        "\n"
      ]
    },
    {
      "cell_type": "markdown",
      "metadata": {
        "id": "-n8IxHfTOf7z"
      },
      "source": [
        "## predictive models"
      ]
    },
    {
      "cell_type": "markdown",
      "metadata": {
        "id": "fN3uI1DBfm8Y"
      },
      "source": [
        "### autogluon"
      ]
    },
    {
      "cell_type": "markdown",
      "metadata": {
        "id": "o4GhxSLrgYVe"
      },
      "source": [
        "#### stratified models by length of service"
      ]
    },
    {
      "cell_type": "code",
      "execution_count": 62,
      "metadata": {
        "colab": {
          "base_uri": "https://localhost:8080/"
        },
        "id": "0ysCRBmOgfAV",
        "outputId": "8a359658-3958-4afa-cd3b-9dc200fce69f"
      },
      "outputs": [
        {
          "name": "stderr",
          "output_type": "stream",
          "text": [
            "Found 1 mismatches between original and current metadata:\n",
            "\tINFO: AutoGluon Python micro version mismatch (original=3.11.12, current=3.11.13)\n",
            "DEBUG:my_logger:ag features:, 12, ['household_adults_slept_living_children_z', 'age_takefamily', 'gombe_lga', 'b_knowsbday', 'c_admission', 'estdist_home', 'resp_rate', 'duration_days', 'temperature', 'lean_season_admit', 'admit_cat1_complications', 'rainy_season_admit']\n",
            "Found 1 mismatches between original and current metadata:\n",
            "\tINFO: AutoGluon Python micro version mismatch (original=3.11.12, current=3.11.13)\n",
            "DEBUG:my_logger:ag features:, 10, ['duration_days', 'season_z', 'wk2_muac', 'wk1_wfhz', 'cg_weight', 'wfa_rsquared', 'weekly_first_muac', 'wfh_trend_z', 'cat1_complications_z', 'wk2_wfa_diff_rate']\n"
          ]
        }
      ],
      "source": [
        "y_pred_proba_all1,explainer1,ag_features1 = run_ag_model(label,detn_admit_only,'1')\n",
        "y_pred_proba_all2,explainer2,ag_features2 = run_ag_model(label,detn_filtered,'not1')\n"
      ]
    },
    {
      "cell_type": "code",
      "execution_count": 63,
      "metadata": {
        "colab": {
          "base_uri": "https://localhost:8080/"
        },
        "id": "WL2DWeEzgr3G",
        "outputId": "ceeaddda-6126-4ded-e913-42883538690c"
      },
      "outputs": [
        {
          "name": "stderr",
          "output_type": "stream",
          "text": [
            "DEBUG:my_logger:(10322, 27)\n"
          ]
        }
      ],
      "source": [
        "\n",
        "y_pred_proba_all_stratified = pd.concat([y_pred_proba_all1,y_pred_proba_all2],axis=0)\n",
        "y_pred_proba_all_stratified_series = y_pred_proba_all_stratified[1].rename(f'probability_{label}_stratified')\n",
        "pid_probabilities = pid_probabilities.join(y_pred_proba_all_stratified_series)\n",
        "logger.debug(pid_probabilities.shape)"
      ]
    },
    {
      "cell_type": "code",
      "execution_count": 64,
      "metadata": {
        "id": "eFBqXpqR-XR_"
      },
      "outputs": [],
      "source": [
        "pid_probabilities[f'percentrank_{label}_stratified'] = pid_probabilities[f'probability_{label}_stratified'].rank(pct=True)\n",
        "top_pct_pids = pid_probabilities[pid_probabilities[f'percentrank_{label}_stratified'] > TOP_PCT]['pid'].unique()\n"
      ]
    },
    {
      "cell_type": "code",
      "execution_count": 65,
      "metadata": {
        "colab": {
          "base_uri": "https://localhost:8080/",
          "height": 81,
          "referenced_widgets": [
            "2b7a9b772e8b4886bfe1807407ae34f5",
            "8d2ca2c5529f457fb80bdb80bf54c85f",
            "6135ddffedcd48778448422f556c68d5",
            "e150f3b00f5d456d92a605ed66cfdf0e",
            "1ae6056caeb84986895bb086ebc1adfc",
            "6258fc0e967244d1801d585a9d664d15",
            "18dd056a34f5420495e1d59d8c449da5",
            "581d9acb7b634cb5a30b5911f7d63ce8",
            "7da633998e0e4cd5bc6b92035479ec51",
            "97c6b57076bb49f6b76c6ab2e2fa72b2",
            "62907c77be544613be27f9759940a59b",
            "e21c4771e5914d82ae964f4e240c14c0",
            "5ec69931c94242b5bdf4952001d3df24",
            "0093d793648345258ce343d3ce1462f5",
            "0c6167d890f44e6fa2419f15d8b6951d",
            "c9a36dc4425149f39fb289f74e99d8d1",
            "1bd9f067368147a69e1e2b1441cf078a",
            "0d8a2816f45a425ba708ccf34e326768",
            "eef6ff937c3d4ba0958d0a0dcd2685f3",
            "0d55b612fa5141cfb20288496a5ff75c",
            "a0e84975d4e94d9988df60d32a3a8aff",
            "f23874f52f7c448caef653bfc34b2e93"
          ]
        },
        "id": "75y0XUbF-S3K",
        "outputId": "4eadc382-dddb-41dd-e4fb-ea46a2b46ad5"
      },
      "outputs": [
        {
          "data": {
            "application/vnd.jupyter.widget-view+json": {
              "model_id": "2b7a9b772e8b4886bfe1807407ae34f5",
              "version_major": 2,
              "version_minor": 0
            },
            "text/plain": [
              "  0%|          | 0/196 [00:00<?, ?it/s]"
            ]
          },
          "metadata": {},
          "output_type": "display_data"
        },
        {
          "data": {
            "application/vnd.jupyter.widget-view+json": {
              "model_id": "e21c4771e5914d82ae964f4e240c14c0",
              "version_major": 2,
              "version_minor": 0
            },
            "text/plain": [
              "  0%|          | 0/179 [00:00<?, ?it/s]"
            ]
          },
          "metadata": {},
          "output_type": "display_data"
        }
      ],
      "source": [
        "pid_probabilities[f'percentrank_{label}_stratified'] = pid_probabilities[f'probability_{label}_stratified'].rank(pct=True)\n",
        "top_pct_pids = pid_probabilities[pid_probabilities[f'percentrank_{label}_stratified'] > TOP_PCT]['pid'].unique()\n",
        "if EXPORT_SHAP_WATERFALL:\n",
        "  json_series = export_waterfall_shap_values(explainer1,detn_admit_only[(detn_admit_only['pid'].isin(active_pids)) & (detn_admit_only['pid'].isin(top_pct_pids)) & (detn_admit_only[label]== 0)],ag_features1)\n",
        "  json_series2 = export_waterfall_shap_values(explainer2,detn_filtered[(detn_filtered['pid'].isin(active_pids)) & (detn_filtered['pid'].isin(top_pct_pids)) & (detn_filtered[label]== 0)],ag_features2)\n",
        "  pid_probabilities = pd.merge(pid_probabilities, pd.concat([json_series, json_series2]).rename(f'{label}_shap_data'), left_on='pid', right_index=True, how='left')\n"
      ]
    },
    {
      "cell_type": "code",
      "execution_count": 66,
      "metadata": {
        "id": "-Q6VQwHVPfKH"
      },
      "outputs": [],
      "source": [
        "# clip for better visualization and so AFT models will work, guaranteeing all durations >0\n",
        "# doesn't affect models\n",
        "#max_duration = detn[detn[label]==1]['duration_days'].max() +1\n",
        "#print(max_duration)\n",
        "\n",
        "# prompt: clip detn['duration_days'] to max_duration for K-M clarity\n",
        "\n",
        "# detn['duration_days'] = detn['duration_days'].clip(upper=max_duration, lower=.01)\n",
        "\n",
        "detn['duration_days'] = detn['duration_days'].clip(lower=.01)"
      ]
    },
    {
      "cell_type": "markdown",
      "metadata": {
        "id": "rEqGk5zvQq0f"
      },
      "source": [
        "### Survival Curves"
      ]
    },
    {
      "cell_type": "markdown",
      "metadata": {
        "id": "UaXbzOhG5cPQ"
      },
      "source": [
        "### AFT survival regression"
      ]
    },
    {
      "cell_type": "code",
      "execution_count": 67,
      "metadata": {
        "colab": {
          "base_uri": "https://localhost:8080/",
          "height": 555
        },
        "id": "2C9ID42z1gA_",
        "outputId": "23d3aeed-7742-4b4a-846d-66486022b209"
      },
      "outputs": [
        {
          "data": {
            "text/html": [
              "<div>\n",
              "<style scoped>\n",
              "    .dataframe tbody tr th:only-of-type {\n",
              "        vertical-align: middle;\n",
              "    }\n",
              "\n",
              "    .dataframe tbody tr th {\n",
              "        vertical-align: top;\n",
              "    }\n",
              "\n",
              "    .dataframe thead th {\n",
              "        text-align: right;\n",
              "    }\n",
              "</style>\n",
              "<table border=\"1\" class=\"dataframe\">\n",
              "  <tbody>\n",
              "    <tr>\n",
              "      <th>model</th>\n",
              "      <td>lifelines.WeibullAFTFitter</td>\n",
              "    </tr>\n",
              "    <tr>\n",
              "      <th>duration col</th>\n",
              "      <td>'duration_days'</td>\n",
              "    </tr>\n",
              "    <tr>\n",
              "      <th>event col</th>\n",
              "      <td>'status_dead'</td>\n",
              "    </tr>\n",
              "    <tr>\n",
              "      <th>number of observations</th>\n",
              "      <td>1451</td>\n",
              "    </tr>\n",
              "    <tr>\n",
              "      <th>number of events observed</th>\n",
              "      <td>220</td>\n",
              "    </tr>\n",
              "    <tr>\n",
              "      <th>log-likelihood</th>\n",
              "      <td>-1352.47</td>\n",
              "    </tr>\n",
              "    <tr>\n",
              "      <th>time fit was run</th>\n",
              "      <td>2025-06-14 23:06:10 UTC</td>\n",
              "    </tr>\n",
              "  </tbody>\n",
              "</table>\n",
              "</div><table border=\"1\" class=\"dataframe\">\n",
              "  <thead>\n",
              "    <tr style=\"text-align: right;\">\n",
              "      <th style=\"min-width: 12px;\"></th>\n",
              "      <th style=\"min-width: 12px;\"></th>\n",
              "      <th style=\"min-width: 12px;\">coef</th>\n",
              "      <th style=\"min-width: 12px;\">exp(coef)</th>\n",
              "      <th style=\"min-width: 12px;\">se(coef)</th>\n",
              "      <th style=\"min-width: 12px;\">coef lower 95%</th>\n",
              "      <th style=\"min-width: 12px;\">coef upper 95%</th>\n",
              "      <th style=\"min-width: 12px;\">exp(coef) lower 95%</th>\n",
              "      <th style=\"min-width: 12px;\">exp(coef) upper 95%</th>\n",
              "      <th style=\"min-width: 12px;\">cmp to</th>\n",
              "      <th style=\"min-width: 12px;\">z</th>\n",
              "      <th style=\"min-width: 12px;\">p</th>\n",
              "      <th style=\"min-width: 12px;\">-log2(p)</th>\n",
              "    </tr>\n",
              "  </thead>\n",
              "  <tbody>\n",
              "    <tr>\n",
              "      <th rowspan=\"2\" valign=\"top\">lambda_</th>\n",
              "      <th>Intercept</th>\n",
              "      <td>-5.08</td>\n",
              "      <td>0.01</td>\n",
              "      <td>1.47</td>\n",
              "      <td>-7.97</td>\n",
              "      <td>-2.19</td>\n",
              "      <td>0.00</td>\n",
              "      <td>0.11</td>\n",
              "      <td>0.00</td>\n",
              "      <td>-3.44</td>\n",
              "      <td>&lt;0.005</td>\n",
              "      <td>10.76</td>\n",
              "    </tr>\n",
              "    <tr>\n",
              "      <th>wk1_muac</th>\n",
              "      <td>1.17</td>\n",
              "      <td>3.21</td>\n",
              "      <td>0.15</td>\n",
              "      <td>0.87</td>\n",
              "      <td>1.46</td>\n",
              "      <td>2.38</td>\n",
              "      <td>4.32</td>\n",
              "      <td>0.00</td>\n",
              "      <td>7.67</td>\n",
              "      <td>&lt;0.005</td>\n",
              "      <td>45.72</td>\n",
              "    </tr>\n",
              "    <tr>\n",
              "      <th rowspan=\"2\" valign=\"top\">rho_</th>\n",
              "      <th>Intercept</th>\n",
              "      <td>-1.48</td>\n",
              "      <td>0.23</td>\n",
              "      <td>0.34</td>\n",
              "      <td>-2.15</td>\n",
              "      <td>-0.81</td>\n",
              "      <td>0.12</td>\n",
              "      <td>0.44</td>\n",
              "      <td>0.00</td>\n",
              "      <td>-4.33</td>\n",
              "      <td>&lt;0.005</td>\n",
              "      <td>16.06</td>\n",
              "    </tr>\n",
              "    <tr>\n",
              "      <th>wk1_muac</th>\n",
              "      <td>0.08</td>\n",
              "      <td>1.08</td>\n",
              "      <td>0.03</td>\n",
              "      <td>0.01</td>\n",
              "      <td>0.14</td>\n",
              "      <td>1.01</td>\n",
              "      <td>1.15</td>\n",
              "      <td>0.00</td>\n",
              "      <td>2.27</td>\n",
              "      <td>0.02</td>\n",
              "      <td>5.41</td>\n",
              "    </tr>\n",
              "  </tbody>\n",
              "</table><br><div>\n",
              "<style scoped>\n",
              "    .dataframe tbody tr th:only-of-type {\n",
              "        vertical-align: middle;\n",
              "    }\n",
              "\n",
              "    .dataframe tbody tr th {\n",
              "        vertical-align: top;\n",
              "    }\n",
              "\n",
              "    .dataframe thead th {\n",
              "        text-align: right;\n",
              "    }\n",
              "</style>\n",
              "<table border=\"1\" class=\"dataframe\">\n",
              "  <tbody>\n",
              "    <tr>\n",
              "      <th>Concordance</th>\n",
              "      <td>0.75</td>\n",
              "    </tr>\n",
              "    <tr>\n",
              "      <th>AIC</th>\n",
              "      <td>2712.95</td>\n",
              "    </tr>\n",
              "    <tr>\n",
              "      <th>log-likelihood ratio test</th>\n",
              "      <td>145.77 on 2 df</td>\n",
              "    </tr>\n",
              "    <tr>\n",
              "      <th>-log2(p) of ll-ratio test</th>\n",
              "      <td>105.15</td>\n",
              "    </tr>\n",
              "  </tbody>\n",
              "</table>\n",
              "</div>"
            ],
            "text/latex": [
              "\\begin{tabular}{llrrrrrrrrrrr}\n",
              " &  & coef & exp(coef) & se(coef) & coef lower 95% & coef upper 95% & exp(coef) lower 95% & exp(coef) upper 95% & cmp to & z & p & -log2(p) \\\\\n",
              "param & covariate &  &  &  &  &  &  &  &  &  &  &  \\\\\n",
              "\\multirow[c]{2}{*}{lambda_} & Intercept & -5.08 & 0.01 & 1.47 & -7.97 & -2.19 & 0.00 & 0.11 & 0.00 & -3.44 & 0.00 & 10.76 \\\\\n",
              " & wk1_muac & 1.17 & 3.21 & 0.15 & 0.87 & 1.46 & 2.38 & 4.32 & 0.00 & 7.67 & 0.00 & 45.72 \\\\\n",
              "\\multirow[c]{2}{*}{rho_} & Intercept & -1.48 & 0.23 & 0.34 & -2.15 & -0.81 & 0.12 & 0.44 & 0.00 & -4.33 & 0.00 & 16.06 \\\\\n",
              " & wk1_muac & 0.08 & 1.08 & 0.03 & 0.01 & 0.14 & 1.01 & 1.15 & 0.00 & 2.27 & 0.02 & 5.41 \\\\\n",
              "\\end{tabular}\n"
            ],
            "text/plain": [
              "<lifelines.WeibullAFTFitter: fitted with 1451 total observations, 1231 right-censored observations>\n",
              "             duration col = 'duration_days'\n",
              "                event col = 'status_dead'\n",
              "   number of observations = 1451\n",
              "number of events observed = 220\n",
              "           log-likelihood = -1352.47\n",
              "         time fit was run = 2025-06-14 23:06:10 UTC\n",
              "\n",
              "---\n",
              "                   coef exp(coef)  se(coef)  coef lower 95%  coef upper 95% exp(coef) lower 95% exp(coef) upper 95%\n",
              "param   covariate                                                                                                  \n",
              "lambda_ Intercept -5.08      0.01      1.47           -7.97           -2.19                0.00                0.11\n",
              "        wk1_muac   1.17      3.21      0.15            0.87            1.46                2.38                4.32\n",
              "rho_    Intercept -1.48      0.23      0.34           -2.15           -0.81                0.12                0.44\n",
              "        wk1_muac   0.08      1.08      0.03            0.01            0.14                1.01                1.15\n",
              "\n",
              "                   cmp to     z      p  -log2(p)\n",
              "param   covariate                               \n",
              "lambda_ Intercept    0.00 -3.44 <0.005     10.76\n",
              "        wk1_muac     0.00  7.67 <0.005     45.72\n",
              "rho_    Intercept    0.00 -4.33 <0.005     16.06\n",
              "        wk1_muac     0.00  2.27   0.02      5.41\n",
              "---\n",
              "Concordance = 0.75\n",
              "AIC = 2712.95\n",
              "log-likelihood ratio test = 145.77 on 2 df\n",
              "-log2(p) of ll-ratio test = 105.15"
            ]
          },
          "metadata": {},
          "output_type": "display_data"
        },
        {
          "name": "stderr",
          "output_type": "stream",
          "text": [
            "DEBUG:my_logger:None\n"
          ]
        }
      ],
      "source": [
        "#regr_cols = ['wk1_muac','wk1_calc_los','muac',label,'duration_days','pid']\n",
        "regr_cols = ['wk1_muac','muac',label,'duration_days','pid']\n",
        "regression_dataset = detn[regr_cols].copy()\n",
        "regression_dataset['wk1_muac'].fillna(regression_dataset['muac'],inplace=True)\n",
        "regression_dataset.drop(columns=['muac'],inplace=True)\n",
        "\n",
        "regression_dataset.dropna(inplace=True)\n",
        "\n",
        "\n",
        "#regression_dataset['duration_days'] = regression_dataset['duration_days'].clip(lower=.01)\n",
        "aft = WeibullAFTFitter()\n",
        "\n",
        "aft.fit(regression_dataset, duration_col='duration_days', event_col=f'{label}', ancillary=True, formula=' wk1_muac')\n",
        "\n",
        "logger.debug(aft.print_summary())"
      ]
    },
    {
      "cell_type": "markdown",
      "metadata": {
        "id": "MkUtyRos5oOP"
      },
      "source": [
        "### censored (i.e., still alive) patients prediction"
      ]
    },
    {
      "cell_type": "code",
      "execution_count": 68,
      "metadata": {
        "id": "M5fDlpIL2B7z"
      },
      "outputs": [],
      "source": [
        "regr_cols = ['wk1_muac','muac',label,'duration_days','pid']\n",
        "censored_subjects = detn[regr_cols].copy()\n",
        "censored_subjects['wk1_muac'].fillna(censored_subjects['muac'],inplace=True)\n",
        "censored_subjects.drop(columns=['muac'],inplace=True)\n",
        "\n",
        "\n",
        "censored_subjects.dropna(inplace=True)\n",
        "\n",
        "censored_subjects = censored_subjects.loc[detn[label]==0].copy()\n",
        "\n",
        "censored_subjects_last_obs = censored_subjects['duration_days']\n",
        "censored_subjects_last_obs = censored_subjects_last_obs.clip(lower=0.01)\n"
      ]
    },
    {
      "cell_type": "code",
      "execution_count": 69,
      "metadata": {
        "colab": {
          "base_uri": "https://localhost:8080/"
        },
        "id": "colSH9rq4ShU",
        "outputId": "57ae472e-1d0d-4b81-a94d-61748f226606"
      },
      "outputs": [
        {
          "name": "stderr",
          "output_type": "stream",
          "text": [
            "DEBUG:my_logger:(10322, 31)\n"
          ]
        }
      ],
      "source": [
        "y_pred_median = aft.predict_median(censored_subjects,conditional_after=censored_subjects_last_obs)\n",
        "y_pred_median.rename('median_predicted_days_to_death',inplace=True)\n",
        "\n",
        "duration_days_col = f'duration_days_{label}'\n",
        "\n",
        "censored_subjects.rename(columns={'duration_days':duration_days_col},inplace=True)\n",
        "\n",
        "\n",
        "df = pd.merge(censored_subjects[['pid',duration_days_col]],y_pred_median,left_index=True,right_index=True)\n",
        "\n",
        "pid_probabilities =pd.merge(pid_probabilities,df,on='pid',how='left')\n",
        "logger.debug(pid_probabilities.shape)\n",
        "\n",
        "\n"
      ]
    },
    {
      "cell_type": "code",
      "execution_count": 71,
      "metadata": {
        "id": "yXOHDDLkAeZV"
      },
      "outputs": [],
      "source": [
        "# TODO write pid_probabilities to Postgres table\n",
        "#pid_probabilities.to_excel('pid_probabilities9.xlsx',index=None)"
      ]
    }
  ],
  "metadata": {
    "colab": {
      "collapsed_sections": [
        "PnPPB-pUqPC5"
      ],
      "provenance": []
    },
    "kernelspec": {
      "display_name": "Python 3",
      "name": "python3"
    },
    "language_info": {
      "name": "python"
    },
    "widgets": {
      "application/vnd.jupyter.widget-state+json": {
        "008665e539e14744861dccdebe7649f1": {
          "model_module": "@jupyter-widgets/base",
          "model_module_version": "1.2.0",
          "model_name": "LayoutModel",
          "state": {
            "_model_module": "@jupyter-widgets/base",
            "_model_module_version": "1.2.0",
            "_model_name": "LayoutModel",
            "_view_count": null,
            "_view_module": "@jupyter-widgets/base",
            "_view_module_version": "1.2.0",
            "_view_name": "LayoutView",
            "align_content": null,
            "align_items": null,
            "align_self": null,
            "border": null,
            "bottom": null,
            "display": null,
            "flex": null,
            "flex_flow": null,
            "grid_area": null,
            "grid_auto_columns": null,
            "grid_auto_flow": null,
            "grid_auto_rows": null,
            "grid_column": null,
            "grid_gap": null,
            "grid_row": null,
            "grid_template_areas": null,
            "grid_template_columns": null,
            "grid_template_rows": null,
            "height": null,
            "justify_content": null,
            "justify_items": null,
            "left": null,
            "margin": null,
            "max_height": null,
            "max_width": null,
            "min_height": null,
            "min_width": null,
            "object_fit": null,
            "object_position": null,
            "order": null,
            "overflow": null,
            "overflow_x": null,
            "overflow_y": null,
            "padding": null,
            "right": null,
            "top": null,
            "visibility": null,
            "width": null
          }
        },
        "0093d793648345258ce343d3ce1462f5": {
          "model_module": "@jupyter-widgets/controls",
          "model_module_version": "1.5.0",
          "model_name": "FloatProgressModel",
          "state": {
            "_dom_classes": [],
            "_model_module": "@jupyter-widgets/controls",
            "_model_module_version": "1.5.0",
            "_model_name": "FloatProgressModel",
            "_view_count": null,
            "_view_module": "@jupyter-widgets/controls",
            "_view_module_version": "1.5.0",
            "_view_name": "ProgressView",
            "bar_style": "success",
            "description": "",
            "description_tooltip": null,
            "layout": "IPY_MODEL_eef6ff937c3d4ba0958d0a0dcd2685f3",
            "max": 179,
            "min": 0,
            "orientation": "horizontal",
            "style": "IPY_MODEL_0d55b612fa5141cfb20288496a5ff75c",
            "value": 179
          }
        },
        "0219d4b7860e474bb6243d4e938e830d": {
          "model_module": "@jupyter-widgets/controls",
          "model_module_version": "1.5.0",
          "model_name": "HTMLModel",
          "state": {
            "_dom_classes": [],
            "_model_module": "@jupyter-widgets/controls",
            "_model_module_version": "1.5.0",
            "_model_name": "HTMLModel",
            "_view_count": null,
            "_view_module": "@jupyter-widgets/controls",
            "_view_module_version": "1.5.0",
            "_view_name": "HTMLView",
            "description": "",
            "description_tooltip": null,
            "layout": "IPY_MODEL_ceb6ce693c954c24a2777b43d2f9b708",
            "placeholder": "​",
            "style": "IPY_MODEL_bae2573f78e542de96c8afa35b7a4c3e",
            "value": " 62/62 [06:35&lt;00:00,  6.42s/it]"
          }
        },
        "0281776396bc4fa1a96ef71fd5490955": {
          "model_module": "@jupyter-widgets/controls",
          "model_module_version": "1.5.0",
          "model_name": "HTMLModel",
          "state": {
            "_dom_classes": [],
            "_model_module": "@jupyter-widgets/controls",
            "_model_module_version": "1.5.0",
            "_model_name": "HTMLModel",
            "_view_count": null,
            "_view_module": "@jupyter-widgets/controls",
            "_view_module_version": "1.5.0",
            "_view_name": "HTMLView",
            "description": "",
            "description_tooltip": null,
            "layout": "IPY_MODEL_108054bf642b4a5d9d8b0b86d0ae3ba3",
            "placeholder": "​",
            "style": "IPY_MODEL_f6f272eb6e294d45b43854b47233ee86",
            "value": " 7/7 [00:00&lt;00:00,  8.05it/s]"
          }
        },
        "089381aa84d14cbc8ab6447adae7df68": {
          "model_module": "@jupyter-widgets/base",
          "model_module_version": "1.2.0",
          "model_name": "LayoutModel",
          "state": {
            "_model_module": "@jupyter-widgets/base",
            "_model_module_version": "1.2.0",
            "_model_name": "LayoutModel",
            "_view_count": null,
            "_view_module": "@jupyter-widgets/base",
            "_view_module_version": "1.2.0",
            "_view_name": "LayoutView",
            "align_content": null,
            "align_items": null,
            "align_self": null,
            "border": null,
            "bottom": null,
            "display": null,
            "flex": null,
            "flex_flow": null,
            "grid_area": null,
            "grid_auto_columns": null,
            "grid_auto_flow": null,
            "grid_auto_rows": null,
            "grid_column": null,
            "grid_gap": null,
            "grid_row": null,
            "grid_template_areas": null,
            "grid_template_columns": null,
            "grid_template_rows": null,
            "height": null,
            "justify_content": null,
            "justify_items": null,
            "left": null,
            "margin": null,
            "max_height": null,
            "max_width": null,
            "min_height": null,
            "min_width": null,
            "object_fit": null,
            "object_position": null,
            "order": null,
            "overflow": null,
            "overflow_x": null,
            "overflow_y": null,
            "padding": null,
            "right": null,
            "top": null,
            "visibility": null,
            "width": null
          }
        },
        "09bc2252ef4943b2ac23dfc610ae8400": {
          "model_module": "@jupyter-widgets/base",
          "model_module_version": "1.2.0",
          "model_name": "LayoutModel",
          "state": {
            "_model_module": "@jupyter-widgets/base",
            "_model_module_version": "1.2.0",
            "_model_name": "LayoutModel",
            "_view_count": null,
            "_view_module": "@jupyter-widgets/base",
            "_view_module_version": "1.2.0",
            "_view_name": "LayoutView",
            "align_content": null,
            "align_items": null,
            "align_self": null,
            "border": null,
            "bottom": null,
            "display": null,
            "flex": null,
            "flex_flow": null,
            "grid_area": null,
            "grid_auto_columns": null,
            "grid_auto_flow": null,
            "grid_auto_rows": null,
            "grid_column": null,
            "grid_gap": null,
            "grid_row": null,
            "grid_template_areas": null,
            "grid_template_columns": null,
            "grid_template_rows": null,
            "height": null,
            "justify_content": null,
            "justify_items": null,
            "left": null,
            "margin": null,
            "max_height": null,
            "max_width": null,
            "min_height": null,
            "min_width": null,
            "object_fit": null,
            "object_position": null,
            "order": null,
            "overflow": null,
            "overflow_x": null,
            "overflow_y": null,
            "padding": null,
            "right": null,
            "top": null,
            "visibility": null,
            "width": null
          }
        },
        "0a81d10aefd44e4aa9828288f347599a": {
          "model_module": "@jupyter-widgets/base",
          "model_module_version": "1.2.0",
          "model_name": "LayoutModel",
          "state": {
            "_model_module": "@jupyter-widgets/base",
            "_model_module_version": "1.2.0",
            "_model_name": "LayoutModel",
            "_view_count": null,
            "_view_module": "@jupyter-widgets/base",
            "_view_module_version": "1.2.0",
            "_view_name": "LayoutView",
            "align_content": null,
            "align_items": null,
            "align_self": null,
            "border": null,
            "bottom": null,
            "display": null,
            "flex": null,
            "flex_flow": null,
            "grid_area": null,
            "grid_auto_columns": null,
            "grid_auto_flow": null,
            "grid_auto_rows": null,
            "grid_column": null,
            "grid_gap": null,
            "grid_row": null,
            "grid_template_areas": null,
            "grid_template_columns": null,
            "grid_template_rows": null,
            "height": null,
            "justify_content": null,
            "justify_items": null,
            "left": null,
            "margin": null,
            "max_height": null,
            "max_width": null,
            "min_height": null,
            "min_width": null,
            "object_fit": null,
            "object_position": null,
            "order": null,
            "overflow": null,
            "overflow_x": null,
            "overflow_y": null,
            "padding": null,
            "right": null,
            "top": null,
            "visibility": null,
            "width": null
          }
        },
        "0c6167d890f44e6fa2419f15d8b6951d": {
          "model_module": "@jupyter-widgets/controls",
          "model_module_version": "1.5.0",
          "model_name": "HTMLModel",
          "state": {
            "_dom_classes": [],
            "_model_module": "@jupyter-widgets/controls",
            "_model_module_version": "1.5.0",
            "_model_name": "HTMLModel",
            "_view_count": null,
            "_view_module": "@jupyter-widgets/controls",
            "_view_module_version": "1.5.0",
            "_view_name": "HTMLView",
            "description": "",
            "description_tooltip": null,
            "layout": "IPY_MODEL_a0e84975d4e94d9988df60d32a3a8aff",
            "placeholder": "​",
            "style": "IPY_MODEL_f23874f52f7c448caef653bfc34b2e93",
            "value": " 179/179 [02:21&lt;00:00,  1.28it/s]"
          }
        },
        "0d55b612fa5141cfb20288496a5ff75c": {
          "model_module": "@jupyter-widgets/controls",
          "model_module_version": "1.5.0",
          "model_name": "ProgressStyleModel",
          "state": {
            "_model_module": "@jupyter-widgets/controls",
            "_model_module_version": "1.5.0",
            "_model_name": "ProgressStyleModel",
            "_view_count": null,
            "_view_module": "@jupyter-widgets/base",
            "_view_module_version": "1.2.0",
            "_view_name": "StyleView",
            "bar_color": null,
            "description_width": ""
          }
        },
        "0d8a2816f45a425ba708ccf34e326768": {
          "model_module": "@jupyter-widgets/controls",
          "model_module_version": "1.5.0",
          "model_name": "DescriptionStyleModel",
          "state": {
            "_model_module": "@jupyter-widgets/controls",
            "_model_module_version": "1.5.0",
            "_model_name": "DescriptionStyleModel",
            "_view_count": null,
            "_view_module": "@jupyter-widgets/base",
            "_view_module_version": "1.2.0",
            "_view_name": "StyleView",
            "description_width": ""
          }
        },
        "0ed2b0e6a02c4fa4a72ff6c2afecbecb": {
          "model_module": "@jupyter-widgets/controls",
          "model_module_version": "1.5.0",
          "model_name": "HTMLModel",
          "state": {
            "_dom_classes": [],
            "_model_module": "@jupyter-widgets/controls",
            "_model_module_version": "1.5.0",
            "_model_name": "HTMLModel",
            "_view_count": null,
            "_view_module": "@jupyter-widgets/controls",
            "_view_module_version": "1.5.0",
            "_view_name": "HTMLView",
            "description": "",
            "description_tooltip": null,
            "layout": "IPY_MODEL_5cc0e80fe4a94b8bb5fac47f6440adc2",
            "placeholder": "​",
            "style": "IPY_MODEL_568865f15ab24bc9a9acdde76c6f5085",
            "value": " 12/12 [00:00&lt;00:00, 13.43it/s]"
          }
        },
        "1006a18f44c8483793fe3ba50ce3dc85": {
          "model_module": "@jupyter-widgets/base",
          "model_module_version": "1.2.0",
          "model_name": "LayoutModel",
          "state": {
            "_model_module": "@jupyter-widgets/base",
            "_model_module_version": "1.2.0",
            "_model_name": "LayoutModel",
            "_view_count": null,
            "_view_module": "@jupyter-widgets/base",
            "_view_module_version": "1.2.0",
            "_view_name": "LayoutView",
            "align_content": null,
            "align_items": null,
            "align_self": null,
            "border": null,
            "bottom": null,
            "display": null,
            "flex": null,
            "flex_flow": null,
            "grid_area": null,
            "grid_auto_columns": null,
            "grid_auto_flow": null,
            "grid_auto_rows": null,
            "grid_column": null,
            "grid_gap": null,
            "grid_row": null,
            "grid_template_areas": null,
            "grid_template_columns": null,
            "grid_template_rows": null,
            "height": null,
            "justify_content": null,
            "justify_items": null,
            "left": null,
            "margin": null,
            "max_height": null,
            "max_width": null,
            "min_height": null,
            "min_width": null,
            "object_fit": null,
            "object_position": null,
            "order": null,
            "overflow": null,
            "overflow_x": null,
            "overflow_y": null,
            "padding": null,
            "right": null,
            "top": null,
            "visibility": null,
            "width": null
          }
        },
        "108054bf642b4a5d9d8b0b86d0ae3ba3": {
          "model_module": "@jupyter-widgets/base",
          "model_module_version": "1.2.0",
          "model_name": "LayoutModel",
          "state": {
            "_model_module": "@jupyter-widgets/base",
            "_model_module_version": "1.2.0",
            "_model_name": "LayoutModel",
            "_view_count": null,
            "_view_module": "@jupyter-widgets/base",
            "_view_module_version": "1.2.0",
            "_view_name": "LayoutView",
            "align_content": null,
            "align_items": null,
            "align_self": null,
            "border": null,
            "bottom": null,
            "display": null,
            "flex": null,
            "flex_flow": null,
            "grid_area": null,
            "grid_auto_columns": null,
            "grid_auto_flow": null,
            "grid_auto_rows": null,
            "grid_column": null,
            "grid_gap": null,
            "grid_row": null,
            "grid_template_areas": null,
            "grid_template_columns": null,
            "grid_template_rows": null,
            "height": null,
            "justify_content": null,
            "justify_items": null,
            "left": null,
            "margin": null,
            "max_height": null,
            "max_width": null,
            "min_height": null,
            "min_width": null,
            "object_fit": null,
            "object_position": null,
            "order": null,
            "overflow": null,
            "overflow_x": null,
            "overflow_y": null,
            "padding": null,
            "right": null,
            "top": null,
            "visibility": null,
            "width": null
          }
        },
        "178a418d270d4aca8289e20993029ee6": {
          "model_module": "@jupyter-widgets/controls",
          "model_module_version": "1.5.0",
          "model_name": "ProgressStyleModel",
          "state": {
            "_model_module": "@jupyter-widgets/controls",
            "_model_module_version": "1.5.0",
            "_model_name": "ProgressStyleModel",
            "_view_count": null,
            "_view_module": "@jupyter-widgets/base",
            "_view_module_version": "1.2.0",
            "_view_name": "StyleView",
            "bar_color": null,
            "description_width": ""
          }
        },
        "18dd056a34f5420495e1d59d8c449da5": {
          "model_module": "@jupyter-widgets/controls",
          "model_module_version": "1.5.0",
          "model_name": "DescriptionStyleModel",
          "state": {
            "_model_module": "@jupyter-widgets/controls",
            "_model_module_version": "1.5.0",
            "_model_name": "DescriptionStyleModel",
            "_view_count": null,
            "_view_module": "@jupyter-widgets/base",
            "_view_module_version": "1.2.0",
            "_view_name": "StyleView",
            "description_width": ""
          }
        },
        "1ae6056caeb84986895bb086ebc1adfc": {
          "model_module": "@jupyter-widgets/base",
          "model_module_version": "1.2.0",
          "model_name": "LayoutModel",
          "state": {
            "_model_module": "@jupyter-widgets/base",
            "_model_module_version": "1.2.0",
            "_model_name": "LayoutModel",
            "_view_count": null,
            "_view_module": "@jupyter-widgets/base",
            "_view_module_version": "1.2.0",
            "_view_name": "LayoutView",
            "align_content": null,
            "align_items": null,
            "align_self": null,
            "border": null,
            "bottom": null,
            "display": null,
            "flex": null,
            "flex_flow": null,
            "grid_area": null,
            "grid_auto_columns": null,
            "grid_auto_flow": null,
            "grid_auto_rows": null,
            "grid_column": null,
            "grid_gap": null,
            "grid_row": null,
            "grid_template_areas": null,
            "grid_template_columns": null,
            "grid_template_rows": null,
            "height": null,
            "justify_content": null,
            "justify_items": null,
            "left": null,
            "margin": null,
            "max_height": null,
            "max_width": null,
            "min_height": null,
            "min_width": null,
            "object_fit": null,
            "object_position": null,
            "order": null,
            "overflow": null,
            "overflow_x": null,
            "overflow_y": null,
            "padding": null,
            "right": null,
            "top": null,
            "visibility": null,
            "width": null
          }
        },
        "1bd9f067368147a69e1e2b1441cf078a": {
          "model_module": "@jupyter-widgets/base",
          "model_module_version": "1.2.0",
          "model_name": "LayoutModel",
          "state": {
            "_model_module": "@jupyter-widgets/base",
            "_model_module_version": "1.2.0",
            "_model_name": "LayoutModel",
            "_view_count": null,
            "_view_module": "@jupyter-widgets/base",
            "_view_module_version": "1.2.0",
            "_view_name": "LayoutView",
            "align_content": null,
            "align_items": null,
            "align_self": null,
            "border": null,
            "bottom": null,
            "display": null,
            "flex": null,
            "flex_flow": null,
            "grid_area": null,
            "grid_auto_columns": null,
            "grid_auto_flow": null,
            "grid_auto_rows": null,
            "grid_column": null,
            "grid_gap": null,
            "grid_row": null,
            "grid_template_areas": null,
            "grid_template_columns": null,
            "grid_template_rows": null,
            "height": null,
            "justify_content": null,
            "justify_items": null,
            "left": null,
            "margin": null,
            "max_height": null,
            "max_width": null,
            "min_height": null,
            "min_width": null,
            "object_fit": null,
            "object_position": null,
            "order": null,
            "overflow": null,
            "overflow_x": null,
            "overflow_y": null,
            "padding": null,
            "right": null,
            "top": null,
            "visibility": null,
            "width": null
          }
        },
        "249b086499ed4c01b7ca7a54f3413c35": {
          "model_module": "@jupyter-widgets/base",
          "model_module_version": "1.2.0",
          "model_name": "LayoutModel",
          "state": {
            "_model_module": "@jupyter-widgets/base",
            "_model_module_version": "1.2.0",
            "_model_name": "LayoutModel",
            "_view_count": null,
            "_view_module": "@jupyter-widgets/base",
            "_view_module_version": "1.2.0",
            "_view_name": "LayoutView",
            "align_content": null,
            "align_items": null,
            "align_self": null,
            "border": null,
            "bottom": null,
            "display": null,
            "flex": null,
            "flex_flow": null,
            "grid_area": null,
            "grid_auto_columns": null,
            "grid_auto_flow": null,
            "grid_auto_rows": null,
            "grid_column": null,
            "grid_gap": null,
            "grid_row": null,
            "grid_template_areas": null,
            "grid_template_columns": null,
            "grid_template_rows": null,
            "height": null,
            "justify_content": null,
            "justify_items": null,
            "left": null,
            "margin": null,
            "max_height": null,
            "max_width": null,
            "min_height": null,
            "min_width": null,
            "object_fit": null,
            "object_position": null,
            "order": null,
            "overflow": null,
            "overflow_x": null,
            "overflow_y": null,
            "padding": null,
            "right": null,
            "top": null,
            "visibility": null,
            "width": null
          }
        },
        "2b7a9b772e8b4886bfe1807407ae34f5": {
          "model_module": "@jupyter-widgets/controls",
          "model_module_version": "1.5.0",
          "model_name": "HBoxModel",
          "state": {
            "_dom_classes": [],
            "_model_module": "@jupyter-widgets/controls",
            "_model_module_version": "1.5.0",
            "_model_name": "HBoxModel",
            "_view_count": null,
            "_view_module": "@jupyter-widgets/controls",
            "_view_module_version": "1.5.0",
            "_view_name": "HBoxView",
            "box_style": "",
            "children": [
              "IPY_MODEL_8d2ca2c5529f457fb80bdb80bf54c85f",
              "IPY_MODEL_6135ddffedcd48778448422f556c68d5",
              "IPY_MODEL_e150f3b00f5d456d92a605ed66cfdf0e"
            ],
            "layout": "IPY_MODEL_1ae6056caeb84986895bb086ebc1adfc"
          }
        },
        "2d566cf58d334d76ba0b7460425c6ef2": {
          "model_module": "@jupyter-widgets/controls",
          "model_module_version": "1.5.0",
          "model_name": "DescriptionStyleModel",
          "state": {
            "_model_module": "@jupyter-widgets/controls",
            "_model_module_version": "1.5.0",
            "_model_name": "DescriptionStyleModel",
            "_view_count": null,
            "_view_module": "@jupyter-widgets/base",
            "_view_module_version": "1.2.0",
            "_view_name": "StyleView",
            "description_width": ""
          }
        },
        "3428ba9d9d2147b48ec538c96742f096": {
          "model_module": "@jupyter-widgets/controls",
          "model_module_version": "1.5.0",
          "model_name": "HTMLModel",
          "state": {
            "_dom_classes": [],
            "_model_module": "@jupyter-widgets/controls",
            "_model_module_version": "1.5.0",
            "_model_name": "HTMLModel",
            "_view_count": null,
            "_view_module": "@jupyter-widgets/controls",
            "_view_module_version": "1.5.0",
            "_view_name": "HTMLView",
            "description": "",
            "description_tooltip": null,
            "layout": "IPY_MODEL_1006a18f44c8483793fe3ba50ce3dc85",
            "placeholder": "​",
            "style": "IPY_MODEL_7f74d9d5738244c8a73055eb6c9cf6bc",
            "value": "100%"
          }
        },
        "365322e410fd4c81bedf967439da117f": {
          "model_module": "@jupyter-widgets/base",
          "model_module_version": "1.2.0",
          "model_name": "LayoutModel",
          "state": {
            "_model_module": "@jupyter-widgets/base",
            "_model_module_version": "1.2.0",
            "_model_name": "LayoutModel",
            "_view_count": null,
            "_view_module": "@jupyter-widgets/base",
            "_view_module_version": "1.2.0",
            "_view_name": "LayoutView",
            "align_content": null,
            "align_items": null,
            "align_self": null,
            "border": null,
            "bottom": null,
            "display": null,
            "flex": null,
            "flex_flow": null,
            "grid_area": null,
            "grid_auto_columns": null,
            "grid_auto_flow": null,
            "grid_auto_rows": null,
            "grid_column": null,
            "grid_gap": null,
            "grid_row": null,
            "grid_template_areas": null,
            "grid_template_columns": null,
            "grid_template_rows": null,
            "height": null,
            "justify_content": null,
            "justify_items": null,
            "left": null,
            "margin": null,
            "max_height": null,
            "max_width": null,
            "min_height": null,
            "min_width": null,
            "object_fit": null,
            "object_position": null,
            "order": null,
            "overflow": null,
            "overflow_x": null,
            "overflow_y": null,
            "padding": null,
            "right": null,
            "top": null,
            "visibility": null,
            "width": null
          }
        },
        "38b3437bf12147298e473d6ee320eb87": {
          "model_module": "@jupyter-widgets/controls",
          "model_module_version": "1.5.0",
          "model_name": "ProgressStyleModel",
          "state": {
            "_model_module": "@jupyter-widgets/controls",
            "_model_module_version": "1.5.0",
            "_model_name": "ProgressStyleModel",
            "_view_count": null,
            "_view_module": "@jupyter-widgets/base",
            "_view_module_version": "1.2.0",
            "_view_name": "StyleView",
            "bar_color": null,
            "description_width": ""
          }
        },
        "3df345c50c974cb4ac501d080c568a66": {
          "model_module": "@jupyter-widgets/controls",
          "model_module_version": "1.5.0",
          "model_name": "ProgressStyleModel",
          "state": {
            "_model_module": "@jupyter-widgets/controls",
            "_model_module_version": "1.5.0",
            "_model_name": "ProgressStyleModel",
            "_view_count": null,
            "_view_module": "@jupyter-widgets/base",
            "_view_module_version": "1.2.0",
            "_view_name": "StyleView",
            "bar_color": null,
            "description_width": ""
          }
        },
        "3fb78f032e444d668ed52521597ea1f9": {
          "model_module": "@jupyter-widgets/controls",
          "model_module_version": "1.5.0",
          "model_name": "HBoxModel",
          "state": {
            "_dom_classes": [],
            "_model_module": "@jupyter-widgets/controls",
            "_model_module_version": "1.5.0",
            "_model_name": "HBoxModel",
            "_view_count": null,
            "_view_module": "@jupyter-widgets/controls",
            "_view_module_version": "1.5.0",
            "_view_name": "HBoxView",
            "box_style": "",
            "children": [
              "IPY_MODEL_3428ba9d9d2147b48ec538c96742f096",
              "IPY_MODEL_43fb132a294843c6b8be0a26a1c85448",
              "IPY_MODEL_496b4524cb5843f08fe6ce4ab146933a"
            ],
            "layout": "IPY_MODEL_365322e410fd4c81bedf967439da117f"
          }
        },
        "43fb132a294843c6b8be0a26a1c85448": {
          "model_module": "@jupyter-widgets/controls",
          "model_module_version": "1.5.0",
          "model_name": "FloatProgressModel",
          "state": {
            "_dom_classes": [],
            "_model_module": "@jupyter-widgets/controls",
            "_model_module_version": "1.5.0",
            "_model_name": "FloatProgressModel",
            "_view_count": null,
            "_view_module": "@jupyter-widgets/controls",
            "_view_module_version": "1.5.0",
            "_view_name": "ProgressView",
            "bar_style": "success",
            "description": "",
            "description_tooltip": null,
            "layout": "IPY_MODEL_d3ad248ded9f4a3485e65dbed90403a1",
            "max": 13,
            "min": 0,
            "orientation": "horizontal",
            "style": "IPY_MODEL_178a418d270d4aca8289e20993029ee6",
            "value": 13
          }
        },
        "496b4524cb5843f08fe6ce4ab146933a": {
          "model_module": "@jupyter-widgets/controls",
          "model_module_version": "1.5.0",
          "model_name": "HTMLModel",
          "state": {
            "_dom_classes": [],
            "_model_module": "@jupyter-widgets/controls",
            "_model_module_version": "1.5.0",
            "_model_name": "HTMLModel",
            "_view_count": null,
            "_view_module": "@jupyter-widgets/controls",
            "_view_module_version": "1.5.0",
            "_view_name": "HTMLView",
            "description": "",
            "description_tooltip": null,
            "layout": "IPY_MODEL_d1cf41ab7f414929afe2df5fd9c31003",
            "placeholder": "​",
            "style": "IPY_MODEL_5aae14b83b244f4f99faff993ee92dbe",
            "value": " 13/13 [00:14&lt;00:00,  1.31s/it]"
          }
        },
        "4b6f7466139f462c9e673469b6f02e44": {
          "model_module": "@jupyter-widgets/base",
          "model_module_version": "1.2.0",
          "model_name": "LayoutModel",
          "state": {
            "_model_module": "@jupyter-widgets/base",
            "_model_module_version": "1.2.0",
            "_model_name": "LayoutModel",
            "_view_count": null,
            "_view_module": "@jupyter-widgets/base",
            "_view_module_version": "1.2.0",
            "_view_name": "LayoutView",
            "align_content": null,
            "align_items": null,
            "align_self": null,
            "border": null,
            "bottom": null,
            "display": null,
            "flex": null,
            "flex_flow": null,
            "grid_area": null,
            "grid_auto_columns": null,
            "grid_auto_flow": null,
            "grid_auto_rows": null,
            "grid_column": null,
            "grid_gap": null,
            "grid_row": null,
            "grid_template_areas": null,
            "grid_template_columns": null,
            "grid_template_rows": null,
            "height": null,
            "justify_content": null,
            "justify_items": null,
            "left": null,
            "margin": null,
            "max_height": null,
            "max_width": null,
            "min_height": null,
            "min_width": null,
            "object_fit": null,
            "object_position": null,
            "order": null,
            "overflow": null,
            "overflow_x": null,
            "overflow_y": null,
            "padding": null,
            "right": null,
            "top": null,
            "visibility": null,
            "width": null
          }
        },
        "4ce945802f7b4a98b62b90b2d744aad3": {
          "model_module": "@jupyter-widgets/controls",
          "model_module_version": "1.5.0",
          "model_name": "HTMLModel",
          "state": {
            "_dom_classes": [],
            "_model_module": "@jupyter-widgets/controls",
            "_model_module_version": "1.5.0",
            "_model_name": "HTMLModel",
            "_view_count": null,
            "_view_module": "@jupyter-widgets/controls",
            "_view_module_version": "1.5.0",
            "_view_name": "HTMLView",
            "description": "",
            "description_tooltip": null,
            "layout": "IPY_MODEL_d77dd791f9bd4e4493b97c4ec974caed",
            "placeholder": "​",
            "style": "IPY_MODEL_b4f0dbbce0b94f64b181b33c73ba94b6",
            "value": "100%"
          }
        },
        "525efe37e51e4ba2902bb5e2b281abce": {
          "model_module": "@jupyter-widgets/base",
          "model_module_version": "1.2.0",
          "model_name": "LayoutModel",
          "state": {
            "_model_module": "@jupyter-widgets/base",
            "_model_module_version": "1.2.0",
            "_model_name": "LayoutModel",
            "_view_count": null,
            "_view_module": "@jupyter-widgets/base",
            "_view_module_version": "1.2.0",
            "_view_name": "LayoutView",
            "align_content": null,
            "align_items": null,
            "align_self": null,
            "border": null,
            "bottom": null,
            "display": null,
            "flex": null,
            "flex_flow": null,
            "grid_area": null,
            "grid_auto_columns": null,
            "grid_auto_flow": null,
            "grid_auto_rows": null,
            "grid_column": null,
            "grid_gap": null,
            "grid_row": null,
            "grid_template_areas": null,
            "grid_template_columns": null,
            "grid_template_rows": null,
            "height": null,
            "justify_content": null,
            "justify_items": null,
            "left": null,
            "margin": null,
            "max_height": null,
            "max_width": null,
            "min_height": null,
            "min_width": null,
            "object_fit": null,
            "object_position": null,
            "order": null,
            "overflow": null,
            "overflow_x": null,
            "overflow_y": null,
            "padding": null,
            "right": null,
            "top": null,
            "visibility": null,
            "width": null
          }
        },
        "538c17cfacc24b91b9a4cd8ba27a7122": {
          "model_module": "@jupyter-widgets/controls",
          "model_module_version": "1.5.0",
          "model_name": "HTMLModel",
          "state": {
            "_dom_classes": [],
            "_model_module": "@jupyter-widgets/controls",
            "_model_module_version": "1.5.0",
            "_model_name": "HTMLModel",
            "_view_count": null,
            "_view_module": "@jupyter-widgets/controls",
            "_view_module_version": "1.5.0",
            "_view_name": "HTMLView",
            "description": "",
            "description_tooltip": null,
            "layout": "IPY_MODEL_7da23728c4c24133926cce02a7121641",
            "placeholder": "​",
            "style": "IPY_MODEL_91ad322ec28142ab9bc997056dba7712",
            "value": " 25/25 [00:00&lt;00:00, 33.50it/s]"
          }
        },
        "568865f15ab24bc9a9acdde76c6f5085": {
          "model_module": "@jupyter-widgets/controls",
          "model_module_version": "1.5.0",
          "model_name": "DescriptionStyleModel",
          "state": {
            "_model_module": "@jupyter-widgets/controls",
            "_model_module_version": "1.5.0",
            "_model_name": "DescriptionStyleModel",
            "_view_count": null,
            "_view_module": "@jupyter-widgets/base",
            "_view_module_version": "1.2.0",
            "_view_name": "StyleView",
            "description_width": ""
          }
        },
        "581d9acb7b634cb5a30b5911f7d63ce8": {
          "model_module": "@jupyter-widgets/base",
          "model_module_version": "1.2.0",
          "model_name": "LayoutModel",
          "state": {
            "_model_module": "@jupyter-widgets/base",
            "_model_module_version": "1.2.0",
            "_model_name": "LayoutModel",
            "_view_count": null,
            "_view_module": "@jupyter-widgets/base",
            "_view_module_version": "1.2.0",
            "_view_name": "LayoutView",
            "align_content": null,
            "align_items": null,
            "align_self": null,
            "border": null,
            "bottom": null,
            "display": null,
            "flex": null,
            "flex_flow": null,
            "grid_area": null,
            "grid_auto_columns": null,
            "grid_auto_flow": null,
            "grid_auto_rows": null,
            "grid_column": null,
            "grid_gap": null,
            "grid_row": null,
            "grid_template_areas": null,
            "grid_template_columns": null,
            "grid_template_rows": null,
            "height": null,
            "justify_content": null,
            "justify_items": null,
            "left": null,
            "margin": null,
            "max_height": null,
            "max_width": null,
            "min_height": null,
            "min_width": null,
            "object_fit": null,
            "object_position": null,
            "order": null,
            "overflow": null,
            "overflow_x": null,
            "overflow_y": null,
            "padding": null,
            "right": null,
            "top": null,
            "visibility": null,
            "width": null
          }
        },
        "5aae14b83b244f4f99faff993ee92dbe": {
          "model_module": "@jupyter-widgets/controls",
          "model_module_version": "1.5.0",
          "model_name": "DescriptionStyleModel",
          "state": {
            "_model_module": "@jupyter-widgets/controls",
            "_model_module_version": "1.5.0",
            "_model_name": "DescriptionStyleModel",
            "_view_count": null,
            "_view_module": "@jupyter-widgets/base",
            "_view_module_version": "1.2.0",
            "_view_name": "StyleView",
            "description_width": ""
          }
        },
        "5cc0e80fe4a94b8bb5fac47f6440adc2": {
          "model_module": "@jupyter-widgets/base",
          "model_module_version": "1.2.0",
          "model_name": "LayoutModel",
          "state": {
            "_model_module": "@jupyter-widgets/base",
            "_model_module_version": "1.2.0",
            "_model_name": "LayoutModel",
            "_view_count": null,
            "_view_module": "@jupyter-widgets/base",
            "_view_module_version": "1.2.0",
            "_view_name": "LayoutView",
            "align_content": null,
            "align_items": null,
            "align_self": null,
            "border": null,
            "bottom": null,
            "display": null,
            "flex": null,
            "flex_flow": null,
            "grid_area": null,
            "grid_auto_columns": null,
            "grid_auto_flow": null,
            "grid_auto_rows": null,
            "grid_column": null,
            "grid_gap": null,
            "grid_row": null,
            "grid_template_areas": null,
            "grid_template_columns": null,
            "grid_template_rows": null,
            "height": null,
            "justify_content": null,
            "justify_items": null,
            "left": null,
            "margin": null,
            "max_height": null,
            "max_width": null,
            "min_height": null,
            "min_width": null,
            "object_fit": null,
            "object_position": null,
            "order": null,
            "overflow": null,
            "overflow_x": null,
            "overflow_y": null,
            "padding": null,
            "right": null,
            "top": null,
            "visibility": null,
            "width": null
          }
        },
        "5ec69931c94242b5bdf4952001d3df24": {
          "model_module": "@jupyter-widgets/controls",
          "model_module_version": "1.5.0",
          "model_name": "HTMLModel",
          "state": {
            "_dom_classes": [],
            "_model_module": "@jupyter-widgets/controls",
            "_model_module_version": "1.5.0",
            "_model_name": "HTMLModel",
            "_view_count": null,
            "_view_module": "@jupyter-widgets/controls",
            "_view_module_version": "1.5.0",
            "_view_name": "HTMLView",
            "description": "",
            "description_tooltip": null,
            "layout": "IPY_MODEL_1bd9f067368147a69e1e2b1441cf078a",
            "placeholder": "​",
            "style": "IPY_MODEL_0d8a2816f45a425ba708ccf34e326768",
            "value": "100%"
          }
        },
        "6135ddffedcd48778448422f556c68d5": {
          "model_module": "@jupyter-widgets/controls",
          "model_module_version": "1.5.0",
          "model_name": "FloatProgressModel",
          "state": {
            "_dom_classes": [],
            "_model_module": "@jupyter-widgets/controls",
            "_model_module_version": "1.5.0",
            "_model_name": "FloatProgressModel",
            "_view_count": null,
            "_view_module": "@jupyter-widgets/controls",
            "_view_module_version": "1.5.0",
            "_view_name": "ProgressView",
            "bar_style": "success",
            "description": "",
            "description_tooltip": null,
            "layout": "IPY_MODEL_581d9acb7b634cb5a30b5911f7d63ce8",
            "max": 196,
            "min": 0,
            "orientation": "horizontal",
            "style": "IPY_MODEL_7da633998e0e4cd5bc6b92035479ec51",
            "value": 196
          }
        },
        "6258fc0e967244d1801d585a9d664d15": {
          "model_module": "@jupyter-widgets/base",
          "model_module_version": "1.2.0",
          "model_name": "LayoutModel",
          "state": {
            "_model_module": "@jupyter-widgets/base",
            "_model_module_version": "1.2.0",
            "_model_name": "LayoutModel",
            "_view_count": null,
            "_view_module": "@jupyter-widgets/base",
            "_view_module_version": "1.2.0",
            "_view_name": "LayoutView",
            "align_content": null,
            "align_items": null,
            "align_self": null,
            "border": null,
            "bottom": null,
            "display": null,
            "flex": null,
            "flex_flow": null,
            "grid_area": null,
            "grid_auto_columns": null,
            "grid_auto_flow": null,
            "grid_auto_rows": null,
            "grid_column": null,
            "grid_gap": null,
            "grid_row": null,
            "grid_template_areas": null,
            "grid_template_columns": null,
            "grid_template_rows": null,
            "height": null,
            "justify_content": null,
            "justify_items": null,
            "left": null,
            "margin": null,
            "max_height": null,
            "max_width": null,
            "min_height": null,
            "min_width": null,
            "object_fit": null,
            "object_position": null,
            "order": null,
            "overflow": null,
            "overflow_x": null,
            "overflow_y": null,
            "padding": null,
            "right": null,
            "top": null,
            "visibility": null,
            "width": null
          }
        },
        "62907c77be544613be27f9759940a59b": {
          "model_module": "@jupyter-widgets/controls",
          "model_module_version": "1.5.0",
          "model_name": "DescriptionStyleModel",
          "state": {
            "_model_module": "@jupyter-widgets/controls",
            "_model_module_version": "1.5.0",
            "_model_name": "DescriptionStyleModel",
            "_view_count": null,
            "_view_module": "@jupyter-widgets/base",
            "_view_module_version": "1.2.0",
            "_view_name": "StyleView",
            "description_width": ""
          }
        },
        "685cedaec2684391974a1875f382859e": {
          "model_module": "@jupyter-widgets/base",
          "model_module_version": "1.2.0",
          "model_name": "LayoutModel",
          "state": {
            "_model_module": "@jupyter-widgets/base",
            "_model_module_version": "1.2.0",
            "_model_name": "LayoutModel",
            "_view_count": null,
            "_view_module": "@jupyter-widgets/base",
            "_view_module_version": "1.2.0",
            "_view_name": "LayoutView",
            "align_content": null,
            "align_items": null,
            "align_self": null,
            "border": null,
            "bottom": null,
            "display": null,
            "flex": null,
            "flex_flow": null,
            "grid_area": null,
            "grid_auto_columns": null,
            "grid_auto_flow": null,
            "grid_auto_rows": null,
            "grid_column": null,
            "grid_gap": null,
            "grid_row": null,
            "grid_template_areas": null,
            "grid_template_columns": null,
            "grid_template_rows": null,
            "height": null,
            "justify_content": null,
            "justify_items": null,
            "left": null,
            "margin": null,
            "max_height": null,
            "max_width": null,
            "min_height": null,
            "min_width": null,
            "object_fit": null,
            "object_position": null,
            "order": null,
            "overflow": null,
            "overflow_x": null,
            "overflow_y": null,
            "padding": null,
            "right": null,
            "top": null,
            "visibility": null,
            "width": null
          }
        },
        "731979a64e124537bc1dde0d4157f383": {
          "model_module": "@jupyter-widgets/controls",
          "model_module_version": "1.5.0",
          "model_name": "FloatProgressModel",
          "state": {
            "_dom_classes": [],
            "_model_module": "@jupyter-widgets/controls",
            "_model_module_version": "1.5.0",
            "_model_name": "FloatProgressModel",
            "_view_count": null,
            "_view_module": "@jupyter-widgets/controls",
            "_view_module_version": "1.5.0",
            "_view_name": "ProgressView",
            "bar_style": "success",
            "description": "",
            "description_tooltip": null,
            "layout": "IPY_MODEL_4b6f7466139f462c9e673469b6f02e44",
            "max": 7,
            "min": 0,
            "orientation": "horizontal",
            "style": "IPY_MODEL_7f0e31f18c6542c5b560106945405bff",
            "value": 7
          }
        },
        "7da23728c4c24133926cce02a7121641": {
          "model_module": "@jupyter-widgets/base",
          "model_module_version": "1.2.0",
          "model_name": "LayoutModel",
          "state": {
            "_model_module": "@jupyter-widgets/base",
            "_model_module_version": "1.2.0",
            "_model_name": "LayoutModel",
            "_view_count": null,
            "_view_module": "@jupyter-widgets/base",
            "_view_module_version": "1.2.0",
            "_view_name": "LayoutView",
            "align_content": null,
            "align_items": null,
            "align_self": null,
            "border": null,
            "bottom": null,
            "display": null,
            "flex": null,
            "flex_flow": null,
            "grid_area": null,
            "grid_auto_columns": null,
            "grid_auto_flow": null,
            "grid_auto_rows": null,
            "grid_column": null,
            "grid_gap": null,
            "grid_row": null,
            "grid_template_areas": null,
            "grid_template_columns": null,
            "grid_template_rows": null,
            "height": null,
            "justify_content": null,
            "justify_items": null,
            "left": null,
            "margin": null,
            "max_height": null,
            "max_width": null,
            "min_height": null,
            "min_width": null,
            "object_fit": null,
            "object_position": null,
            "order": null,
            "overflow": null,
            "overflow_x": null,
            "overflow_y": null,
            "padding": null,
            "right": null,
            "top": null,
            "visibility": null,
            "width": null
          }
        },
        "7da633998e0e4cd5bc6b92035479ec51": {
          "model_module": "@jupyter-widgets/controls",
          "model_module_version": "1.5.0",
          "model_name": "ProgressStyleModel",
          "state": {
            "_model_module": "@jupyter-widgets/controls",
            "_model_module_version": "1.5.0",
            "_model_name": "ProgressStyleModel",
            "_view_count": null,
            "_view_module": "@jupyter-widgets/base",
            "_view_module_version": "1.2.0",
            "_view_name": "StyleView",
            "bar_color": null,
            "description_width": ""
          }
        },
        "7f0e31f18c6542c5b560106945405bff": {
          "model_module": "@jupyter-widgets/controls",
          "model_module_version": "1.5.0",
          "model_name": "ProgressStyleModel",
          "state": {
            "_model_module": "@jupyter-widgets/controls",
            "_model_module_version": "1.5.0",
            "_model_name": "ProgressStyleModel",
            "_view_count": null,
            "_view_module": "@jupyter-widgets/base",
            "_view_module_version": "1.2.0",
            "_view_name": "StyleView",
            "bar_color": null,
            "description_width": ""
          }
        },
        "7f74d9d5738244c8a73055eb6c9cf6bc": {
          "model_module": "@jupyter-widgets/controls",
          "model_module_version": "1.5.0",
          "model_name": "DescriptionStyleModel",
          "state": {
            "_model_module": "@jupyter-widgets/controls",
            "_model_module_version": "1.5.0",
            "_model_name": "DescriptionStyleModel",
            "_view_count": null,
            "_view_module": "@jupyter-widgets/base",
            "_view_module_version": "1.2.0",
            "_view_name": "StyleView",
            "description_width": ""
          }
        },
        "8481a1b936ce4514b3c85201cfbf4d27": {
          "model_module": "@jupyter-widgets/base",
          "model_module_version": "1.2.0",
          "model_name": "LayoutModel",
          "state": {
            "_model_module": "@jupyter-widgets/base",
            "_model_module_version": "1.2.0",
            "_model_name": "LayoutModel",
            "_view_count": null,
            "_view_module": "@jupyter-widgets/base",
            "_view_module_version": "1.2.0",
            "_view_name": "LayoutView",
            "align_content": null,
            "align_items": null,
            "align_self": null,
            "border": null,
            "bottom": null,
            "display": null,
            "flex": null,
            "flex_flow": null,
            "grid_area": null,
            "grid_auto_columns": null,
            "grid_auto_flow": null,
            "grid_auto_rows": null,
            "grid_column": null,
            "grid_gap": null,
            "grid_row": null,
            "grid_template_areas": null,
            "grid_template_columns": null,
            "grid_template_rows": null,
            "height": null,
            "justify_content": null,
            "justify_items": null,
            "left": null,
            "margin": null,
            "max_height": null,
            "max_width": null,
            "min_height": null,
            "min_width": null,
            "object_fit": null,
            "object_position": null,
            "order": null,
            "overflow": null,
            "overflow_x": null,
            "overflow_y": null,
            "padding": null,
            "right": null,
            "top": null,
            "visibility": null,
            "width": null
          }
        },
        "8bdfa69aeb52412ebfee18061bc7bc87": {
          "model_module": "@jupyter-widgets/controls",
          "model_module_version": "1.5.0",
          "model_name": "DescriptionStyleModel",
          "state": {
            "_model_module": "@jupyter-widgets/controls",
            "_model_module_version": "1.5.0",
            "_model_name": "DescriptionStyleModel",
            "_view_count": null,
            "_view_module": "@jupyter-widgets/base",
            "_view_module_version": "1.2.0",
            "_view_name": "StyleView",
            "description_width": ""
          }
        },
        "8d2ca2c5529f457fb80bdb80bf54c85f": {
          "model_module": "@jupyter-widgets/controls",
          "model_module_version": "1.5.0",
          "model_name": "HTMLModel",
          "state": {
            "_dom_classes": [],
            "_model_module": "@jupyter-widgets/controls",
            "_model_module_version": "1.5.0",
            "_model_name": "HTMLModel",
            "_view_count": null,
            "_view_module": "@jupyter-widgets/controls",
            "_view_module_version": "1.5.0",
            "_view_name": "HTMLView",
            "description": "",
            "description_tooltip": null,
            "layout": "IPY_MODEL_6258fc0e967244d1801d585a9d664d15",
            "placeholder": "​",
            "style": "IPY_MODEL_18dd056a34f5420495e1d59d8c449da5",
            "value": "100%"
          }
        },
        "91ad322ec28142ab9bc997056dba7712": {
          "model_module": "@jupyter-widgets/controls",
          "model_module_version": "1.5.0",
          "model_name": "DescriptionStyleModel",
          "state": {
            "_model_module": "@jupyter-widgets/controls",
            "_model_module_version": "1.5.0",
            "_model_name": "DescriptionStyleModel",
            "_view_count": null,
            "_view_module": "@jupyter-widgets/base",
            "_view_module_version": "1.2.0",
            "_view_name": "StyleView",
            "description_width": ""
          }
        },
        "97c6b57076bb49f6b76c6ab2e2fa72b2": {
          "model_module": "@jupyter-widgets/base",
          "model_module_version": "1.2.0",
          "model_name": "LayoutModel",
          "state": {
            "_model_module": "@jupyter-widgets/base",
            "_model_module_version": "1.2.0",
            "_model_name": "LayoutModel",
            "_view_count": null,
            "_view_module": "@jupyter-widgets/base",
            "_view_module_version": "1.2.0",
            "_view_name": "LayoutView",
            "align_content": null,
            "align_items": null,
            "align_self": null,
            "border": null,
            "bottom": null,
            "display": null,
            "flex": null,
            "flex_flow": null,
            "grid_area": null,
            "grid_auto_columns": null,
            "grid_auto_flow": null,
            "grid_auto_rows": null,
            "grid_column": null,
            "grid_gap": null,
            "grid_row": null,
            "grid_template_areas": null,
            "grid_template_columns": null,
            "grid_template_rows": null,
            "height": null,
            "justify_content": null,
            "justify_items": null,
            "left": null,
            "margin": null,
            "max_height": null,
            "max_width": null,
            "min_height": null,
            "min_width": null,
            "object_fit": null,
            "object_position": null,
            "order": null,
            "overflow": null,
            "overflow_x": null,
            "overflow_y": null,
            "padding": null,
            "right": null,
            "top": null,
            "visibility": null,
            "width": null
          }
        },
        "97ceac4d4994483eb3afbdddc2497c7e": {
          "model_module": "@jupyter-widgets/controls",
          "model_module_version": "1.5.0",
          "model_name": "FloatProgressModel",
          "state": {
            "_dom_classes": [],
            "_model_module": "@jupyter-widgets/controls",
            "_model_module_version": "1.5.0",
            "_model_name": "FloatProgressModel",
            "_view_count": null,
            "_view_module": "@jupyter-widgets/controls",
            "_view_module_version": "1.5.0",
            "_view_name": "ProgressView",
            "bar_style": "success",
            "description": "",
            "description_tooltip": null,
            "layout": "IPY_MODEL_09bc2252ef4943b2ac23dfc610ae8400",
            "max": 25,
            "min": 0,
            "orientation": "horizontal",
            "style": "IPY_MODEL_3df345c50c974cb4ac501d080c568a66",
            "value": 25
          }
        },
        "a0e84975d4e94d9988df60d32a3a8aff": {
          "model_module": "@jupyter-widgets/base",
          "model_module_version": "1.2.0",
          "model_name": "LayoutModel",
          "state": {
            "_model_module": "@jupyter-widgets/base",
            "_model_module_version": "1.2.0",
            "_model_name": "LayoutModel",
            "_view_count": null,
            "_view_module": "@jupyter-widgets/base",
            "_view_module_version": "1.2.0",
            "_view_name": "LayoutView",
            "align_content": null,
            "align_items": null,
            "align_self": null,
            "border": null,
            "bottom": null,
            "display": null,
            "flex": null,
            "flex_flow": null,
            "grid_area": null,
            "grid_auto_columns": null,
            "grid_auto_flow": null,
            "grid_auto_rows": null,
            "grid_column": null,
            "grid_gap": null,
            "grid_row": null,
            "grid_template_areas": null,
            "grid_template_columns": null,
            "grid_template_rows": null,
            "height": null,
            "justify_content": null,
            "justify_items": null,
            "left": null,
            "margin": null,
            "max_height": null,
            "max_width": null,
            "min_height": null,
            "min_width": null,
            "object_fit": null,
            "object_position": null,
            "order": null,
            "overflow": null,
            "overflow_x": null,
            "overflow_y": null,
            "padding": null,
            "right": null,
            "top": null,
            "visibility": null,
            "width": null
          }
        },
        "abc43fbe8c1b4a43863755c16bfc8f8d": {
          "model_module": "@jupyter-widgets/controls",
          "model_module_version": "1.5.0",
          "model_name": "HTMLModel",
          "state": {
            "_dom_classes": [],
            "_model_module": "@jupyter-widgets/controls",
            "_model_module_version": "1.5.0",
            "_model_name": "HTMLModel",
            "_view_count": null,
            "_view_module": "@jupyter-widgets/controls",
            "_view_module_version": "1.5.0",
            "_view_name": "HTMLView",
            "description": "",
            "description_tooltip": null,
            "layout": "IPY_MODEL_089381aa84d14cbc8ab6447adae7df68",
            "placeholder": "​",
            "style": "IPY_MODEL_8bdfa69aeb52412ebfee18061bc7bc87",
            "value": "100%"
          }
        },
        "b00d59e019944622ae5fe623a12389b4": {
          "model_module": "@jupyter-widgets/base",
          "model_module_version": "1.2.0",
          "model_name": "LayoutModel",
          "state": {
            "_model_module": "@jupyter-widgets/base",
            "_model_module_version": "1.2.0",
            "_model_name": "LayoutModel",
            "_view_count": null,
            "_view_module": "@jupyter-widgets/base",
            "_view_module_version": "1.2.0",
            "_view_name": "LayoutView",
            "align_content": null,
            "align_items": null,
            "align_self": null,
            "border": null,
            "bottom": null,
            "display": null,
            "flex": null,
            "flex_flow": null,
            "grid_area": null,
            "grid_auto_columns": null,
            "grid_auto_flow": null,
            "grid_auto_rows": null,
            "grid_column": null,
            "grid_gap": null,
            "grid_row": null,
            "grid_template_areas": null,
            "grid_template_columns": null,
            "grid_template_rows": null,
            "height": null,
            "justify_content": null,
            "justify_items": null,
            "left": null,
            "margin": null,
            "max_height": null,
            "max_width": null,
            "min_height": null,
            "min_width": null,
            "object_fit": null,
            "object_position": null,
            "order": null,
            "overflow": null,
            "overflow_x": null,
            "overflow_y": null,
            "padding": null,
            "right": null,
            "top": null,
            "visibility": null,
            "width": null
          }
        },
        "b4405eda602a46d0bdabac79e97eaaf1": {
          "model_module": "@jupyter-widgets/controls",
          "model_module_version": "1.5.0",
          "model_name": "HBoxModel",
          "state": {
            "_dom_classes": [],
            "_model_module": "@jupyter-widgets/controls",
            "_model_module_version": "1.5.0",
            "_model_name": "HBoxModel",
            "_view_count": null,
            "_view_module": "@jupyter-widgets/controls",
            "_view_module_version": "1.5.0",
            "_view_name": "HBoxView",
            "box_style": "",
            "children": [
              "IPY_MODEL_e1ebc20b75c7418c9cebb6eb555ade52",
              "IPY_MODEL_97ceac4d4994483eb3afbdddc2497c7e",
              "IPY_MODEL_538c17cfacc24b91b9a4cd8ba27a7122"
            ],
            "layout": "IPY_MODEL_d167686c20d842b395fa4357887cfbb1"
          }
        },
        "b4f0dbbce0b94f64b181b33c73ba94b6": {
          "model_module": "@jupyter-widgets/controls",
          "model_module_version": "1.5.0",
          "model_name": "DescriptionStyleModel",
          "state": {
            "_model_module": "@jupyter-widgets/controls",
            "_model_module_version": "1.5.0",
            "_model_name": "DescriptionStyleModel",
            "_view_count": null,
            "_view_module": "@jupyter-widgets/base",
            "_view_module_version": "1.2.0",
            "_view_name": "StyleView",
            "description_width": ""
          }
        },
        "bae2573f78e542de96c8afa35b7a4c3e": {
          "model_module": "@jupyter-widgets/controls",
          "model_module_version": "1.5.0",
          "model_name": "DescriptionStyleModel",
          "state": {
            "_model_module": "@jupyter-widgets/controls",
            "_model_module_version": "1.5.0",
            "_model_name": "DescriptionStyleModel",
            "_view_count": null,
            "_view_module": "@jupyter-widgets/base",
            "_view_module_version": "1.2.0",
            "_view_name": "StyleView",
            "description_width": ""
          }
        },
        "c8cf699c630e46c480442f31a12469b1": {
          "model_module": "@jupyter-widgets/controls",
          "model_module_version": "1.5.0",
          "model_name": "DescriptionStyleModel",
          "state": {
            "_model_module": "@jupyter-widgets/controls",
            "_model_module_version": "1.5.0",
            "_model_name": "DescriptionStyleModel",
            "_view_count": null,
            "_view_module": "@jupyter-widgets/base",
            "_view_module_version": "1.2.0",
            "_view_name": "StyleView",
            "description_width": ""
          }
        },
        "c9a36dc4425149f39fb289f74e99d8d1": {
          "model_module": "@jupyter-widgets/base",
          "model_module_version": "1.2.0",
          "model_name": "LayoutModel",
          "state": {
            "_model_module": "@jupyter-widgets/base",
            "_model_module_version": "1.2.0",
            "_model_name": "LayoutModel",
            "_view_count": null,
            "_view_module": "@jupyter-widgets/base",
            "_view_module_version": "1.2.0",
            "_view_name": "LayoutView",
            "align_content": null,
            "align_items": null,
            "align_self": null,
            "border": null,
            "bottom": null,
            "display": null,
            "flex": null,
            "flex_flow": null,
            "grid_area": null,
            "grid_auto_columns": null,
            "grid_auto_flow": null,
            "grid_auto_rows": null,
            "grid_column": null,
            "grid_gap": null,
            "grid_row": null,
            "grid_template_areas": null,
            "grid_template_columns": null,
            "grid_template_rows": null,
            "height": null,
            "justify_content": null,
            "justify_items": null,
            "left": null,
            "margin": null,
            "max_height": null,
            "max_width": null,
            "min_height": null,
            "min_width": null,
            "object_fit": null,
            "object_position": null,
            "order": null,
            "overflow": null,
            "overflow_x": null,
            "overflow_y": null,
            "padding": null,
            "right": null,
            "top": null,
            "visibility": null,
            "width": null
          }
        },
        "ceb6ce693c954c24a2777b43d2f9b708": {
          "model_module": "@jupyter-widgets/base",
          "model_module_version": "1.2.0",
          "model_name": "LayoutModel",
          "state": {
            "_model_module": "@jupyter-widgets/base",
            "_model_module_version": "1.2.0",
            "_model_name": "LayoutModel",
            "_view_count": null,
            "_view_module": "@jupyter-widgets/base",
            "_view_module_version": "1.2.0",
            "_view_name": "LayoutView",
            "align_content": null,
            "align_items": null,
            "align_self": null,
            "border": null,
            "bottom": null,
            "display": null,
            "flex": null,
            "flex_flow": null,
            "grid_area": null,
            "grid_auto_columns": null,
            "grid_auto_flow": null,
            "grid_auto_rows": null,
            "grid_column": null,
            "grid_gap": null,
            "grid_row": null,
            "grid_template_areas": null,
            "grid_template_columns": null,
            "grid_template_rows": null,
            "height": null,
            "justify_content": null,
            "justify_items": null,
            "left": null,
            "margin": null,
            "max_height": null,
            "max_width": null,
            "min_height": null,
            "min_width": null,
            "object_fit": null,
            "object_position": null,
            "order": null,
            "overflow": null,
            "overflow_x": null,
            "overflow_y": null,
            "padding": null,
            "right": null,
            "top": null,
            "visibility": null,
            "width": null
          }
        },
        "cfd643faabbc43a6b4dbf569d5cb6a19": {
          "model_module": "@jupyter-widgets/controls",
          "model_module_version": "1.5.0",
          "model_name": "FloatProgressModel",
          "state": {
            "_dom_classes": [],
            "_model_module": "@jupyter-widgets/controls",
            "_model_module_version": "1.5.0",
            "_model_name": "FloatProgressModel",
            "_view_count": null,
            "_view_module": "@jupyter-widgets/controls",
            "_view_module_version": "1.5.0",
            "_view_name": "ProgressView",
            "bar_style": "success",
            "description": "",
            "description_tooltip": null,
            "layout": "IPY_MODEL_249b086499ed4c01b7ca7a54f3413c35",
            "max": 12,
            "min": 0,
            "orientation": "horizontal",
            "style": "IPY_MODEL_38b3437bf12147298e473d6ee320eb87",
            "value": 12
          }
        },
        "d167686c20d842b395fa4357887cfbb1": {
          "model_module": "@jupyter-widgets/base",
          "model_module_version": "1.2.0",
          "model_name": "LayoutModel",
          "state": {
            "_model_module": "@jupyter-widgets/base",
            "_model_module_version": "1.2.0",
            "_model_name": "LayoutModel",
            "_view_count": null,
            "_view_module": "@jupyter-widgets/base",
            "_view_module_version": "1.2.0",
            "_view_name": "LayoutView",
            "align_content": null,
            "align_items": null,
            "align_self": null,
            "border": null,
            "bottom": null,
            "display": null,
            "flex": null,
            "flex_flow": null,
            "grid_area": null,
            "grid_auto_columns": null,
            "grid_auto_flow": null,
            "grid_auto_rows": null,
            "grid_column": null,
            "grid_gap": null,
            "grid_row": null,
            "grid_template_areas": null,
            "grid_template_columns": null,
            "grid_template_rows": null,
            "height": null,
            "justify_content": null,
            "justify_items": null,
            "left": null,
            "margin": null,
            "max_height": null,
            "max_width": null,
            "min_height": null,
            "min_width": null,
            "object_fit": null,
            "object_position": null,
            "order": null,
            "overflow": null,
            "overflow_x": null,
            "overflow_y": null,
            "padding": null,
            "right": null,
            "top": null,
            "visibility": null,
            "width": null
          }
        },
        "d1cf41ab7f414929afe2df5fd9c31003": {
          "model_module": "@jupyter-widgets/base",
          "model_module_version": "1.2.0",
          "model_name": "LayoutModel",
          "state": {
            "_model_module": "@jupyter-widgets/base",
            "_model_module_version": "1.2.0",
            "_model_name": "LayoutModel",
            "_view_count": null,
            "_view_module": "@jupyter-widgets/base",
            "_view_module_version": "1.2.0",
            "_view_name": "LayoutView",
            "align_content": null,
            "align_items": null,
            "align_self": null,
            "border": null,
            "bottom": null,
            "display": null,
            "flex": null,
            "flex_flow": null,
            "grid_area": null,
            "grid_auto_columns": null,
            "grid_auto_flow": null,
            "grid_auto_rows": null,
            "grid_column": null,
            "grid_gap": null,
            "grid_row": null,
            "grid_template_areas": null,
            "grid_template_columns": null,
            "grid_template_rows": null,
            "height": null,
            "justify_content": null,
            "justify_items": null,
            "left": null,
            "margin": null,
            "max_height": null,
            "max_width": null,
            "min_height": null,
            "min_width": null,
            "object_fit": null,
            "object_position": null,
            "order": null,
            "overflow": null,
            "overflow_x": null,
            "overflow_y": null,
            "padding": null,
            "right": null,
            "top": null,
            "visibility": null,
            "width": null
          }
        },
        "d3ad248ded9f4a3485e65dbed90403a1": {
          "model_module": "@jupyter-widgets/base",
          "model_module_version": "1.2.0",
          "model_name": "LayoutModel",
          "state": {
            "_model_module": "@jupyter-widgets/base",
            "_model_module_version": "1.2.0",
            "_model_name": "LayoutModel",
            "_view_count": null,
            "_view_module": "@jupyter-widgets/base",
            "_view_module_version": "1.2.0",
            "_view_name": "LayoutView",
            "align_content": null,
            "align_items": null,
            "align_self": null,
            "border": null,
            "bottom": null,
            "display": null,
            "flex": null,
            "flex_flow": null,
            "grid_area": null,
            "grid_auto_columns": null,
            "grid_auto_flow": null,
            "grid_auto_rows": null,
            "grid_column": null,
            "grid_gap": null,
            "grid_row": null,
            "grid_template_areas": null,
            "grid_template_columns": null,
            "grid_template_rows": null,
            "height": null,
            "justify_content": null,
            "justify_items": null,
            "left": null,
            "margin": null,
            "max_height": null,
            "max_width": null,
            "min_height": null,
            "min_width": null,
            "object_fit": null,
            "object_position": null,
            "order": null,
            "overflow": null,
            "overflow_x": null,
            "overflow_y": null,
            "padding": null,
            "right": null,
            "top": null,
            "visibility": null,
            "width": null
          }
        },
        "d7067aefddec4b5483874c233e253342": {
          "model_module": "@jupyter-widgets/controls",
          "model_module_version": "1.5.0",
          "model_name": "HBoxModel",
          "state": {
            "_dom_classes": [],
            "_model_module": "@jupyter-widgets/controls",
            "_model_module_version": "1.5.0",
            "_model_name": "HBoxModel",
            "_view_count": null,
            "_view_module": "@jupyter-widgets/controls",
            "_view_module_version": "1.5.0",
            "_view_name": "HBoxView",
            "box_style": "",
            "children": [
              "IPY_MODEL_abc43fbe8c1b4a43863755c16bfc8f8d",
              "IPY_MODEL_731979a64e124537bc1dde0d4157f383",
              "IPY_MODEL_0281776396bc4fa1a96ef71fd5490955"
            ],
            "layout": "IPY_MODEL_685cedaec2684391974a1875f382859e"
          }
        },
        "d77dd791f9bd4e4493b97c4ec974caed": {
          "model_module": "@jupyter-widgets/base",
          "model_module_version": "1.2.0",
          "model_name": "LayoutModel",
          "state": {
            "_model_module": "@jupyter-widgets/base",
            "_model_module_version": "1.2.0",
            "_model_name": "LayoutModel",
            "_view_count": null,
            "_view_module": "@jupyter-widgets/base",
            "_view_module_version": "1.2.0",
            "_view_name": "LayoutView",
            "align_content": null,
            "align_items": null,
            "align_self": null,
            "border": null,
            "bottom": null,
            "display": null,
            "flex": null,
            "flex_flow": null,
            "grid_area": null,
            "grid_auto_columns": null,
            "grid_auto_flow": null,
            "grid_auto_rows": null,
            "grid_column": null,
            "grid_gap": null,
            "grid_row": null,
            "grid_template_areas": null,
            "grid_template_columns": null,
            "grid_template_rows": null,
            "height": null,
            "justify_content": null,
            "justify_items": null,
            "left": null,
            "margin": null,
            "max_height": null,
            "max_width": null,
            "min_height": null,
            "min_width": null,
            "object_fit": null,
            "object_position": null,
            "order": null,
            "overflow": null,
            "overflow_x": null,
            "overflow_y": null,
            "padding": null,
            "right": null,
            "top": null,
            "visibility": null,
            "width": null
          }
        },
        "dc9c12a5f69b43eaba9f6394660f858c": {
          "model_module": "@jupyter-widgets/controls",
          "model_module_version": "1.5.0",
          "model_name": "ProgressStyleModel",
          "state": {
            "_model_module": "@jupyter-widgets/controls",
            "_model_module_version": "1.5.0",
            "_model_name": "ProgressStyleModel",
            "_view_count": null,
            "_view_module": "@jupyter-widgets/base",
            "_view_module_version": "1.2.0",
            "_view_name": "StyleView",
            "bar_color": null,
            "description_width": ""
          }
        },
        "deec0384b49f4c2cbcc36f5a29b4c812": {
          "model_module": "@jupyter-widgets/controls",
          "model_module_version": "1.5.0",
          "model_name": "HTMLModel",
          "state": {
            "_dom_classes": [],
            "_model_module": "@jupyter-widgets/controls",
            "_model_module_version": "1.5.0",
            "_model_name": "HTMLModel",
            "_view_count": null,
            "_view_module": "@jupyter-widgets/controls",
            "_view_module_version": "1.5.0",
            "_view_name": "HTMLView",
            "description": "",
            "description_tooltip": null,
            "layout": "IPY_MODEL_8481a1b936ce4514b3c85201cfbf4d27",
            "placeholder": "​",
            "style": "IPY_MODEL_2d566cf58d334d76ba0b7460425c6ef2",
            "value": "100%"
          }
        },
        "e150f3b00f5d456d92a605ed66cfdf0e": {
          "model_module": "@jupyter-widgets/controls",
          "model_module_version": "1.5.0",
          "model_name": "HTMLModel",
          "state": {
            "_dom_classes": [],
            "_model_module": "@jupyter-widgets/controls",
            "_model_module_version": "1.5.0",
            "_model_name": "HTMLModel",
            "_view_count": null,
            "_view_module": "@jupyter-widgets/controls",
            "_view_module_version": "1.5.0",
            "_view_name": "HTMLView",
            "description": "",
            "description_tooltip": null,
            "layout": "IPY_MODEL_97c6b57076bb49f6b76c6ab2e2fa72b2",
            "placeholder": "​",
            "style": "IPY_MODEL_62907c77be544613be27f9759940a59b",
            "value": " 196/196 [02:01&lt;00:00,  1.84it/s]"
          }
        },
        "e1ebc20b75c7418c9cebb6eb555ade52": {
          "model_module": "@jupyter-widgets/controls",
          "model_module_version": "1.5.0",
          "model_name": "HTMLModel",
          "state": {
            "_dom_classes": [],
            "_model_module": "@jupyter-widgets/controls",
            "_model_module_version": "1.5.0",
            "_model_name": "HTMLModel",
            "_view_count": null,
            "_view_module": "@jupyter-widgets/controls",
            "_view_module_version": "1.5.0",
            "_view_name": "HTMLView",
            "description": "",
            "description_tooltip": null,
            "layout": "IPY_MODEL_525efe37e51e4ba2902bb5e2b281abce",
            "placeholder": "​",
            "style": "IPY_MODEL_c8cf699c630e46c480442f31a12469b1",
            "value": "100%"
          }
        },
        "e21c4771e5914d82ae964f4e240c14c0": {
          "model_module": "@jupyter-widgets/controls",
          "model_module_version": "1.5.0",
          "model_name": "HBoxModel",
          "state": {
            "_dom_classes": [],
            "_model_module": "@jupyter-widgets/controls",
            "_model_module_version": "1.5.0",
            "_model_name": "HBoxModel",
            "_view_count": null,
            "_view_module": "@jupyter-widgets/controls",
            "_view_module_version": "1.5.0",
            "_view_name": "HBoxView",
            "box_style": "",
            "children": [
              "IPY_MODEL_5ec69931c94242b5bdf4952001d3df24",
              "IPY_MODEL_0093d793648345258ce343d3ce1462f5",
              "IPY_MODEL_0c6167d890f44e6fa2419f15d8b6951d"
            ],
            "layout": "IPY_MODEL_c9a36dc4425149f39fb289f74e99d8d1"
          }
        },
        "e490ced4cd844de9aa5eb5e67b5530c3": {
          "model_module": "@jupyter-widgets/controls",
          "model_module_version": "1.5.0",
          "model_name": "FloatProgressModel",
          "state": {
            "_dom_classes": [],
            "_model_module": "@jupyter-widgets/controls",
            "_model_module_version": "1.5.0",
            "_model_name": "FloatProgressModel",
            "_view_count": null,
            "_view_module": "@jupyter-widgets/controls",
            "_view_module_version": "1.5.0",
            "_view_name": "ProgressView",
            "bar_style": "success",
            "description": "",
            "description_tooltip": null,
            "layout": "IPY_MODEL_b00d59e019944622ae5fe623a12389b4",
            "max": 62,
            "min": 0,
            "orientation": "horizontal",
            "style": "IPY_MODEL_dc9c12a5f69b43eaba9f6394660f858c",
            "value": 62
          }
        },
        "e8b0b11be48a4695ae6483b96df1cd8d": {
          "model_module": "@jupyter-widgets/controls",
          "model_module_version": "1.5.0",
          "model_name": "HBoxModel",
          "state": {
            "_dom_classes": [],
            "_model_module": "@jupyter-widgets/controls",
            "_model_module_version": "1.5.0",
            "_model_name": "HBoxModel",
            "_view_count": null,
            "_view_module": "@jupyter-widgets/controls",
            "_view_module_version": "1.5.0",
            "_view_name": "HBoxView",
            "box_style": "",
            "children": [
              "IPY_MODEL_4ce945802f7b4a98b62b90b2d744aad3",
              "IPY_MODEL_cfd643faabbc43a6b4dbf569d5cb6a19",
              "IPY_MODEL_0ed2b0e6a02c4fa4a72ff6c2afecbecb"
            ],
            "layout": "IPY_MODEL_0a81d10aefd44e4aa9828288f347599a"
          }
        },
        "eef6ff937c3d4ba0958d0a0dcd2685f3": {
          "model_module": "@jupyter-widgets/base",
          "model_module_version": "1.2.0",
          "model_name": "LayoutModel",
          "state": {
            "_model_module": "@jupyter-widgets/base",
            "_model_module_version": "1.2.0",
            "_model_name": "LayoutModel",
            "_view_count": null,
            "_view_module": "@jupyter-widgets/base",
            "_view_module_version": "1.2.0",
            "_view_name": "LayoutView",
            "align_content": null,
            "align_items": null,
            "align_self": null,
            "border": null,
            "bottom": null,
            "display": null,
            "flex": null,
            "flex_flow": null,
            "grid_area": null,
            "grid_auto_columns": null,
            "grid_auto_flow": null,
            "grid_auto_rows": null,
            "grid_column": null,
            "grid_gap": null,
            "grid_row": null,
            "grid_template_areas": null,
            "grid_template_columns": null,
            "grid_template_rows": null,
            "height": null,
            "justify_content": null,
            "justify_items": null,
            "left": null,
            "margin": null,
            "max_height": null,
            "max_width": null,
            "min_height": null,
            "min_width": null,
            "object_fit": null,
            "object_position": null,
            "order": null,
            "overflow": null,
            "overflow_x": null,
            "overflow_y": null,
            "padding": null,
            "right": null,
            "top": null,
            "visibility": null,
            "width": null
          }
        },
        "f23874f52f7c448caef653bfc34b2e93": {
          "model_module": "@jupyter-widgets/controls",
          "model_module_version": "1.5.0",
          "model_name": "DescriptionStyleModel",
          "state": {
            "_model_module": "@jupyter-widgets/controls",
            "_model_module_version": "1.5.0",
            "_model_name": "DescriptionStyleModel",
            "_view_count": null,
            "_view_module": "@jupyter-widgets/base",
            "_view_module_version": "1.2.0",
            "_view_name": "StyleView",
            "description_width": ""
          }
        },
        "f4508ff9ca4a4c1e808e50c0212b0f9b": {
          "model_module": "@jupyter-widgets/controls",
          "model_module_version": "1.5.0",
          "model_name": "HBoxModel",
          "state": {
            "_dom_classes": [],
            "_model_module": "@jupyter-widgets/controls",
            "_model_module_version": "1.5.0",
            "_model_name": "HBoxModel",
            "_view_count": null,
            "_view_module": "@jupyter-widgets/controls",
            "_view_module_version": "1.5.0",
            "_view_name": "HBoxView",
            "box_style": "",
            "children": [
              "IPY_MODEL_deec0384b49f4c2cbcc36f5a29b4c812",
              "IPY_MODEL_e490ced4cd844de9aa5eb5e67b5530c3",
              "IPY_MODEL_0219d4b7860e474bb6243d4e938e830d"
            ],
            "layout": "IPY_MODEL_008665e539e14744861dccdebe7649f1"
          }
        },
        "f6f272eb6e294d45b43854b47233ee86": {
          "model_module": "@jupyter-widgets/controls",
          "model_module_version": "1.5.0",
          "model_name": "DescriptionStyleModel",
          "state": {
            "_model_module": "@jupyter-widgets/controls",
            "_model_module_version": "1.5.0",
            "_model_name": "DescriptionStyleModel",
            "_view_count": null,
            "_view_module": "@jupyter-widgets/base",
            "_view_module_version": "1.2.0",
            "_view_name": "StyleView",
            "description_width": ""
          }
        }
      }
    }
  },
  "nbformat": 4,
  "nbformat_minor": 0
}
