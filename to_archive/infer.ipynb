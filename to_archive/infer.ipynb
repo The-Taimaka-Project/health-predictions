{
  "nbformat": 4,
  "nbformat_minor": 0,
  "metadata": {
    "colab": {
      "provenance": [],
      "collapsed_sections": [
        "PnPPB-pUqPC5"
      ],
      "toc_visible": true
    },
    "kernelspec": {
      "name": "python3",
      "display_name": "Python 3"
    },
    "language_info": {
      "name": "python"
    }
  },
  "cells": [
    {
      "cell_type": "markdown",
      "source": [
        "# summary"
      ],
      "metadata": {
        "id": "68FuV9DJ_FLn"
      }
    },
    {
      "cell_type": "markdown",
      "source": [
        "visualize model importance features and specific patients' model predictions and why.  Plot anthropometrics by visit and plot cat2/cat1 events on the timeline."
      ],
      "metadata": {
        "id": "E5eX6c0Npw_e"
      }
    },
    {
      "cell_type": "markdown",
      "source": [
        "# setup"
      ],
      "metadata": {
        "id": "QOqGxsFd-9pM"
      }
    },
    {
      "cell_type": "markdown",
      "source": [
        "run\n",
        "\n",
        "1.   etl\n",
        "2.   etl_derioration\n",
        "\n",
        "to get the dataframes that this notebook depends on\n",
        "\n"
      ],
      "metadata": {
        "id": "OZKne8CArZmm"
      }
    },
    {
      "cell_type": "code",
      "source": [
        "# TODO change to digital ocean\n",
        "MODEL_PATH = \"/content/drive/My Drive/[PBA] Code/model\""
      ],
      "metadata": {
        "id": "gw1aLeDippO3"
      },
      "execution_count": 1,
      "outputs": []
    },
    {
      "cell_type": "code",
      "execution_count": 2,
      "metadata": {
        "id": "GzTz802nrvbC",
        "colab": {
          "base_uri": "https://localhost:8080/"
        },
        "outputId": "0f70b489-1997-4f56-8c32-fbd4819bd857"
      },
      "outputs": [
        {
          "output_type": "stream",
          "name": "stdout",
          "text": [
            "\u001b[?25l   \u001b[90m━━━━━━━━━━━━━━━━━━━━━━━━━━━━━━━━━━━━━━━━\u001b[0m \u001b[32m0.0/1.6 MB\u001b[0m \u001b[31m?\u001b[0m eta \u001b[36m-:--:--\u001b[0m\r\u001b[2K   \u001b[91m━━━━━━━━━━━━━━━━━━\u001b[0m\u001b[90m╺\u001b[0m\u001b[90m━━━━━━━━━━━━━━━━━━━━━\u001b[0m \u001b[32m0.7/1.6 MB\u001b[0m \u001b[31m21.5 MB/s\u001b[0m eta \u001b[36m0:00:01\u001b[0m\r\u001b[2K   \u001b[91m━━━━━━━━━━━━━━━━━━━━━━━━━━━━━━━━━━━━━━━\u001b[0m\u001b[91m╸\u001b[0m \u001b[32m1.6/1.6 MB\u001b[0m \u001b[31m29.6 MB/s\u001b[0m eta \u001b[36m0:00:01\u001b[0m\r\u001b[2K   \u001b[90m━━━━━━━━━━━━━━━━━━━━━━━━━━━━━━━━━━━━━━━━\u001b[0m \u001b[32m1.6/1.6 MB\u001b[0m \u001b[31m16.4 MB/s\u001b[0m eta \u001b[36m0:00:00\u001b[0m\n",
            "\u001b[?25h  Preparing metadata (setup.py) ... \u001b[?25l\u001b[?25hdone\n",
            "\u001b[2K   \u001b[90m━━━━━━━━━━━━━━━━━━━━━━━━━━━━━━━━━━━━━━━━\u001b[0m \u001b[32m349.3/349.3 kB\u001b[0m \u001b[31m6.1 MB/s\u001b[0m eta \u001b[36m0:00:00\u001b[0m\n",
            "\u001b[2K   \u001b[90m━━━━━━━━━━━━━━━━━━━━━━━━━━━━━━━━━━━━━━━━\u001b[0m \u001b[32m115.7/115.7 kB\u001b[0m \u001b[31m6.6 MB/s\u001b[0m eta \u001b[36m0:00:00\u001b[0m\n",
            "\u001b[?25h  Building wheel for autograd-gamma (setup.py) ... \u001b[?25l\u001b[?25hdone\n"
          ]
        }
      ],
      "source": [
        "\n",
        "# shapley explanation of models\n",
        "!pip install import_ipynb --quiet\n",
        "\n",
        "#!pip install shap --quiet\n",
        "# survival analysis\n",
        "!pip install lifelines --quiet"
      ]
    },
    {
      "cell_type": "code",
      "source": [
        "!git clone -b brian-etl-code https://github.com/The-Taimaka-Project/health-predictions.git\n",
        "#!git clone https://github.com/The-Taimaka-Project/health-predictions.git\n",
        "\n",
        "# Change directory to the repository\n",
        "%cd health-predictions/packages/inference/run\n",
        "%pwd\n",
        "#TODO move util here\n",
        "\n",
        "%cd /content"
      ],
      "metadata": {
        "colab": {
          "base_uri": "https://localhost:8080/"
        },
        "id": "phIkLSr8jZcQ",
        "outputId": "29b7d486-483b-4107-c6d2-ffae7604bf0d"
      },
      "execution_count": 3,
      "outputs": [
        {
          "output_type": "stream",
          "name": "stdout",
          "text": [
            "Cloning into 'health-predictions'...\n",
            "remote: Enumerating objects: 221, done.\u001b[K\n",
            "remote: Counting objects: 100% (85/85), done.\u001b[K\n",
            "remote: Compressing objects: 100% (71/71), done.\u001b[K\n",
            "remote: Total 221 (delta 46), reused 17 (delta 13), pack-reused 136 (from 1)\u001b[K\n",
            "Receiving objects: 100% (221/221), 8.42 MiB | 7.64 MiB/s, done.\n",
            "Resolving deltas: 100% (80/80), done.\n",
            "/content/health-predictions/packages/inference/run\n",
            "/content\n"
          ]
        }
      ]
    },
    {
      "cell_type": "code",
      "source": [
        "import pandas as pd\n",
        "\n",
        "# Set global output format to Pandas\n",
        "import datetime\n",
        "import numpy as np\n",
        "import pickle\n",
        "import os\n",
        "import re\n",
        "import json\n",
        "\n",
        "#import shap\n",
        "import import_ipynb\n",
        "from warnings import simplefilter,filterwarnings\n",
        "\n",
        "from lifelines import WeibullAFTFitter\n",
        "\n",
        "\n",
        "\n",
        "from google.colab import drive\n",
        "drive.mount('/content/drive')\n",
        "\n",
        "\n",
        "os.chdir(\"/content/drive/My Drive/[PBA] Code\")\n",
        "\n",
        "#from util import days_since_min,make_populated_column,logistic_regression,AutogluonWrapper,explain_prediction,plot_anthros,check_cols,plot_corr,drop_result_columns\n",
        "#from util import decision_tree,print_tree,explain_tree_sample,print_patient_probabilities,impute_missing_values,select_logistic_features,get_best_lin_model,explain_logreg\n",
        "#from util import get_best_tree_model,decision_tree_f1,logistic_train,plot_corr_jitter,lightgbm_train,select_features,make_dummy_columns,split_detn_new_onset_medical_complication,ag_model_load\n",
        "#from util import label_test,make_test,label_test_tree,label_test_lin,plot_survival,plot_survival3\n",
        "#from util import ag_feature_generator,label_test_gbm,explain_prediction_gbm,log_odds_to_probability,merge_probabilities,ag_regress_model_load,ag_model_load_suffix\n",
        "from util import reduce_dimensionality\n",
        "\n",
        "\n",
        "\n",
        "os.chdir(\"/content\")\n",
        "\n",
        "# prompt: read google shared drive file\n",
        "\n",
        "\n",
        "dir = \"/content/drive/My Drive/[PBA] Data/analysis/\"\n",
        "MODEL_PATH = \"/content/drive/My Drive/[PBA] Code/model\"\n",
        "\n"
      ],
      "metadata": {
        "id": "R4eITM1FtRdR",
        "colab": {
          "base_uri": "https://localhost:8080/"
        },
        "outputId": "f6de17aa-bd27-42b1-d40c-db03b4617fad"
      },
      "execution_count": 4,
      "outputs": [
        {
          "output_type": "stream",
          "name": "stdout",
          "text": [
            "Mounted at /content/drive\n"
          ]
        }
      ]
    },
    {
      "cell_type": "code",
      "source": [
        "# use auto ML (autogluon) to predict the 5 deterioration events\n",
        "!pip install autogluon --quiet"
      ],
      "metadata": {
        "id": "2HyW25kGBt7G",
        "colab": {
          "base_uri": "https://localhost:8080/"
        },
        "outputId": "5dd4e150-dcea-4915-d314-f54fadedc28e"
      },
      "execution_count": 5,
      "outputs": [
        {
          "output_type": "stream",
          "name": "stdout",
          "text": [
            "\u001b[2K     \u001b[90m━━━━━━━━━━━━━━━━━━━━━━━━━━━━━━━━━━━━━━━━\u001b[0m \u001b[32m44.0/44.0 kB\u001b[0m \u001b[31m2.7 MB/s\u001b[0m eta \u001b[36m0:00:00\u001b[0m\n",
            "\u001b[2K     \u001b[90m━━━━━━━━━━━━━━━━━━━━━━━━━━━━━━━━━━━━━━━━\u001b[0m \u001b[32m43.6/43.6 kB\u001b[0m \u001b[31m2.8 MB/s\u001b[0m eta \u001b[36m0:00:00\u001b[0m\n",
            "\u001b[?25h  Preparing metadata (setup.py) ... \u001b[?25l\u001b[?25hdone\n",
            "\u001b[2K     \u001b[90m━━━━━━━━━━━━━━━━━━━━━━━━━━━━━━━━━━━━━━━━\u001b[0m \u001b[32m43.6/43.6 kB\u001b[0m \u001b[31m2.4 MB/s\u001b[0m eta \u001b[36m0:00:00\u001b[0m\n",
            "\u001b[?25h  Preparing metadata (setup.py) ... \u001b[?25l\u001b[?25hdone\n",
            "\u001b[2K     \u001b[90m━━━━━━━━━━━━━━━━━━━━━━━━━━━━━━━━━━━━━━━\u001b[0m \u001b[32m259.5/259.5 kB\u001b[0m \u001b[31m7.7 MB/s\u001b[0m eta \u001b[36m0:00:00\u001b[0m\n",
            "\u001b[?25h  Preparing metadata (setup.py) ... \u001b[?25l\u001b[?25hdone\n",
            "\u001b[2K   \u001b[90m━━━━━━━━━━━━━━━━━━━━━━━━━━━━━━━━━━━━━━━━\u001b[0m \u001b[32m222.7/222.7 kB\u001b[0m \u001b[31m17.3 MB/s\u001b[0m eta \u001b[36m0:00:00\u001b[0m\n",
            "\u001b[2K   \u001b[90m━━━━━━━━━━━━━━━━━━━━━━━━━━━━━━━━━━━━━━━━\u001b[0m \u001b[32m64.2/64.2 kB\u001b[0m \u001b[31m4.1 MB/s\u001b[0m eta \u001b[36m0:00:00\u001b[0m\n",
            "\u001b[2K   \u001b[90m━━━━━━━━━━━━━━━━━━━━━━━━━━━━━━━━━━━━━━━━\u001b[0m \u001b[32m454.5/454.5 kB\u001b[0m \u001b[31m24.3 MB/s\u001b[0m eta \u001b[36m0:00:00\u001b[0m\n",
            "\u001b[2K   \u001b[90m━━━━━━━━━━━━━━━━━━━━━━━━━━━━━━━━━━━━━━━━\u001b[0m \u001b[32m382.4/382.4 kB\u001b[0m \u001b[31m22.2 MB/s\u001b[0m eta \u001b[36m0:00:00\u001b[0m\n",
            "\u001b[2K   \u001b[90m━━━━━━━━━━━━━━━━━━━━━━━━━━━━━━━━━━━━━━━━\u001b[0m \u001b[32m181.3/181.3 kB\u001b[0m \u001b[31m12.0 MB/s\u001b[0m eta \u001b[36m0:00:00\u001b[0m\n",
            "\u001b[2K   \u001b[90m━━━━━━━━━━━━━━━━━━━━━━━━━━━━━━━━━━━━━━━━\u001b[0m \u001b[32m69.1/69.1 kB\u001b[0m \u001b[31m4.4 MB/s\u001b[0m eta \u001b[36m0:00:00\u001b[0m\n",
            "\u001b[2K   \u001b[90m━━━━━━━━━━━━━━━━━━━━━━━━━━━━━━━━━━━━━━━━\u001b[0m \u001b[32m139.9/139.9 kB\u001b[0m \u001b[31m9.3 MB/s\u001b[0m eta \u001b[36m0:00:00\u001b[0m\n",
            "\u001b[2K   \u001b[90m━━━━━━━━━━━━━━━━━━━━━━━━━━━━━━━━━━━━━━━━\u001b[0m \u001b[32m99.2/99.2 MB\u001b[0m \u001b[31m7.2 MB/s\u001b[0m eta \u001b[36m0:00:00\u001b[0m\n",
            "\u001b[2K   \u001b[90m━━━━━━━━━━━━━━━━━━━━━━━━━━━━━━━━━━━━━━━━\u001b[0m \u001b[32m275.8/275.8 kB\u001b[0m \u001b[31m17.9 MB/s\u001b[0m eta \u001b[36m0:00:00\u001b[0m\n",
            "\u001b[2K   \u001b[90m━━━━━━━━━━━━━━━━━━━━━━━━━━━━━━━━━━━━━━━━\u001b[0m \u001b[32m84.0/84.0 kB\u001b[0m \u001b[31m5.5 MB/s\u001b[0m eta \u001b[36m0:00:00\u001b[0m\n",
            "\u001b[2K   \u001b[90m━━━━━━━━━━━━━━━━━━━━━━━━━━━━━━━━━━━━━━━━\u001b[0m \u001b[32m278.2/278.2 kB\u001b[0m \u001b[31m2.1 MB/s\u001b[0m eta \u001b[36m0:00:00\u001b[0m\n",
            "\u001b[2K   \u001b[90m━━━━━━━━━━━━━━━━━━━━━━━━━━━━━━━━━━━━━━━━\u001b[0m \u001b[32m1.5/1.5 MB\u001b[0m \u001b[31m34.2 MB/s\u001b[0m eta \u001b[36m0:00:00\u001b[0m\n",
            "\u001b[2K   \u001b[90m━━━━━━━━━━━━━━━━━━━━━━━━━━━━━━━━━━━━━━━━\u001b[0m \u001b[32m88.5/88.5 kB\u001b[0m \u001b[31m7.2 MB/s\u001b[0m eta \u001b[36m0:00:00\u001b[0m\n",
            "\u001b[2K   \u001b[90m━━━━━━━━━━━━━━━━━━━━━━━━━━━━━━━━━━━━━━━━\u001b[0m \u001b[32m819.0/819.0 kB\u001b[0m \u001b[31m28.4 MB/s\u001b[0m eta \u001b[36m0:00:00\u001b[0m\n",
            "\u001b[2K   \u001b[90m━━━━━━━━━━━━━━━━━━━━━━━━━━━━━━━━━━━━━━━━\u001b[0m \u001b[32m71.4/71.4 kB\u001b[0m \u001b[31m5.6 MB/s\u001b[0m eta \u001b[36m0:00:00\u001b[0m\n",
            "\u001b[2K   \u001b[90m━━━━━━━━━━━━━━━━━━━━━━━━━━━━━━━━━━━━━━━━\u001b[0m \u001b[32m410.5/410.5 kB\u001b[0m \u001b[31m24.5 MB/s\u001b[0m eta \u001b[36m0:00:00\u001b[0m\n",
            "\u001b[2K   \u001b[90m━━━━━━━━━━━━━━━━━━━━━━━━━━━━━━━━━━━━━━━━\u001b[0m \u001b[32m1.5/1.5 MB\u001b[0m \u001b[31m33.4 MB/s\u001b[0m eta \u001b[36m0:00:00\u001b[0m\n",
            "\u001b[2K   \u001b[90m━━━━━━━━━━━━━━━━━━━━━━━━━━━━━━━━━━━━━━━━\u001b[0m \u001b[32m52.7/52.7 kB\u001b[0m \u001b[31m4.1 MB/s\u001b[0m eta \u001b[36m0:00:00\u001b[0m\n",
            "\u001b[2K   \u001b[90m━━━━━━━━━━━━━━━━━━━━━━━━━━━━━━━━━━━━━━━━\u001b[0m \u001b[32m125.9/125.9 kB\u001b[0m \u001b[31m9.3 MB/s\u001b[0m eta \u001b[36m0:00:00\u001b[0m\n",
            "\u001b[2K   \u001b[90m━━━━━━━━━━━━━━━━━━━━━━━━━━━━━━━━━━━━━━━━\u001b[0m \u001b[32m68.1/68.1 MB\u001b[0m \u001b[31m3.9 MB/s\u001b[0m eta \u001b[36m0:00:00\u001b[0m\n",
            "\u001b[2K   \u001b[90m━━━━━━━━━━━━━━━━━━━━━━━━━━━━━━━━━━━━━━━━\u001b[0m \u001b[32m354.4/354.4 kB\u001b[0m \u001b[31m5.6 MB/s\u001b[0m eta \u001b[36m0:00:00\u001b[0m\n",
            "\u001b[2K   \u001b[90m━━━━━━━━━━━━━━━━━━━━━━━━━━━━━━━━━━━━━━━━\u001b[0m \u001b[32m2.3/2.3 MB\u001b[0m \u001b[31m7.4 MB/s\u001b[0m eta \u001b[36m0:00:00\u001b[0m\n",
            "\u001b[2K   \u001b[90m━━━━━━━━━━━━━━━━━━━━━━━━━━━━━━━━━━━━━━━━\u001b[0m \u001b[32m363.4/363.4 MB\u001b[0m \u001b[31m2.1 MB/s\u001b[0m eta \u001b[36m0:00:00\u001b[0m\n",
            "\u001b[2K   \u001b[90m━━━━━━━━━━━━━━━━━━━━━━━━━━━━━━━━━━━━━━━━\u001b[0m \u001b[32m13.8/13.8 MB\u001b[0m \u001b[31m5.1 MB/s\u001b[0m eta \u001b[36m0:00:00\u001b[0m\n",
            "\u001b[2K   \u001b[90m━━━━━━━━━━━━━━━━━━━━━━━━━━━━━━━━━━━━━━━━\u001b[0m \u001b[32m24.6/24.6 MB\u001b[0m \u001b[31m4.7 MB/s\u001b[0m eta \u001b[36m0:00:00\u001b[0m\n",
            "\u001b[2K   \u001b[90m━━━━━━━━━━━━━━━━━━━━━━━━━━━━━━━━━━━━━━━━\u001b[0m \u001b[32m883.7/883.7 kB\u001b[0m \u001b[31m4.4 MB/s\u001b[0m eta \u001b[36m0:00:00\u001b[0m\n",
            "\u001b[2K   \u001b[90m━━━━━━━━━━━━━━━━━━━━━━━━━━━━━━━━━━━━━━━━\u001b[0m \u001b[32m664.8/664.8 MB\u001b[0m \u001b[31m1.3 MB/s\u001b[0m eta \u001b[36m0:00:00\u001b[0m\n",
            "\u001b[2K   \u001b[90m━━━━━━━━━━━━━━━━━━━━━━━━━━━━━━━━━━━━━━━━\u001b[0m \u001b[32m211.5/211.5 MB\u001b[0m \u001b[31m2.8 MB/s\u001b[0m eta \u001b[36m0:00:00\u001b[0m\n",
            "\u001b[2K   \u001b[90m━━━━━━━━━━━━━━━━━━━━━━━━━━━━━━━━━━━━━━━━\u001b[0m \u001b[32m56.3/56.3 MB\u001b[0m \u001b[31m2.9 MB/s\u001b[0m eta \u001b[36m0:00:00\u001b[0m\n",
            "\u001b[2K   \u001b[90m━━━━━━━━━━━━━━━━━━━━━━━━━━━━━━━━━━━━━━━━\u001b[0m \u001b[32m127.9/127.9 MB\u001b[0m \u001b[31m2.3 MB/s\u001b[0m eta \u001b[36m0:00:00\u001b[0m\n",
            "\u001b[2K   \u001b[90m━━━━━━━━━━━━━━━━━━━━━━━━━━━━━━━━━━━━━━━━\u001b[0m \u001b[32m207.5/207.5 MB\u001b[0m \u001b[31m3.1 MB/s\u001b[0m eta \u001b[36m0:00:00\u001b[0m\n",
            "\u001b[2K   \u001b[90m━━━━━━━━━━━━━━━━━━━━━━━━━━━━━━━━━━━━━━━━\u001b[0m \u001b[32m21.1/21.1 MB\u001b[0m \u001b[31m4.3 MB/s\u001b[0m eta \u001b[36m0:00:00\u001b[0m\n",
            "\u001b[2K   \u001b[90m━━━━━━━━━━━━━━━━━━━━━━━━━━━━━━━━━━━━━━━━\u001b[0m \u001b[32m962.5/962.5 kB\u001b[0m \u001b[31m4.1 MB/s\u001b[0m eta \u001b[36m0:00:00\u001b[0m\n",
            "\u001b[2K   \u001b[90m━━━━━━━━━━━━━━━━━━━━━━━━━━━━━━━━━━━━━━━━\u001b[0m \u001b[32m10.0/10.0 MB\u001b[0m \u001b[31m3.2 MB/s\u001b[0m eta \u001b[36m0:00:00\u001b[0m\n",
            "\u001b[2K   \u001b[90m━━━━━━━━━━━━━━━━━━━━━━━━━━━━━━━━━━━━━━━━\u001b[0m \u001b[32m41.7/41.7 kB\u001b[0m \u001b[31m1.2 MB/s\u001b[0m eta \u001b[36m0:00:00\u001b[0m\n",
            "\u001b[2K   \u001b[90m━━━━━━━━━━━━━━━━━━━━━━━━━━━━━━━━━━━━━━━━\u001b[0m \u001b[32m823.1/823.1 kB\u001b[0m \u001b[31m3.1 MB/s\u001b[0m eta \u001b[36m0:00:00\u001b[0m\n",
            "\u001b[2K   \u001b[90m━━━━━━━━━━━━━━━━━━━━━━━━━━━━━━━━━━━━━━━━\u001b[0m \u001b[32m13.6/13.6 MB\u001b[0m \u001b[31m3.1 MB/s\u001b[0m eta \u001b[36m0:00:00\u001b[0m\n",
            "\u001b[2K   \u001b[90m━━━━━━━━━━━━━━━━━━━━━━━━━━━━━━━━━━━━━━━━\u001b[0m \u001b[32m2.7/2.7 MB\u001b[0m \u001b[31m2.4 MB/s\u001b[0m eta \u001b[36m0:00:00\u001b[0m\n",
            "\u001b[2K   \u001b[90m━━━━━━━━━━━━━━━━━━━━━━━━━━━━━━━━━━━━━━━━\u001b[0m \u001b[32m85.2/85.2 kB\u001b[0m \u001b[31m1.8 MB/s\u001b[0m eta \u001b[36m0:00:00\u001b[0m\n",
            "\u001b[2K   \u001b[90m━━━━━━━━━━━━━━━━━━━━━━━━━━━━━━━━━━━━━━━━\u001b[0m \u001b[32m101.7/101.7 kB\u001b[0m \u001b[31m2.1 MB/s\u001b[0m eta \u001b[36m0:00:00\u001b[0m\n",
            "\u001b[2K   \u001b[90m━━━━━━━━━━━━━━━━━━━━━━━━━━━━━━━━━━━━━━━━\u001b[0m \u001b[32m62.3/62.3 kB\u001b[0m \u001b[31m1.1 MB/s\u001b[0m eta \u001b[36m0:00:00\u001b[0m\n",
            "\u001b[2K   \u001b[90m━━━━━━━━━━━━━━━━━━━━━━━━━━━━━━━━━━━━━━━━\u001b[0m \u001b[32m6.1/6.1 MB\u001b[0m \u001b[31m2.7 MB/s\u001b[0m eta \u001b[36m0:00:00\u001b[0m\n",
            "\u001b[2K   \u001b[90m━━━━━━━━━━━━━━━━━━━━━━━━━━━━━━━━━━━━━━━━\u001b[0m \u001b[32m201.4/201.4 kB\u001b[0m \u001b[31m2.0 MB/s\u001b[0m eta \u001b[36m0:00:00\u001b[0m\n",
            "\u001b[2K   \u001b[90m━━━━━━━━━━━━━━━━━━━━━━━━━━━━━━━━━━━━━━━━\u001b[0m \u001b[32m128.2/128.2 kB\u001b[0m \u001b[31m2.0 MB/s\u001b[0m eta \u001b[36m0:00:00\u001b[0m\n",
            "\u001b[2K   \u001b[90m━━━━━━━━━━━━━━━━━━━━━━━━━━━━━━━━━━━━━━━━\u001b[0m \u001b[32m386.6/386.6 kB\u001b[0m \u001b[31m2.5 MB/s\u001b[0m eta \u001b[36m0:00:00\u001b[0m\n",
            "\u001b[2K   \u001b[90m━━━━━━━━━━━━━━━━━━━━━━━━━━━━━━━━━━━━━━━━\u001b[0m \u001b[32m242.5/242.5 kB\u001b[0m \u001b[31m1.9 MB/s\u001b[0m eta \u001b[36m0:00:00\u001b[0m\n",
            "\u001b[2K   \u001b[90m━━━━━━━━━━━━━━━━━━━━━━━━━━━━━━━━━━━━━━━━\u001b[0m \u001b[32m469.0/469.0 kB\u001b[0m \u001b[31m2.8 MB/s\u001b[0m eta \u001b[36m0:00:00\u001b[0m\n",
            "\u001b[2K   \u001b[90m━━━━━━━━━━━━━━━━━━━━━━━━━━━━━━━━━━━━━━━━\u001b[0m \u001b[32m135.3/135.3 kB\u001b[0m \u001b[31m1.5 MB/s\u001b[0m eta \u001b[36m0:00:00\u001b[0m\n",
            "\u001b[2K   \u001b[90m━━━━━━━━━━━━━━━━━━━━━━━━━━━━━━━━━━━━━━━━\u001b[0m \u001b[32m55.3/55.3 kB\u001b[0m \u001b[31m1.2 MB/s\u001b[0m eta \u001b[36m0:00:00\u001b[0m\n",
            "\u001b[2K   \u001b[90m━━━━━━━━━━━━━━━━━━━━━━━━━━━━━━━━━━━━━━━━\u001b[0m \u001b[32m2.3/2.3 MB\u001b[0m \u001b[31m3.3 MB/s\u001b[0m eta \u001b[36m0:00:00\u001b[0m\n",
            "\u001b[?25h  Building wheel for nvidia-ml-py3 (setup.py) ... \u001b[?25l\u001b[?25hdone\n",
            "  Building wheel for seqeval (setup.py) ... \u001b[?25l\u001b[?25hdone\n",
            "\u001b[31mERROR: pip's dependency resolver does not currently take into account all the packages that are installed. This behaviour is the source of the following dependency conflicts.\n",
            "textblob 0.19.0 requires nltk>=3.9, but you have nltk 3.8.1 which is incompatible.\u001b[0m\u001b[31m\n",
            "\u001b[0m"
          ]
        }
      ]
    },
    {
      "cell_type": "code",
      "source": [
        "from autogluon.features.generators import AutoMLPipelineFeatureGenerator\n",
        "from autogluon.tabular import TabularDataset, TabularPredictor\n"
      ],
      "metadata": {
        "id": "zL3On98kBu0L"
      },
      "execution_count": 6,
      "outputs": []
    },
    {
      "cell_type": "code",
      "source": [
        "import logging\n",
        "# Create a logger# Create a logger\n",
        "logger = logging.getLogger('my_logger')\n",
        "logger.setLevel(logging.DEBUG) # Set the minimum logging level\n",
        "\n",
        "# Create a handler to output logs to the console\n",
        "console_handler = logging.StreamHandler()\n",
        "\n",
        "file_handler = logging.FileHandler('my_log.log')\n",
        "file_handler.setLevel(logging.INFO) # Set the logging level for the handler\n",
        "\n",
        "\n",
        "# Create a formatter to specify the log message format\n",
        "formatter = logging.Formatter('%(asctime)s - %(levelname)s - %(lineno)d - %(funcName)s - %(message)s')\n",
        "\n",
        "# Add the formatter to the handler\n",
        "\n",
        "file_handler.setFormatter(formatter)\n",
        "\n",
        "# Add the handler to the logger\n",
        "logger.addHandler(file_handler)\n"
      ],
      "metadata": {
        "id": "w7hEhi0FmlIt"
      },
      "execution_count": 7,
      "outputs": []
    },
    {
      "cell_type": "code",
      "source": [
        "# TODO replace with csv\n",
        "with open(dir + 'admit_weekly.pkl', 'rb') as f:\n",
        "  admit_weekly = pickle.load(f)\n",
        "with open(dir + 'admit_current.pkl', 'rb') as f:\n",
        "  admit_current = pickle.load(f)"
      ],
      "metadata": {
        "id": "4b7Zr55vEQxg"
      },
      "execution_count": 8,
      "outputs": []
    },
    {
      "cell_type": "code",
      "source": [
        "simplefilter(action=\"ignore\", category=pd.errors.PerformanceWarning)\n",
        "simplefilter(action=\"ignore\", category=FutureWarning)"
      ],
      "metadata": {
        "id": "i2KCOOjotX-U"
      },
      "execution_count": 9,
      "outputs": []
    },
    {
      "cell_type": "code",
      "source": [
        "pid_probabilities = admit_current[['pid','status','site_current']].copy()\n",
        "logger.debug(pid_probabilities.shape)"
      ],
      "metadata": {
        "id": "KYEKswjk48Fn",
        "colab": {
          "base_uri": "https://localhost:8080/"
        },
        "outputId": "6fa9020c-7903-4ecd-f98f-675aad6ffb5a"
      },
      "execution_count": 11,
      "outputs": [
        {
          "output_type": "stream",
          "name": "stderr",
          "text": [
            "DEBUG:my_logger:(10322, 3)\n"
          ]
        }
      ]
    },
    {
      "cell_type": "code",
      "source": [
        "def read_detn(label):\n",
        "  # Load the deterioration time series, admit plus up to 3 visits before the event\n",
        "  detn = pd.read_csv(dir + f\"/{label}.csv\")\n",
        "  with open(dir + f\"/{label}.json\", 'r') as f:\n",
        "    detn_dtypes = json.load(f)\n",
        "  # prompt: apply detn_types to detn\n",
        "\n",
        "  # Iterate over the dictionary and apply the data types to detn2\n",
        "  for col, dtype in detn_dtypes.items():\n",
        "    if col in detn.columns:\n",
        "        try:\n",
        "            if dtype == 'category':\n",
        "                detn[col] = detn[col].astype('object') # Read as object, convert to category later if needed\n",
        "            else:\n",
        "                detn[col] = detn[col].astype(dtype)\n",
        "        except Exception as e:\n",
        "            logger.error(f\"Could not convert column {col} to {dtype}: {e}\")\n",
        "  return detn\n"
      ],
      "metadata": {
        "id": "8SMIT_jTzGCJ"
      },
      "execution_count": 12,
      "outputs": []
    },
    {
      "cell_type": "markdown",
      "source": [
        "# new onset medical complication"
      ],
      "metadata": {
        "id": "PnPPB-pUqPC5"
      }
    },
    {
      "cell_type": "markdown",
      "source": [
        "New onset medical complication - 'cat1' complication (see vars in raw ODK data with cat1_ prefix)"
      ],
      "metadata": {
        "id": "rPsa-RniLj2M"
      }
    },
    {
      "cell_type": "code",
      "source": [
        "# prompt: use pickle to read deterioration dataframe\n",
        "label = 'new_onset_medical_complication'\n",
        "\n",
        "#detn = read_detn(label)\n",
        "\n",
        "with open(dir + f'{label}.pkl', 'rb') as f:\n",
        "  detn = pickle.load(f)\n",
        "logger.debug(f'{detn.shape,detn[label].sum()},{detn[label].mean()}')\n",
        "# (5215, 1786) 512 0.09817833173537871 version 1, 11/15\n",
        "# (5215, 1831) 524 0.10047938638542665 version 2\n",
        "# (5215, 1615)\n",
        "#detn = drop_result_columns(detn,label)\n",
        "#detn.drop(columns=[f'{label}_date'],inplace=True)\n",
        "detn = detn[detn['weekly_last_admit'].notnull()].copy()\n",
        "\n",
        "detn.drop(columns='c_admission_other',inplace=True) # causes duplicate column if get_dummies invoked\n",
        "detn.drop(columns='phone_owner_other',inplace=True) # messes up get_dummies\n",
        "detn.drop(columns='calc_dayssincevita',inplace=True) # incorrectly calculated for non-active, messes up detn_wk1_only models\n",
        "\n",
        "y_cat1_cols = [col for col in detn.columns if col.startswith('y_cat1')]\n",
        "detn.drop(columns=y_cat1_cols,inplace=True) # only looking at label new_onset_medical_complication, not the actual categories\n",
        "\n",
        "logger.debug(detn.shape)\n",
        "\n",
        "#detn['glbsite'] = detn['glbsite'].str.lower()\n",
        "#detn['wk1_autosite'] = detn['wk1_autosite'].str.lower()\n",
        "detn['wk1_calc_los'] = round(detn['wk1_calc_los'],0)\n",
        "detn['weekly_last_muac'] = round(detn['weekly_last_muac'],1)\n",
        "\n",
        "detn['wk1_calc_los'].fillna(0,inplace=True)\n",
        "LOS_CUTOFF = 12\n",
        "MUAC_CUTOFF = 12.5\n",
        "logger.debug(f'{detn.shape,detn[label].sum()},{detn[label].mean()},{detn.shape}')\n",
        "\n",
        "\n",
        "detn = detn[(detn['weekly_last_muac']< MUAC_CUTOFF) & (detn['wk1_calc_los']< LOS_CUTOFF) ].copy()\n",
        "\n",
        "detn = reduce_dimensionality(detn,['muac_diff_ratio','muac'],'muac_diff_ratio_z')\n",
        "detn = reduce_dimensionality(detn,['household_adults','household_slept','living_children'],'household_adults_slept_living_children_z')\n",
        "\n",
        "logger.debug(f'{detn[label].sum()},{detn[label].mean()},{detn.shape}')\n"
      ],
      "metadata": {
        "id": "FHBzZJgrtl7X",
        "colab": {
          "base_uri": "https://localhost:8080/"
        },
        "outputId": "0e65aae6-e92e-48ec-92c6-ceb99bca00db"
      },
      "execution_count": 14,
      "outputs": [
        {
          "output_type": "stream",
          "name": "stderr",
          "text": [
            "DEBUG:my_logger:((10322, 2345), np.int64(1136)),0.11005619066072467\n",
            "DEBUG:my_logger:(9747, 2328)\n",
            "DEBUG:my_logger:((9747, 2328), np.int64(1136)),0.11654868164563456,(9747, 2328)\n"
          ]
        },
        {
          "output_type": "error",
          "ename": "AttributeError",
          "evalue": "'numpy.ndarray' object has no attribute 'columns'",
          "traceback": [
            "\u001b[0;31m---------------------------------------------------------------------------\u001b[0m",
            "\u001b[0;31mAttributeError\u001b[0m                            Traceback (most recent call last)",
            "\u001b[0;32m<ipython-input-14-89d17823994a>\u001b[0m in \u001b[0;36m<cell line: 0>\u001b[0;34m()\u001b[0m\n\u001b[1;32m     36\u001b[0m \u001b[0mdetn\u001b[0m \u001b[0;34m=\u001b[0m \u001b[0mdetn\u001b[0m\u001b[0;34m[\u001b[0m\u001b[0;34m(\u001b[0m\u001b[0mdetn\u001b[0m\u001b[0;34m[\u001b[0m\u001b[0;34m'weekly_last_muac'\u001b[0m\u001b[0;34m]\u001b[0m\u001b[0;34m<\u001b[0m \u001b[0mMUAC_CUTOFF\u001b[0m\u001b[0;34m)\u001b[0m \u001b[0;34m&\u001b[0m \u001b[0;34m(\u001b[0m\u001b[0mdetn\u001b[0m\u001b[0;34m[\u001b[0m\u001b[0;34m'wk1_calc_los'\u001b[0m\u001b[0;34m]\u001b[0m\u001b[0;34m<\u001b[0m \u001b[0mLOS_CUTOFF\u001b[0m\u001b[0;34m)\u001b[0m \u001b[0;34m]\u001b[0m\u001b[0;34m.\u001b[0m\u001b[0mcopy\u001b[0m\u001b[0;34m(\u001b[0m\u001b[0;34m)\u001b[0m\u001b[0;34m\u001b[0m\u001b[0;34m\u001b[0m\u001b[0m\n\u001b[1;32m     37\u001b[0m \u001b[0;34m\u001b[0m\u001b[0m\n\u001b[0;32m---> 38\u001b[0;31m \u001b[0mdetn\u001b[0m \u001b[0;34m=\u001b[0m \u001b[0mreduce_dimensionality\u001b[0m\u001b[0;34m(\u001b[0m\u001b[0mdetn\u001b[0m\u001b[0;34m,\u001b[0m\u001b[0;34m[\u001b[0m\u001b[0;34m'muac_diff_ratio'\u001b[0m\u001b[0;34m,\u001b[0m\u001b[0;34m'muac'\u001b[0m\u001b[0;34m]\u001b[0m\u001b[0;34m,\u001b[0m\u001b[0;34m'muac_diff_ratio_z'\u001b[0m\u001b[0;34m)\u001b[0m\u001b[0;34m\u001b[0m\u001b[0;34m\u001b[0m\u001b[0m\n\u001b[0m\u001b[1;32m     39\u001b[0m \u001b[0mdetn\u001b[0m \u001b[0;34m=\u001b[0m \u001b[0mreduce_dimensionality\u001b[0m\u001b[0;34m(\u001b[0m\u001b[0mdetn\u001b[0m\u001b[0;34m,\u001b[0m\u001b[0;34m[\u001b[0m\u001b[0;34m'household_adults'\u001b[0m\u001b[0;34m,\u001b[0m\u001b[0;34m'household_slept'\u001b[0m\u001b[0;34m,\u001b[0m\u001b[0;34m'living_children'\u001b[0m\u001b[0;34m]\u001b[0m\u001b[0;34m,\u001b[0m\u001b[0;34m'household_adults_slept_living_children_z'\u001b[0m\u001b[0;34m)\u001b[0m\u001b[0;34m\u001b[0m\u001b[0;34m\u001b[0m\u001b[0m\n\u001b[1;32m     40\u001b[0m \u001b[0;34m\u001b[0m\u001b[0m\n",
            "\u001b[0;32m<string>\u001b[0m in \u001b[0;36mreduce_dimensionality\u001b[0;34m(detn, columns_for_reduction, reduced_column_name)\u001b[0m\n",
            "\u001b[0;31mAttributeError\u001b[0m: 'numpy.ndarray' object has no attribute 'columns'"
          ]
        }
      ]
    },
    {
      "cell_type": "markdown",
      "source": [
        "## predictive model importances"
      ],
      "metadata": {
        "id": "OMrHUhTrDhkg"
      }
    },
    {
      "cell_type": "markdown",
      "source": [
        "### AutoGluon"
      ],
      "metadata": {
        "id": "oh11aDEA7R3c"
      }
    },
    {
      "cell_type": "markdown",
      "source": [
        "#### stratified models by length of service"
      ],
      "metadata": {
        "id": "helwRMuv_c7o"
      }
    },
    {
      "cell_type": "code",
      "source": [
        "def run_ag_model(label,detn,suffix):\n",
        "  from autogluon.tabular import TabularDataset, TabularPredictor\n",
        "\n",
        "  model_path = f\"{MODEL_PATH}/{label}{suffix}/\"\n",
        "  predictor = TabularPredictor.load(model_path,require_py_version_match=False,require_version_match=False)\n",
        "\n",
        "  ag_features = predictor.features()\n",
        "  logger.debug(f'ag features:, {len(ag_features)}, {ag_features}')\n",
        "\n",
        "\n",
        "  y_pred_proba_all = predictor.predict_proba(detn[ag_features])\n",
        "\n",
        "  return y_pred_proba_all"
      ],
      "metadata": {
        "id": "ESnmeXuBqsU5"
      },
      "execution_count": 14,
      "outputs": []
    },
    {
      "cell_type": "code",
      "source": [
        "detn_admit_only,_,_,_ = split_detn_new_onset_medical_complication(detn,label)\n",
        "\n",
        "#detn_admit_only = make_dummy_columns(detn_admit_only)\n",
        "pid_not_in_admit = detn[~detn['pid'].isin(detn_admit_only['pid'])]['pid']\n",
        "detn_filtered = detn[detn['pid'].isin(pid_not_in_admit)].copy()\n",
        "\n"
      ],
      "metadata": {
        "colab": {
          "base_uri": "https://localhost:8080/"
        },
        "id": "3u20lJD0_ycg",
        "outputId": "d0666d0c-9fcd-48de-e985-0f151d5e0619"
      },
      "execution_count": 15,
      "outputs": [
        {
          "output_type": "stream",
          "name": "stdout",
          "text": [
            "(433, 536) (424, 1436) (421, 1883) (954, 2330)\n"
          ]
        }
      ]
    },
    {
      "cell_type": "code",
      "source": [
        "y_pred_proba_all1 = run_ag_model(label,detn_admit_only,'1')\n",
        "y_pred_proba_all2 = run_ag_model(label,detn_filtered,'not1')\n"
      ],
      "metadata": {
        "colab": {
          "base_uri": "https://localhost:8080/"
        },
        "id": "jW8DNGUzBrV8",
        "outputId": "defe2444-985f-4a9f-9824-cce6a25c3167"
      },
      "execution_count": 16,
      "outputs": [
        {
          "output_type": "stream",
          "name": "stderr",
          "text": [
            "Found 1 mismatches between original and current metadata:\n",
            "\tINFO: AutoGluon Python micro version mismatch (original=3.11.12, current=3.11.13)\n",
            "DEBUG:my_logger:ag features:, 7, ['admit_cat1_complications', 'estdist_home', 'household_adults_slept_living_children_z', 'age_takefamily', 'rainy_season_admit', 'temperature', 'resp_rate']\n",
            "Found 1 mismatches between original and current metadata:\n",
            "\tINFO: AutoGluon Python micro version mismatch (original=3.11.12, current=3.11.13)\n",
            "DEBUG:my_logger:ag features:, 14, ['hl_trend', 'weekly_avg_muac', 'wk2_muac', 'estdist_home', 'wk1_rainy_season_weekly', 'resp_rate', 'muac_trend', 'cat1_complications_weekly', 'household_adults_slept_living_children_z', 'muac_diff_ratio_z', 'muac_rsquared', 'muac_diff_ratio_rate', 'wk1_weight_diff_rate', 'wk1_resp_rate_weekly']\n"
          ]
        }
      ]
    },
    {
      "cell_type": "code",
      "source": [
        "#y_pred_proba_all_stratified = pd.concat([y_pred_proba_all1,y_pred_proba_all2,y_pred_proba_all3,y_pred_proba_all4],axis=0)\n",
        "y_pred_proba_all_stratified = pd.concat([y_pred_proba_all1,y_pred_proba_all2],axis=0)\n",
        "y_pred_proba_all_stratified_series = y_pred_proba_all_stratified[1].rename(f'probability_{label}_stratified')\n",
        "pid_probabilities = pid_probabilities.join(y_pred_proba_all_stratified_series)"
      ],
      "metadata": {
        "id": "GD4UFxSuHOui"
      },
      "execution_count": 17,
      "outputs": []
    },
    {
      "cell_type": "markdown",
      "source": [
        "#### all los in single model"
      ],
      "metadata": {
        "id": "at01KKWcEYvM"
      }
    },
    {
      "cell_type": "markdown",
      "source": [
        "### Light Gradient-Boosting Machine (GBM) classifier"
      ],
      "metadata": {
        "id": "CaHB8bRIlwJW"
      }
    },
    {
      "cell_type": "markdown",
      "source": [
        "### explain via Decision Tree Classifier"
      ],
      "metadata": {
        "id": "TARnSunWsZuM"
      }
    },
    {
      "cell_type": "markdown",
      "source": [
        "### explain via logistic linear regression"
      ],
      "metadata": {
        "id": "N9l1TCBRMFVS"
      }
    },
    {
      "cell_type": "markdown",
      "source": [
        "## survival"
      ],
      "metadata": {
        "id": "gZp5g2v7J4Z1"
      }
    },
    {
      "cell_type": "code",
      "source": [
        "# survival\n",
        "logger.debug(f'{detn[label].sum()},{detn.shape}')\n",
        "detn = pd.merge(detn, admit_current[['pid','status','status_date']], on='pid', how='inner')\n",
        "logger.debug(f'{detn[label].sum()},{detn.shape}')\n",
        "\n",
        "label_date = f'{label}_date'\n",
        "\n",
        "detn.loc[detn[label] == 0, label_date] = None\n",
        "\n",
        "# prompt: filter detn for label_date not null or wk1_calcdate_weekly not null\n",
        "\n",
        "# drop those w/o a visit, hence no lifetime to be plotted)\n",
        "detn = detn[(detn[label_date].notnull()) | (detn['wk1_calcdate_weekly'].notnull())].copy()\n",
        "logger.debug(f'{detn[label].sum()},{detn.shape}')\n",
        "\n"
      ],
      "metadata": {
        "id": "O56rhvJEJ_Sj",
        "colab": {
          "base_uri": "https://localhost:8080/"
        },
        "outputId": "8df982ec-fba1-4896-b1f9-f34c1f0e81f0"
      },
      "execution_count": 18,
      "outputs": [
        {
          "output_type": "stream",
          "name": "stderr",
          "text": [
            "DEBUG:my_logger:1051,(2232, 2330)\n",
            "DEBUG:my_logger:1051,(2232, 2332)\n",
            "DEBUG:my_logger:1051,(2063, 2332)\n"
          ]
        }
      ]
    },
    {
      "cell_type": "code",
      "source": [
        "# prompt: create column in detn called final_date which is status_date or wk1_calcdate_weekly whichever is greater\n",
        "# Create 'final_date' column, choosing the later date between 'status_date' and 'wk1_calcdate_weekly'\n",
        "detn['final_date'] = detn[['status_date', 'wk1_calcdate_weekly']].max(axis=1)\n",
        "\n",
        "# Fill NaN (active patients w/o a visit) values in 'final_date' with today's date\n",
        "detn['final_date'] = detn['final_date'].fillna(datetime.date.today())\n",
        "detn['final_date'] = pd.to_datetime(detn['final_date'])\n",
        "detn['duration_days'] = detn['final_date'] - detn['calcdate']\n",
        "detn['duration_days'] = detn['duration_days'].dt.days\n",
        "\n",
        "logger.debug(detn[label_date].notnull().sum())\n"
      ],
      "metadata": {
        "id": "mFV_TWpNLo7V",
        "colab": {
          "base_uri": "https://localhost:8080/"
        },
        "outputId": "7b94ba09-9252-483a-92ba-39a898f8f2e2"
      },
      "execution_count": 19,
      "outputs": [
        {
          "output_type": "stream",
          "name": "stderr",
          "text": [
            "DEBUG:my_logger:1051\n"
          ]
        }
      ]
    },
    {
      "cell_type": "code",
      "source": [
        "# prompt: for rows in detn where label==1 set duration_days to label_date - calcdate\n",
        "\n",
        "# Calculate duration_days only for rows where label == 1\n",
        "detn.loc[detn[label] == 1, 'duration_days'] = (detn.loc[detn[label] == 1, label_date] - detn.loc[detn[label] == 1, 'calcdate']).dt.days\n"
      ],
      "metadata": {
        "id": "Fi4fn4GCMHBj"
      },
      "execution_count": 20,
      "outputs": []
    },
    {
      "cell_type": "code",
      "source": [
        "# prompt: clip detn['duration_days'] to 0.1\n",
        "\n",
        "detn['duration_days'] = detn['duration_days'].clip(lower=0.1)\n"
      ],
      "metadata": {
        "id": "hEj9kdgIP0z7"
      },
      "execution_count": 21,
      "outputs": []
    },
    {
      "cell_type": "markdown",
      "source": [
        "### AFT survival regression"
      ],
      "metadata": {
        "id": "IwlVAl0-Fdjg"
      }
    },
    {
      "cell_type": "code",
      "source": [
        "# AFT survival regression\n",
        "selected_columns = ['muac_diff','wk1_muac','muac_diff_ratio_rate']\n",
        "\n",
        "X = detn[selected_columns].copy()\n",
        "\n",
        "data_y = detn[[label,'duration_days']].copy()\n",
        "data_x_numeric = X.copy()\n",
        "data_y = detn[[label,'duration_days']].copy()\n",
        "\n",
        "regression_dataset=data_x_numeric.join(data_y)"
      ],
      "metadata": {
        "id": "G9rBSd4mRbYR"
      },
      "execution_count": 22,
      "outputs": []
    },
    {
      "cell_type": "code",
      "source": [
        "regr_cols = ['wk1_muac','muac','muac_diff','muac_diff_ratio_rate',label,'duration_days','pid','status']\n",
        "regression_dataset = detn[regr_cols].copy()\n",
        "regression_dataset['wk1_muac'].fillna(regression_dataset['muac'],inplace=True)\n",
        "regression_dataset.drop(columns=['muac'],inplace=True)\n",
        "regression_dataset.dropna(inplace=True)\n",
        "#regression_dataset['wk1_muac'].fillna(0,inplace=True)\n",
        "\n",
        "\n",
        "regression_dataset['duration_days'] = regression_dataset['duration_days'].clip(lower=.01)\n",
        "aft = WeibullAFTFitter()\n",
        "\n",
        "aft.fit(regression_dataset, duration_col='duration_days', event_col=f'{label}', ancillary=True, formula=' wk1_muac + muac_diff + muac_diff_ratio_rate')\n",
        "\n",
        "logger.debug(aft.print_summary())\n",
        "\n"
      ],
      "metadata": {
        "id": "NcF0HzrBVocK",
        "colab": {
          "base_uri": "https://localhost:8080/"
        },
        "outputId": "4f3cd9c1-ea79-459d-9939-c1505bdbb1f0"
      },
      "execution_count": 23,
      "outputs": [
        {
          "output_type": "execute_result",
          "data": {
            "text/plain": [
              "<lifelines.WeibullAFTFitter: fitted with 1799 total observations, 1012 right-censored observations>"
            ]
          },
          "metadata": {},
          "execution_count": 23
        }
      ]
    },
    {
      "cell_type": "markdown",
      "source": [
        "column\tdescription\n",
        "1. wk1_muac\tmuac on most recent visit\n",
        "1. muac_diff_ratio_rate\tlatest/last muac minus first muac divided by first muac divided by the number of days in the program.  So muac change per starting muac per day.  Last would the last visit or the last visit up to the appropriate deterioration type.\n",
        "1. muac_diff\tthe difference between the most recent (before deterioration) muac and the first visit's muac\n"
      ],
      "metadata": {
        "id": "PBTujUjDd20Q"
      }
    },
    {
      "cell_type": "markdown",
      "source": [
        "### censored (i.e., patients w/o complication yet) survival prediction"
      ],
      "metadata": {
        "id": "5WTeBfFtUF1x"
      }
    },
    {
      "cell_type": "code",
      "source": [
        "# censored (i.e., patients w/o complication yet) survival prediction\n",
        "\n",
        "regr_cols = ['wk1_muac','muac','muac_diff','muac_diff_ratio_rate',label,'duration_days','pid','status']\n",
        "censored_subjects = detn[regr_cols].copy()\n",
        "censored_subjects['wk1_muac'].fillna(censored_subjects['muac'],inplace=True)\n",
        "censored_subjects.drop(columns=['muac'],inplace=True)\n",
        "\n",
        "regression_dataset[regression_dataset['wk1_muac'].notnull()][['muac_diff','muac_diff_ratio_rate']].isnull().sum()\n",
        "\n",
        "censored_subjects['muac_diff_ratio_rate'].fillna(0,inplace=True)\n",
        "\n",
        "censored_subjects.dropna(inplace=True)\n",
        "\n",
        "censored_subjects = censored_subjects.loc[detn[label]==0].copy()\n",
        "\n",
        "duration_days_col = f'duration_days_{label}'\n",
        "\n",
        "censored_subjects.rename(columns={'duration_days':duration_days_col},inplace=True)\n",
        "\n",
        "censored_subjects_last_obs = censored_subjects[duration_days_col]\n",
        "\n",
        "\n",
        "y_median = aft.predict_median(censored_subjects,conditional_after=censored_subjects_last_obs)\n",
        "y_median.rename(f'median_days_to_{label}',inplace=True)\n",
        "\n",
        "df = pd.merge(censored_subjects[['pid','wk1_muac','muac_diff','muac_diff_ratio_rate',duration_days_col]],y_median,left_index=True,right_index=True)\n",
        "\n",
        "pid_probabilities =pd.merge(pid_probabilities,df,on='pid',how='left')\n",
        "\n",
        "\n"
      ],
      "metadata": {
        "id": "tXGGwNrcUjwO"
      },
      "execution_count": 24,
      "outputs": []
    },
    {
      "cell_type": "markdown",
      "source": [
        "## visualize most and least probable patients"
      ],
      "metadata": {
        "id": "6OvUKMt-EGYR"
      }
    },
    {
      "cell_type": "markdown",
      "source": [
        "### most probable"
      ],
      "metadata": {
        "id": "6CKhwbsFKDgi"
      }
    },
    {
      "cell_type": "markdown",
      "source": [
        "### 2nd most probable"
      ],
      "metadata": {
        "id": "ASZhxWOcKPNZ"
      }
    },
    {
      "cell_type": "markdown",
      "source": [
        "# poor weight gain"
      ],
      "metadata": {
        "id": "uibG5FdcADu_"
      }
    },
    {
      "cell_type": "markdown",
      "source": [
        "* Weight at week 3 is lower than weight at admission\n",
        "* Weight loss for 3 consecutive weeks (not related to loss of oedema)\n",
        "* Static weight or weight loss for 4 consecutive weeks\n",
        "* Poor weight gain (<5 g/kg/day) for 4 consecutive weeks\n"
      ],
      "metadata": {
        "id": "1zi9FdAZ8YQh"
      }
    },
    {
      "cell_type": "markdown",
      "source": [
        "The biggest predictors of poor weight gain are ['wk1_muac','wk2_muac','weight_trend','wfh_trend']\n",
        "\n",
        "1.   Most recent visit's MUAC\n",
        "2.   2nd most recent visit's MUAC\n",
        "3. Weight trend\n",
        "4. Weight for height trend\n",
        "\n"
      ],
      "metadata": {
        "id": "iU1CqB_i7wGi"
      }
    },
    {
      "cell_type": "code",
      "source": [
        "# prompt: use pickle to get the data to train and infer on\n",
        "\n",
        "label = 'detn_weight_loss_ever'\n",
        "\n",
        "#with open(dir + f'{label}.pkl', 'rb') as f:\n",
        "#  detn = pickle.load(f)\n",
        "detn = read_detn(label)\n",
        "\n",
        "logger.debug(f'{detn.shape,detn[label].sum()},{detn[label].mean()}')\n",
        "# (5215, 1786) 1021 0.19578139980824544 for 70% training phase\n",
        "# (8352, 1844) 1660 0.19875478927203066\n",
        "detn['wk1_calc_los'].fillna(0,inplace=True)\n",
        "\n",
        "LOS_CUTOFF = 12\n",
        "MUAC_CUTOFF = 12.7\n",
        "\n",
        "detn = detn[((detn['wk1_b_discharged']==0) & (detn['weekly_last_muac']< MUAC_CUTOFF) & (detn['wk1_calc_los']< LOS_CUTOFF)) ].copy()\n",
        "\n",
        "\n",
        "logger.debug(f'{detn.shape,detn[label].sum()},{detn[label].mean()}')\n",
        "detn = reduce_dimensionality(detn,['household_adults','household_slept','living_children'],'household_adults_slept_living_children_z')\n",
        "detn = reduce_dimensionality(detn,['resp_rate', 'temperature'],'resp_rate_temperature')\n",
        "#detn['phq_score'] = detn['phq_score'].astype(int)\n",
        "\n",
        "logger.debug(f'{detn.shape,detn[label].sum()},{detn[label].mean()}')\n"
      ],
      "metadata": {
        "id": "A-xZfAaoAmWT",
        "colab": {
          "base_uri": "https://localhost:8080/"
        },
        "outputId": "21ae8755-7eca-4b4a-e58d-5d6a175d41f9"
      },
      "execution_count": 25,
      "outputs": [
        {
          "output_type": "stream",
          "name": "stderr",
          "text": [
            "DEBUG:my_logger:((10322, 2331), np.int64(2152)),0.20848672737841503\n",
            "DEBUG:my_logger:((3303, 2331), np.int64(2001)),0.6058128973660308\n",
            "DEBUG:my_logger:((3303, 2333), np.int64(2001)),0.6058128973660308\n"
          ]
        }
      ]
    },
    {
      "cell_type": "markdown",
      "source": [
        "## major correlations"
      ],
      "metadata": {
        "id": "pbe-L2Wk8ioQ"
      }
    },
    {
      "cell_type": "markdown",
      "source": [
        "visualize the correlations of the biggest predictors to poor weight gain"
      ],
      "metadata": {
        "id": "zb20utHnZoan"
      }
    },
    {
      "cell_type": "markdown",
      "source": [
        "## predictive model feature importances"
      ],
      "metadata": {
        "id": "oYuQA3h-Bwe7"
      }
    },
    {
      "cell_type": "markdown",
      "source": [
        "### autogluon"
      ],
      "metadata": {
        "id": "JKFbd7NZ8y6_"
      }
    },
    {
      "cell_type": "markdown",
      "source": [
        "90% of its predictions are right (precision).  It found 87% of the poor weight gain patients (recall).\n",
        "\n"
      ],
      "metadata": {
        "id": "F88PSlkh85aZ"
      }
    },
    {
      "cell_type": "code",
      "source": [
        "# infer\n",
        "y_pred_proba_all = run_ag_model(label,detn,'')"
      ],
      "metadata": {
        "id": "m43BVS-Yjp4K",
        "colab": {
          "base_uri": "https://localhost:8080/"
        },
        "outputId": "2052465b-98a3-4205-d7a7-148caf30d52c"
      },
      "execution_count": 26,
      "outputs": [
        {
          "output_type": "stream",
          "name": "stderr",
          "text": [
            "Found 1 mismatches between original and current metadata:\n",
            "\tINFO: AutoGluon Python micro version mismatch (original=3.11.12, current=3.11.13)\n",
            "DEBUG:my_logger:ag features:, 8, ['wk1_weight_diff_rate', 'wk1_calc_los', 'hl_trend', 'hfa_trend', 'wfa_trend', 'weekly_last_muac', 'household_adults_slept_living_children_z', 'weekly_last_wfh']\n"
          ]
        }
      ]
    },
    {
      "cell_type": "code",
      "source": [
        "pred_proba_all_series = y_pred_proba_all[1].rename(f'probability_{label}')\n",
        "pid_probabilities = pid_probabilities.join(pred_proba_all_series)\n",
        "logger.debug(pid_probabilities.shape)"
      ],
      "metadata": {
        "id": "YppJ1WlD-zGg",
        "colab": {
          "base_uri": "https://localhost:8080/"
        },
        "outputId": "802d3ad7-f4fe-4bad-a45b-7cba518b15b1"
      },
      "execution_count": 27,
      "outputs": [
        {
          "output_type": "stream",
          "name": "stderr",
          "text": [
            "DEBUG:my_logger:(10322, 10)\n"
          ]
        }
      ]
    },
    {
      "cell_type": "markdown",
      "source": [
        "## survival"
      ],
      "metadata": {
        "id": "YokBCgxHcfK6"
      }
    },
    {
      "cell_type": "code",
      "source": [
        "# survival\n",
        "logger.debug(f'{detn[label].sum()},{detn.shape}')\n",
        "detn = pd.merge(detn, admit_current[['pid','status','status_date']], on='pid', how='inner')\n",
        "logger.debug(f'{detn[label].sum()},{detn.shape}')\n",
        "\n",
        "label_date = f'{label}_date'\n",
        "\n",
        "detn.loc[detn[label] == 0, label_date] = None\n",
        "\n",
        "# prompt: filter detn for label_date not null or wk1_calcdate_weekly not null\n",
        "\n",
        "# drop those w/o a visit, hence no lifetime to be plotted)\n",
        "detn = detn[(detn[label_date].notnull()) | (detn['wk1_calcdate_weekly'].notnull())].copy()\n",
        "logger.debug(f'{detn[label].sum()},{detn.shape}')\n",
        "\n"
      ],
      "metadata": {
        "id": "_uQlOyo-cvDS",
        "colab": {
          "base_uri": "https://localhost:8080/"
        },
        "outputId": "b42bdbb6-ffd9-4b65-a9d9-f639d6ba25cc"
      },
      "execution_count": 28,
      "outputs": [
        {
          "output_type": "stream",
          "name": "stderr",
          "text": [
            "DEBUG:my_logger:2001,(3303, 2333)\n",
            "DEBUG:my_logger:2001,(3303, 2335)\n",
            "DEBUG:my_logger:2001,(2475, 2335)\n"
          ]
        }
      ]
    },
    {
      "cell_type": "code",
      "source": [
        "# prompt: create column in detn called final_date which is status_date or wk1_calcdate_weekly whichever is greater\n",
        "# Create 'final_date' column, choosing the later date between 'status_date' and 'wk1_calcdate_weekly'\n",
        "detn['final_date'] = detn[['status_date', 'wk1_calcdate_weekly']].max(axis=1)\n",
        "\n",
        "# Fill NaN (active patients w/o a visit) values in 'final_date' with today's date\n",
        "detn['final_date'] = detn['final_date'].fillna(datetime.date.today())\n",
        "detn['final_date'] = pd.to_datetime(detn['final_date'])\n",
        "detn['duration_days'] = detn['final_date'] - detn['calcdate']\n",
        "detn['duration_days'] = detn['duration_days'].dt.days\n",
        "\n",
        "logger.debug(detn[label_date].notnull().sum())\n"
      ],
      "metadata": {
        "id": "U4TN8-sQc2HY",
        "colab": {
          "base_uri": "https://localhost:8080/"
        },
        "outputId": "d4c0ef1d-03d2-4a5b-a162-af162f45f4b9"
      },
      "execution_count": 29,
      "outputs": [
        {
          "output_type": "stream",
          "name": "stderr",
          "text": [
            "DEBUG:my_logger:2001\n"
          ]
        }
      ]
    },
    {
      "cell_type": "code",
      "source": [
        "# prompt: for rows in detn where label==1 set duration_days to label_date - calcdate\n",
        "\n",
        "# Calculate duration_days only for rows where label == 1\n",
        "detn.loc[detn[label] == 1, 'duration_days'] = (detn.loc[detn[label] == 1, label_date] - detn.loc[detn[label] == 1, 'calcdate']).dt.days\n"
      ],
      "metadata": {
        "id": "FqqXnzm9c9AV"
      },
      "execution_count": 30,
      "outputs": []
    },
    {
      "cell_type": "markdown",
      "source": [
        "### AFT survival regression"
      ],
      "metadata": {
        "id": "uMRPOoAlJrnS"
      }
    },
    {
      "cell_type": "code",
      "source": [
        "selected_columns = ['weight_trend','pid']\n",
        "\n",
        "\n",
        "X = detn[selected_columns].copy()\n",
        "\n",
        "data_y = detn[[label,'duration_days']].copy()\n",
        "data_x_numeric = X.copy()\n",
        "data_y = detn[[label,'duration_days']].copy()\n",
        "\n",
        "regression_dataset=data_x_numeric.join(data_y)\n",
        "\n",
        "regression_dataset = regression_dataset.dropna()"
      ],
      "metadata": {
        "id": "dkrLLo5_diAq"
      },
      "execution_count": 31,
      "outputs": []
    },
    {
      "cell_type": "code",
      "source": [
        "aft = WeibullAFTFitter()\n",
        "\n",
        "aft.fit(regression_dataset, duration_col='duration_days', event_col=f'{label}', ancillary=True,formula='weight_trend')\n",
        "logger.debug(aft.print_summary())\n"
      ],
      "metadata": {
        "id": "NZ-Baa24e4bW",
        "colab": {
          "base_uri": "https://localhost:8080/"
        },
        "outputId": "729f213d-cf43-428f-9da2-359654918c2d"
      },
      "execution_count": 32,
      "outputs": [
        {
          "output_type": "execute_result",
          "data": {
            "text/plain": [
              "<lifelines.WeibullAFTFitter: fitted with 2428 total observations, 467 right-censored observations>"
            ]
          },
          "metadata": {},
          "execution_count": 32
        }
      ]
    },
    {
      "cell_type": "markdown",
      "source": [
        "### censored (i.e., patients w/o weight loss yet) survival prediction"
      ],
      "metadata": {
        "id": "Mm1o0t1EfciT"
      }
    },
    {
      "cell_type": "code",
      "source": [
        "censored_subjects=data_x_numeric.join(data_y)\n",
        "\n",
        "censored_subjects['weight_trend'].fillna(0,inplace=True)\n",
        "\n",
        "censored_subjects = censored_subjects.loc[censored_subjects[label]==0].copy()\n",
        "\n",
        "duration_days_col = f'duration_days_{label}'\n",
        "\n",
        "censored_subjects.rename(columns={'duration_days':duration_days_col},inplace=True)\n",
        "\n",
        "censored_subjects_last_obs = censored_subjects[duration_days_col]\n",
        "\n",
        "y_median = aft.predict_median(censored_subjects,conditional_after=censored_subjects_last_obs)\n",
        "y_median.rename(f'median_days_to_{label}',inplace=True)\n",
        "\n",
        "df = pd.merge(censored_subjects[['pid','weight_trend',duration_days_col]],y_median,left_index=True,right_index=True)\n",
        "\n",
        "pid_probabilities =pd.merge(pid_probabilities,df,on='pid',how='left')\n",
        "logger.debug(pid_probabilities.shape)\n"
      ],
      "metadata": {
        "id": "n63jI_Zpfvbd",
        "colab": {
          "base_uri": "https://localhost:8080/"
        },
        "outputId": "3fa76cfe-db72-4f54-df72-159b0ee98eeb"
      },
      "execution_count": 33,
      "outputs": [
        {
          "output_type": "stream",
          "name": "stderr",
          "text": [
            "DEBUG:my_logger:(10322, 13)\n"
          ]
        }
      ]
    },
    {
      "cell_type": "markdown",
      "source": [
        "## visualize most and least probable patients"
      ],
      "metadata": {
        "id": "SpX8fM2_D-n7"
      }
    },
    {
      "cell_type": "markdown",
      "source": [
        "### most probable"
      ],
      "metadata": {
        "id": "ZpjcjMvMYYE4"
      }
    },
    {
      "cell_type": "markdown",
      "source": [
        "# muac loss 2 weeks consecutive"
      ],
      "metadata": {
        "id": "J8Ej2Y5BgHML"
      }
    },
    {
      "cell_type": "markdown",
      "source": [
        "Static MUAC or MUAC loss for 2 consecutive weeks"
      ],
      "metadata": {
        "id": "ywgGmDxWhwd1"
      }
    },
    {
      "cell_type": "markdown",
      "source": [
        "if malnourish status is coded non-healthy (mam in particular) on most recent visit, probability of MUAC loss in the following 2 weeks increases 5x from the baseline 10% to 50%.\n",
        "\n",
        "For the 2.6% with healthy MUAC but cat2_overall diagnosis on their most recent visit their probability increases 20x (from the baseline for healthy MUAC) to 37%. For the 10% with the difference between visit 1 and visit 2 MUAC is less than .5 cm and they have unhealthy MUAC, then their probability increases another 25 points (from the baseline for unhealthy MUAC), to 81%."
      ],
      "metadata": {
        "id": "Y4dHznmXvn4D"
      }
    },
    {
      "cell_type": "code",
      "source": [
        "# prompt: use pickle to read deterioration dataframe\n",
        "label = 'muac_loss_2_weeks_consecutive'\n",
        "\n",
        "#with open(dir + f'{label}.pkl', 'rb') as f:\n",
        "#  detn = pickle.load(f)\n",
        "\n",
        "detn = read_detn(label)\n",
        "\n",
        "\n",
        "logger.debug(f'{detn.shape,detn[label].sum()},{detn[label].mean()}')\n",
        "# (5215, 1786) 469 0.08993288590604027 first version of data\n",
        "# (8352, 1844) 817 0.09782088122605365"
      ],
      "metadata": {
        "id": "Y7j0zl3ugPHS"
      },
      "execution_count": 34,
      "outputs": []
    },
    {
      "cell_type": "code",
      "source": [
        "detn['wk1_calc_los'].fillna(0,inplace=True)\n",
        "\n",
        "LOS_CUTOFF = 12\n",
        "MUAC_CUTOFF = 12.7\n",
        "# prompt: detn where wk1_muac between 11.5 and 12.6 and wk1_calc_los between 10 and 12\n",
        "#detn = detn[(detn['weekly_last_muac']< MUAC_CUTOFF) & (detn['wk1_calc_los']< LOS_CUTOFF) ].copy()\n",
        "\n",
        "detn = detn[((detn['wk1_b_discharged']==0) & (detn['weekly_last_muac']< MUAC_CUTOFF) & (detn['wk1_calc_los']< LOS_CUTOFF)) ].copy()\n",
        "\n",
        "\n",
        "logger.debug(f'{detn.shape,detn[label].sum()},{detn[label].mean()}')\n",
        "detn = reduce_dimensionality(detn,['household_adults','household_slept','living_children'],'household_adults_slept_living_children_z')\n",
        "\n",
        "\n",
        "\n",
        "detn = reduce_dimensionality(detn,['weekly_avg_muac','weekly_last_wfh',],'muac_wfh_z')\n",
        "\n",
        "detn = reduce_dimensionality(detn,['wk1_muac_diff_rate','muac_diff_ratio_rate','muac_diff_ratio'],'muac_diff_rate_ratio_z')\n",
        "\n",
        "\n",
        "#detn['phq_score'] = detn['phq_score'].astype(int)\n",
        "\n",
        "logger.debug(f'{detn.shape,detn[label].sum()},{detn[label].mean()}')"
      ],
      "metadata": {
        "id": "VzKP86foolCW",
        "colab": {
          "base_uri": "https://localhost:8080/"
        },
        "outputId": "b1f37d21-0b7d-4c5b-8097-ad943fdd5c43"
      },
      "execution_count": 35,
      "outputs": [
        {
          "output_type": "stream",
          "name": "stderr",
          "text": [
            "DEBUG:my_logger:((2485, 2331), np.int64(1148)),0.4619718309859155\n",
            "DEBUG:my_logger:((2485, 2334), np.int64(1148)),0.4619718309859155\n"
          ]
        }
      ]
    },
    {
      "cell_type": "markdown",
      "source": [
        "## correlations"
      ],
      "metadata": {
        "id": "mDxZjkcQJfi1"
      }
    },
    {
      "cell_type": "markdown",
      "source": [
        "## predictive model feature importances"
      ],
      "metadata": {
        "id": "IJiXsDSMBpvQ"
      }
    },
    {
      "cell_type": "markdown",
      "source": [
        "### Autogluon"
      ],
      "metadata": {
        "id": "4POqBZHiMzsP"
      }
    },
    {
      "cell_type": "code",
      "source": [
        "# run inference\n",
        "y_pred_proba_all = run_ag_model(label,detn,'')"
      ],
      "metadata": {
        "id": "88mAEnKXjAao",
        "colab": {
          "base_uri": "https://localhost:8080/"
        },
        "outputId": "02e90f0a-3fa8-4dcf-ee1a-92f4ddf199c2"
      },
      "execution_count": 36,
      "outputs": [
        {
          "output_type": "stream",
          "name": "stderr",
          "text": [
            "Found 1 mismatches between original and current metadata:\n",
            "\tINFO: AutoGluon Python micro version mismatch (original=3.11.12, current=3.11.13)\n",
            "DEBUG:my_logger:ag features:, 13, ['wk2_muac_diff_rate', 'wk1_weight_diff_rate', 'muac_rsquared', 'hfa_trend', 'wfa_trend', 'wk1_muac', 'muac_diff_rate_ratio_z', 'resp_rate', 'hl_trend', 'household_adults_slept_living_children_z', 'wk1_calc_los', 'muac_trend', 'wk2_muac']\n"
          ]
        }
      ]
    },
    {
      "cell_type": "code",
      "source": [
        "pred_proba_all_series = y_pred_proba_all[1].rename(f'probability_{label}')\n",
        "pid_probabilities = pid_probabilities.join(pred_proba_all_series)\n",
        "logger.debug(pid_probabilities.shape)"
      ],
      "metadata": {
        "id": "BuIfKufE_Pg1",
        "colab": {
          "base_uri": "https://localhost:8080/"
        },
        "outputId": "40b74be7-317c-4065-fb59-4057c6829fe1"
      },
      "execution_count": 37,
      "outputs": [
        {
          "output_type": "stream",
          "name": "stderr",
          "text": [
            "DEBUG:my_logger:(10322, 14)\n"
          ]
        }
      ]
    },
    {
      "cell_type": "markdown",
      "source": [
        "## survival"
      ],
      "metadata": {
        "id": "p3rQGwO3Km8q"
      }
    },
    {
      "cell_type": "code",
      "source": [
        "# survival\n",
        "logger.debug(f'{detn.shape,detn[label].sum()},{detn[label].mean()}')\n",
        "detn = pd.merge(detn, admit_current[['pid','status','status_date']], on='pid', how='inner')\n",
        "logger.debug(f'{detn.shape,detn[label].sum()}')\n",
        "\n",
        "label_date = f'{label}_date'\n",
        "\n",
        "detn.loc[detn[label] == 0, label_date] = None\n",
        "\n",
        "# prompt: filter detn for label_date not null or wk1_calcdate_weekly not null\n",
        "\n",
        "# drop those w/o a visit, hence no lifetime to be plotted)\n",
        "detn = detn[(detn[label_date].notnull()) | (detn['wk1_calcdate_weekly'].notnull())].copy()\n",
        "logger.debug(f'{detn.shape,detn[label].sum()}')\n",
        "\n"
      ],
      "metadata": {
        "id": "vtye86u1K5UP",
        "colab": {
          "base_uri": "https://localhost:8080/"
        },
        "outputId": "6527847e-8db4-4a66-99b8-7325a463e133"
      },
      "execution_count": 38,
      "outputs": [
        {
          "output_type": "stream",
          "name": "stderr",
          "text": [
            "DEBUG:my_logger:((2485, 2334), np.int64(1148)),0.4619718309859155\n",
            "DEBUG:my_logger:((2485, 2336), np.int64(1148))\n",
            "DEBUG:my_logger:((2127, 2336), np.int64(1148))\n"
          ]
        }
      ]
    },
    {
      "cell_type": "code",
      "source": [
        "# prompt: create column in detn called final_date which is status_date or wk1_calcdate_weekly whichever is greater\n",
        "# Create 'final_date' column, choosing the later date between 'status_date' and 'wk1_calcdate_weekly'\n",
        "detn['final_date'] = detn[['status_date', 'wk1_calcdate_weekly']].max(axis=1)\n",
        "\n",
        "# Fill NaN (active patients w/o a visit) values in 'final_date' with today's date\n",
        "detn['final_date'] = detn['final_date'].fillna(datetime.date.today())\n",
        "detn['final_date'] = pd.to_datetime(detn['final_date'])\n",
        "detn['duration_days'] = detn['final_date'] - detn['calcdate']\n",
        "detn['duration_days'] = detn['duration_days'].dt.days\n",
        "\n",
        "logger.debug(f'{detn.shape,detn[label].sum()}')\n"
      ],
      "metadata": {
        "id": "QOKWXxaGLdOu",
        "colab": {
          "base_uri": "https://localhost:8080/"
        },
        "outputId": "b502e671-49ad-49e3-acfe-ebd1c6685aa9"
      },
      "execution_count": 39,
      "outputs": [
        {
          "output_type": "stream",
          "name": "stderr",
          "text": [
            "DEBUG:my_logger:((2127, 2338), np.int64(1148))\n"
          ]
        }
      ]
    },
    {
      "cell_type": "code",
      "source": [
        "# prompt: for rows in detn where label==1 set duration_days to label_date - calcdate\n",
        "\n",
        "# Calculate duration_days only for rows where label == 1\n",
        "detn.loc[detn[label] == 1, 'duration_days'] = (detn.loc[detn[label] == 1, label_date] - detn.loc[detn[label] == 1, 'calcdate']).dt.days\n",
        "\n",
        "detn['duration_days'] = detn['duration_days'].clip(lower=0.1)\n",
        "\n"
      ],
      "metadata": {
        "id": "i8z2Kl1_LmzV"
      },
      "execution_count": 40,
      "outputs": []
    },
    {
      "cell_type": "markdown",
      "source": [
        "### Hazard function (rate of deterioration)"
      ],
      "metadata": {
        "id": "FYAkd4NoMgYZ"
      }
    },
    {
      "cell_type": "markdown",
      "source": [
        "### AFT survival regression"
      ],
      "metadata": {
        "id": "EsxXAagFMsGE"
      }
    },
    {
      "cell_type": "code",
      "source": [
        "selected_columns = ['wfh_trend','pid']\n",
        "\n",
        "#print(detn[selected_columns].dtypes)\n",
        "\n",
        "X = detn[selected_columns].copy()\n",
        "\n",
        "data_y = detn[[label,'duration_days']].copy()\n",
        "data_x_numeric = X.copy()\n",
        "data_y = detn[[label,'duration_days']].copy()\n",
        "\n",
        "regression_dataset=data_x_numeric.join(data_y)\n",
        "\n",
        "regression_dataset = regression_dataset.dropna()"
      ],
      "metadata": {
        "id": "8TMyKVVyKwrP"
      },
      "execution_count": 41,
      "outputs": []
    },
    {
      "cell_type": "code",
      "source": [
        "aft = WeibullAFTFitter()\n",
        "aft.fit(regression_dataset, duration_col='duration_days', event_col=f'{label}', ancillary=True,formula='wfh_trend')\n",
        "logger.debug(aft.print_summary())\n"
      ],
      "metadata": {
        "id": "iroAtEurMOAS",
        "colab": {
          "base_uri": "https://localhost:8080/"
        },
        "outputId": "7c6c336c-8748-4033-9e00-e15f5200f3bd"
      },
      "execution_count": 42,
      "outputs": [
        {
          "output_type": "execute_result",
          "data": {
            "text/plain": [
              "<lifelines.WeibullAFTFitter: fitted with 2104 total observations, 972 right-censored observations>"
            ]
          },
          "metadata": {},
          "execution_count": 42
        }
      ]
    },
    {
      "cell_type": "markdown",
      "source": [
        "### censored (i.e., patients w/o consecutive muac loss yet) survival prediction"
      ],
      "metadata": {
        "id": "OEWEwTOBMZmG"
      }
    },
    {
      "cell_type": "code",
      "source": [
        "censored_subjects=data_x_numeric.join(data_y)\n",
        "\n",
        "censored_subjects['wfh_trend'].fillna(0,inplace=True)\n",
        "\n",
        "censored_subjects = censored_subjects.loc[censored_subjects[label]==0].copy()\n",
        "\n",
        "duration_days_col = f'duration_days_{label}'\n",
        "\n",
        "censored_subjects.rename(columns={'duration_days':duration_days_col},inplace=True)\n",
        "\n",
        "censored_subjects_last_obs = censored_subjects[duration_days_col]\n",
        "\n",
        "y_median = aft.predict_median(censored_subjects,conditional_after=censored_subjects_last_obs)\n",
        "y_median.rename(f'median_days_to_{label}',inplace=True)\n",
        "\n",
        "df = pd.merge(censored_subjects[['pid','wfh_trend',duration_days_col]],y_median,left_index=True,right_index=True)\n",
        "\n",
        "pid_probabilities =pd.merge(pid_probabilities,df,on='pid',how='left')\n",
        "logger.debug(pid_probabilities.shape)\n",
        "\n",
        "\n"
      ],
      "metadata": {
        "id": "5D_8wpd2Mnj2",
        "colab": {
          "base_uri": "https://localhost:8080/"
        },
        "outputId": "42f5b111-0014-4306-e0e8-5e548cc5ce0a"
      },
      "execution_count": 43,
      "outputs": [
        {
          "output_type": "stream",
          "name": "stderr",
          "text": [
            "DEBUG:my_logger:(10322, 17)\n"
          ]
        }
      ]
    },
    {
      "cell_type": "markdown",
      "source": [
        "## visualize most and least probable patients"
      ],
      "metadata": {
        "id": "Y-hnhzgADtMP"
      }
    },
    {
      "cell_type": "markdown",
      "source": [
        "### most probable"
      ],
      "metadata": {
        "id": "nEdz8U6INzVT"
      }
    },
    {
      "cell_type": "markdown",
      "source": [
        "# nonresponse"
      ],
      "metadata": {
        "id": "LqaDXBS_91Lv"
      }
    },
    {
      "cell_type": "markdown",
      "source": [
        "(status == ‘nonresponse’)\n",
        "discharge as not responding to treatment"
      ],
      "metadata": {
        "id": "em_bLKN8Jzd_"
      }
    },
    {
      "cell_type": "code",
      "source": [
        "# read deterioration file\n",
        "label = 'nonresponse'\n",
        "\n",
        "detn = read_detn(label)\n",
        "\n",
        "\n",
        "logger.debug(f'{detn.shape,detn[label].sum()},{detn[label].mean()}')\n",
        "# (8352, 1844) 403 0.04825191570881226\n"
      ],
      "metadata": {
        "id": "9TNkR1-S-Hbe",
        "colab": {
          "base_uri": "https://localhost:8080/"
        },
        "outputId": "12ab51aa-a990-4a62-d057-50db0df92a62"
      },
      "execution_count": 45,
      "outputs": [
        {
          "output_type": "stream",
          "name": "stderr",
          "text": [
            "DEBUG:my_logger:((10322, 2331), np.int64(584)),0.056578182522766904\n"
          ]
        }
      ]
    },
    {
      "cell_type": "code",
      "source": [
        "# prompt: create column in detn called final_date which is status_date or wk1_calcdate_weekly whichever is greater\n",
        "detn = pd.merge(detn, admit_current[['pid','status','status_date']], on='pid', how='inner')\n",
        "logger.debug(f'{detn[label].sum()},{detn.shape}')\n",
        "\n",
        "\n",
        "# Create 'final_date' column, choosing the later date between 'status_date' and 'wk1_calcdate_weekly'\n",
        "detn['final_date'] = detn[['status_date', 'wk1_calcdate_weekly']].max(axis=1)\n",
        "\n",
        "# Fill NaN (active patients w/o a visit) values in 'final_date' with today's date\n",
        "detn['final_date'] = detn['final_date'].fillna(datetime.date.today())\n",
        "detn['final_date'] = pd.to_datetime(detn['final_date'])\n",
        "detn['duration_days'] = detn['final_date'] - detn['calcdate']\n",
        "detn['duration_days'] = detn['duration_days'].dt.days\n",
        "\n",
        "# prompt: only keep detn rows where duration between label==1 min(duration_days) and max(duration_days)\n",
        "\n",
        "# Assuming 'detn' DataFrame is already loaded as in the provided code.\n",
        "\n",
        "min_duration = detn.groupby(label)['duration_days'].min()[1]\n",
        "max_duration = detn.groupby(label)['duration_days'].max()[1]\n",
        "\n",
        "detn_filtered = detn[\n",
        "    (detn['duration_days'] >= min_duration) &\n",
        "    (detn['duration_days'] <= max_duration)\n",
        "]\n",
        "\n",
        "detn = detn_filtered.copy()\n",
        "logger.debug(f'{detn.shape,detn[label].sum()},{detn[label].mean()}')\n"
      ],
      "metadata": {
        "id": "f1HSL_KxgMcP",
        "colab": {
          "base_uri": "https://localhost:8080/"
        },
        "outputId": "795a2e8f-092b-49d6-9015-6a0f65d4bac0"
      },
      "execution_count": 46,
      "outputs": [
        {
          "output_type": "stream",
          "name": "stderr",
          "text": [
            "DEBUG:my_logger:584,(10322, 2333)\n",
            "DEBUG:my_logger:((1761, 2335), np.int64(584)),0.3316297558205565\n"
          ]
        }
      ]
    },
    {
      "cell_type": "code",
      "source": [
        "\n",
        "detn = reduce_dimensionality(detn,['household_adults','household_slept','living_children'],'household_adults_slept_living_children_z')\n",
        "\n",
        "detn = reduce_dimensionality(detn,['weekly_avg_muac','weekly_last_wfh',],'muac_wfh')\n",
        "\n",
        "detn['muac_diff_ratio'] = -detn['muac_diff_ratio']\n",
        "detn['muac_diff_ratio_rate'] = -detn['muac_diff_ratio_rate']\n",
        "\n",
        "\n",
        "detn = reduce_dimensionality(detn,['muac_diff_ratio','muac','muac_diff_ratio_rate'],'muac_diff_ratio_rate_z')\n",
        "\n",
        "\n",
        "\n",
        "\n",
        "detn = reduce_dimensionality(detn,['duration_days','wk1_calc_los'],'duration_z')\n",
        "#detn.drop(columns=['duration_days','wk1_calc_los'],inplace=True)\n",
        "logger.debug(f'{detn.shape,detn[label].sum()},{detn[label].mean()}')"
      ],
      "metadata": {
        "id": "4bYQZheabLWM",
        "colab": {
          "base_uri": "https://localhost:8080/"
        },
        "outputId": "1bec12d9-49b5-44fd-e1e6-f38ebc227bf3"
      },
      "execution_count": 47,
      "outputs": [
        {
          "output_type": "stream",
          "name": "stderr",
          "text": [
            "DEBUG:my_logger:((1761, 2339), np.int64(584)),0.3316297558205565\n"
          ]
        }
      ]
    },
    {
      "cell_type": "markdown",
      "source": [
        "## predictive model feature importances"
      ],
      "metadata": {
        "id": "zRJQiN8b_quV"
      }
    },
    {
      "cell_type": "markdown",
      "source": [
        "### autogluon"
      ],
      "metadata": {
        "id": "xZGJObE-Kqxc"
      }
    },
    {
      "cell_type": "code",
      "source": [
        "#explainer,predictor,ag_features,y_pred,y_pred_proba,ag_model_f1,X_test_ag,y_test_ag,y_pred_proba_all = ag_model_load(label,.2,detn)\n",
        "\n",
        "y_pred_proba_all = run_ag_model(label,detn,'')"
      ],
      "metadata": {
        "id": "LZ0OQ9iWK5nH",
        "colab": {
          "base_uri": "https://localhost:8080/"
        },
        "outputId": "110d181e-e27c-4194-a213-59669e0c8d08"
      },
      "execution_count": 48,
      "outputs": [
        {
          "output_type": "stream",
          "name": "stderr",
          "text": [
            "DEBUG:my_logger:ag features:, 5, ['duration_z', 'wk1_weight_diff_rate', 'wk1_muac', 'muac_diff_ratio_rate_z', 'hl_trend']\n"
          ]
        }
      ]
    },
    {
      "cell_type": "code",
      "source": [
        "pred_proba_all_series = y_pred_proba_all[1].rename(f'probability_{label}')\n",
        "pid_probabilities = pid_probabilities.join(pred_proba_all_series)\n",
        "logger.debug(pid_probabilities.shape)"
      ],
      "metadata": {
        "id": "d9atOd4K_yov",
        "colab": {
          "base_uri": "https://localhost:8080/"
        },
        "outputId": "7d6439da-956d-459d-e4c0-3a8fc0cddf79"
      },
      "execution_count": 49,
      "outputs": [
        {
          "output_type": "stream",
          "name": "stderr",
          "text": [
            "DEBUG:my_logger:(10322, 18)\n"
          ]
        }
      ]
    },
    {
      "cell_type": "markdown",
      "source": [
        "### survival curves"
      ],
      "metadata": {
        "id": "_tgVq3DhTELp"
      }
    },
    {
      "cell_type": "markdown",
      "source": [
        "# death"
      ],
      "metadata": {
        "id": "jgCZcd3zemPU"
      }
    },
    {
      "cell_type": "code",
      "source": [
        "label = 'status_dead'\n",
        "\n",
        "\n",
        "detn = read_detn(label)\n",
        "\n",
        "logger.debug(f'{detn.shape,detn[label].sum()},{detn[label].mean()}')\n",
        "# (8352, 1844) 233 0.02789750957854406"
      ],
      "metadata": {
        "id": "AGkwy5jse0fU",
        "colab": {
          "base_uri": "https://localhost:8080/"
        },
        "outputId": "2d085637-ce5b-4bf8-daa1-b4c7056f5ea2"
      },
      "execution_count": 54,
      "outputs": [
        {
          "output_type": "stream",
          "name": "stderr",
          "text": [
            "DEBUG:my_logger:((10322, 2331), np.int64(253)),0.024510753729897305\n"
          ]
        }
      ]
    },
    {
      "cell_type": "code",
      "source": [
        "# TODO move this to etl_deterioration\n",
        "detn = pd.merge(detn, admit_current[['pid','status','status_date']], on='pid', how='inner')\n",
        "logger.debug(f'{detn.shape,detn[label].sum()},{detn[label].mean()}')\n",
        "# prompt: create column in detn called final_date which is status_date or wk1_calcdate_weekly whichever is greater\n",
        "\n",
        "# Create 'final_date' column, choosing the later date between 'status_date' and 'wk1_calcdate_weekly'\n",
        "detn['final_date'] = detn[['status_date', 'wk1_calcdate_weekly']].max(axis=1)\n",
        "\n",
        "# Fill NaN (active patients w/o a visit) values in 'final_date' with today's date\n",
        "detn['final_date'] = detn['final_date'].fillna(datetime.date.today())\n",
        "detn['final_date'] = pd.to_datetime(detn['final_date'])\n",
        "detn['duration_days'] = detn['final_date'] - detn['calcdate']\n",
        "detn['duration_days'] = detn['duration_days'].dt.days\n",
        "\n",
        "#detn['wk1_calc_los'].fillna(detn['duration_days']/7,inplace=True)\n",
        "\n"
      ],
      "metadata": {
        "id": "SGm_132vNyaD",
        "colab": {
          "base_uri": "https://localhost:8080/"
        },
        "outputId": "fa4bd9aa-0aa2-46de-bc89-3f6b891d172a"
      },
      "execution_count": 55,
      "outputs": [
        {
          "output_type": "stream",
          "name": "stdout",
          "text": [
            "253 (10322, 2333)\n"
          ]
        }
      ]
    },
    {
      "cell_type": "code",
      "source": [
        "\n",
        "label_date = f'{label}_date'\n",
        "# for the majority that are missing label_date\n",
        "detn['duration_days'] = detn['calcdate'].max() - detn['calcdate']\n",
        "\n",
        "# overwrite only for those with non-null label_date\n",
        "detn.loc[detn[label_date].notnull(), 'duration_days'] = detn.loc[detn[label_date].notnull(), label_date] - detn.loc[detn[label_date].notnull(), 'calcdate']\n",
        "\n",
        "detn['duration_days'] = detn['duration_days'].dt.days"
      ],
      "metadata": {
        "id": "PXPjGlzje337"
      },
      "execution_count": 56,
      "outputs": []
    },
    {
      "cell_type": "code",
      "source": [
        "detn['wk1_calc_los'].fillna(0,inplace=True)\n",
        "\n",
        "LOS_CUTOFF = 11\n",
        "MUAC_CUTOFF = 12.1\n",
        "NULL_MUAC_LOS_CUTOFF = 4\n",
        "DURATION_DAYS_CUTOFF = 101\n",
        "\n",
        "logger.debug(f'{detn.shape,detn[label].sum()},{detn[label].mean()}')\n",
        "\n",
        "detn = detn[(((detn['weekly_last_muac'].isnull()) & (detn['wk1_calc_los'] < NULL_MUAC_LOS_CUTOFF)) & (detn['duration_days'] < DURATION_DAYS_CUTOFF) | ((detn['weekly_last_muac'] < MUAC_CUTOFF) & (detn['wk1_calc_los'] < LOS_CUTOFF)))]\n",
        "\n",
        "logger.debug(f'{detn.shape,detn[label].sum()},{detn[label].mean()}')\n"
      ],
      "metadata": {
        "id": "4FlakeweeQqR",
        "colab": {
          "base_uri": "https://localhost:8080/"
        },
        "outputId": "0ff4b936-f538-4ba4-81b1-37630b6fdf62"
      },
      "execution_count": 57,
      "outputs": [
        {
          "output_type": "stream",
          "name": "stderr",
          "text": [
            "DEBUG:my_logger:((10322, 2335), np.int64(253)),0.024510753729897305\n",
            "DEBUG:my_logger:((1503, 2335), np.int64(242)),0.16101131071190952\n"
          ]
        }
      ]
    },
    {
      "cell_type": "code",
      "source": [
        "\n",
        "detn = reduce_dimensionality(detn,['household_adults','household_slept','living_children'],'household_adults_slept_living_children_z')\n",
        "\n",
        "detn = reduce_dimensionality(detn,['resp_rate', 'temperature'],'resp_rate_temperature_z')\n",
        "\n",
        "\n",
        "detn = reduce_dimensionality(detn,['weekly_avg_muac','weekly_last_wfh',],'muac_wfh')\n",
        "\n",
        "detn['muac_diff_ratio'] = -detn['muac_diff_ratio']\n",
        "\n",
        "detn = reduce_dimensionality(detn,['muac_diff_ratio','muac'],'muac_diff_ratio_z')\n",
        "\n",
        "\n",
        "logger.debug(f'{detn.shape,detn[label].sum()},{detn[label].mean()}')\n",
        "\n",
        "detn = reduce_dimensionality(detn,['wfa_trend','hfa_trend'],'wfa_hfa_trend_z')\n",
        "\n",
        "detn = reduce_dimensionality(detn,['cat1_complications_weekly','admit_cat1_complications'],'cat1_complications_z')\n",
        "\n",
        "detn = reduce_dimensionality(detn,['wk1_rainy_season_weekly','lean_season_admit'],'season_z')\n",
        "\n",
        "detn = reduce_dimensionality(detn,['wfh_rsquared','wfh_trend'],'wfh_trend_z')\n",
        "\n"
      ],
      "metadata": {
        "id": "sKje3H4zfctC",
        "colab": {
          "base_uri": "https://localhost:8080/"
        },
        "outputId": "4894a2c0-258f-4acc-9628-e6669bf2fd5b"
      },
      "execution_count": 58,
      "outputs": [
        {
          "output_type": "stream",
          "name": "stderr",
          "text": [
            "DEBUG:my_logger:((1503, 2339), np.int64(242)),0.16101131071190952\n"
          ]
        }
      ]
    },
    {
      "cell_type": "code",
      "source": [
        "# prompt: clip lower boundary of detn['duration_days'] to 0\n",
        "\n",
        "detn['duration_days'] = detn['duration_days'].clip(lower=0)\n"
      ],
      "metadata": {
        "id": "w_tk_ZJbfnxE"
      },
      "execution_count": 59,
      "outputs": []
    },
    {
      "cell_type": "code",
      "source": [
        "detn_admit_only,_,_,_ = split_detn_new_onset_medical_complication(detn,label)\n",
        "logger.debug(f'{detn_admit_only.shape,detn_admit_only[label].sum()},{detn_admit_only[label].mean()}')"
      ],
      "metadata": {
        "id": "hCdAQDC2fz4j",
        "colab": {
          "base_uri": "https://localhost:8080/"
        },
        "outputId": "5bd38294-1bfc-407e-f3c5-bf9a31d43225"
      },
      "execution_count": 61,
      "outputs": [
        {
          "output_type": "stream",
          "name": "stderr",
          "text": [
            "DEBUG:my_logger:((383, 508), np.int64(154)),0.402088772845953\n"
          ]
        }
      ]
    },
    {
      "cell_type": "code",
      "source": [
        "# Find 'pid' values in detn that are NOT in detn_admit_only\n",
        "pid_not_in_admit = detn[~detn['pid'].isin(detn_admit_only['pid'])]['pid']\n",
        "\n",
        "# Get rows from detn where 'pid' is in pid_not_in_admit\n",
        "detn_filtered = detn[detn['pid'].isin(pid_not_in_admit)].copy()\n",
        "detn_filtered.replace([np.inf, -np.inf], np.nan, inplace=True)\n",
        "\n"
      ],
      "metadata": {
        "id": "m8QtbbW8f4N4"
      },
      "execution_count": 62,
      "outputs": []
    },
    {
      "cell_type": "markdown",
      "source": [
        "## predictive models"
      ],
      "metadata": {
        "id": "-n8IxHfTOf7z"
      }
    },
    {
      "cell_type": "markdown",
      "source": [
        "### autogluon"
      ],
      "metadata": {
        "id": "fN3uI1DBfm8Y"
      }
    },
    {
      "cell_type": "markdown",
      "source": [
        "#### stratified models by length of service"
      ],
      "metadata": {
        "id": "o4GhxSLrgYVe"
      }
    },
    {
      "cell_type": "code",
      "source": [
        "y_pred_proba_all1 = run_ag_model(label,detn_admit_only,'1')\n",
        "y_pred_proba_all2 = run_ag_model(label,detn_filtered,'not1')\n"
      ],
      "metadata": {
        "id": "0ysCRBmOgfAV",
        "colab": {
          "base_uri": "https://localhost:8080/"
        },
        "outputId": "9ce80d8c-cc79-4b54-e2ec-4ce6e988be2d"
      },
      "execution_count": 63,
      "outputs": [
        {
          "output_type": "stream",
          "name": "stderr",
          "text": [
            "Found 1 mismatches between original and current metadata:\n",
            "\tINFO: AutoGluon Python micro version mismatch (original=3.11.12, current=3.11.13)\n",
            "DEBUG:my_logger:ag features:, 12, ['household_adults_slept_living_children_z', 'age_takefamily', 'gombe_lga', 'b_knowsbday', 'c_admission', 'estdist_home', 'resp_rate', 'duration_days', 'temperature', 'lean_season_admit', 'admit_cat1_complications', 'rainy_season_admit']\n",
            "Found 1 mismatches between original and current metadata:\n",
            "\tINFO: AutoGluon Python micro version mismatch (original=3.11.12, current=3.11.13)\n",
            "DEBUG:my_logger:ag features:, 10, ['duration_days', 'season_z', 'wk2_muac', 'wk1_wfhz', 'cg_weight', 'wfa_rsquared', 'weekly_first_muac', 'wfh_trend_z', 'cat1_complications_z', 'wk2_wfa_diff_rate']\n"
          ]
        }
      ]
    },
    {
      "cell_type": "code",
      "source": [
        "\n",
        "y_pred_proba_all_stratified = pd.concat([y_pred_proba_all1,y_pred_proba_all2],axis=0)\n",
        "y_pred_proba_all_stratified_series = y_pred_proba_all_stratified[1].rename(f'probability_{label}_stratified')\n",
        "pid_probabilities = pid_probabilities.join(y_pred_proba_all_stratified_series)\n",
        "logger.debug(pid_probabilities.shape)"
      ],
      "metadata": {
        "id": "WL2DWeEzgr3G",
        "colab": {
          "base_uri": "https://localhost:8080/"
        },
        "outputId": "afd3b694-9efe-45b7-d776-6ca3e4c74afa"
      },
      "execution_count": 64,
      "outputs": [
        {
          "output_type": "stream",
          "name": "stderr",
          "text": [
            "DEBUG:my_logger:(10322, 19)\n"
          ]
        }
      ]
    },
    {
      "cell_type": "code",
      "source": [
        "# clip for better visualization and so AFT models will work, guaranteeing all durations >0\n",
        "# doesn't affect models\n",
        "#max_duration = detn[detn[label]==1]['duration_days'].max() +1\n",
        "#print(max_duration)\n",
        "\n",
        "# prompt: clip detn['duration_days'] to max_duration for K-M clarity\n",
        "\n",
        "# detn['duration_days'] = detn['duration_days'].clip(upper=max_duration, lower=.01)\n",
        "\n",
        "detn['duration_days'] = detn['duration_days'].clip(lower=.01)"
      ],
      "metadata": {
        "id": "-Q6VQwHVPfKH"
      },
      "execution_count": 65,
      "outputs": []
    },
    {
      "cell_type": "markdown",
      "source": [
        "### Survival Curves"
      ],
      "metadata": {
        "id": "rEqGk5zvQq0f"
      }
    },
    {
      "cell_type": "markdown",
      "source": [
        "### AFT survival regression"
      ],
      "metadata": {
        "id": "UaXbzOhG5cPQ"
      }
    },
    {
      "cell_type": "code",
      "source": [
        "#regr_cols = ['wk1_muac','wk1_calc_los','muac',label,'duration_days','pid']\n",
        "regr_cols = ['wk1_muac','muac',label,'duration_days','pid']\n",
        "regression_dataset = detn[regr_cols].copy()\n",
        "regression_dataset['wk1_muac'].fillna(regression_dataset['muac'],inplace=True)\n",
        "regression_dataset.drop(columns=['muac'],inplace=True)\n",
        "\n",
        "regression_dataset.dropna(inplace=True)\n",
        "\n",
        "\n",
        "#regression_dataset['duration_days'] = regression_dataset['duration_days'].clip(lower=.01)\n",
        "aft = WeibullAFTFitter()\n",
        "\n",
        "aft.fit(regression_dataset, duration_col='duration_days', event_col=f'{label}', ancillary=True, formula=' wk1_muac')\n",
        "\n",
        "logger.debug(aft.print_summary())"
      ],
      "metadata": {
        "id": "2C9ID42z1gA_",
        "colab": {
          "base_uri": "https://localhost:8080/",
          "height": 555
        },
        "outputId": "21c7ffc1-f391-41f0-8348-dc552b2444bf"
      },
      "execution_count": 66,
      "outputs": [
        {
          "output_type": "display_data",
          "data": {
            "text/plain": [
              "<lifelines.WeibullAFTFitter: fitted with 1451 total observations, 1231 right-censored observations>\n",
              "             duration col = 'duration_days'\n",
              "                event col = 'status_dead'\n",
              "   number of observations = 1451\n",
              "number of events observed = 220\n",
              "           log-likelihood = -1352.47\n",
              "         time fit was run = 2025-06-10 12:37:12 UTC\n",
              "\n",
              "---\n",
              "                   coef exp(coef)  se(coef)  coef lower 95%  coef upper 95% exp(coef) lower 95% exp(coef) upper 95%\n",
              "param   covariate                                                                                                  \n",
              "lambda_ Intercept -5.08      0.01      1.47           -7.97           -2.19                0.00                0.11\n",
              "        wk1_muac   1.17      3.21      0.15            0.87            1.46                2.38                4.32\n",
              "rho_    Intercept -1.48      0.23      0.34           -2.15           -0.81                0.12                0.44\n",
              "        wk1_muac   0.08      1.08      0.03            0.01            0.14                1.01                1.15\n",
              "\n",
              "                   cmp to     z      p  -log2(p)\n",
              "param   covariate                               \n",
              "lambda_ Intercept    0.00 -3.44 <0.005     10.76\n",
              "        wk1_muac     0.00  7.67 <0.005     45.72\n",
              "rho_    Intercept    0.00 -4.33 <0.005     16.06\n",
              "        wk1_muac     0.00  2.27   0.02      5.41\n",
              "---\n",
              "Concordance = 0.75\n",
              "AIC = 2712.95\n",
              "log-likelihood ratio test = 145.77 on 2 df\n",
              "-log2(p) of ll-ratio test = 105.15"
            ],
            "text/html": [
              "<div>\n",
              "<style scoped>\n",
              "    .dataframe tbody tr th:only-of-type {\n",
              "        vertical-align: middle;\n",
              "    }\n",
              "\n",
              "    .dataframe tbody tr th {\n",
              "        vertical-align: top;\n",
              "    }\n",
              "\n",
              "    .dataframe thead th {\n",
              "        text-align: right;\n",
              "    }\n",
              "</style>\n",
              "<table border=\"1\" class=\"dataframe\">\n",
              "  <tbody>\n",
              "    <tr>\n",
              "      <th>model</th>\n",
              "      <td>lifelines.WeibullAFTFitter</td>\n",
              "    </tr>\n",
              "    <tr>\n",
              "      <th>duration col</th>\n",
              "      <td>'duration_days'</td>\n",
              "    </tr>\n",
              "    <tr>\n",
              "      <th>event col</th>\n",
              "      <td>'status_dead'</td>\n",
              "    </tr>\n",
              "    <tr>\n",
              "      <th>number of observations</th>\n",
              "      <td>1451</td>\n",
              "    </tr>\n",
              "    <tr>\n",
              "      <th>number of events observed</th>\n",
              "      <td>220</td>\n",
              "    </tr>\n",
              "    <tr>\n",
              "      <th>log-likelihood</th>\n",
              "      <td>-1352.47</td>\n",
              "    </tr>\n",
              "    <tr>\n",
              "      <th>time fit was run</th>\n",
              "      <td>2025-06-10 12:37:12 UTC</td>\n",
              "    </tr>\n",
              "  </tbody>\n",
              "</table>\n",
              "</div><table border=\"1\" class=\"dataframe\">\n",
              "  <thead>\n",
              "    <tr style=\"text-align: right;\">\n",
              "      <th style=\"min-width: 12px;\"></th>\n",
              "      <th style=\"min-width: 12px;\"></th>\n",
              "      <th style=\"min-width: 12px;\">coef</th>\n",
              "      <th style=\"min-width: 12px;\">exp(coef)</th>\n",
              "      <th style=\"min-width: 12px;\">se(coef)</th>\n",
              "      <th style=\"min-width: 12px;\">coef lower 95%</th>\n",
              "      <th style=\"min-width: 12px;\">coef upper 95%</th>\n",
              "      <th style=\"min-width: 12px;\">exp(coef) lower 95%</th>\n",
              "      <th style=\"min-width: 12px;\">exp(coef) upper 95%</th>\n",
              "      <th style=\"min-width: 12px;\">cmp to</th>\n",
              "      <th style=\"min-width: 12px;\">z</th>\n",
              "      <th style=\"min-width: 12px;\">p</th>\n",
              "      <th style=\"min-width: 12px;\">-log2(p)</th>\n",
              "    </tr>\n",
              "  </thead>\n",
              "  <tbody>\n",
              "    <tr>\n",
              "      <th rowspan=\"2\" valign=\"top\">lambda_</th>\n",
              "      <th>Intercept</th>\n",
              "      <td>-5.08</td>\n",
              "      <td>0.01</td>\n",
              "      <td>1.47</td>\n",
              "      <td>-7.97</td>\n",
              "      <td>-2.19</td>\n",
              "      <td>0.00</td>\n",
              "      <td>0.11</td>\n",
              "      <td>0.00</td>\n",
              "      <td>-3.44</td>\n",
              "      <td>&lt;0.005</td>\n",
              "      <td>10.76</td>\n",
              "    </tr>\n",
              "    <tr>\n",
              "      <th>wk1_muac</th>\n",
              "      <td>1.17</td>\n",
              "      <td>3.21</td>\n",
              "      <td>0.15</td>\n",
              "      <td>0.87</td>\n",
              "      <td>1.46</td>\n",
              "      <td>2.38</td>\n",
              "      <td>4.32</td>\n",
              "      <td>0.00</td>\n",
              "      <td>7.67</td>\n",
              "      <td>&lt;0.005</td>\n",
              "      <td>45.72</td>\n",
              "    </tr>\n",
              "    <tr>\n",
              "      <th rowspan=\"2\" valign=\"top\">rho_</th>\n",
              "      <th>Intercept</th>\n",
              "      <td>-1.48</td>\n",
              "      <td>0.23</td>\n",
              "      <td>0.34</td>\n",
              "      <td>-2.15</td>\n",
              "      <td>-0.81</td>\n",
              "      <td>0.12</td>\n",
              "      <td>0.44</td>\n",
              "      <td>0.00</td>\n",
              "      <td>-4.33</td>\n",
              "      <td>&lt;0.005</td>\n",
              "      <td>16.06</td>\n",
              "    </tr>\n",
              "    <tr>\n",
              "      <th>wk1_muac</th>\n",
              "      <td>0.08</td>\n",
              "      <td>1.08</td>\n",
              "      <td>0.03</td>\n",
              "      <td>0.01</td>\n",
              "      <td>0.14</td>\n",
              "      <td>1.01</td>\n",
              "      <td>1.15</td>\n",
              "      <td>0.00</td>\n",
              "      <td>2.27</td>\n",
              "      <td>0.02</td>\n",
              "      <td>5.41</td>\n",
              "    </tr>\n",
              "  </tbody>\n",
              "</table><br><div>\n",
              "<style scoped>\n",
              "    .dataframe tbody tr th:only-of-type {\n",
              "        vertical-align: middle;\n",
              "    }\n",
              "\n",
              "    .dataframe tbody tr th {\n",
              "        vertical-align: top;\n",
              "    }\n",
              "\n",
              "    .dataframe thead th {\n",
              "        text-align: right;\n",
              "    }\n",
              "</style>\n",
              "<table border=\"1\" class=\"dataframe\">\n",
              "  <tbody>\n",
              "    <tr>\n",
              "      <th>Concordance</th>\n",
              "      <td>0.75</td>\n",
              "    </tr>\n",
              "    <tr>\n",
              "      <th>AIC</th>\n",
              "      <td>2712.95</td>\n",
              "    </tr>\n",
              "    <tr>\n",
              "      <th>log-likelihood ratio test</th>\n",
              "      <td>145.77 on 2 df</td>\n",
              "    </tr>\n",
              "    <tr>\n",
              "      <th>-log2(p) of ll-ratio test</th>\n",
              "      <td>105.15</td>\n",
              "    </tr>\n",
              "  </tbody>\n",
              "</table>\n",
              "</div>"
            ],
            "text/latex": "\\begin{tabular}{llrrrrrrrrrrr}\n &  & coef & exp(coef) & se(coef) & coef lower 95% & coef upper 95% & exp(coef) lower 95% & exp(coef) upper 95% & cmp to & z & p & -log2(p) \\\\\nparam & covariate &  &  &  &  &  &  &  &  &  &  &  \\\\\n\\multirow[c]{2}{*}{lambda_} & Intercept & -5.08 & 0.01 & 1.47 & -7.97 & -2.19 & 0.00 & 0.11 & 0.00 & -3.44 & 0.00 & 10.76 \\\\\n & wk1_muac & 1.17 & 3.21 & 0.15 & 0.87 & 1.46 & 2.38 & 4.32 & 0.00 & 7.67 & 0.00 & 45.72 \\\\\n\\multirow[c]{2}{*}{rho_} & Intercept & -1.48 & 0.23 & 0.34 & -2.15 & -0.81 & 0.12 & 0.44 & 0.00 & -4.33 & 0.00 & 16.06 \\\\\n & wk1_muac & 0.08 & 1.08 & 0.03 & 0.01 & 0.14 & 1.01 & 1.15 & 0.00 & 2.27 & 0.02 & 5.41 \\\\\n\\end{tabular}\n"
          },
          "metadata": {}
        },
        {
          "output_type": "stream",
          "name": "stderr",
          "text": [
            "DEBUG:my_logger:None\n"
          ]
        }
      ]
    },
    {
      "cell_type": "markdown",
      "source": [
        "### censored (i.e., still alive) patients prediction"
      ],
      "metadata": {
        "id": "MkUtyRos5oOP"
      }
    },
    {
      "cell_type": "code",
      "source": [
        "regr_cols = ['wk1_muac','muac',label,'duration_days','pid']\n",
        "censored_subjects = detn[regr_cols].copy()\n",
        "censored_subjects['wk1_muac'].fillna(censored_subjects['muac'],inplace=True)\n",
        "censored_subjects.drop(columns=['muac'],inplace=True)\n",
        "\n",
        "\n",
        "censored_subjects.dropna(inplace=True)\n",
        "\n",
        "censored_subjects = censored_subjects.loc[detn[label]==0].copy()\n",
        "\n",
        "censored_subjects_last_obs = censored_subjects['duration_days']\n",
        "censored_subjects_last_obs = censored_subjects_last_obs.clip(lower=0.01)\n"
      ],
      "metadata": {
        "id": "M5fDlpIL2B7z"
      },
      "execution_count": 67,
      "outputs": []
    },
    {
      "cell_type": "code",
      "source": [
        "y_pred_median = aft.predict_median(censored_subjects,conditional_after=censored_subjects_last_obs)\n",
        "y_pred_median.rename('median_predicted_days_to_death',inplace=True)\n",
        "\n",
        "duration_days_col = f'duration_days_{label}'\n",
        "\n",
        "censored_subjects.rename(columns={'duration_days':duration_days_col},inplace=True)\n",
        "\n",
        "\n",
        "df = pd.merge(censored_subjects[['pid',duration_days_col]],y_pred_median,left_index=True,right_index=True)\n",
        "\n",
        "pid_probabilities =pd.merge(pid_probabilities,df,on='pid',how='left')\n",
        "logger.debug(pid_probabilities.shape)\n",
        "\n",
        "\n"
      ],
      "metadata": {
        "id": "colSH9rq4ShU",
        "colab": {
          "base_uri": "https://localhost:8080/"
        },
        "outputId": "26a76547-4c52-4b7c-9eef-0c19fc17c0bf"
      },
      "execution_count": 68,
      "outputs": [
        {
          "output_type": "stream",
          "name": "stderr",
          "text": [
            "DEBUG:my_logger:(10322, 21)\n"
          ]
        }
      ]
    },
    {
      "cell_type": "code",
      "source": [
        "# TODO write pid_probabilities to Postgres table\n",
        "#pid_probabilities.to_excel('pid_probabilities8.xlsx',index=None)"
      ],
      "metadata": {
        "id": "yXOHDDLkAeZV"
      },
      "execution_count": null,
      "outputs": []
    }
  ]
}